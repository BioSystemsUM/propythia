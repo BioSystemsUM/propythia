{
 "cells": [
  {
   "cell_type": "markdown",
   "metadata": {
    "pycharm": {
     "name": "#%% md\n"
    }
   },
   "source": [
    "# here will be a mega pretty file explaining everything Quick start"
   ]
  },
  {
   "cell_type": "raw",
   "metadata": {},
   "source": [
    "This notebook provides an example on how to use propythia to easily read sequences, calculate features, preprocess datasets, do feature extraction and selection and run machine learning models. \n",
    "The functions here represented are a simple quickstart, for more please see more detailed documentation. "
   ]
  },
  {
   "cell_type": "code",
   "execution_count": 24,
   "metadata": {
    "collapsed": false,
    "jupyter": {
     "outputs_hidden": false
    },
    "pycharm": {
     "name": "#%%\n"
    }
   },
   "outputs": [],
   "source": [
    "import pandas as pd\n",
    "\n",
    "\n",
    "import propythia"
   ]
  },
  {
   "cell_type": "markdown",
   "metadata": {},
   "source": [
    "1.Getting sequences"
   ]
  },
  {
   "cell_type": "code",
   "execution_count": 12,
   "metadata": {},
   "outputs": [],
   "source": [
    "from propythia.sequence import ReadSequence"
   ]
  },
  {
   "cell_type": "markdown",
   "metadata": {},
   "source": [
    "It is possible to create sequence object using uniprotID or the sequence itself. \n",
    "Check protein will warn you if some sequence contain invalid characters. If the protein is not valid, it returns an error message. It is not possible to get sequence objects with invalid proteins. "
   ]
  },
  {
   "cell_type": "code",
   "execution_count": 7,
   "metadata": {},
   "outputs": [
    {
     "name": "stdout",
     "output_type": "stream",
     "text": [
      "read sequence from uniprot id\n",
      "MQGNGSALPNASQPVLRGDGARPSWLASALACVLIFTIVVDILGNLLVILSVYRNKKLRNAGNIFVVSLAVADLVVAIYPYPLVLMSIFNNGWNLGYLHCQVSGFLMGLSVIGSIFNITGIAINRYCYICHSLKYDKLYSSKNSLCYVLLIWLLTLAAVLPNLRAGTLQYDPRIYSCTFAQSVSSAYTIAVVVFHFLVPMIIVIFCYLRIWILVLQVRQRVKPDRKPKLKPQDFRNFVTMFVVFVLFAICWAPLNFIGLAVASDPASMVPRIPEWLFVASYYMAYFNSCLNAIIYGLLNQNFRKEYRRIIVSLCTARVFFVDSSNDVADRVKWKPSPLMTNNNVVKVDSV\n",
      "read sequence from sequence\n",
      "check protein\n",
      "Error......\n",
      "Please input a correct protein.\n",
      "sequence valid\n"
     ]
    }
   ],
   "source": [
    "sequence=ReadSequence() #create the object to read sequence    \n",
    "\n",
    "print('read sequence from uniprot id')\n",
    "ps=sequence.get_protein_sequence_from_id('P48039') #from uniprot id\n",
    "print(ps)\n",
    "\n",
    "print('read sequence from sequence')\n",
    "ps_string=sequence.read_protein_sequence(\"MQGNGSALPNASQPVLRGDGARPSWLASALACVLIFTIVVDILGNLLVILSVYRNKKLRN\")#from string\n",
    "\n",
    "\n",
    "print('check protein')\n",
    "protein_inv=\"ADGCGVGEGTGQGPMCNCMCMKWVYADEDAADLESDSFADEDASLESDSFPWSNQRVFCSFADEDASX\" #invalid aminoacid with an X\n",
    "sequence.checkprotein(protein_inv)\n",
    "protein='MQGNGSALPNASQPVLRGDGARPSWLASALACVLIFTIVVDILGNL'\n",
    "sequence.checkprotein(protein)\n",
    "\n"
   ]
  },
  {
   "cell_type": "raw",
   "metadata": {},
   "source": [
    "To obtain equal sized sequences, run get_sized_seq, with one or with a list of sequences. \n",
    "The parameters indicate the number of aa to consider in the n terminal (left side of sequence), number of aa to consider in the c terminal (right side of sequence) and the terminal where to add aa if needed: 0 to add to the right (consider N terminal), -1 to add to the left (consider C terminal), 2 to add in the middle (N and C) terminal will be both present and repeated with dummy in middle."
   ]
  },
  {
   "cell_type": "code",
   "execution_count": 10,
   "metadata": {},
   "outputs": [
    {
     "name": "stdout",
     "output_type": "stream",
     "text": [
      "obtain sequences with equal size\n",
      "['AAAANNDAKM', 'AAAANNDAKM', 'AAAAKMAAAZ', 'AAAANNDAKM', 'ZZZZZZZZZZ']\n",
      "['DAKMAPSSAA', 'AAAAAAAAAA', 'ZAAAAKMAAA']\n",
      "['AZZZZZZZZA', 'AZZZZZZZZA', 'VZZZZZZZZV', 'FZZZZZZZZF', 'NZZZZZZZZN', 'DZZZZZZZZD', 'RZZZZZZZZR', 'AZZZZZZZZA', 'TZZZZZZZZT']\n"
     ]
    }
   ],
   "source": [
    "print('obtain sequences with equal size')\n",
    "list_reverse_n=(sequence.get_sized_seq(['AAAANNDAKMAPSSAA', 'AAAANNDAKMAPSSAAAAAAAAAAAAA', 'AAAAKMAAA', 'AAAANNDAKMAPSSAAAAAAAAAAAAAAAAANNDAKMAPSSAAAAAAAAAAAAA', 'Z'], 10, 0))\n",
    "print(list_reverse_n)\n",
    "list_in_c=sequence.get_sized_seq(['AAAANNDAKMAPSSAA', 'AAAANNDAKMAPSSAAAAAAAAAAAAA', 'AAAAKMAAA'], 0, 10)\n",
    "print(list_in_c)\n",
    "print((sequence.get_sized_seq('AAVFNDRAT', 5, 5, 2)))"
   ]
  },
  {
   "cell_type": "raw",
   "metadata": {},
   "source": [
    "Generating subsequences is possible by generate:\n",
    "            all the subsequences present in a sequence with a sliding window approach (sequences and tuple of positions of the subsequence in original sequence) \n",
    "            get window aminoacids left and right from a specific aminoacid in sequence\n",
    "            get subsequences by splitting sequence\n",
    "            get terminals of sequence (return terminals with desired lenght and middle of sequence) "
   ]
  },
  {
   "cell_type": "code",
   "execution_count": 11,
   "metadata": {},
   "outputs": [
    {
     "name": "stdout",
     "output_type": "stream",
     "text": [
      "Generating subsequences\n",
      "['ADGCGVGEGTGQGPMCNCMC', 'GQGPMCNCMCMKWVYADEDA', 'MKWVYADEDAADLESDSFAD', 'ADLESDSFADEDASLESDSF', 'EDASLESDSFPWSNQRVFCS'] [(0, 20), (10, 30), (20, 40), (30, 50), (40, 60)]\n",
      "['AADLESDSFAD', 'DLESDSFADED', 'ADEDASLESDS', 'DASLESDSFPW', 'SLESDSFPWSN', 'DSFPWSNQRVF', 'QRVFCSFADED']\n",
      "['ADGCGVGEGTGQG', 'PMCNCMCMKWVYA', 'DEDAADLESDSFAD', 'EDASLESDSFPWS', 'NQRVFCSFADEDAS']\n",
      "['ADGCG', 'DEDAS', 'VGEGTGQGPMCNCMCMKWVYADEDAADLESDSFADEDASLESDSFPWSNQRVFCSFA']\n"
     ]
    }
   ],
   "source": [
    "print('Generating subsequences')\n",
    "protein=\"ADGCGVGEGTGQGPMCNCMCMKWVYADEDAADLESDSFADEDASLESDSFPWSNQRVFCSFADEDAS\"\n",
    "\n",
    "list_subseq,indices=sequence.get_sub_seq_sliding_window (protein, window_size=20, gap=10, index=True)\n",
    "print(list_subseq,indices)\n",
    "subseq_to_aa=sequence.get_sub_seq_to_aa(protein, ToAA='S', window=5)\n",
    "print(subseq_to_aa)\n",
    "subseq_split=sequence.get_sub_seq_split(protein, number_of_subseq=5)\n",
    "print(subseq_split)\n",
    "subseq_terminals=sequence.get_sub_seq_terminals(protein, N_terminal=5, C_terminal=5, rest=True)\n",
    "print(subseq_terminals)"
   ]
  },
  {
   "cell_type": "markdown",
   "metadata": {},
   "source": [
    "2. Get features from sequence"
   ]
  },
  {
   "cell_type": "code",
   "execution_count": 15,
   "metadata": {},
   "outputs": [],
   "source": [
    "from propythia.descriptors import Descriptor"
   ]
  },
  {
   "cell_type": "raw",
   "metadata": {},
   "source": [
    "The user can calculate individual descriptors (please check list in user guide), calculate all descriptors with possibility of denying tripeptide composition and binaries representatios (large representations) or call the adaptable function wich allows to calculate the specific desired features (the numbers correspondent of features are available explicit in user guides).\n",
    "The calculation of features always retrieves a dictionary with name of feature and value. "
   ]
  },
  {
   "cell_type": "code",
   "execution_count": 23,
   "metadata": {},
   "outputs": [
    {
     "name": "stdout",
     "output_type": "stream",
     "text": [
      "len of all descriptors exclude tripeptide and binaries 2097\n",
      "{'lenght': 350.0, 'MW_modlamp': 39373.43, 'A': 7.714, 'R': 5.143, 'N': 6.571, 'D': 3.429, 'C': 2.857, 'E': 0.571, 'Q': 2.571, 'G': 4.286, 'H': 0.857, 'I': 8.0, 'L': 12.286, 'K': 3.714, 'M': 2.286, 'F': 5.714, 'P': 4.857, 'S': 7.714, 'T': 2.571, 'W': 2.0, 'Y': 5.143, 'V': 11.714}\n",
      "len of descriptors 3,8 and 20: 22\n"
     ]
    }
   ],
   "source": [
    "ps=sequence.get_protein_sequence_from_id('P48039') #sequence object from uniprot id\n",
    "protein = Descriptor(ps) # creating object to calculate descriptors\n",
    "\n",
    "test1=protein.get_all() #all except tripeptide and binaries representations\n",
    "test1_2=protein.adaptable([3,8,20]) # lenght, molecular weight and aminoacid composition\n",
    "\n",
    "\n",
    "# print(test1)\n",
    "print('len of all descriptors exclude tripeptide and binaries', len(test1))\n",
    "print('dictionary of features', test1_2)\n",
    "print('len of descriptors 3,8 and 20:', len(test1_2))"
   ]
  },
  {
   "cell_type": "markdown",
   "metadata": {},
   "source": [
    "3. Simple preprocess of dataset"
   ]
  },
  {
   "cell_type": "code",
   "execution_count": 30,
   "metadata": {},
   "outputs": [],
   "source": [
    "from propythia.preprocess import Preprocess"
   ]
  },
  {
   "cell_type": "raw",
   "metadata": {},
   "source": [
    "The preprocess allows to remove columns that are all zeros, duplicated columns and low variance columns.\n",
    "This module works with the X dataset, so be aware to remove labels if it is the case. \n",
    "the names of the columns deleted are returned if columns_names is set to True. \n",
    "Specially if you calculate features such as tripeptide composition, this module can be of special relevance as there is a lot of 0 values. \n",
    "The function remove low variance columns is set by default to remove zero variance columns (with all rows with the same value) but this value can be augmented. The dataset is standardized before this operation with minmaxscaler if standard=True, the dataset retrieved is maintained as orginal. This standardization only happens internally. "
   ]
  },
  {
   "cell_type": "code",
   "execution_count": 33,
   "metadata": {},
   "outputs": [
    {
     "name": "stdout",
     "output_type": "stream",
     "text": [
      "0 nans\n",
      "original dataset shape: (222, 1582)\n",
      "dataset with zero columns removed shape: (222, 1559)\n",
      "dataset with removed duplicated columns: (222, 1449)\n",
      "dataset with low variance columns removed: (222, 1449)\n"
     ]
    }
   ],
   "source": [
    "dataset = pd.read_csv(r'../tests/datasets/dataset_test.csv', delimiter=',', encoding='latin-1')\n",
    "# separate labels\n",
    "labels = dataset['labels']\n",
    "dataset = dataset.loc[:, dataset.columns != 'labels']\n",
    "\n",
    "\n",
    "# Create Preprocess object\n",
    "prepro = Preprocess()\n",
    "\n",
    "#check if there are NaN\n",
    "prepro.missing_data(dataset)\n",
    "\n",
    "dataset_zero, colum_Zero = prepro.remove_columns_all_zeros(dataset, True)  # remove zero columns\n",
    "\n",
    "dataset_without_duplicate, column_duplicated = prepro.remove_duplicate_columns(dataset_zero, True)  # remove duplicated columns\n",
    "\n",
    "dataset_clean, column_not_variable = prepro.remove_low_variance(dataset_without_duplicate, standard=True, columns_names=True) # remove zero variance columns\n",
    "\n",
    "print('original dataset shape:', dataset.shape)\n",
    "print('dataset with zero columns removed shape:', dataset_zero.shape)\n",
    "print('dataset with removed duplicated columns:', dataset_without_duplicate.shape)\n",
    "print('dataset with low variance columns removed:', dataset_clean.shape)"
   ]
  },
  {
   "cell_type": "raw",
   "metadata": {},
   "source": [
    "Alternatively, it is possible to do all this operations with just the preprocess function. \n",
    "The function will retrieve the dataset preprocessed and the columns that were deleted if columns_names=true. "
   ]
  },
  {
   "cell_type": "code",
   "execution_count": 34,
   "metadata": {},
   "outputs": [
    {
     "name": "stdout",
     "output_type": "stream",
     "text": [
      "original dataset shape: (222, 1582)\n",
      "dataset clean: (222, 1449)\n"
     ]
    }
   ],
   "source": [
    "dataset_clean, columns_deleted = prepro.preprocess(dataset, columns_names=True, threshold=0, standard=True)\n",
    "\n",
    "print('original dataset shape:', dataset.shape)\n",
    "print('dataset clean:',dataset_clean.shape)"
   ]
  },
  {
   "cell_type": "markdown",
   "metadata": {},
   "source": [
    "4. Feature Selection"
   ]
  },
  {
   "cell_type": "markdown",
   "metadata": {},
   "source": [
    "from sklearn.feature_selection import GenericUnivariateSelect\n",
    "from sklearn.feature_selection import f_classif, mutual_info_classif\n",
    "#from sklearn.feature_selection import f_regression, mutual_info_regression #for regression problems\n",
    "from sklearn.feature_selection import SelectFromModel\n",
    "from sklearn.linear_model import LogisticRegression\n",
    "from sklearn.svm import LinearSVC\n",
    "from sklearn.ensemble import ExtraTreesClassifier\n",
    "from propythia.adjuv_functions.scoring.scores import score_methods\n",
    "\n",
    "from propythia.feature_selection import FeatureSelection"
   ]
  },
  {
   "cell_type": "raw",
   "metadata": {},
   "source": [
    "To use this module, imports from sklearn will mostly likely be necessary. \n",
    "It is possible to perform: \n",
    "        Univariate feature selection tecnhiques: univariate function, the user choose the scoring function, the mode and param value\n",
    "        Recursive feature elimination or with the use of machine learning models. \n",
    "\n",
    "In all cases, and for the user to retain power for future operations, the functions retrieve the x dataset fit, the X dataset transformed, the columns selected, the scores of those columns and the dataset with selected columns. "
   ]
  },
  {
   "cell_type": "code",
   "execution_count": 42,
   "metadata": {},
   "outputs": [
    {
     "name": "stdout",
     "output_type": "stream",
     "text": [
      "shape transformed dataset with univariate feature elimination: (222, 1000)\n",
      "                             scores\n",
      "_SolventAccessibilityC1    0.367596\n",
      "PAAC8                      0.352050\n",
      "_HydrophobicityD1001       0.343598\n",
      "_HydrophobicityD1050       0.338372\n",
      "_PolarityD3025             0.316307\n",
      "...                             ...\n",
      "MoranAuto_AvFlexibility23  0.032190\n",
      "GearyAuto_Mutability19     0.032027\n",
      "KK                         0.031920\n",
      "DL                         0.031256\n",
      "lenght                     0.030996\n",
      "\n",
      "[1000 rows x 1 columns]\n",
      "original shape (222, 1449)\n",
      "reduce shape (222, 6)\n",
      "feature importances\n",
      "                          importance\n",
      "_SolventAccessibilityC1    0.388414\n",
      "PAAC8                      0.355894\n",
      "G                          0.001516\n",
      "_HydrophobicityC1         -0.164371\n",
      "_HydrophobicityT13        -0.319261\n"
     ]
    }
   ],
   "source": [
    "dataset = pd.read_csv(r'../tests/datasets/dataset1_test_clean.csv', delimiter=',', encoding='latin-1')\n",
    "x_original=dataset.loc[:, dataset.columns != 'labels']\n",
    "labels=dataset['labels']\n",
    "\n",
    "\n",
    "fselect=FeatureSelection(dataset, x_original, labels) #create Feature Selection object\n",
    "\n",
    "# UNIVARIATE FEATURE SELECTION \n",
    "\n",
    "# #KBest com *mutual info classif*\n",
    "X_fit_univariate_k, X_transf_univariate_k,column_selected_k,scores_k,dataset_features_k = fselect.univariate(score_func=mutual_info_classif, mode='k_best', param=1000)\n",
    "\n",
    "#Percentile with *f classif*\n",
    "X_fit_univariate, X_transf_univariate,column_selected,scores,dataset_features = fselect.univariate(score_func=f_classif, mode='percentile', param=0.6)\n",
    "\n",
    "# Select only the features with p value inferior to 0.015\n",
    "X_fit_univariate, X_transf_univariate,column_selected,scores,dataset_features = fselect.univariate(score_func=f_classif, mode='fpr', param=0.05)\n",
    "\n",
    "#shape of transformed dataset\n",
    "print('shape transformed dataset with univariate feature elimination:',X_transf_univariate_k.shape)\n",
    "#columns selected by high score\n",
    "print(fselect.features_scores(x_original,scores_k,column_selected_k, False))\n",
    "\n",
    "\n",
    "\n",
    "# RECURSIVE FEATURE ELIMINATION\n",
    "\n",
    "#estimator=SVC kernel=linear with 5 cross validation\n",
    "X_fit_rfe, X_transf_rfe,column_selected,ranking,dataset_features= fselect.recursive_feature_elimination(cross_validation=True,cv=5)\n",
    "\n",
    "\n",
    "# SELECT FROM MODEL\n",
    "\n",
    "# examples of models to be used  \n",
    "model_lsvc = LinearSVC(C=0.1, penalty=\"l1\", dual=False)\n",
    "model_lr=LogisticRegression(C=0.1, penalty=\"l2\", dual=False)\n",
    "model_tree=ExtraTreesClassifier(n_estimators=50)\n",
    "\n",
    "# model= linearsvs\n",
    "X_fit_model, X_transf_model,column_selected,feature_importances,feature_importances_DF,dataset_features= \\\n",
    "    fselect.select_from_model_feature_elimination(model=model_lsvc)\n",
    "\n",
    "print('original shape', dataset.shape)\n",
    "print('reduce shape', fselect.dataset.shape)\n",
    "# print('dataset reduced with column names\\n', fselect.dataset.head(3))\n",
    "print('feature importances\\n',feature_importances_DF)"
   ]
  },
  {
   "cell_type": "markdown",
   "metadata": {},
   "source": [
    "5. Feature Reduction"
   ]
  },
  {
   "cell_type": "code",
   "execution_count": 45,
   "metadata": {},
   "outputs": [],
   "source": [
    "from propythia.feature_reduction import FeatureReduction"
   ]
  },
  {
   "cell_type": "raw",
   "metadata": {},
   "source": [
    "Feature reduction allows to do feature reduction with the use of PCA. The module performes PCa and allows to see the variance ratio of components, check the contribution of each feature to the PCA and retrieve bar plots with PCA contribution and a scatte rplot with two PCs (by default the most significant ones). "
   ]
  },
  {
   "cell_type": "code",
   "execution_count": 46,
   "metadata": {},
   "outputs": [
    {
     "name": "stdout",
     "output_type": "stream",
     "text": [
      "[0.12784946 0.08813338 0.06679714 0.06001914 0.04735697 0.03443097\n",
      " 0.02976595 0.02774902 0.02577408 0.02166958 0.02041936 0.01910727\n",
      " 0.01850383 0.01726949 0.0166824  0.01593623 0.0157269  0.01528817\n",
      " 0.01512777 0.01450949 0.01388174 0.01359966 0.0132965  0.01288661\n",
      " 0.01246958 0.01216162 0.01177626 0.0115613  0.01117868 0.0108824\n",
      " 0.01071888 0.01039795 0.01030689 0.01007083 0.00990155 0.00962592\n",
      " 0.00943698 0.0092656  0.00908577 0.00887952 0.00861827 0.00856009\n",
      " 0.00838592 0.00816337 0.00810666 0.00795286 0.00785769 0.00773559\n",
      " 0.00770429 0.00741446]\n",
      "               PC-1      PC-2      PC-3      PC-4      PC-5      PC-6  \\\n",
      "A          0.025592 -0.070852  0.028939 -0.019511 -0.009445 -0.001894   \n",
      "AA         0.020702 -0.056263  0.032242 -0.027972 -0.014878  0.000361   \n",
      "AC         0.003552  0.008101 -0.017802  0.002081 -0.011824 -0.012522   \n",
      "AD        -0.005259  0.003929 -0.016097 -0.008250 -0.006341 -0.019154   \n",
      "AE        -0.003042  0.006699 -0.028800 -0.004015  0.012131  0.012287   \n",
      "...             ...       ...       ...       ...       ...       ...   \n",
      "taugrant5  0.015805  0.061207 -0.026813  0.077129  0.003575  0.010031   \n",
      "taugrant6  0.028995  0.053478 -0.021494  0.083670 -0.006023  0.010104   \n",
      "taugrant7  0.034875  0.066078 -0.014405  0.052156 -0.015248  0.034047   \n",
      "taugrant8  0.032653  0.068986 -0.002791  0.055657 -0.024319  0.027607   \n",
      "taugrant9  0.029688  0.054328 -0.007744  0.082120  0.012551  0.008752   \n",
      "\n",
      "               PC-7      PC-8      PC-9     PC-10  ...     PC-41     PC-42  \\\n",
      "A          0.048789  0.005756  0.032090  0.007876  ... -0.012648  0.028749   \n",
      "AA         0.041710  0.003377  0.031322  0.002338  ... -0.014204  0.010696   \n",
      "AC         0.001306 -0.016152 -0.002013 -0.007713  ... -0.071336 -0.024313   \n",
      "AD        -0.003524 -0.014112  0.013815 -0.021803  ... -0.057025 -0.010505   \n",
      "AE         0.018282 -0.004873 -0.002881 -0.005248  ...  0.000629  0.020818   \n",
      "...             ...       ...       ...       ...  ...       ...       ...   \n",
      "taugrant5  0.029019  0.014097 -0.005128 -0.016069  ... -0.008214 -0.008463   \n",
      "taugrant6  0.014027  0.009391  0.008324 -0.002314  ... -0.018100  0.000214   \n",
      "taugrant7  0.005097  0.019956 -0.004916  0.002524  ... -0.010235 -0.006115   \n",
      "taugrant8  0.012317  0.007604 -0.011416 -0.004238  ... -0.019687 -0.003645   \n",
      "taugrant9  0.021164  0.021851  0.011018 -0.015682  ... -0.013964 -0.008726   \n",
      "\n",
      "              PC-43     PC-44     PC-45     PC-46     PC-47     PC-48  \\\n",
      "A         -0.007462 -0.011558 -0.008070  0.006287 -0.017508  0.002068   \n",
      "AA        -0.008053 -0.011820  0.004797  0.013946 -0.013995  0.001072   \n",
      "AC         0.001371  0.050560 -0.007505  0.018715  0.016804  0.001353   \n",
      "AD        -0.000408  0.007747 -0.084544 -0.036462  0.002308 -0.014711   \n",
      "AE         0.027763 -0.007617  0.017321 -0.057637 -0.034036 -0.028281   \n",
      "...             ...       ...       ...       ...       ...       ...   \n",
      "taugrant5 -0.005850  0.022398  0.002897 -0.020806  0.015592 -0.020710   \n",
      "taugrant6  0.007282 -0.016852  0.003789 -0.021637  0.023324 -0.008552   \n",
      "taugrant7  0.016481 -0.001333  0.007421 -0.003791 -0.004643  0.004922   \n",
      "taugrant8  0.001118  0.004934  0.006590 -0.004005  0.007617 -0.034996   \n",
      "taugrant9  0.003390 -0.020094 -0.012068 -0.025603 -0.015922 -0.006125   \n",
      "\n",
      "              PC-49     PC-50  \n",
      "A          0.002587  0.018259  \n",
      "AA         0.010470  0.004886  \n",
      "AC         0.013180 -0.010490  \n",
      "AD        -0.058182  0.015912  \n",
      "AE         0.033085 -0.013142  \n",
      "...             ...       ...  \n",
      "taugrant5  0.005396  0.009923  \n",
      "taugrant6  0.027411 -0.006277  \n",
      "taugrant7  0.004556 -0.002569  \n",
      "taugrant8  0.019485  0.001588  \n",
      "taugrant9  0.010896 -0.016965  \n",
      "\n",
      "[1448 rows x 50 columns]\n"
     ]
    },
    {
     "data": {
      "image/png": "[encoded data removed]",
      "text/plain": [
       "<Figure size 432x288 with 1 Axes>"
      ]
     },
     "metadata": {
      "needs_background": "light"
     },
     "output_type": "display_data"
    },
    {
     "data": {
      "image/png": "[encoded data removed]",
      "text/plain": [
       "<Figure size 432x288 with 1 Axes>"
      ]
     },
     "metadata": {
      "needs_background": "light"
     },
     "output_type": "display_data"
    },
    {
     "name": "stdout",
     "output_type": "stream",
     "text": [
      "Original shape: (222, 1448)\n",
      "Reduced shape: (222, 50)\n",
      "Variance explained by PC: 0.6991098530797429\n",
      "Number of components 50\n"
     ]
    }
   ],
   "source": [
    "# read and define dataset\n",
    "dataset = pd.read_csv(r'../tests/datasets/dataset1_test_clean.csv', delimiter=',', encoding='latin-1')\n",
    "labels = dataset['labels']\n",
    "dataset = dataset.loc[:, dataset.columns != 'labels']\n",
    "\n",
    "\n",
    "fea_reduced=FeatureReduction() # create Feature Extraction object\n",
    "\n",
    "# perform pca\n",
    "pca,x_pca=fea_reduced.pca(dataset, n_components=50)\n",
    "\n",
    "# check the variance ratio of components\n",
    "print(fea_reduced.variance_ratio_components(x_pca))\n",
    "\n",
    "# table with the contribution of each feature to the pca. does not mean that are the most significant (unsupervised learnig) \n",
    "print(fea_reduced.contribution_of_features_to_component(dataset, pca, x_pca))\n",
    "\n",
    "# GRAPHS\n",
    "# bar plot with the contribution of each pca\n",
    "fea_reduced.pca_bar_plot(pca)\n",
    "\n",
    "# scatter plot of two principal components relative to labels\n",
    "fea_reduced.pca_scatter_plot(dataset, pca, x_pca, labels)\n",
    "\n",
    "print(\"Original shape: {}\".format(str(dataset.shape)))\n",
    "print(\"Reduced shape: {}\".format(str(x_pca.shape)))\n",
    "print('Variance explained by PC:', sum(pca.explained_variance_ratio_))\n",
    "print(\"Number of components {}\".format(pca.n_components_))\n"
   ]
  },
  {
   "cell_type": "markdown",
   "metadata": {},
   "source": [
    "6. Clustering"
   ]
  },
  {
   "cell_type": "code",
   "execution_count": 48,
   "metadata": {},
   "outputs": [],
   "source": [
    "from propythia.clustering import Cluster\n",
    "from sklearn.preprocessing import StandardScaler\n",
    "from sklearn.svm import SVC"
   ]
  },
  {
   "cell_type": "raw",
   "metadata": {},
   "source": [
    "This module allows to perform Kmeans clustering and hierarchical clustering (metric and method can be choosed) "
   ]
  },
  {
   "cell_type": "code",
   "execution_count": 55,
   "metadata": {},
   "outputs": [
    {
     "name": "stdout",
     "output_type": "stream",
     "text": [
      "kmeans\n",
      "labels    neg  pos\n",
      "clusters          \n",
      "0          97   53\n",
      "1          14   58\n"
     ]
    },
    {
     "data": {
      "image/png": "[encoded data removed]",
      "text/plain": [
       "<Figure size 1800x720 with 1 Axes>"
      ]
     },
     "metadata": {
      "needs_background": "light"
     },
     "output_type": "display_data"
    }
   ],
   "source": [
    "dataset = pd.read_csv(r'../tests/datasets/dataset1_test_clean_fselection.csv', delimiter=',')\n",
    "\n",
    "#separate labels\n",
    "x_original=dataset.loc[:, dataset.columns != 'labels']\n",
    "labels=dataset.loc[:,'labels']\n",
    "\n",
    "#scale data\n",
    "scaler = StandardScaler()\n",
    "scaler.fit_transform(x_original)\n",
    "\n",
    "\n",
    "clust=Cluster(x_original,labels) #create the cluster object\n",
    "\n",
    "# #perform K means\n",
    "print('kmeans')\n",
    "clust.kmeans()\n",
    "\n",
    "#perform hierarchical clustering\n",
    "clust.hierarchical(metric='correlation', method='complete')\n",
    "# clust.hierarchical(metric='euclidean', method='complete')\n",
    "\n",
    "# clust.hierarchical(metric='correlation', method='average')\n",
    "# clust.hierarchical(metric='euclidean', method='ward')\n",
    "# clust.hierarchical(metric='cityblock', method='average')"
   ]
  },
  {
   "cell_type": "markdown",
   "metadata": {},
   "source": [
    "7. Machine Learning"
   ]
  },
  {
   "cell_type": "code",
   "execution_count": 73,
   "metadata": {},
   "outputs": [],
   "source": [
    "from propythia.machine_learning import MachineLearning\n",
    "\n",
    "from sklearn.model_selection import train_test_split\n",
    "from sklearn.preprocessing import label_binarize\n",
    "from sklearn.model_selection import ShuffleSplit"
   ]
  },
  {
   "cell_type": "raw",
   "metadata": {},
   "source": [
    "Machine Learning module allows to perform grid search to train best models with svm, rf, sgd, gboosting, lr, nn, knn and gnb algorithms. It allows to retrieve feature importances nboth as table and graphic. \n",
    "The user can also plot validation, learning and ROC curves. \n",
    "A large number of important evalation metrics can be easily retrieved with score_testset function. "
   ]
  },
  {
   "cell_type": "code",
   "execution_count": 63,
   "metadata": {},
   "outputs": [],
   "source": [
    "#split dataset\n",
    "dataset = pd.read_csv(r'../tests/datasets/dataset1_test_clean_fselection.csv', delimiter=',')\n",
    "\n",
    "x_original=dataset.loc[:, dataset.columns != 'labels']\n",
    "labels=dataset['labels']\n",
    "\n",
    "ml=MachineLearning(x_original, labels, classes=['pos', 'neg']) #create Machine learning object\n"
   ]
  },
  {
   "cell_type": "code",
   "execution_count": 64,
   "metadata": {},
   "outputs": [
    {
     "name": "stdout",
     "output_type": "stream",
     "text": [
      "best model svm\n",
      "performing grid search...\n",
      "Best score svm (scorer: make_scorer(matthews_corrcoef)) and parameters from a 10-fold cross validation:\n",
      "MCC score:\t0.928\n",
      "Parameters:\t{'clf__C': 0.001, 'clf__gamma': 1e-05, 'clf__kernel': 'linear'}\n",
      "best model rf\n",
      "performing grid search...\n",
      "Best score rf (scorer: make_scorer(matthews_corrcoef)) and parameters from a 10-fold cross validation:\n",
      "MCC score:\t0.913\n",
      "Parameters:\t{'clf__bootstrap': True, 'clf__criterion': 'gini', 'clf__max_features': 'sqrt', 'clf__n_estimators': 100}\n"
     ]
    }
   ],
   "source": [
    "# TEST MODELS\n",
    "print('best model svm')\n",
    "best_svm_model = ml.train_best_model('svm')\n",
    "print('best model rf')\n",
    "best_rf_model = ml.train_best_model('rf')\n",
    "# print('best model sgd')\n",
    "# best_sgd_model = ml.train_best_model('sgd')\n",
    "# print('best model gradient boosting')\n",
    "# best_gboosting_model = ml.train_best_model('gboosting')\n",
    "# print('best model lr')\n",
    "# best_lr_model = ml.train_best_model('lr')\n",
    "# print('best model nn')\n",
    "# best_nn_model = ml.train_best_model('nn')\n",
    "\n",
    "# print('best model gnb')\n",
    "# best_gnb_model = ml.train_best_model('gnb')\n",
    "\n",
    "# print('best model knn')\n",
    "# best_knn_model = ml.train_best_model('knn')\n"
   ]
  },
  {
   "cell_type": "code",
   "execution_count": 65,
   "metadata": {},
   "outputs": [
    {
     "name": "stdout",
     "output_type": "stream",
     "text": [
      "score_test_set_svm\n",
      "             Scores\n",
      "MCC            0.94\n",
      "accuracy       0.97\n",
      "precision      0.94\n",
      "recall         1.00\n",
      "f1             0.97\n",
      "roc_auc        0.97\n",
      "TN            34.00\n",
      "FP             2.00\n",
      "FN             0.00\n",
      "TP            31.00\n",
      "FDR            0.06\n",
      "sensitivity    1.00\n",
      "specificity    0.94\n",
      "score_test_set_rf\n",
      "             Scores\n",
      "MCC            0.86\n",
      "accuracy       0.93\n",
      "precision      0.86\n",
      "recall         1.00\n",
      "f1             0.93\n",
      "roc_auc        0.93\n",
      "TN            31.00\n",
      "FP             5.00\n",
      "FN             0.00\n",
      "TP            31.00\n",
      "FDR            0.14\n",
      "sensitivity    1.00\n",
      "specificity    0.86\n"
     ]
    }
   ],
   "source": [
    "# SCORING TEST SET \n",
    "print('score_test_set_svm')\n",
    "print(ml.score_testset(best_svm_model))\n",
    "print('score_test_set_rf')\n",
    "print(ml.score_testset(best_rf_model))"
   ]
  },
  {
   "cell_type": "code",
   "execution_count": 97,
   "metadata": {},
   "outputs": [
    {
     "name": "stdout",
     "output_type": "stream",
     "text": [
      "SVM\n",
      "                            importance\n",
      "_PolarizabilityC2             0.083678\n",
      "_SolventAccessibilityT12      0.074682\n",
      "PAAC12                        0.054174\n",
      "GearyAuto_Hydrophobicity6     0.041731\n",
      "QSOSW25                       0.041257\n",
      "GearyAuto_Hydrophobicity16   -0.023537\n",
      "EN                           -0.029103\n",
      "MoranAuto_ResidueASA4        -0.044011\n",
      "_PolarizabilityD1100         -0.052806\n",
      "_HydrophobicityD1025         -0.055459\n",
      "CG                           -0.062126\n",
      "MoranAuto_Mutability1        -0.062873\n",
      "F                            -0.081364\n",
      "PAAC14                       -0.081664\n",
      "_SolventAccessibilityC1      -0.109761\n",
      "PAAC8                        -0.110022\n"
     ]
    },
    {
     "data": {
      "image/png": "[encoded data removed]",
      "text/plain": [
       "<Figure size 1080x360 with 1 Axes>"
      ]
     },
     "metadata": {
      "needs_background": "light"
     },
     "output_type": "display_data"
    },
    {
     "name": "stdout",
     "output_type": "stream",
     "text": [
      "RF\n"
     ]
    },
    {
     "data": {
      "image/png": "[encoded data removed]",
      "text/plain": [
       "<Figure size 432x288 with 1 Axes>"
      ]
     },
     "metadata": {
      "needs_background": "light"
     },
     "output_type": "display_data"
    },
    {
     "name": "stdout",
     "output_type": "stream",
     "text": [
      "                            importance\n",
      "PAAC8                         0.256929\n",
      "_SolventAccessibilityC1       0.224413\n",
      "PAAC14                        0.082967\n",
      "_PolarizabilityC2             0.071729\n",
      "F                             0.060662\n",
      "MoranAuto_Mutability1         0.053115\n",
      "_PolarizabilityD1100          0.046390\n",
      "_HydrophobicityD1025          0.042628\n",
      "_SolventAccessibilityT12      0.038621\n",
      "MoranAuto_ResidueASA4         0.033501\n",
      "QSOSW25                       0.032487\n",
      "PAAC12                        0.019453\n",
      "GearyAuto_Hydrophobicity16    0.014897\n",
      "GearyAuto_Hydrophobicity6     0.009596\n",
      "CG                            0.006613\n",
      "EN                            0.005999\n"
     ]
    },
    {
     "data": {
      "text/html": [
       "<div>\n",
       "<style scoped>\n",
       "    .dataframe tbody tr th:only-of-type {\n",
       "        vertical-align: middle;\n",
       "    }\n",
       "\n",
       "    .dataframe tbody tr th {\n",
       "        vertical-align: top;\n",
       "    }\n",
       "\n",
       "    .dataframe thead th {\n",
       "        text-align: right;\n",
       "    }\n",
       "</style>\n",
       "<table border=\"1\" class=\"dataframe\">\n",
       "  <thead>\n",
       "    <tr style=\"text-align: right;\">\n",
       "      <th></th>\n",
       "      <th>importance</th>\n",
       "    </tr>\n",
       "  </thead>\n",
       "  <tbody>\n",
       "    <tr>\n",
       "      <th>PAAC8</th>\n",
       "      <td>0.256929</td>\n",
       "    </tr>\n",
       "    <tr>\n",
       "      <th>_SolventAccessibilityC1</th>\n",
       "      <td>0.224413</td>\n",
       "    </tr>\n",
       "    <tr>\n",
       "      <th>PAAC14</th>\n",
       "      <td>0.082967</td>\n",
       "    </tr>\n",
       "    <tr>\n",
       "      <th>_PolarizabilityC2</th>\n",
       "      <td>0.071729</td>\n",
       "    </tr>\n",
       "    <tr>\n",
       "      <th>F</th>\n",
       "      <td>0.060662</td>\n",
       "    </tr>\n",
       "    <tr>\n",
       "      <th>MoranAuto_Mutability1</th>\n",
       "      <td>0.053115</td>\n",
       "    </tr>\n",
       "    <tr>\n",
       "      <th>_PolarizabilityD1100</th>\n",
       "      <td>0.046390</td>\n",
       "    </tr>\n",
       "    <tr>\n",
       "      <th>_HydrophobicityD1025</th>\n",
       "      <td>0.042628</td>\n",
       "    </tr>\n",
       "    <tr>\n",
       "      <th>_SolventAccessibilityT12</th>\n",
       "      <td>0.038621</td>\n",
       "    </tr>\n",
       "    <tr>\n",
       "      <th>MoranAuto_ResidueASA4</th>\n",
       "      <td>0.033501</td>\n",
       "    </tr>\n",
       "    <tr>\n",
       "      <th>QSOSW25</th>\n",
       "      <td>0.032487</td>\n",
       "    </tr>\n",
       "    <tr>\n",
       "      <th>PAAC12</th>\n",
       "      <td>0.019453</td>\n",
       "    </tr>\n",
       "    <tr>\n",
       "      <th>GearyAuto_Hydrophobicity16</th>\n",
       "      <td>0.014897</td>\n",
       "    </tr>\n",
       "    <tr>\n",
       "      <th>GearyAuto_Hydrophobicity6</th>\n",
       "      <td>0.009596</td>\n",
       "    </tr>\n",
       "    <tr>\n",
       "      <th>CG</th>\n",
       "      <td>0.006613</td>\n",
       "    </tr>\n",
       "    <tr>\n",
       "      <th>EN</th>\n",
       "      <td>0.005999</td>\n",
       "    </tr>\n",
       "  </tbody>\n",
       "</table>\n",
       "</div>"
      ],
      "text/plain": [
       "                            importance\n",
       "PAAC8                         0.256929\n",
       "_SolventAccessibilityC1       0.224413\n",
       "PAAC14                        0.082967\n",
       "_PolarizabilityC2             0.071729\n",
       "F                             0.060662\n",
       "MoranAuto_Mutability1         0.053115\n",
       "_PolarizabilityD1100          0.046390\n",
       "_HydrophobicityD1025          0.042628\n",
       "_SolventAccessibilityT12      0.038621\n",
       "MoranAuto_ResidueASA4         0.033501\n",
       "QSOSW25                       0.032487\n",
       "PAAC12                        0.019453\n",
       "GearyAuto_Hydrophobicity16    0.014897\n",
       "GearyAuto_Hydrophobicity6     0.009596\n",
       "CG                            0.006613\n",
       "EN                            0.005999"
      ]
     },
     "execution_count": 97,
     "metadata": {},
     "output_type": "execute_result"
    }
   ],
   "source": [
    "# RETRIEVE FEATURES IMPORTANCES\n",
    "print('SVM')\n",
    "ml.features_importances(best_svm_model,'svm')\n",
    "print('RF')\n",
    "ml.features_importances(best_rf_model,'rf')"
   ]
  },
  {
   "cell_type": "code",
   "execution_count": 91,
   "metadata": {},
   "outputs": [
    {
     "data": {
      "image/png": "[encoded data removed]",
      "text/plain": [
       "<Figure size 432x288 with 1 Axes>"
      ]
     },
     "metadata": {
      "needs_background": "light"
     },
     "output_type": "display_data"
    }
   ],
   "source": [
    "# PLOT VALIDATION CURVE \n",
    "ml.plot_validation_curve(best_svm_model, param_name='clf__C',\n",
    "                         param_range=[0.00001,0.0001, 0.001, 0.01, 0.1, 1, 10,100])"
   ]
  },
  {
   "cell_type": "code",
   "execution_count": 92,
   "metadata": {},
   "outputs": [
    {
     "name": "stdout",
     "output_type": "stream",
     "text": [
      "0.9722222222222222\n"
     ]
    },
    {
     "data": {
      "image/png": "[encoded data removed]",
      "text/plain": [
       "<Figure size 432x288 with 1 Axes>"
      ]
     },
     "metadata": {
      "needs_background": "light"
     },
     "output_type": "display_data"
    }
   ],
   "source": [
    "# PLOT ROC CURVE \n",
    "ml.plot_roc_curve(best_svm_model)"
   ]
  },
  {
   "cell_type": "code",
   "execution_count": 93,
   "metadata": {},
   "outputs": [
    {
     "data": {
      "image/png": "[encoded data removed]",
      "text/plain": [
       "<Figure size 432x288 with 1 Axes>"
      ]
     },
     "metadata": {
      "needs_background": "light"
     },
     "output_type": "display_data"
    },
    {
     "data": {
      "text/plain": [
       "(array([ 15,  50,  85, 120, 155]),\n",
       " array([[1., 1., 1., 1., 1., 1., 1., 1., 1., 1., 1., 1., 1., 1., 1., 1.,\n",
       "         1., 1., 1., 1., 1., 1., 1., 1., 1., 1., 1., 1., 1., 1., 1., 1.,\n",
       "         1., 1., 1., 1., 1., 1., 1., 1., 1., 1., 1., 1., 1., 1., 1., 1.,\n",
       "         1., 1., 1., 1., 1., 1., 1., 1., 1., 1., 1., 1., 1., 1., 1., 1.,\n",
       "         1., 1., 1., 1., 1., 1., 1., 1., 1., 1., 1., 1., 1., 1., 1., 1.,\n",
       "         1., 1., 1., 1., 1., 1., 1., 1., 1., 1., 1., 1., 1., 1., 1., 1.,\n",
       "         1., 1., 1., 1.],\n",
       "        [1., 1., 1., 1., 1., 1., 1., 1., 1., 1., 1., 1., 1., 1., 1., 1.,\n",
       "         1., 1., 1., 1., 1., 1., 1., 1., 1., 1., 1., 1., 1., 1., 1., 1.,\n",
       "         1., 1., 1., 1., 1., 1., 1., 1., 1., 1., 1., 1., 1., 1., 1., 1.,\n",
       "         1., 1., 1., 1., 1., 1., 1., 1., 1., 1., 1., 1., 1., 1., 1., 1.,\n",
       "         1., 1., 1., 1., 1., 1., 1., 1., 1., 1., 1., 1., 1., 1., 1., 1.,\n",
       "         1., 1., 1., 1., 1., 1., 1., 1., 1., 1., 1., 1., 1., 1., 1., 1.,\n",
       "         1., 1., 1., 1.],\n",
       "        [1., 1., 1., 1., 1., 1., 1., 1., 1., 1., 1., 1., 1., 1., 1., 1.,\n",
       "         1., 1., 1., 1., 1., 1., 1., 1., 1., 1., 1., 1., 1., 1., 1., 1.,\n",
       "         1., 1., 1., 1., 1., 1., 1., 1., 1., 1., 1., 1., 1., 1., 1., 1.,\n",
       "         1., 1., 1., 1., 1., 1., 1., 1., 1., 1., 1., 1., 1., 1., 1., 1.,\n",
       "         1., 1., 1., 1., 1., 1., 1., 1., 1., 1., 1., 1., 1., 1., 1., 1.,\n",
       "         1., 1., 1., 1., 1., 1., 1., 1., 1., 1., 1., 1., 1., 1., 1., 1.,\n",
       "         1., 1., 1., 1.],\n",
       "        [1., 1., 1., 1., 1., 1., 1., 1., 1., 1., 1., 1., 1., 1., 1., 1.,\n",
       "         1., 1., 1., 1., 1., 1., 1., 1., 1., 1., 1., 1., 1., 1., 1., 1.,\n",
       "         1., 1., 1., 1., 1., 1., 1., 1., 1., 1., 1., 1., 1., 1., 1., 1.,\n",
       "         1., 1., 1., 1., 1., 1., 1., 1., 1., 1., 1., 1., 1., 1., 1., 1.,\n",
       "         1., 1., 1., 1., 1., 1., 1., 1., 1., 1., 1., 1., 1., 1., 1., 1.,\n",
       "         1., 1., 1., 1., 1., 1., 1., 1., 1., 1., 1., 1., 1., 1., 1., 1.,\n",
       "         1., 1., 1., 1.],\n",
       "        [1., 1., 1., 1., 1., 1., 1., 1., 1., 1., 1., 1., 1., 1., 1., 1.,\n",
       "         1., 1., 1., 1., 1., 1., 1., 1., 1., 1., 1., 1., 1., 1., 1., 1.,\n",
       "         1., 1., 1., 1., 1., 1., 1., 1., 1., 1., 1., 1., 1., 1., 1., 1.,\n",
       "         1., 1., 1., 1., 1., 1., 1., 1., 1., 1., 1., 1., 1., 1., 1., 1.,\n",
       "         1., 1., 1., 1., 1., 1., 1., 1., 1., 1., 1., 1., 1., 1., 1., 1.,\n",
       "         1., 1., 1., 1., 1., 1., 1., 1., 1., 1., 1., 1., 1., 1., 1., 1.,\n",
       "         1., 1., 1., 1.]]),\n",
       " array([[0.97014925, 0.88059701, 0.86567164, 0.8358209 , 0.97014925,\n",
       "         0.88059701, 0.76119403, 0.94029851, 0.76119403, 0.88059701,\n",
       "         0.86567164, 0.88059701, 0.86567164, 0.94029851, 0.79104478,\n",
       "         0.86567164, 0.92537313, 0.7761194 , 0.79104478, 0.86567164,\n",
       "         0.98507463, 0.85074627, 0.95522388, 0.97014925, 0.91044776,\n",
       "         0.8358209 , 0.88059701, 0.8358209 , 0.95522388, 0.88059701,\n",
       "         0.94029851, 0.89552239, 0.89552239, 0.8358209 , 0.91044776,\n",
       "         0.91044776, 0.74626866, 0.82089552, 0.95522388, 0.89552239,\n",
       "         0.92537313, 0.80597015, 0.91044776, 0.91044776, 0.94029851,\n",
       "         0.88059701, 0.8358209 , 0.88059701, 0.89552239, 0.91044776,\n",
       "         0.86567164, 0.85074627, 0.91044776, 0.55223881, 0.89552239,\n",
       "         0.80597015, 0.89552239, 0.91044776, 0.80597015, 0.8358209 ,\n",
       "         0.85074627, 0.89552239, 0.7761194 , 0.79104478, 0.62686567,\n",
       "         0.89552239, 0.94029851, 0.73134328, 0.94029851, 0.8358209 ,\n",
       "         0.94029851, 0.86567164, 0.85074627, 0.92537313, 0.86567164,\n",
       "         0.85074627, 0.80597015, 0.8358209 , 0.88059701, 0.92537313,\n",
       "         0.73134328, 0.92537313, 0.91044776, 0.86567164, 0.94029851,\n",
       "         0.85074627, 0.86567164, 0.88059701, 0.86567164, 0.89552239,\n",
       "         0.67164179, 0.85074627, 0.88059701, 0.94029851, 0.92537313,\n",
       "         0.92537313, 0.85074627, 0.91044776, 0.79104478, 0.92537313],\n",
       "        [0.94029851, 0.91044776, 0.91044776, 0.92537313, 0.95522388,\n",
       "         0.91044776, 0.95522388, 0.89552239, 0.89552239, 0.91044776,\n",
       "         0.86567164, 0.92537313, 0.94029851, 0.91044776, 0.91044776,\n",
       "         0.94029851, 0.92537313, 0.92537313, 0.94029851, 0.94029851,\n",
       "         0.98507463, 0.97014925, 0.92537313, 0.92537313, 0.97014925,\n",
       "         0.91044776, 0.91044776, 0.94029851, 0.94029851, 0.92537313,\n",
       "         0.92537313, 0.89552239, 0.91044776, 0.92537313, 0.92537313,\n",
       "         0.89552239, 0.91044776, 0.95522388, 0.97014925, 0.92537313,\n",
       "         0.92537313, 0.92537313, 0.97014925, 0.98507463, 0.94029851,\n",
       "         0.95522388, 0.89552239, 0.92537313, 0.95522388, 0.92537313,\n",
       "         0.92537313, 0.91044776, 0.92537313, 0.92537313, 0.92537313,\n",
       "         0.86567164, 0.92537313, 0.97014925, 0.92537313, 0.86567164,\n",
       "         0.89552239, 0.94029851, 0.92537313, 0.85074627, 0.95522388,\n",
       "         0.95522388, 0.91044776, 0.92537313, 0.92537313, 0.91044776,\n",
       "         0.94029851, 0.86567164, 0.91044776, 0.97014925, 0.92537313,\n",
       "         0.97014925, 0.92537313, 0.95522388, 0.92537313, 0.86567164,\n",
       "         0.97014925, 0.92537313, 0.91044776, 0.94029851, 0.92537313,\n",
       "         0.86567164, 0.97014925, 0.91044776, 0.88059701, 0.97014925,\n",
       "         0.97014925, 0.95522388, 0.91044776, 0.97014925, 0.95522388,\n",
       "         0.94029851, 0.97014925, 0.89552239, 0.89552239, 0.94029851],\n",
       "        [0.95522388, 0.94029851, 0.91044776, 0.92537313, 0.97014925,\n",
       "         0.91044776, 0.94029851, 0.94029851, 0.91044776, 0.92537313,\n",
       "         0.92537313, 0.91044776, 0.94029851, 0.97014925, 0.97014925,\n",
       "         0.95522388, 0.95522388, 0.89552239, 0.89552239, 0.92537313,\n",
       "         0.91044776, 0.97014925, 0.97014925, 0.95522388, 0.97014925,\n",
       "         0.86567164, 0.8358209 , 0.92537313, 0.95522388, 0.94029851,\n",
       "         0.88059701, 0.94029851, 0.92537313, 0.95522388, 0.94029851,\n",
       "         0.95522388, 0.94029851, 0.94029851, 0.94029851, 0.94029851,\n",
       "         0.94029851, 0.91044776, 0.97014925, 0.98507463, 0.92537313,\n",
       "         0.92537313, 0.94029851, 0.92537313, 0.94029851, 0.95522388,\n",
       "         0.92537313, 0.88059701, 0.95522388, 0.95522388, 0.92537313,\n",
       "         0.95522388, 0.95522388, 0.94029851, 0.91044776, 0.86567164,\n",
       "         0.94029851, 0.94029851, 0.91044776, 0.94029851, 0.92537313,\n",
       "         0.95522388, 0.92537313, 0.94029851, 0.92537313, 0.88059701,\n",
       "         0.94029851, 0.91044776, 0.92537313, 0.95522388, 0.94029851,\n",
       "         0.94029851, 0.92537313, 0.94029851, 0.92537313, 0.88059701,\n",
       "         0.98507463, 0.92537313, 0.92537313, 0.94029851, 0.94029851,\n",
       "         0.92537313, 0.95522388, 0.92537313, 0.92537313, 0.95522388,\n",
       "         0.97014925, 0.95522388, 0.89552239, 0.97014925, 0.97014925,\n",
       "         0.97014925, 0.95522388, 0.94029851, 0.89552239, 0.92537313],\n",
       "        [0.94029851, 0.95522388, 0.91044776, 0.95522388, 0.98507463,\n",
       "         0.91044776, 0.92537313, 0.92537313, 0.92537313, 0.94029851,\n",
       "         0.92537313, 0.95522388, 0.98507463, 0.95522388, 0.97014925,\n",
       "         0.97014925, 0.94029851, 0.91044776, 0.92537313, 0.94029851,\n",
       "         0.95522388, 0.95522388, 0.95522388, 0.95522388, 0.95522388,\n",
       "         0.91044776, 0.89552239, 0.92537313, 0.95522388, 0.92537313,\n",
       "         0.89552239, 0.95522388, 0.97014925, 0.94029851, 0.94029851,\n",
       "         0.94029851, 0.94029851, 0.95522388, 0.92537313, 0.94029851,\n",
       "         0.95522388, 0.92537313, 0.95522388, 1.        , 0.92537313,\n",
       "         0.94029851, 0.94029851, 0.91044776, 0.98507463, 0.95522388,\n",
       "         0.94029851, 0.92537313, 1.        , 0.95522388, 0.92537313,\n",
       "         0.95522388, 0.97014925, 0.98507463, 0.89552239, 0.8358209 ,\n",
       "         0.92537313, 0.91044776, 0.91044776, 0.97014925, 0.92537313,\n",
       "         0.95522388, 0.92537313, 0.94029851, 0.94029851, 0.89552239,\n",
       "         0.94029851, 0.89552239, 0.94029851, 0.97014925, 0.94029851,\n",
       "         0.98507463, 0.92537313, 0.94029851, 0.97014925, 0.89552239,\n",
       "         0.98507463, 0.94029851, 0.92537313, 0.91044776, 0.94029851,\n",
       "         0.92537313, 0.92537313, 0.91044776, 0.92537313, 0.97014925,\n",
       "         0.95522388, 0.97014925, 0.92537313, 0.97014925, 0.95522388,\n",
       "         0.98507463, 0.97014925, 0.95522388, 0.92537313, 0.94029851],\n",
       "        [0.92537313, 0.92537313, 0.92537313, 0.95522388, 0.95522388,\n",
       "         0.91044776, 0.92537313, 0.91044776, 0.94029851, 0.97014925,\n",
       "         0.92537313, 0.94029851, 0.92537313, 0.94029851, 0.97014925,\n",
       "         0.95522388, 0.95522388, 0.91044776, 0.95522388, 0.95522388,\n",
       "         0.97014925, 0.95522388, 0.95522388, 0.95522388, 0.94029851,\n",
       "         0.89552239, 0.86567164, 0.94029851, 0.95522388, 0.92537313,\n",
       "         0.91044776, 0.98507463, 0.95522388, 0.92537313, 0.94029851,\n",
       "         0.95522388, 0.92537313, 0.97014925, 0.97014925, 0.94029851,\n",
       "         0.92537313, 0.92537313, 0.97014925, 0.97014925, 0.92537313,\n",
       "         0.95522388, 0.95522388, 0.95522388, 0.97014925, 0.97014925,\n",
       "         0.94029851, 0.89552239, 1.        , 0.94029851, 0.95522388,\n",
       "         0.97014925, 0.97014925, 0.97014925, 0.91044776, 0.86567164,\n",
       "         0.91044776, 0.94029851, 0.92537313, 1.        , 0.94029851,\n",
       "         0.92537313, 0.91044776, 0.94029851, 0.91044776, 0.91044776,\n",
       "         0.97014925, 0.89552239, 0.94029851, 0.97014925, 0.95522388,\n",
       "         0.97014925, 0.92537313, 0.95522388, 0.94029851, 0.91044776,\n",
       "         0.98507463, 0.91044776, 0.91044776, 0.94029851, 0.92537313,\n",
       "         0.94029851, 0.94029851, 0.91044776, 0.94029851, 0.97014925,\n",
       "         0.94029851, 0.94029851, 0.92537313, 0.95522388, 0.95522388,\n",
       "         1.        , 0.97014925, 0.92537313, 0.89552239, 0.92537313]]),\n",
       " <module 'matplotlib.pyplot' from '/home/martinha/miniconda3/envs/propythia/lib/python3.7/site-packages/matplotlib/pyplot.py'>)"
      ]
     },
     "execution_count": 93,
     "metadata": {},
     "output_type": "execute_result"
    }
   ],
   "source": [
    "# PLOT LEARNING CURVE\n",
    "ml.plot_learning_curve(best_rf_model, title = \"Learning Curves (RF)\", ylim=(0.8, 1.01), n_jobs=4)"
   ]
  },
  {
   "cell_type": "raw",
   "metadata": {},
   "source": [
    "It also allows to predict the class of sequences using a trained model.\n",
    "In the example, it is possible to see how to use a dataset to predict and using a window approach, where a sequence is divided in subsequences and these subsequences are predicted. In the case of the window approach the location of the subsequence and a scale probability are also retrieved. The scale probability indicates: 0 - inferior to 0.6 probability, 1 <0.75 P, 2 < 0.9 P, 3 < 0.95 P , 4 < 0.99 P and 5 if P < 0.99."
   ]
  },
  {
   "cell_type": "code",
   "execution_count": 81,
   "metadata": {},
   "outputs": [
    {
     "name": "stdout",
     "output_type": "stream",
     "text": [
      "predict_svm\n",
      "        P_class0  P_class1\n",
      "labels                    \n",
      "neg     0.035166  0.964834\n",
      "neg     0.005020  0.994980\n",
      "neg     0.005943  0.994057\n",
      "pos     0.901804  0.098196\n",
      "pos     0.892399  0.107601\n",
      "pos     0.761473  0.238527\n",
      "neg     0.000019  0.999981\n",
      "neg     0.091068  0.908932\n",
      "neg     0.013513  0.986487\n",
      "pos     0.908258  0.091742\n"
     ]
    }
   ],
   "source": [
    "# MAKE PREVISIONS\n",
    "X_train, X_test, y_train, y_test = train_test_split(x_original,labels)\n",
    "print('predict_svm')\n",
    "df = ml.predict(best_svm_model, x=X_test, seqs=y_test)\n",
    "print(df.head(10))"
   ]
  },
  {
   "cell_type": "code",
   "execution_count": 94,
   "metadata": {},
   "outputs": [
    {
     "name": "stdout",
     "output_type": "stream",
     "text": [
      "   pos_0  pos_-1  probability  scale_probability         sequence\n",
      "0    0.0    15.0       0.3334                0.0  IQIPSEFTIGNMEEF\n",
      "1   74.0    89.0       0.7226                1.0  MNGVTLSTKLKDGVN\n",
      "2   76.0    91.0       0.5123                0.0  GVTLSTKLKDGVNFN\n",
      "3   80.0    95.0       0.7321                1.0  STKLKDGVNFNVDDI\n",
      "4   82.0    97.0       0.6592                0.0  KLKDGVNFNVDDINF\n",
      "5  106.0   121.0       0.7812                1.0  ECSKASSRSAIEDLL\n",
      "6  108.0   123.0       0.6407                0.0  SKASSRSAIEDLLFD\n",
      "7  244.0   259.0       0.7873                1.0  AVVNANAEALNNLLQ\n",
      "8  246.0   261.0       0.9315                3.0  VNANAEALNNLLQQL\n",
      "9  248.0   263.0       0.4529                0.0  ANAEALNNLLQQLSN\n"
     ]
    }
   ],
   "source": [
    "seq='IQIPSEFTIGNMEEFIQTSSPKVTIDCAAFVCGDYAACKSQLVEYGSFCDNINAILTEVNELLDTTQLQVANSLMNGVTLSTKLKDGVNFNVDDINFSSVLGCLGSECSKASSRSAIEDLLFDKVKLSDVGFVAAYNNCTGGAEIRDLICVQSYKGIKVLPPLLSENQISGYTLAATSASLFPPWTAAAGVPFYLNVQYRINGLGVTMDVLSQNQKLIANAFNNALDAIQEGFDATNSALVKIQAVVNANAEALNNLLQQLSNRFGAISSSLQEILSRLDALEAEAQIDRLINGRLTALNAYVSQQLSDSTLVKFSAAQAMEKVNECVKSQSSRINFCGNGNHIISLVQNAPYGLYFIHFSYVPTKYVTAKVSPGLCIAGDRGIAPKSGYFVNVNNTWMYTGSGYYYPEPITENNVVVMSTCAVNYTKAPYVMLNTSTPNLPDFREELDQWFKNQTSVAPDLSLDYINVTFLDLQVEMNRLQEAIKVLNQSYINLKDIGTYEYYVKWPWYVWLLIGLAGVAMLVLLFFICCCTGCGTSCFKKCGGCC'\n",
    "df = ml.predict_window(best_svm_model,seq=seq,x=None, window_size=15,gap=2,features=[], names=None, y=None, filename=None)\n",
    "print(df.head(10))"
   ]
  },
  {
   "cell_type": "markdown",
   "metadata": {},
   "source": [
    "#### END"
   ]
  }
 ],
 "metadata": {
  "kernelspec": {
   "display_name": "Python 3",
   "language": "python",
   "name": "python3"
  },
  "language_info": {
   "codemirror_mode": {
    "name": "ipython",
    "version": 3
   },
   "file_extension": ".py",
   "mimetype": "text/x-python",
   "name": "python",
   "nbconvert_exporter": "python",
   "pygments_lexer": "ipython3",
   "version": "3.7.6"
  },
  "pycharm": {
   "stem_cell": {
    "cell_type": "raw",
    "metadata": {
     "collapsed": false
    },
    "source": []
   }
  }
 },
 "nbformat": 4,
 "nbformat_minor": 4
}
