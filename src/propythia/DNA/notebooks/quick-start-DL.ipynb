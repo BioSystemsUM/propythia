{
 "cells": [
  {
   "cell_type": "markdown",
   "metadata": {},
   "source": [
    "# ProPythia DNA Deep Learning module quick start"
   ]
  },
  {
   "cell_type": "markdown",
   "metadata": {},
   "source": [
    "This is a notebook that explains how to perform every step of the developed Deep Learning modules. They include all the necessary steps to complete an entire Deep Learning pipeline. The steps are:\n",
    "\n",
    "- Data reading and validation\n",
    "- Encoding\n",
    "- Model building and training\n",
    "- Hyperparameter tuning\n",
    "- Model validation"
   ]
  },
  {
   "cell_type": "code",
   "execution_count": 3,
   "metadata": {},
   "outputs": [
    {
     "name": "stdout",
     "output_type": "stream",
     "text": [
      "The autoreload extension is already loaded. To reload it, use:\n",
      "  %reload_ext autoreload\n"
     ]
    }
   ],
   "source": [
    "%load_ext autoreload\n",
    "%autoreload 2\n",
    "\n",
    "import sys\n",
    "sys.path.append(\"../\")"
   ]
  },
  {
   "cell_type": "markdown",
   "metadata": {},
   "source": [
    "## 1. Data reading and validation"
   ]
  },
  {
   "cell_type": "markdown",
   "metadata": {},
   "source": [
    "(The machine learning pipeline uses the same module to read and validate the sequences.)"
   ]
  },
  {
   "cell_type": "markdown",
   "metadata": {},
   "source": [
    "This module comprehends functions to read and to validate DNA sequences. First is necessary to create the object ReadDNA."
   ]
  },
  {
   "cell_type": "code",
   "execution_count": 4,
   "metadata": {},
   "outputs": [],
   "source": [
    "from read_sequence import ReadDNA\n",
    "reader = ReadDNA()"
   ]
  },
  {
   "cell_type": "markdown",
   "metadata": {},
   "source": [
    "It is possible to create sequence objects using a single DNA sequence, a *CSV* and a *FASTA* file. The single sequence is going to be validated (check if all letters belong to the DNA alphabet) and the output will be the sequence in upper case."
   ]
  },
  {
   "cell_type": "code",
   "execution_count": 5,
   "metadata": {},
   "outputs": [
    {
     "name": "stdout",
     "output_type": "stream",
     "text": [
      "ACGTACGAGCATGCAT\n"
     ]
    }
   ],
   "source": [
    "data = reader.read_sequence(\"ACGTACGAGCATGCAT\")\n",
    "print(data)"
   ]
  },
  {
   "cell_type": "markdown",
   "metadata": {},
   "source": [
    "With *CSV* there must be at least a column named 'sequence' in the file. The labels may also be retrieved and validated if the user wants them, but he must specify the `with_label` parameter as **True** and the column with the labels must be named 'label'."
   ]
  },
  {
   "cell_type": "code",
   "execution_count": 6,
   "metadata": {},
   "outputs": [
    {
     "name": "stdout",
     "output_type": "stream",
     "text": [
      "                                            sequence\n",
      "0  CCGAGGGCTATGGTTTGGAAGTTAGAACCCTGGGGCTTCTCGCGGA...\n",
      "1  GAGTTTATATGGCGCGAGCCTAGTGGTTTTTGTACTTGTTTGTCGC...\n",
      "2  GATCAGTAGGGAAACAAACAGAGGGCCCAGCCACATCTAGCAGGTA...\n",
      "3  GTCCACGACCGAACTCCCACCTTGACCGCAGAGGTACCACCAGAGC...\n",
      "4  GGCGACCGAACTCCAACTAGAACCTGCATAACTGGCCTGGGAGATA...\n",
      "(2000, 1)\n",
      "----------------------------------------------------------------------------------------------------\n",
      "                                            sequence  label\n",
      "0  CCGAGGGCTATGGTTTGGAAGTTAGAACCCTGGGGCTTCTCGCGGA...      0\n",
      "1  GAGTTTATATGGCGCGAGCCTAGTGGTTTTTGTACTTGTTTGTCGC...      0\n",
      "2  GATCAGTAGGGAAACAAACAGAGGGCCCAGCCACATCTAGCAGGTA...      0\n",
      "3  GTCCACGACCGAACTCCCACCTTGACCGCAGAGGTACCACCAGAGC...      1\n",
      "4  GGCGACCGAACTCCAACTAGAACCTGCATAACTGGCCTGGGAGATA...      1\n",
      "(2000, 2)\n"
     ]
    }
   ],
   "source": [
    "filename = \"../datasets/primer/dataset.csv\"\n",
    "data = reader.read_csv(filename, with_labels=False)\n",
    "print(data.head())\n",
    "print(data.shape)\n",
    "\n",
    "print(\"-\" * 100)\n",
    "\n",
    "data = reader.read_csv(filename, with_labels=True)\n",
    "print(data.head())\n",
    "print(data.shape)"
   ]
  },
  {
   "cell_type": "markdown",
   "metadata": {},
   "source": [
    "The *FASTA* format is similar to the *CSV* format. It always reads the sequence, and the labels only if the user wants them. The *FASTA* format must be one of the following examples:\n",
    "\n",
    "```\n",
    ">sequence_id1\n",
    "ACTGACTGACTGACTGACTGACTGACTGACTGACTGACTG...\n",
    ">sequence_id2\n",
    "ACTGACTGACTGACTGACTGACTGACTGACTGACTGACTG...\n",
    "``` \n",
    "\n",
    "```\n",
    ">sequence_id1,label1\n",
    "ACTGACTGACTGACTGACTGACTGACTGACTGACTGACTG...\n",
    ">sequence_id2,label2\n",
    "ACTGACTGACTGACTGACTGACTGACTGACTGACTGACTG...\n",
    "``` "
   ]
  },
  {
   "cell_type": "code",
   "execution_count": 7,
   "metadata": {},
   "outputs": [
    {
     "name": "stdout",
     "output_type": "stream",
     "text": [
      "                                            sequence\n",
      "0  CCGAGGGCTATGGTTTGGAAGTTAGAACCCTGGGGCTTCTCGCGGA...\n",
      "1  GAGTTTATATGGCGCGAGCCTAGTGGTTTTTGTACTTGTTTGTCGC...\n",
      "2  GATCAGTAGGGAAACAAACAGAGGGCCCAGCCACATCTAGCAGGTA...\n",
      "3  GTCCACGACCGAACTCCCACCTTGACCGCAGAGGTACCACCAGAGC...\n",
      "4  GGCGACCGAACTCCAACTAGAACCTGCATAACTGGCCTGGGAGATA...\n",
      "(2000, 1)\n",
      "----------------------------------------------------------------------------------------------------\n",
      "                                            sequence  label\n",
      "0  CCGAGGGCTATGGTTTGGAAGTTAGAACCCTGGGGCTTCTCGCGGA...      0\n",
      "1  GAGTTTATATGGCGCGAGCCTAGTGGTTTTTGTACTTGTTTGTCGC...      0\n",
      "2  GATCAGTAGGGAAACAAACAGAGGGCCCAGCCACATCTAGCAGGTA...      0\n",
      "3  GTCCACGACCGAACTCCCACCTTGACCGCAGAGGTACCACCAGAGC...      1\n",
      "4  GGCGACCGAACTCCAACTAGAACCTGCATAACTGGCCTGGGAGATA...      1\n",
      "(2000, 2)\n"
     ]
    }
   ],
   "source": [
    "filename = \"../datasets/primer/dataset.fasta\"\n",
    "data = reader.read_fasta(filename, with_labels=False)\n",
    "print(data.head())\n",
    "print(data.shape)\n",
    "\n",
    "print(\"-\" * 100)\n",
    "\n",
    "data = reader.read_fasta(filename, with_labels=True)\n",
    "print(data.head())\n",
    "print(data.shape)"
   ]
  }
 ],
 "metadata": {
  "kernelspec": {
   "display_name": "Python 3.8.13 ('dna-conda')",
   "language": "python",
   "name": "python3"
  },
  "language_info": {
   "codemirror_mode": {
    "name": "ipython",
    "version": 3
   },
   "file_extension": ".py",
   "mimetype": "text/x-python",
   "name": "python",
   "nbconvert_exporter": "python",
   "pygments_lexer": "ipython3",
   "version": "3.8.13"
  },
  "orig_nbformat": 4,
  "vscode": {
   "interpreter": {
    "hash": "c0bcc559ef33487cab7f2a2558a52d71f1a0ee6852f4c5d070acd011fceb9d44"
   }
  }
 },
 "nbformat": 4,
 "nbformat_minor": 2
}
