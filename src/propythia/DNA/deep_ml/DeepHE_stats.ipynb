{
 "cells": [
  {
   "cell_type": "code",
   "execution_count": 99,
   "metadata": {},
   "outputs": [],
   "source": [
    "import pandas as pd\n",
    "import matplotlib.pyplot as plt"
   ]
  },
  {
   "cell_type": "markdown",
   "metadata": {},
   "source": [
    "Statistics about the data, including:\n",
    "* Total sequences\n",
    "* Top 5 longest and shortest sequences\n",
    "* Average length of sequences\n",
    "* Top 5 most and least common sequence length"
   ]
  },
  {
   "cell_type": "code",
   "execution_count": 100,
   "metadata": {},
   "outputs": [],
   "source": [
    "def stats(dataset):\n",
    "    dataset[\"length\"].hist(bins=100)\n",
    "    plt.show()\n",
    "\n",
    "    print(\"-\" * 40)\n",
    "\n",
    "    print(\"Total sequences:\", dataset.shape[0])\n",
    "\n",
    "    print(\"-\" * 40)\n",
    "\n",
    "    print(\"Top 5 longest sequences:\")\n",
    "    print(\"id     length\")\n",
    "    print(dataset[\"length\"].nlargest(5).to_string())\n",
    "\n",
    "    print(\"-\" * 40)\n",
    "\n",
    "    print(\"Top 5 shortest sequences:\")\n",
    "    print(\"id      length\")\n",
    "    print(dataset[\"length\"].nsmallest(5).to_string())\n",
    "\n",
    "    print(\"-\" * 40)\n",
    "\n",
    "    average_length = dataset[\"length\"].mean()\n",
    "    print(\"Average length:\", average_length)\n",
    "\n",
    "    print(\"-\" * 40)\n",
    "\n",
    "    print(\"Top 5 most common lengths:\")\n",
    "    print(\"length  count\")\n",
    "    print(dataset[\"length\"].value_counts().nlargest(5).to_string())\n",
    "    \n",
    "    print(\"-\" * 40)\n",
    "\n",
    "    print(\"Top 5 least common lengths:\")\n",
    "    print(\"length  count\")\n",
    "    print(dataset[\"length\"].value_counts().nsmallest(5).to_string())"
   ]
  },
  {
   "cell_type": "code",
   "execution_count": 101,
   "metadata": {},
   "outputs": [
    {
     "name": "stdout",
     "output_type": "stream",
     "text": [
      "(2010, 2)\n",
      "(23443, 2)\n"
     ]
    },
    {
     "data": {
      "image/png": "[encoded data removed]",
      "text/plain": [
       "<Figure size 432x288 with 1 Axes>"
      ]
     },
     "metadata": {
      "needs_background": "light"
     },
     "output_type": "display_data"
    },
    {
     "name": "stdout",
     "output_type": "stream",
     "text": [
      "----------------------------------------\n",
      "Total sequences: 2010\n",
      "----------------------------------------\n",
      "Top 5 longest sequences:\n",
      "id     length\n",
      "676    16791\n",
      "248    15615\n",
      "204    14574\n",
      "491    13941\n",
      "31     13167\n",
      "----------------------------------------\n",
      "Top 5 shortest sequences:\n",
      "id      length\n",
      "1112    192\n",
      "1427    195\n",
      "1500    204\n",
      "1611    204\n",
      "1346    210\n",
      "----------------------------------------\n",
      "Average length: 1903.5980099502488\n",
      "----------------------------------------\n",
      "Top 5 most common lengths:\n",
      "length  count\n",
      "1083    9\n",
      "1041    8\n",
      "1314    7\n",
      "618     7\n",
      "1371    7\n",
      "----------------------------------------\n",
      "Top 5 least common lengths:\n",
      "length  count\n",
      "2496    1\n",
      "2763    1\n",
      "3162    1\n",
      "2982    1\n",
      "3324    1\n",
      "****************************************************************************************************\n"
     ]
    },
    {
     "data": {
      "image/png": "[encoded data removed]",
      "text/plain": [
       "<Figure size 432x288 with 1 Axes>"
      ]
     },
     "metadata": {
      "needs_background": "light"
     },
     "output_type": "display_data"
    },
    {
     "name": "stdout",
     "output_type": "stream",
     "text": [
      "----------------------------------------\n",
      "Total sequences: 23443\n",
      "----------------------------------------\n",
      "Top 5 longest sequences:\n",
      "id     length\n",
      "18388    43524\n",
      "9456     21246\n",
      "18860    20724\n",
      "12474    20658\n",
      "18460    18921\n",
      "----------------------------------------\n",
      "Top 5 shortest sequences:\n",
      "id      length\n",
      "6306      3\n",
      "13646     5\n",
      "12591    10\n",
      "20617    10\n",
      "22266    10\n",
      "----------------------------------------\n",
      "Average length: 1355.8615364927698\n",
      "----------------------------------------\n",
      "Top 5 most common lengths:\n",
      "length  count\n",
      "939    98\n",
      "945    76\n",
      "930    72\n",
      "444    63\n",
      "948    62\n",
      "----------------------------------------\n",
      "Top 5 least common lengths:\n",
      "length  count\n",
      "907      1\n",
      "6948     1\n",
      "685      1\n",
      "6300     1\n",
      "11796    1\n"
     ]
    }
   ],
   "source": [
    "positive = pd.read_csv(\"datasets/essential_genes/positive.csv\")\n",
    "print(positive.shape)\n",
    "\n",
    "negative = pd.read_csv(\"datasets/essential_genes/negative_unique.csv\")\n",
    "print(negative.shape)\n",
    "\n",
    "# add a column that contains length of the sequence\n",
    "positive[\"length\"] = positive[\"sequence\"].apply(len)\n",
    "negative[\"length\"] = negative[\"sequence\"].apply(len)\n",
    "\n",
    "stats(positive)\n",
    "print(\"*\" * 100)\n",
    "stats(negative)"
   ]
  },
  {
   "cell_type": "code",
   "execution_count": 102,
   "metadata": {},
   "outputs": [
    {
     "name": "stdout",
     "output_type": "stream",
     "text": [
      "Total positive sequences length smaller than 50: 0\n",
      "Total negative sequences length smaller than 50: 67\n"
     ]
    },
    {
     "data": {
      "image/png": "[encoded data removed]",
      "text/plain": [
       "<Figure size 432x288 with 1 Axes>"
      ]
     },
     "metadata": {
      "needs_background": "light"
     },
     "output_type": "display_data"
    },
    {
     "name": "stdout",
     "output_type": "stream",
     "text": [
      "----------------------------------------\n",
      "Total sequences: 2010\n",
      "----------------------------------------\n",
      "Top 5 longest sequences:\n",
      "id     length\n",
      "676    16791\n",
      "248    15615\n",
      "204    14574\n",
      "491    13941\n",
      "31     13167\n",
      "----------------------------------------\n",
      "Top 5 shortest sequences:\n",
      "id      length\n",
      "1112    192\n",
      "1427    195\n",
      "1500    204\n",
      "1611    204\n",
      "1346    210\n",
      "----------------------------------------\n",
      "Average length: 1903.5980099502488\n",
      "----------------------------------------\n",
      "Top 5 most common lengths:\n",
      "length  count\n",
      "1083    9\n",
      "1041    8\n",
      "1314    7\n",
      "618     7\n",
      "1371    7\n",
      "----------------------------------------\n",
      "Top 5 least common lengths:\n",
      "length  count\n",
      "2496    1\n",
      "2763    1\n",
      "3162    1\n",
      "2982    1\n",
      "3324    1\n",
      "****************************************************************************************************\n"
     ]
    },
    {
     "data": {
      "image/png": "[encoded data removed]",
      "text/plain": [
       "<Figure size 432x288 with 1 Axes>"
      ]
     },
     "metadata": {
      "needs_background": "light"
     },
     "output_type": "display_data"
    },
    {
     "name": "stdout",
     "output_type": "stream",
     "text": [
      "----------------------------------------\n",
      "Total sequences: 23439\n",
      "----------------------------------------\n",
      "Top 5 longest sequences:\n",
      "id     length\n",
      "18460    18921\n",
      "2683     17673\n",
      "11861    17388\n",
      "20417    17289\n",
      "22192    16965\n",
      "----------------------------------------\n",
      "Top 5 shortest sequences:\n",
      "id      length\n",
      "6306      3\n",
      "13646     5\n",
      "12591    10\n",
      "20617    10\n",
      "22266    10\n",
      "----------------------------------------\n",
      "Average length: 1351.5640599001663\n",
      "----------------------------------------\n",
      "Top 5 most common lengths:\n",
      "length  count\n",
      "939    98\n",
      "945    76\n",
      "930    72\n",
      "444    63\n",
      "948    62\n",
      "----------------------------------------\n",
      "Top 5 least common lengths:\n",
      "length  count\n",
      "2755    1\n",
      "1237    1\n",
      "3420    1\n",
      "2221    1\n",
      "50      1\n"
     ]
    }
   ],
   "source": [
    "# count how many sequences length smaller than 50\n",
    "total_positive = 0\n",
    "for length in positive[\"length\"]:\n",
    "    if length < 50:\n",
    "        total_positive += 1\n",
    "print(\"Total positive sequences length smaller than 50:\", total_positive)\n",
    "\n",
    "total_negative = 0\n",
    "for length in negative[\"length\"]:\n",
    "    if length < 50:\n",
    "        total_negative += 1\n",
    "print(\"Total negative sequences length smaller than 50:\", total_negative)\n",
    "\n",
    "# remove sequences with length bigger than 20000\n",
    "positive = positive[positive[\"length\"] < 20000]\n",
    "negative = negative[negative[\"length\"] < 20000]\n",
    "\n",
    "stats(positive)\n",
    "print(\"*\" * 100)\n",
    "stats(negative)"
   ]
  },
  {
   "cell_type": "code",
   "execution_count": 103,
   "metadata": {},
   "outputs": [
    {
     "data": {
      "image/png": "[encoded data removed]",
      "text/plain": [
       "<Figure size 432x288 with 1 Axes>"
      ]
     },
     "metadata": {
      "needs_background": "light"
     },
     "output_type": "display_data"
    },
    {
     "name": "stdout",
     "output_type": "stream",
     "text": [
      "----------------------------------------\n",
      "Total sequences: 1897\n",
      "----------------------------------------\n",
      "Top 5 longest sequences:\n",
      "id     length\n",
      "740    4995\n",
      "65     4911\n",
      "260    4899\n",
      "624    4821\n",
      "984    4782\n",
      "----------------------------------------\n",
      "Top 5 shortest sequences:\n",
      "id      length\n",
      "1112    192\n",
      "1427    195\n",
      "1500    204\n",
      "1611    204\n",
      "1346    210\n",
      "----------------------------------------\n",
      "Average length: 1574.1201897733263\n",
      "----------------------------------------\n",
      "Top 5 most common lengths:\n",
      "length  count\n",
      "1083    9\n",
      "1041    8\n",
      "882     7\n",
      "555     7\n",
      "1314    7\n",
      "----------------------------------------\n",
      "Top 5 least common lengths:\n",
      "length  count\n",
      "2097    1\n",
      "3282    1\n",
      "1407    1\n",
      "927     1\n",
      "2313    1\n",
      "****************************************************************************************************\n"
     ]
    },
    {
     "data": {
      "image/png": "[encoded data removed]",
      "text/plain": [
       "<Figure size 432x288 with 1 Axes>"
      ]
     },
     "metadata": {
      "needs_background": "light"
     },
     "output_type": "display_data"
    },
    {
     "name": "stdout",
     "output_type": "stream",
     "text": [
      "----------------------------------------\n",
      "Total sequences: 22909\n",
      "----------------------------------------\n",
      "Top 5 longest sequences:\n",
      "id     length\n",
      "6011    4998\n",
      "289     4992\n",
      "1889    4992\n",
      "2485    4992\n",
      "2965    4992\n",
      "----------------------------------------\n",
      "Top 5 shortest sequences:\n",
      "id      length\n",
      "6306      3\n",
      "13646     5\n",
      "12591    10\n",
      "20617    10\n",
      "22266    10\n",
      "----------------------------------------\n",
      "Average length: 1211.6232485049543\n",
      "----------------------------------------\n",
      "Top 5 most common lengths:\n",
      "length  count\n",
      "939    98\n",
      "945    76\n",
      "930    72\n",
      "444    63\n",
      "948    62\n",
      "----------------------------------------\n",
      "Top 5 least common lengths:\n",
      "length  count\n",
      "814     1\n",
      "1003    1\n",
      "4899    1\n",
      "887     1\n",
      "4722    1\n"
     ]
    }
   ],
   "source": [
    "positive = positive[positive[\"length\"] < 5000]\n",
    "negative = negative[negative[\"length\"] < 5000]\n",
    "\n",
    "stats(positive)\n",
    "print(\"*\" * 100)\n",
    "stats(negative)"
   ]
  },
  {
   "cell_type": "code",
   "execution_count": 104,
   "metadata": {},
   "outputs": [
    {
     "name": "stdout",
     "output_type": "stream",
     "text": [
      "(24806, 3)\n"
     ]
    }
   ],
   "source": [
    "positive[\"label\"] = 1\n",
    "negative[\"label\"] = 0\n",
    "\n",
    "dataset = pd.concat([positive, negative])\n",
    "\n",
    "# remove length column\n",
    "dataset = dataset.drop(columns=[\"length\"])\n",
    "\n",
    "cutting_length = 2000\n",
    "\n",
    "# cut sequences to the cutting length\n",
    "dataset[\"sequence\"] = dataset[\"sequence\"].apply(lambda x: x[:cutting_length])\n",
    "\n",
    "# fill with \"N\" the sequences that are shorter than cutting length\n",
    "dataset[\"sequence\"] = dataset[\"sequence\"].apply(lambda x: x.ljust(cutting_length, \"N\"))\n",
    "\n",
    "print(dataset.shape)\n",
    "\n",
    "# write dataset to csv\n",
    "dataset.to_csv(\"datasets/essential_genes/dataset_cut.csv\", index=False)"
   ]
  },
  {
   "cell_type": "markdown",
   "metadata": {},
   "source": [
    "Save fps_x and fps_y as to pickle file."
   ]
  },
  {
   "cell_type": "code",
   "execution_count": 105,
   "metadata": {},
   "outputs": [],
   "source": [
    "import pickle\n",
    "fps_y = dataset['label'].values\n",
    "fps_x = dataset['sequence'].values\n",
    "\n",
    "with open('datasets/essential_genes/fps_x.pkl', 'wb') as f:\n",
    "    pickle.dump(fps_x, f)\n",
    "    \n",
    "with open(\"datasets/essential_genes/fps_y.pkl\", \"wb\") as f:\n",
    "    pickle.dump(fps_y, f)"
   ]
  }
 ],
 "metadata": {
  "kernelspec": {
   "display_name": "Python 3.8.13 ('dna-conda': conda)",
   "language": "python",
   "name": "python3"
  },
  "language_info": {
   "name": "python",
   "version": "3.8.13"
  },
  "orig_nbformat": 4,
  "vscode": {
   "interpreter": {
    "hash": "ba449ea13c29f64a91968d8f927cecceedd6e605eda30388903386e6cd94168d"
   }
  }
 },
 "nbformat": 4,
 "nbformat_minor": 2
}
