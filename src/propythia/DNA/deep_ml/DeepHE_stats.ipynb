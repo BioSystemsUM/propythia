{
 "cells": [
  {
   "cell_type": "code",
   "execution_count": 10,
   "metadata": {},
   "outputs": [],
   "source": [
    "import pandas as pd\n",
    "import matplotlib.pyplot as plt"
   ]
  },
  {
   "cell_type": "markdown",
   "metadata": {},
   "source": [
    "Statistics about the data, including:\n",
    "* Total sequences\n",
    "* Top 5 longest and shortest sequences\n",
    "* Average length of sequences\n",
    "* Top 5 most and least common sequence length"
   ]
  },
  {
   "cell_type": "code",
   "execution_count": 11,
   "metadata": {},
   "outputs": [],
   "source": [
    "def stats(dataset):\n",
    "    dataset[\"length\"].hist(bins=100)\n",
    "    plt.show()\n",
    "\n",
    "    print(\"-\" * 40)\n",
    "\n",
    "    print(\"Total sequences:\", dataset.shape[0])\n",
    "\n",
    "    print(\"-\" * 40)\n",
    "\n",
    "    print(\"Top 5 longest sequences:\")\n",
    "    print(\"id     length\")\n",
    "    print(dataset[\"length\"].nlargest(5).to_string())\n",
    "\n",
    "    print(\"-\" * 40)\n",
    "\n",
    "    print(\"Top 5 shortest sequences:\")\n",
    "    print(\"id      length\")\n",
    "    print(dataset[\"length\"].nsmallest(5).to_string())\n",
    "\n",
    "    print(\"-\" * 40)\n",
    "\n",
    "    average_length = dataset[\"length\"].mean()\n",
    "    print(\"Average length:\", average_length)\n",
    "\n",
    "    print(\"-\" * 40)\n",
    "\n",
    "    print(\"Top 5 most common lengths:\")\n",
    "    print(\"length  count\")\n",
    "    print(dataset[\"length\"].value_counts().nlargest(5).to_string())\n",
    "    \n",
    "    print(\"-\" * 40)\n",
    "\n",
    "    print(\"Top 5 least common lengths:\")\n",
    "    print(\"length  count\")\n",
    "    print(dataset[\"length\"].value_counts().nsmallest(5).to_string())"
   ]
  },
  {
   "cell_type": "code",
   "execution_count": 12,
   "metadata": {},
   "outputs": [
    {
     "name": "stdout",
     "output_type": "stream",
     "text": [
      "(2010, 2)\n",
      "(23443, 2)\n"
     ]
    }
   ],
   "source": [
    "positive = pd.read_csv(\"datasets/essential_genes/positive.csv\")\n",
    "print(positive.shape)\n",
    "\n",
    "negative = pd.read_csv(\"datasets/essential_genes/negative_unique.csv\")\n",
    "print(negative.shape)"
   ]
  },
  {
   "cell_type": "code",
   "execution_count": 13,
   "metadata": {},
   "outputs": [
    {
     "name": "stdout",
     "output_type": "stream",
     "text": [
      "23443 14574 unique negative ids\n",
      "22824 keys 22824 seqs 22059 unique\n"
     ]
    }
   ],
   "source": [
    "negative_ids = negative[\"id\"].values\n",
    "unique_negative_ids = set(negative_ids)\n",
    "print(len(negative_ids), len(unique_negative_ids), \"unique negative ids\")\n",
    "\n",
    "from Bio.SeqIO.FastaIO import SimpleFastaParser\n",
    "def read_fasta(filename):\n",
    "    d = {}\n",
    "    with open(filename) as handle:\n",
    "        for key, sequence in SimpleFastaParser(handle):\n",
    "            sequence = sequence.upper()\n",
    "            if(sequence != \"SEQUENCEUNAVAILABLE\"):\n",
    "                key = key.split(\"|\")[0]\n",
    "                d[key] = sequence\n",
    "    print(len(d), \"keys\", len(d.values()), \"seqs\", len(set(d.values())), \"unique\")\n",
    "    return d\n",
    "\n",
    "d = read_fasta(\"datasets/essential_genes/mart_export_unspliced.fa\")\n",
    "\n",
    "# replace negatives sequences with sequence from the dict\n",
    "negative[\"sequence\"] = negative[\"id\"].apply(lambda x: d[x])\n",
    "\n",
    "# remove rows with repeating sequences\n",
    "negative = negative.drop_duplicates(subset=[\"sequence\"])"
   ]
  },
  {
   "cell_type": "code",
   "execution_count": 14,
   "metadata": {},
   "outputs": [
    {
     "data": {
      "image/png": "[encoded data removed]",
      "text/plain": [
       "<Figure size 432x288 with 1 Axes>"
      ]
     },
     "metadata": {
      "needs_background": "light"
     },
     "output_type": "display_data"
    },
    {
     "name": "stdout",
     "output_type": "stream",
     "text": [
      "----------------------------------------\n",
      "Total sequences: 2010\n",
      "----------------------------------------\n",
      "Top 5 longest sequences:\n",
      "id     length\n",
      "676    16791\n",
      "248    15615\n",
      "204    14574\n",
      "491    13941\n",
      "31     13167\n",
      "----------------------------------------\n",
      "Top 5 shortest sequences:\n",
      "id      length\n",
      "1112    192\n",
      "1427    195\n",
      "1500    204\n",
      "1611    204\n",
      "1346    210\n",
      "----------------------------------------\n",
      "Average length: 1903.5980099502488\n",
      "----------------------------------------\n",
      "Top 5 most common lengths:\n",
      "length  count\n",
      "1083    9\n",
      "1041    8\n",
      "1314    7\n",
      "618     7\n",
      "1371    7\n",
      "----------------------------------------\n",
      "Top 5 least common lengths:\n",
      "length  count\n",
      "2496    1\n",
      "2763    1\n",
      "3162    1\n",
      "2982    1\n",
      "3324    1\n",
      "****************************************************************************************************\n"
     ]
    },
    {
     "data": {
      "image/png": "[encoded data removed]",
      "text/plain": [
       "<Figure size 432x288 with 1 Axes>"
      ]
     },
     "metadata": {
      "needs_background": "light"
     },
     "output_type": "display_data"
    },
    {
     "name": "stdout",
     "output_type": "stream",
     "text": [
      "----------------------------------------\n",
      "Total sequences: 14453\n",
      "----------------------------------------\n",
      "Top 5 longest sequences:\n",
      "id     length\n",
      "8599     2473539\n",
      "14533    2304997\n",
      "13345    2298757\n",
      "22185    2298478\n",
      "6069     2172911\n",
      "----------------------------------------\n",
      "Top 5 shortest sequences:\n",
      "id      length\n",
      "23423    39\n",
      "23367    51\n",
      "23422    54\n",
      "23417    57\n",
      "23373    63\n",
      "----------------------------------------\n",
      "Average length: 66961.10503009756\n",
      "----------------------------------------\n",
      "Top 5 most common lengths:\n",
      "length  count\n",
      "939     21\n",
      "930     19\n",
      "1593    18\n",
      "945     14\n",
      "942     11\n",
      "----------------------------------------\n",
      "Top 5 least common lengths:\n",
      "length  count\n",
      "59365     1\n",
      "8538      1\n",
      "135733    1\n",
      "16575     1\n",
      "87575     1\n"
     ]
    }
   ],
   "source": [
    "# add a column that contains length of the sequence\n",
    "positive[\"length\"] = positive[\"sequence\"].apply(len)\n",
    "negative[\"length\"] = negative[\"sequence\"].apply(len)\n",
    "\n",
    "stats(positive)\n",
    "print(\"*\" * 100)\n",
    "stats(negative)"
   ]
  },
  {
   "cell_type": "code",
   "execution_count": 15,
   "metadata": {},
   "outputs": [
    {
     "data": {
      "image/png": "[encoded data removed]",
      "text/plain": [
       "<Figure size 432x288 with 1 Axes>"
      ]
     },
     "metadata": {
      "needs_background": "light"
     },
     "output_type": "display_data"
    },
    {
     "name": "stdout",
     "output_type": "stream",
     "text": [
      "----------------------------------------\n",
      "Total sequences: 2010\n",
      "----------------------------------------\n",
      "Top 5 longest sequences:\n",
      "id     length\n",
      "676    16791\n",
      "248    15615\n",
      "204    14574\n",
      "491    13941\n",
      "31     13167\n",
      "----------------------------------------\n",
      "Top 5 shortest sequences:\n",
      "id      length\n",
      "1112    192\n",
      "1427    195\n",
      "1500    204\n",
      "1611    204\n",
      "1346    210\n",
      "----------------------------------------\n",
      "Average length: 1903.5980099502488\n",
      "----------------------------------------\n",
      "Top 5 most common lengths:\n",
      "length  count\n",
      "1083    9\n",
      "1041    8\n",
      "1314    7\n",
      "618     7\n",
      "1371    7\n",
      "----------------------------------------\n",
      "Top 5 least common lengths:\n",
      "length  count\n",
      "2496    1\n",
      "2763    1\n",
      "3162    1\n",
      "2982    1\n",
      "3324    1\n",
      "****************************************************************************************************\n"
     ]
    },
    {
     "data": {
      "image/png": "[encoded data removed]",
      "text/plain": [
       "<Figure size 432x288 with 1 Axes>"
      ]
     },
     "metadata": {
      "needs_background": "light"
     },
     "output_type": "display_data"
    },
    {
     "name": "stdout",
     "output_type": "stream",
     "text": [
      "----------------------------------------\n",
      "Total sequences: 14452\n",
      "----------------------------------------\n",
      "Top 5 longest sequences:\n",
      "id     length\n",
      "8599     2473539\n",
      "14533    2304997\n",
      "13345    2298757\n",
      "22185    2298478\n",
      "6069     2172911\n",
      "----------------------------------------\n",
      "Top 5 shortest sequences:\n",
      "id      length\n",
      "23367    51\n",
      "23422    54\n",
      "23417    57\n",
      "23373    63\n",
      "23403    66\n",
      "----------------------------------------\n",
      "Average length: 66965.73567672295\n",
      "----------------------------------------\n",
      "Top 5 most common lengths:\n",
      "length  count\n",
      "939     21\n",
      "930     19\n",
      "1593    18\n",
      "945     14\n",
      "942     11\n",
      "----------------------------------------\n",
      "Top 5 least common lengths:\n",
      "length  count\n",
      "6055      1\n",
      "81317     1\n",
      "71731     1\n",
      "277529    1\n",
      "169396    1\n"
     ]
    }
   ],
   "source": [
    "# remove seequnces with length less than 50\n",
    "positive = positive[positive[\"length\"] >= 50]\n",
    "negative = negative[negative[\"length\"] >= 50]\n",
    "\n",
    "# remove sequences with length bigger than 20000\n",
    "positive = positive[positive[\"length\"] < 20000]\n",
    "# negative = negative[negative[\"length\"] < 20000]\n",
    "\n",
    "stats(positive)\n",
    "print(\"*\" * 100)\n",
    "stats(negative)"
   ]
  },
  {
   "cell_type": "code",
   "execution_count": 16,
   "metadata": {},
   "outputs": [
    {
     "data": {
      "image/png": "[encoded data removed]",
      "text/plain": [
       "<Figure size 432x288 with 1 Axes>"
      ]
     },
     "metadata": {
      "needs_background": "light"
     },
     "output_type": "display_data"
    },
    {
     "name": "stdout",
     "output_type": "stream",
     "text": [
      "----------------------------------------\n",
      "Total sequences: 2010\n",
      "----------------------------------------\n",
      "Top 5 longest sequences:\n",
      "id     length\n",
      "676    16791\n",
      "248    15615\n",
      "204    14574\n",
      "491    13941\n",
      "31     13167\n",
      "----------------------------------------\n",
      "Top 5 shortest sequences:\n",
      "id      length\n",
      "1112    192\n",
      "1427    195\n",
      "1500    204\n",
      "1611    204\n",
      "1346    210\n",
      "----------------------------------------\n",
      "Average length: 1903.5980099502488\n",
      "----------------------------------------\n",
      "Top 5 most common lengths:\n",
      "length  count\n",
      "1083    9\n",
      "1041    8\n",
      "1314    7\n",
      "618     7\n",
      "1371    7\n",
      "----------------------------------------\n",
      "Top 5 least common lengths:\n",
      "length  count\n",
      "2496    1\n",
      "2763    1\n",
      "3162    1\n",
      "2982    1\n",
      "3324    1\n",
      "****************************************************************************************************\n"
     ]
    },
    {
     "data": {
      "image/png": "[encoded data removed]",
      "text/plain": [
       "<Figure size 432x288 with 1 Axes>"
      ]
     },
     "metadata": {
      "needs_background": "light"
     },
     "output_type": "display_data"
    },
    {
     "name": "stdout",
     "output_type": "stream",
     "text": [
      "----------------------------------------\n",
      "Total sequences: 9816\n",
      "----------------------------------------\n",
      "Top 5 longest sequences:\n",
      "id     length\n",
      "3611     49971\n",
      "11382    49948\n",
      "758      49928\n",
      "3482     49904\n",
      "15948    49875\n",
      "----------------------------------------\n",
      "Top 5 shortest sequences:\n",
      "id      length\n",
      "23367    51\n",
      "23422    54\n",
      "23417    57\n",
      "23373    63\n",
      "23403    66\n",
      "----------------------------------------\n",
      "Average length: 16490.323757131213\n",
      "----------------------------------------\n",
      "Top 5 most common lengths:\n",
      "length  count\n",
      "939     21\n",
      "930     19\n",
      "1593    18\n",
      "945     14\n",
      "942     11\n",
      "----------------------------------------\n",
      "Top 5 least common lengths:\n",
      "length  count\n",
      "20249    1\n",
      "5577     1\n",
      "27483    1\n",
      "20672    1\n",
      "46858    1\n"
     ]
    }
   ],
   "source": [
    "# positive = positive[positive[\"length\"] < 5000]\n",
    "negative = negative[negative[\"length\"] < 50000]\n",
    "\n",
    "stats(positive)\n",
    "print(\"*\" * 100)\n",
    "stats(negative)"
   ]
  },
  {
   "cell_type": "code",
   "execution_count": 17,
   "metadata": {},
   "outputs": [
    {
     "name": "stdout",
     "output_type": "stream",
     "text": [
      "(11826, 3)\n"
     ]
    }
   ],
   "source": [
    "positive[\"label\"] = 1\n",
    "negative[\"label\"] = 0\n",
    "\n",
    "dataset = pd.concat([positive, negative])\n",
    "\n",
    "# remove length column\n",
    "dataset = dataset.drop(columns=[\"length\"])\n",
    "\n",
    "dataset.to_csv(\"datasets/essential_genes/dataset_filtered.csv\", index=False)\n",
    "\n",
    "# cutting_length = 2000\n",
    "cutting_length = 2000\n",
    "\n",
    "# cut sequences to the cutting length\n",
    "dataset[\"sequence\"] = dataset[\"sequence\"].apply(lambda x: x[:cutting_length])\n",
    "\n",
    "# fill with \"N\" the sequences that are shorter than cutting length\n",
    "dataset[\"sequence\"] = dataset[\"sequence\"].apply(lambda x: x.ljust(cutting_length, \"N\"))\n",
    "\n",
    "print(dataset.shape)\n",
    "\n",
    "# write dataset to csv\n",
    "dataset.to_csv(\"datasets/essential_genes/dataset_filtered_cut.csv\", index=False)"
   ]
  },
  {
   "cell_type": "markdown",
   "metadata": {},
   "source": [
    "Save fps_x and fps_y as to pickle file."
   ]
  },
  {
   "cell_type": "code",
   "execution_count": 18,
   "metadata": {},
   "outputs": [],
   "source": [
    "import pickle\n",
    "fps_y = dataset['label'].values\n",
    "fps_x = dataset['sequence'].values\n",
    "\n",
    "with open('datasets/essential_genes/fps_x.pkl', 'wb') as f:\n",
    "    pickle.dump(fps_x, f)\n",
    "    \n",
    "with open(\"datasets/essential_genes/fps_y.pkl\", \"wb\") as f:\n",
    "    pickle.dump(fps_y, f)"
   ]
  }
 ],
 "metadata": {
  "kernelspec": {
   "display_name": "Python 3.8.13 ('dna-conda': conda)",
   "language": "python",
   "name": "python3"
  },
  "language_info": {
   "codemirror_mode": {
    "name": "ipython",
    "version": 3
   },
   "file_extension": ".py",
   "mimetype": "text/x-python",
   "name": "python",
   "nbconvert_exporter": "python",
   "pygments_lexer": "ipython3",
   "version": "3.8.13"
  },
  "orig_nbformat": 4,
  "vscode": {
   "interpreter": {
    "hash": "ba449ea13c29f64a91968d8f927cecceedd6e605eda30388903386e6cd94168d"
   }
  }
 },
 "nbformat": 4,
 "nbformat_minor": 2
}
