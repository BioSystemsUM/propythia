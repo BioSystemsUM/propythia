{
 "cells": [
  {
   "cell_type": "markdown",
   "metadata": {},
   "source": [
    "# Accurately predicting human essential genes based on deep learning"
   ]
  },
  {
   "cell_type": "markdown",
   "metadata": {},
   "source": [
    "This section will present a comparative analysis to demonstrate the application and performance of PyTorch models for addressing sequence-based prediction problems.\n",
    "\n",
    "We'll try to replicate the [DeepHE: Accurately predicting human essential genes based on deep learning](https://journals.plos.org/ploscompbiol/article?id=10.1371/journal.pcbi.1008229) deep learning model and evaluate its performance. Other models will be compared to the DeepHE model.\n",
    "\n",
    "DeepHE's model is based on the multilayer perceptron structure. It includes one input layer, three hidden layers, and one output layer. All the hidden layers utilize the ReLU activation function. The output layer uses sigmoid activation function to perform discrete classification. The loss function in DeepHE is binary cross-entropy. A dropout layer is used after each hidden layer."
   ]
  },
  {
   "cell_type": "code",
   "execution_count": 15,
   "metadata": {},
   "outputs": [
    {
     "name": "stdout",
     "output_type": "stream",
     "text": [
      "The autoreload extension is already loaded. To reload it, use:\n",
      "  %reload_ext autoreload\n"
     ]
    }
   ],
   "source": [
    "%load_ext autoreload\n",
    "import pandas as pd\n",
    "import matplotlib.pyplot as plt\n",
    "from os.path import exists\n",
    "import pickle"
   ]
  },
  {
   "cell_type": "markdown",
   "metadata": {},
   "source": [
    "At this point, there is already 2 cleaned datasets which will be used in this notebook.\n",
    "- `essential_genes.csv`: 16 datasets grouped that contain essential genes of the human genome. Each sequence has an EMBL id associated, the original dataset it came from, among other information. [Link](http://origin.tubic.org/deg/public/index.php)\n",
    "- `essential_genes_negative.csv`: contains the genome DNA sequences of humans for all annotated genes from Ensembl. Each sequence has an EMBL id associated. [Link](http://www.ensembl.org/Homo_sapiens/Info/Index)\n",
    "\n",
    "The process of cleaning each dataset is described below:\n",
    "- `essential_genes.csv`:\n",
    "    - removed rows with unavailable sequences.\n",
    "- `essential_genes_negative.csv`:\n",
    "    - removed all rows which sequences belonged to the `essential_genes.csv` dataset.\n",
    "    - removed all rows which EMBL id was in the `essential_genes.csv` dataset.\n",
    "    - grouped all sequences with the same EMBL id, and kept only the first two.\n",
    "\n",
    "One of the tasks in this notebook is to also build the positive dataset (`essential_genes_positve.csv`), which will contain only the sequences that are in at least 5 different datasets."
   ]
  },
  {
   "cell_type": "code",
   "execution_count": 16,
   "metadata": {},
   "outputs": [
    {
     "name": "stdout",
     "output_type": "stream",
     "text": [
      "(26791, 15)\n",
      "(27684, 2)\n"
     ]
    }
   ],
   "source": [
    "deg_dataset = pd.read_csv(\"datasets/essential_genes.csv\", sep=';')\n",
    "print(deg_dataset.shape)\n",
    "\n",
    "eg_negative = pd.read_csv(\"datasets/essential_genes_negative.csv\", sep=',')\n",
    "print(eg_negative.shape)"
   ]
  },
  {
   "cell_type": "markdown",
   "metadata": {},
   "source": [
    "Creating positive essential genes dataset. Each sequence needs to be in at least 5 datasets."
   ]
  },
  {
   "cell_type": "code",
   "execution_count": 17,
   "metadata": {},
   "outputs": [
    {
     "name": "stdout",
     "output_type": "stream",
     "text": [
      "     id                                           sequence\n",
      "0  GI:-  ATGGTGCTGTCCCAGAGACAACGAGATGAACTAAATCGAGCTATAG...\n",
      "1  GI:-  ATGGCTGCAGCTTCATATGATCAGTTGTTAAAGCAAGTTGAGGCAC...\n",
      "2  GI:-  ATGAGCCGCCTGCTCTGGAGGAAGGTGGCCGGCGCCACCGTCGGGC...\n",
      "3  GI:-  ATGCAGAGCTGGAGTCGTGTGTACTGCTCCTTGGCCAAGAGAGGCC...\n",
      "4  GI:-  ATGGTTGGCTATGACCCCAAACCAGATGGCAGGAATAACACCAAGT...\n",
      "(2010, 2)\n"
     ]
    }
   ],
   "source": [
    "# for each sequence, get all the datasets that contain it\n",
    "d = {}\n",
    "for _, row in deg_dataset.iterrows():\n",
    "    if(row[\"sequence\"] in d):\n",
    "        d[row[\"sequence\"]].append((row[\"id1\"], row[\"id4\"]))\n",
    "    else:\n",
    "        d[row[\"sequence\"]] = [(row[\"id1\"], row[\"id4\"])]\n",
    "\n",
    "\n",
    "# get a list of sequences that are in more than 5 datasets\n",
    "essential_sequences = []\n",
    "for key, val in d.items():\n",
    "    if(len(val) >= 5):\n",
    "        essential_sequences.append((val[0][1], key))\n",
    "        \n",
    "# create dataframe with essential sequences\n",
    "eg_positive = pd.DataFrame(essential_sequences, columns=[\"id\", \"sequence\"])\n",
    "print(eg_positive.head())\n",
    "print(eg_positive.shape)\n",
    "\n",
    "# write to csv\n",
    "eg_positive.to_csv(\"datasets/essential_genes_positive.csv\", index=False)"
   ]
  },
  {
   "cell_type": "code",
   "execution_count": 18,
   "metadata": {},
   "outputs": [
    {
     "name": "stdout",
     "output_type": "stream",
     "text": [
      "unique positive sequences: 2010\n",
      "unique negative sequences: 23443\n"
     ]
    }
   ],
   "source": [
    "print(\"unique positive sequences:\", len(set(eg_positive[\"sequence\"])))\n",
    "print(\"unique negative sequences:\", len(set(eg_negative[\"sequence\"])))"
   ]
  },
  {
   "cell_type": "markdown",
   "metadata": {},
   "source": [
    "Even though the negative dataset has 27684 sequences, not all of them are unique. So, we need to remove the duplicates."
   ]
  },
  {
   "cell_type": "code",
   "execution_count": 19,
   "metadata": {},
   "outputs": [
    {
     "name": "stdout",
     "output_type": "stream",
     "text": [
      "(23443, 2)\n"
     ]
    }
   ],
   "source": [
    "eg_negative = eg_negative.drop_duplicates(subset=\"sequence\")\n",
    "print(eg_negative.shape)"
   ]
  },
  {
   "cell_type": "markdown",
   "metadata": {},
   "source": [
    "At this point, we have both positive and negative datasets:\n",
    "* eg_positive (2010,  2) -> positive dataset with essential genes \n",
    "* eg_negative (23443, 2) -> negative dataset with non essential genes "
   ]
  },
  {
   "cell_type": "markdown",
   "metadata": {},
   "source": [
    "Calculating length of each sequence and cleaning up the data"
   ]
  },
  {
   "cell_type": "code",
   "execution_count": 20,
   "metadata": {},
   "outputs": [],
   "source": [
    "eg_positive[\"length\"] = eg_positive[\"sequence\"].str.len()\n",
    "eg_negative[\"length\"] = eg_negative[\"sequence\"].str.len()"
   ]
  },
  {
   "cell_type": "code",
   "execution_count": 21,
   "metadata": {},
   "outputs": [
    {
     "name": "stdout",
     "output_type": "stream",
     "text": [
      "before removing\n",
      "(2010, 3)\n",
      "(23443, 3)\n",
      "after removing\n",
      "(2010, 3) 0 were removed\n",
      "(23439, 3) 4 were removed\n"
     ]
    }
   ],
   "source": [
    "print(\"before removing\")\n",
    "print(eg_positive.shape)\n",
    "print(eg_negative.shape)\n",
    "\n",
    "old_eg_positive = eg_positive.shape[0]\n",
    "old_eg_negative = eg_negative.shape[0]\n",
    "\n",
    "eg_positive = eg_positive[eg_positive[\"length\"] <= 20000]\n",
    "eg_negative = eg_negative[eg_negative[\"length\"] <= 20000]\n",
    "print(\"after removing\")\n",
    "print(eg_positive.shape, old_eg_positive - eg_positive.shape[0], \"were removed\")\n",
    "print(eg_negative.shape, old_eg_negative - eg_negative.shape[0], \"were removed\")"
   ]
  },
  {
   "cell_type": "markdown",
   "metadata": {},
   "source": [
    "Statistics about the data, including:\n",
    "* Total sequences\n",
    "* Top 5 longest and shortest sequences\n",
    "* Average length of sequences\n",
    "* Top 5 most and least common sequence length"
   ]
  },
  {
   "cell_type": "code",
   "execution_count": 22,
   "metadata": {},
   "outputs": [],
   "source": [
    "def stats(dataset):\n",
    "    dataset[\"length\"].hist(bins=100)\n",
    "    plt.show()\n",
    "\n",
    "    print(\"-\" * 40)\n",
    "\n",
    "    print(\"Total sequences:\", dataset.shape[0])\n",
    "\n",
    "    print(\"-\" * 40)\n",
    "\n",
    "    print(\"Top 5 longest sequences:\")\n",
    "    print(\"id       length\")\n",
    "    print(dataset[\"length\"].nlargest(5).to_string())\n",
    "\n",
    "    print(\"-\" * 40)\n",
    "\n",
    "    print(\"Top 5 shortest sequences:\")\n",
    "    print(\"id       length\")\n",
    "    print(dataset[\"length\"].nsmallest(5).to_string())\n",
    "\n",
    "    print(\"-\" * 40)\n",
    "\n",
    "    average_length = dataset[\"length\"].mean()\n",
    "    print(\"Average length:\", average_length)\n",
    "\n",
    "    print(\"-\" * 40)\n",
    "\n",
    "    print(\"Top 5 most common lengths:\")\n",
    "    print(\"length   count\")\n",
    "    print(dataset[\"length\"].value_counts().nlargest(5).to_string())\n",
    "    \n",
    "    print(\"-\" * 40)\n",
    "\n",
    "    print(\"Top 5 least common lengths:\")\n",
    "    print(\"length   count\")\n",
    "    print(dataset[\"length\"].value_counts().nsmallest(5).to_string())"
   ]
  },
  {
   "cell_type": "code",
   "execution_count": 23,
   "metadata": {},
   "outputs": [
    {
     "data": {
      "image/png": "[encoded data removed]",
      "text/plain": [
       "<Figure size 432x288 with 1 Axes>"
      ]
     },
     "metadata": {
      "needs_background": "light"
     },
     "output_type": "display_data"
    },
    {
     "name": "stdout",
     "output_type": "stream",
     "text": [
      "----------------------------------------\n",
      "Total sequences: 2010\n",
      "----------------------------------------\n",
      "Top 5 longest sequences:\n",
      "id       length\n",
      "676    16791\n",
      "248    15615\n",
      "204    14574\n",
      "491    13941\n",
      "31     13167\n",
      "----------------------------------------\n",
      "Top 5 shortest sequences:\n",
      "id       length\n",
      "1112    192\n",
      "1427    195\n",
      "1500    204\n",
      "1611    204\n",
      "1346    210\n",
      "----------------------------------------\n",
      "Average length: 1903.6034825870647\n",
      "----------------------------------------\n",
      "Top 5 most common lengths:\n",
      "length   count\n",
      "1083    9\n",
      "1041    8\n",
      "618     7\n",
      "585     7\n",
      "1314    7\n",
      "----------------------------------------\n",
      "Top 5 least common lengths:\n",
      "length   count\n",
      "4311    1\n",
      "2289    1\n",
      "2958    1\n",
      "513     1\n",
      "2799    1\n",
      "****************************************************************************************************\n"
     ]
    },
    {
     "data": {
      "image/png": "[encoded data removed]",
      "text/plain": [
       "<Figure size 432x288 with 1 Axes>"
      ]
     },
     "metadata": {
      "needs_background": "light"
     },
     "output_type": "display_data"
    },
    {
     "name": "stdout",
     "output_type": "stream",
     "text": [
      "----------------------------------------\n",
      "Total sequences: 23439\n",
      "----------------------------------------\n",
      "Top 5 longest sequences:\n",
      "id       length\n",
      "20105    18921\n",
      "2852     17673\n",
      "12774    17388\n",
      "23013    17289\n",
      "25523    16965\n",
      "----------------------------------------\n",
      "Top 5 shortest sequences:\n",
      "id       length\n",
      "6728      3\n",
      "14762     5\n",
      "13586    10\n",
      "23228    10\n",
      "25635    12\n",
      "----------------------------------------\n",
      "Average length: 1351.6297196979394\n",
      "----------------------------------------\n",
      "Top 5 most common lengths:\n",
      "length   count\n",
      "939    98\n",
      "945    76\n",
      "930    72\n",
      "444    66\n",
      "948    63\n",
      "----------------------------------------\n",
      "Top 5 least common lengths:\n",
      "length   count\n",
      "644      1\n",
      "997      1\n",
      "11724    1\n",
      "607      1\n",
      "10896    1\n"
     ]
    }
   ],
   "source": [
    "stats(eg_positive)\n",
    "print(\"*\" * 100)\n",
    "stats(eg_negative)"
   ]
  },
  {
   "cell_type": "markdown",
   "metadata": {},
   "source": [
    "Joining the positive and negative datasets"
   ]
  },
  {
   "cell_type": "code",
   "execution_count": 24,
   "metadata": {},
   "outputs": [
    {
     "name": "stdout",
     "output_type": "stream",
     "text": [
      "(25449, 3)\n",
      "     id                                           sequence  label\n",
      "0  GI:-  ATGGTGCTGTCCCAGAGACAACGAGATGAACTAAATCGAGCTATAG...      1\n",
      "1  GI:-  ATGGCTGCAGCTTCATATGATCAGTTGTTAAAGCAAGTTGAGGCAC...      1\n",
      "2  GI:-  ATGAGCCGCCTGCTCTGGAGGAAGGTGGCCGGCGCCACCGTCGGGC...      1\n",
      "3  GI:-  ATGCAGAGCTGGAGTCGTGTGTACTGCTCCTTGGCCAAGAGAGGCC...      1\n",
      "4  GI:-  ATGGTTGGCTATGACCCCAAACCAGATGGCAGGAATAACACCAAGT...      1\n"
     ]
    }
   ],
   "source": [
    "# adding labels to the dataset\n",
    "eg_positive[\"label\"] = 1\n",
    "eg_negative[\"label\"] = 0\n",
    "\n",
    "# removing length column\n",
    "eg_positive = eg_positive.drop(columns=[\"length\"])\n",
    "eg_negative = eg_negative.drop(columns=[\"length\"])\n",
    "\n",
    "# joining the two datasets\n",
    "dataset = pd.concat([eg_positive, eg_negative])\n",
    "print(dataset.shape)\n",
    "print(dataset.head())"
   ]
  },
  {
   "cell_type": "code",
   "execution_count": 25,
   "metadata": {},
   "outputs": [
    {
     "name": "stdout",
     "output_type": "stream",
     "text": [
      "(25449, 3)\n"
     ]
    }
   ],
   "source": [
    "print(dataset.shape)"
   ]
  },
  {
   "cell_type": "code",
   "execution_count": 26,
   "metadata": {},
   "outputs": [
    {
     "data": {
      "text/plain": [
       "<AxesSubplot:xlabel='label'>"
      ]
     },
     "execution_count": 26,
     "metadata": {},
     "output_type": "execute_result"
    },
    {
     "data": {
      "image/png": "[encoded data removed]",
      "text/plain": [
       "<Figure size 432x288 with 1 Axes>"
      ]
     },
     "metadata": {
      "needs_background": "light"
     },
     "output_type": "display_data"
    }
   ],
   "source": [
    "# plot the distribution of each class\n",
    "dataset.groupby('label').size().plot(kind='bar')"
   ]
  },
  {
   "cell_type": "markdown",
   "metadata": {},
   "source": [
    "## Classification using DNA descriptors"
   ]
  },
  {
   "cell_type": "code",
   "execution_count": 27,
   "metadata": {},
   "outputs": [
    {
     "name": "stdout",
     "output_type": "stream",
     "text": [
      "The autoreload extension is already loaded. To reload it, use:\n",
      "  %reload_ext autoreload\n"
     ]
    }
   ],
   "source": [
    "%load_ext autoreload\n",
    "import sys\n",
    "from sklearn.model_selection import train_test_split\n",
    "from sklearn.preprocessing import StandardScaler\n",
    "import torch\n",
    "import torch.utils.data as data_utils\n",
    "from torch import nn\n",
    "from torch.optim import Adam\n",
    "import os\n",
    "\n",
    "sys.path.append('../../../../src/')\n",
    "from propythia.DNA.descriptors.descriptors import DNADescriptor"
   ]
  },
  {
   "cell_type": "code",
   "execution_count": 28,
   "metadata": {},
   "outputs": [],
   "source": [
    "# List of descriptors to be calculed. If empty, all descriptors will be calculated.\n",
    "specifics = []\n",
    "\n",
    "def calculate_feature(data):\n",
    "    list_feature = []\n",
    "    count = 0\n",
    "    for seq in data['sequence']:\n",
    "        res = {'sequence': seq}\n",
    "        dna = DNADescriptor(seq)\n",
    "        feature = dna.get_descriptors(specifics=specifics)\n",
    "        res.update(feature)\n",
    "        list_feature.append(res)\n",
    "        # print progress every 100 sequences\n",
    "        if count % 100 == 0:\n",
    "            print(count, '/', len(data))\n",
    "\n",
    "        count += 1\n",
    "    print(\"Done!\")\n",
    "    df = pd.DataFrame(list_feature)\n",
    "    return df"
   ]
  },
  {
   "cell_type": "markdown",
   "metadata": {},
   "source": [
    "Skip the calculation of descriptors if `essential_genes_features.pkl` exists which already has them calculated. Skip all of this if `fps_x.pkl` exists because it already has the features calculated and **normalized**. The need of data normalization is explained in the next section."
   ]
  },
  {
   "cell_type": "code",
   "execution_count": 29,
   "metadata": {},
   "outputs": [
    {
     "name": "stdout",
     "output_type": "stream",
     "text": [
      "Features already calculated and normalized\n"
     ]
    }
   ],
   "source": [
    "if exists(\"datasets/fps_x.pkl\") == False:\n",
    "    if exists(\"datasets/essential_genes_features.pkl\"):\n",
    "        with open(\"datasets/essential_genes_features.pkl\", \"rb\") as f:\n",
    "            features = pickle.load(f)\n",
    "        print(\"Features loaded from pickle file\")\n",
    "    else:\n",
    "        features = calculate_feature(dataset)\n",
    "        with open(\"datasets/essential_genes_features.pkl\", \"wb\") as f:\n",
    "            pickle.dump(features, f)\n",
    "else:\n",
    "    print(\"Features already calculated and normalized\")"
   ]
  },
  {
   "cell_type": "markdown",
   "metadata": {},
   "source": [
    "Functions to help normalize the data.\n",
    "\n",
    "Without being normalized, we have a dataset with 20 columns. Each column is a result of a DNA descriptor, and some of these columns are numbers, dicts and even lists.\n",
    "\n",
    "We still need to normalize those who have dictionaries and lists because the model can't handle data in these types.\n",
    "\n",
    "To normalize the data, dicts and lists need to \"explode\" into more columns. \n",
    "\n",
    "E.g. dicts:\n",
    "\n",
    "| descriptor_hello |\n",
    "| ---------------- |\n",
    "| {'a': 1, 'b': 2} |\n",
    "\n",
    "will be transformed into:\n",
    "\n",
    "| descriptor_hello_a | descriptor_hello_b |\n",
    "| ------------------ | ------------------ |\n",
    "| 1                  | 2                  |\n",
    "\n",
    "E.g. lists:\n",
    "\n",
    "| descriptor_hello |\n",
    "| ---------------- |\n",
    "| [1, 2, 3]        |\n",
    "\n",
    "will be transformed into:\n",
    "\n",
    "| descriptor_hello_0 | descriptor_hello_1 | descriptor_hello_2 |\n",
    "| ------------------ | ------------------ | ------------------ |\n",
    "| 1                  | 2                  | 3                  |"
   ]
  },
  {
   "cell_type": "code",
   "execution_count": 30,
   "metadata": {},
   "outputs": [],
   "source": [
    "def process_lists(fps_x, field):\n",
    "    l = fps_x[field].to_list()\n",
    "    new_df = pd.DataFrame(l)\n",
    "    new_df.columns = [str(field) + \"_\" + str(i) for i in new_df.columns]\n",
    "    fps_x.drop(field, axis=1, inplace=True)\n",
    "    return new_df\n",
    "\n",
    "def process_lists_of_lists(fps_x, field):\n",
    "    l = fps_x[field].to_list()\n",
    "    new_df = pd.DataFrame(l)\n",
    "    new_df.columns = [str(field) + \"_\" + str(i) for i in new_df.columns]\n",
    "    empty_val = {} if field == \"enhanced_nucleic_acid_composition\" else []\n",
    "    small_processed = []\n",
    "    count = 0\n",
    "    for f in new_df.columns:\n",
    "        col = [empty_val if i is None else i for i in new_df[f].to_list()]\n",
    "        sub = pd.DataFrame(col)\n",
    "        sub.columns = [str(f) + \"_\" + str(i) for i in sub.columns]\n",
    "        small_processed.append(sub)\n",
    "        if(count % 1000 == 0):\n",
    "            print(count, '/', len(new_df.columns))\n",
    "        count += 1\n",
    "    fps_x.drop(field, axis=1, inplace=True)\n",
    "    return small_processed"
   ]
  },
  {
   "cell_type": "code",
   "execution_count": 31,
   "metadata": {},
   "outputs": [],
   "source": [
    "def normalize_features():\n",
    "    fps_y = dataset['label']\n",
    "    fps_x = features.loc[:, features.columns != 'label']\n",
    "    fps_x = fps_x.loc[:, fps_x.columns != 'sequence']\n",
    "    print(fps_x.shape)\n",
    "    \n",
    "    lists = [\"nucleic_acid_composition\",\"dinucleotide_composition\",\"trinucleotide_composition\",\"k_spaced_nucleic_acid_pairs\",\"kmer\",\"PseDNC\", \"PseKNC\", \"DAC\", \"DCC\", \"DACC\", \"TAC\",\"TCC\",\"TACC\", \"accumulated_nucleotide_frequency\"]\n",
    "    lists_of_lists = [\n",
    "        \"enhanced_nucleic_acid_composition\",\n",
    "        \"nucleotide_chemical_property\", \n",
    "        \"binary\"\n",
    "    ]\n",
    "\n",
    "    small_processed = []\n",
    "    for i in lists:\n",
    "        print(\"Starting:\", i)\n",
    "        new_df = process_lists(fps_x, i)\n",
    "        small_processed.append(new_df)\n",
    "        \n",
    "    for i in lists_of_lists:\n",
    "        print(\"Starting:\", i)\n",
    "        smaller_processed = process_lists_of_lists(fps_x, i)\n",
    "        small_processed += smaller_processed\n",
    "\n",
    "    # concat final with original\n",
    "    fps_x = pd.concat([fps_x, *small_processed], axis=1)\n",
    "\n",
    "    with open(\"datasets/fps_x.pkl\", \"wb\") as f:\n",
    "        pickle.dump(fps_x, f)\n",
    "        \n",
    "    with open(\"datasets/fps_y.pkl\", \"wb\") as f:\n",
    "        pickle.dump(fps_y, f)\n",
    "    \n",
    "    return fps_x, fps_y"
   ]
  },
  {
   "cell_type": "markdown",
   "metadata": {},
   "source": [
    "Skip the data normalization if it was already performed (`fps_x.pkl` exists)."
   ]
  },
  {
   "cell_type": "code",
   "execution_count": 32,
   "metadata": {},
   "outputs": [
    {
     "name": "stdout",
     "output_type": "stream",
     "text": [
      "Features loaded from pickle file\n"
     ]
    },
    {
     "data": {
      "text/html": [
       "<div>\n",
       "<style scoped>\n",
       "    .dataframe tbody tr th:only-of-type {\n",
       "        vertical-align: middle;\n",
       "    }\n",
       "\n",
       "    .dataframe tbody tr th {\n",
       "        vertical-align: top;\n",
       "    }\n",
       "\n",
       "    .dataframe thead th {\n",
       "        text-align: right;\n",
       "    }\n",
       "</style>\n",
       "<table border=\"1\" class=\"dataframe\">\n",
       "  <thead>\n",
       "    <tr style=\"text-align: right;\">\n",
       "      <th></th>\n",
       "      <th>length</th>\n",
       "      <th>gc_content</th>\n",
       "      <th>at_content</th>\n",
       "      <th>nucleic_acid_composition_A</th>\n",
       "      <th>nucleic_acid_composition_C</th>\n",
       "      <th>nucleic_acid_composition_G</th>\n",
       "      <th>nucleic_acid_composition_T</th>\n",
       "      <th>dinucleotide_composition_AA</th>\n",
       "      <th>dinucleotide_composition_AC</th>\n",
       "      <th>dinucleotide_composition_AG</th>\n",
       "      <th>...</th>\n",
       "      <th>binary_18918_2</th>\n",
       "      <th>binary_18918_3</th>\n",
       "      <th>binary_18919_0</th>\n",
       "      <th>binary_18919_1</th>\n",
       "      <th>binary_18919_2</th>\n",
       "      <th>binary_18919_3</th>\n",
       "      <th>binary_18920_0</th>\n",
       "      <th>binary_18920_1</th>\n",
       "      <th>binary_18920_2</th>\n",
       "      <th>binary_18920_3</th>\n",
       "    </tr>\n",
       "  </thead>\n",
       "  <tbody>\n",
       "    <tr>\n",
       "      <th>0</th>\n",
       "      <td>1233</td>\n",
       "      <td>0.440</td>\n",
       "      <td>0.560</td>\n",
       "      <td>0.303</td>\n",
       "      <td>0.193</td>\n",
       "      <td>0.247</td>\n",
       "      <td>0.256</td>\n",
       "      <td>0.096</td>\n",
       "      <td>0.052</td>\n",
       "      <td>0.075</td>\n",
       "      <td>...</td>\n",
       "      <td>NaN</td>\n",
       "      <td>NaN</td>\n",
       "      <td>NaN</td>\n",
       "      <td>NaN</td>\n",
       "      <td>NaN</td>\n",
       "      <td>NaN</td>\n",
       "      <td>NaN</td>\n",
       "      <td>NaN</td>\n",
       "      <td>NaN</td>\n",
       "      <td>NaN</td>\n",
       "    </tr>\n",
       "    <tr>\n",
       "      <th>1</th>\n",
       "      <td>8532</td>\n",
       "      <td>0.412</td>\n",
       "      <td>0.588</td>\n",
       "      <td>0.344</td>\n",
       "      <td>0.208</td>\n",
       "      <td>0.205</td>\n",
       "      <td>0.244</td>\n",
       "      <td>0.126</td>\n",
       "      <td>0.054</td>\n",
       "      <td>0.089</td>\n",
       "      <td>...</td>\n",
       "      <td>NaN</td>\n",
       "      <td>NaN</td>\n",
       "      <td>NaN</td>\n",
       "      <td>NaN</td>\n",
       "      <td>NaN</td>\n",
       "      <td>NaN</td>\n",
       "      <td>NaN</td>\n",
       "      <td>NaN</td>\n",
       "      <td>NaN</td>\n",
       "      <td>NaN</td>\n",
       "    </tr>\n",
       "    <tr>\n",
       "      <th>2</th>\n",
       "      <td>3720</td>\n",
       "      <td>0.604</td>\n",
       "      <td>0.396</td>\n",
       "      <td>0.215</td>\n",
       "      <td>0.290</td>\n",
       "      <td>0.314</td>\n",
       "      <td>0.181</td>\n",
       "      <td>0.041</td>\n",
       "      <td>0.050</td>\n",
       "      <td>0.089</td>\n",
       "      <td>...</td>\n",
       "      <td>NaN</td>\n",
       "      <td>NaN</td>\n",
       "      <td>NaN</td>\n",
       "      <td>NaN</td>\n",
       "      <td>NaN</td>\n",
       "      <td>NaN</td>\n",
       "      <td>NaN</td>\n",
       "      <td>NaN</td>\n",
       "      <td>NaN</td>\n",
       "      <td>NaN</td>\n",
       "    </tr>\n",
       "    <tr>\n",
       "      <th>3</th>\n",
       "      <td>1530</td>\n",
       "      <td>0.414</td>\n",
       "      <td>0.586</td>\n",
       "      <td>0.303</td>\n",
       "      <td>0.169</td>\n",
       "      <td>0.246</td>\n",
       "      <td>0.282</td>\n",
       "      <td>0.099</td>\n",
       "      <td>0.044</td>\n",
       "      <td>0.080</td>\n",
       "      <td>...</td>\n",
       "      <td>NaN</td>\n",
       "      <td>NaN</td>\n",
       "      <td>NaN</td>\n",
       "      <td>NaN</td>\n",
       "      <td>NaN</td>\n",
       "      <td>NaN</td>\n",
       "      <td>NaN</td>\n",
       "      <td>NaN</td>\n",
       "      <td>NaN</td>\n",
       "      <td>NaN</td>\n",
       "    </tr>\n",
       "    <tr>\n",
       "      <th>4</th>\n",
       "      <td>963</td>\n",
       "      <td>0.559</td>\n",
       "      <td>0.441</td>\n",
       "      <td>0.212</td>\n",
       "      <td>0.286</td>\n",
       "      <td>0.273</td>\n",
       "      <td>0.229</td>\n",
       "      <td>0.048</td>\n",
       "      <td>0.045</td>\n",
       "      <td>0.076</td>\n",
       "      <td>...</td>\n",
       "      <td>NaN</td>\n",
       "      <td>NaN</td>\n",
       "      <td>NaN</td>\n",
       "      <td>NaN</td>\n",
       "      <td>NaN</td>\n",
       "      <td>NaN</td>\n",
       "      <td>NaN</td>\n",
       "      <td>NaN</td>\n",
       "      <td>NaN</td>\n",
       "      <td>NaN</td>\n",
       "    </tr>\n",
       "    <tr>\n",
       "      <th>...</th>\n",
       "      <td>...</td>\n",
       "      <td>...</td>\n",
       "      <td>...</td>\n",
       "      <td>...</td>\n",
       "      <td>...</td>\n",
       "      <td>...</td>\n",
       "      <td>...</td>\n",
       "      <td>...</td>\n",
       "      <td>...</td>\n",
       "      <td>...</td>\n",
       "      <td>...</td>\n",
       "      <td>...</td>\n",
       "      <td>...</td>\n",
       "      <td>...</td>\n",
       "      <td>...</td>\n",
       "      <td>...</td>\n",
       "      <td>...</td>\n",
       "      <td>...</td>\n",
       "      <td>...</td>\n",
       "      <td>...</td>\n",
       "      <td>...</td>\n",
       "    </tr>\n",
       "    <tr>\n",
       "      <th>25444</th>\n",
       "      <td>576</td>\n",
       "      <td>0.439</td>\n",
       "      <td>0.561</td>\n",
       "      <td>0.288</td>\n",
       "      <td>0.210</td>\n",
       "      <td>0.229</td>\n",
       "      <td>0.273</td>\n",
       "      <td>0.089</td>\n",
       "      <td>0.068</td>\n",
       "      <td>0.068</td>\n",
       "      <td>...</td>\n",
       "      <td>NaN</td>\n",
       "      <td>NaN</td>\n",
       "      <td>NaN</td>\n",
       "      <td>NaN</td>\n",
       "      <td>NaN</td>\n",
       "      <td>NaN</td>\n",
       "      <td>NaN</td>\n",
       "      <td>NaN</td>\n",
       "      <td>NaN</td>\n",
       "      <td>NaN</td>\n",
       "    </tr>\n",
       "    <tr>\n",
       "      <th>25445</th>\n",
       "      <td>576</td>\n",
       "      <td>0.434</td>\n",
       "      <td>0.566</td>\n",
       "      <td>0.286</td>\n",
       "      <td>0.212</td>\n",
       "      <td>0.222</td>\n",
       "      <td>0.280</td>\n",
       "      <td>0.089</td>\n",
       "      <td>0.068</td>\n",
       "      <td>0.066</td>\n",
       "      <td>...</td>\n",
       "      <td>NaN</td>\n",
       "      <td>NaN</td>\n",
       "      <td>NaN</td>\n",
       "      <td>NaN</td>\n",
       "      <td>NaN</td>\n",
       "      <td>NaN</td>\n",
       "      <td>NaN</td>\n",
       "      <td>NaN</td>\n",
       "      <td>NaN</td>\n",
       "      <td>NaN</td>\n",
       "    </tr>\n",
       "    <tr>\n",
       "      <th>25446</th>\n",
       "      <td>3363</td>\n",
       "      <td>0.394</td>\n",
       "      <td>0.606</td>\n",
       "      <td>0.338</td>\n",
       "      <td>0.192</td>\n",
       "      <td>0.202</td>\n",
       "      <td>0.268</td>\n",
       "      <td>0.122</td>\n",
       "      <td>0.055</td>\n",
       "      <td>0.076</td>\n",
       "      <td>...</td>\n",
       "      <td>NaN</td>\n",
       "      <td>NaN</td>\n",
       "      <td>NaN</td>\n",
       "      <td>NaN</td>\n",
       "      <td>NaN</td>\n",
       "      <td>NaN</td>\n",
       "      <td>NaN</td>\n",
       "      <td>NaN</td>\n",
       "      <td>NaN</td>\n",
       "      <td>NaN</td>\n",
       "    </tr>\n",
       "    <tr>\n",
       "      <th>25447</th>\n",
       "      <td>1101</td>\n",
       "      <td>0.633</td>\n",
       "      <td>0.367</td>\n",
       "      <td>0.227</td>\n",
       "      <td>0.292</td>\n",
       "      <td>0.341</td>\n",
       "      <td>0.140</td>\n",
       "      <td>0.037</td>\n",
       "      <td>0.056</td>\n",
       "      <td>0.105</td>\n",
       "      <td>...</td>\n",
       "      <td>NaN</td>\n",
       "      <td>NaN</td>\n",
       "      <td>NaN</td>\n",
       "      <td>NaN</td>\n",
       "      <td>NaN</td>\n",
       "      <td>NaN</td>\n",
       "      <td>NaN</td>\n",
       "      <td>NaN</td>\n",
       "      <td>NaN</td>\n",
       "      <td>NaN</td>\n",
       "    </tr>\n",
       "    <tr>\n",
       "      <th>25448</th>\n",
       "      <td>96</td>\n",
       "      <td>0.635</td>\n",
       "      <td>0.365</td>\n",
       "      <td>0.146</td>\n",
       "      <td>0.302</td>\n",
       "      <td>0.333</td>\n",
       "      <td>0.219</td>\n",
       "      <td>0.011</td>\n",
       "      <td>0.042</td>\n",
       "      <td>0.042</td>\n",
       "      <td>...</td>\n",
       "      <td>NaN</td>\n",
       "      <td>NaN</td>\n",
       "      <td>NaN</td>\n",
       "      <td>NaN</td>\n",
       "      <td>NaN</td>\n",
       "      <td>NaN</td>\n",
       "      <td>NaN</td>\n",
       "      <td>NaN</td>\n",
       "      <td>NaN</td>\n",
       "      <td>NaN</td>\n",
       "    </tr>\n",
       "  </tbody>\n",
       "</table>\n",
       "<p>25449 rows × 227271 columns</p>\n",
       "</div>"
      ],
      "text/plain": [
       "       length  gc_content  at_content  nucleic_acid_composition_A  \\\n",
       "0        1233       0.440       0.560                       0.303   \n",
       "1        8532       0.412       0.588                       0.344   \n",
       "2        3720       0.604       0.396                       0.215   \n",
       "3        1530       0.414       0.586                       0.303   \n",
       "4         963       0.559       0.441                       0.212   \n",
       "...       ...         ...         ...                         ...   \n",
       "25444     576       0.439       0.561                       0.288   \n",
       "25445     576       0.434       0.566                       0.286   \n",
       "25446    3363       0.394       0.606                       0.338   \n",
       "25447    1101       0.633       0.367                       0.227   \n",
       "25448      96       0.635       0.365                       0.146   \n",
       "\n",
       "       nucleic_acid_composition_C  nucleic_acid_composition_G  \\\n",
       "0                           0.193                       0.247   \n",
       "1                           0.208                       0.205   \n",
       "2                           0.290                       0.314   \n",
       "3                           0.169                       0.246   \n",
       "4                           0.286                       0.273   \n",
       "...                           ...                         ...   \n",
       "25444                       0.210                       0.229   \n",
       "25445                       0.212                       0.222   \n",
       "25446                       0.192                       0.202   \n",
       "25447                       0.292                       0.341   \n",
       "25448                       0.302                       0.333   \n",
       "\n",
       "       nucleic_acid_composition_T  dinucleotide_composition_AA  \\\n",
       "0                           0.256                        0.096   \n",
       "1                           0.244                        0.126   \n",
       "2                           0.181                        0.041   \n",
       "3                           0.282                        0.099   \n",
       "4                           0.229                        0.048   \n",
       "...                           ...                          ...   \n",
       "25444                       0.273                        0.089   \n",
       "25445                       0.280                        0.089   \n",
       "25446                       0.268                        0.122   \n",
       "25447                       0.140                        0.037   \n",
       "25448                       0.219                        0.011   \n",
       "\n",
       "       dinucleotide_composition_AC  dinucleotide_composition_AG  ...  \\\n",
       "0                            0.052                        0.075  ...   \n",
       "1                            0.054                        0.089  ...   \n",
       "2                            0.050                        0.089  ...   \n",
       "3                            0.044                        0.080  ...   \n",
       "4                            0.045                        0.076  ...   \n",
       "...                            ...                          ...  ...   \n",
       "25444                        0.068                        0.068  ...   \n",
       "25445                        0.068                        0.066  ...   \n",
       "25446                        0.055                        0.076  ...   \n",
       "25447                        0.056                        0.105  ...   \n",
       "25448                        0.042                        0.042  ...   \n",
       "\n",
       "       binary_18918_2  binary_18918_3  binary_18919_0  binary_18919_1  \\\n",
       "0                 NaN             NaN             NaN             NaN   \n",
       "1                 NaN             NaN             NaN             NaN   \n",
       "2                 NaN             NaN             NaN             NaN   \n",
       "3                 NaN             NaN             NaN             NaN   \n",
       "4                 NaN             NaN             NaN             NaN   \n",
       "...               ...             ...             ...             ...   \n",
       "25444             NaN             NaN             NaN             NaN   \n",
       "25445             NaN             NaN             NaN             NaN   \n",
       "25446             NaN             NaN             NaN             NaN   \n",
       "25447             NaN             NaN             NaN             NaN   \n",
       "25448             NaN             NaN             NaN             NaN   \n",
       "\n",
       "       binary_18919_2  binary_18919_3  binary_18920_0  binary_18920_1  \\\n",
       "0                 NaN             NaN             NaN             NaN   \n",
       "1                 NaN             NaN             NaN             NaN   \n",
       "2                 NaN             NaN             NaN             NaN   \n",
       "3                 NaN             NaN             NaN             NaN   \n",
       "4                 NaN             NaN             NaN             NaN   \n",
       "...               ...             ...             ...             ...   \n",
       "25444             NaN             NaN             NaN             NaN   \n",
       "25445             NaN             NaN             NaN             NaN   \n",
       "25446             NaN             NaN             NaN             NaN   \n",
       "25447             NaN             NaN             NaN             NaN   \n",
       "25448             NaN             NaN             NaN             NaN   \n",
       "\n",
       "       binary_18920_2  binary_18920_3  \n",
       "0                 NaN             NaN  \n",
       "1                 NaN             NaN  \n",
       "2                 NaN             NaN  \n",
       "3                 NaN             NaN  \n",
       "4                 NaN             NaN  \n",
       "...               ...             ...  \n",
       "25444             NaN             NaN  \n",
       "25445             NaN             NaN  \n",
       "25446             NaN             NaN  \n",
       "25447             NaN             NaN  \n",
       "25448             NaN             NaN  \n",
       "\n",
       "[25449 rows x 227271 columns]"
      ]
     },
     "execution_count": 32,
     "metadata": {},
     "output_type": "execute_result"
    }
   ],
   "source": [
    "if exists(\"datasets/fps_x.pkl\"):\n",
    "    with open(\"datasets/fps_x.pkl\", \"rb\") as f:\n",
    "        fps_x = pickle.load(f)\n",
    "    with open(\"datasets/fps_y.pkl\", \"rb\") as f:\n",
    "        fps_y = pickle.load(f)\n",
    "    print(\"Features loaded from pickle file\")\n",
    "else:\n",
    "    fps_x, fps_y = normalize_features()\n",
    "fps_x"
   ]
  },
  {
   "cell_type": "markdown",
   "metadata": {},
   "source": [
    "We need now to split the dataset into training, test and validation sets."
   ]
  },
  {
   "cell_type": "code",
   "execution_count": 33,
   "metadata": {},
   "outputs": [],
   "source": [
    "x, x_test, y, y_test = train_test_split(\n",
    "    fps_x, fps_y,\n",
    "    test_size=0.2,\n",
    "    train_size=0.8,\n",
    "    stratify=fps_y\n",
    ")\n",
    "x_train, x_cv, y_train, y_cv = train_test_split(\n",
    "    x, y,\n",
    "    test_size=0.25,\n",
    "    train_size=0.75,\n",
    "    stratify=y\n",
    ")\n",
    "\n",
    "scaler = StandardScaler().fit(x_train)\n",
    "x_train = scaler.transform(x_train)\n",
    "x_test = scaler.transform(x_test)\n",
    "x_cv = scaler.transform(x_cv)\n",
    "\n",
    "print(x_train.shape)\n",
    "print(y_train.shape)\n",
    "print(x_test.shape)\n",
    "print(y_test.shape)\n",
    "print(x_cv.shape)\n",
    "print(y_cv.shape)"
   ]
  },
  {
   "cell_type": "code",
   "execution_count": null,
   "metadata": {},
   "outputs": [],
   "source": [
    "paramDict = {\n",
    "    'epoch': 100,\n",
    "    'batch_size': 32,\n",
    "    'dropout': 0.2,\n",
    "    'loss': nn.CrossEntropyLoss(),\n",
    "    'input_size': x_train.shape[1],\n",
    "    'hidden_size': 128,\n",
    "    'output_size': 2,\n",
    "    'patience': 15\n",
    "}\n",
    "\n",
    "class_weight = {0: 1.0, 1: 4.0}\n",
    "\n",
    "# convert to torch.tensor\n",
    "train_data = data_utils.TensorDataset(\n",
    "    torch.tensor(x_train, dtype=torch.float),\n",
    "    torch.tensor(y_train.to_numpy(), dtype=torch.long)\n",
    ")\n",
    "test_data = data_utils.TensorDataset(\n",
    "    torch.tensor(x_test, dtype=torch.float),\n",
    "    torch.tensor(y_test.to_numpy(), dtype=torch.long)\n",
    ")\n",
    "valid_data = data_utils.TensorDataset(\n",
    "    torch.tensor(x_cv, dtype=torch.float),\n",
    "    torch.tensor(y_cv.to_numpy(), dtype=torch.long)\n",
    ")\n",
    "\n",
    "# Data loader\n",
    "trainloader = data_utils.DataLoader(\n",
    "    train_data,\n",
    "    shuffle=True,\n",
    "    batch_size=paramDict['batch_size']\n",
    ")\n",
    "testloader = data_utils.DataLoader(\n",
    "    test_data,\n",
    "    shuffle=True,\n",
    "    batch_size=paramDict['batch_size']\n",
    ")\n",
    "validloader = data_utils.DataLoader(\n",
    "    valid_data,\n",
    "    shuffle=True,\n",
    "    batch_size=paramDict['batch_size']\n",
    ")"
   ]
  },
  {
   "cell_type": "code",
   "execution_count": null,
   "metadata": {},
   "outputs": [],
   "source": [
    "%load_ext autoreload\n",
    "%autoreload 2\n",
    "from src.models import MLP\n",
    "from src.train import traindata\n",
    "from src.test import test"
   ]
  },
  {
   "cell_type": "code",
   "execution_count": null,
   "metadata": {},
   "outputs": [],
   "source": [
    "torch.manual_seed(2022)\n",
    "os.environ[\"CUDA_VISIBLE_DEVICES\"] = '4,5'\n",
    "device = torch.device('cuda:0')\n",
    "\n",
    "epochs = 100\n",
    "lr = 0.004\n",
    "model = MLP(\n",
    "    paramDict['input_size'],\n",
    "    paramDict['hidden_size'],\n",
    "    paramDict['output_size'],\n",
    "    paramDict['dropout']\n",
    ").to(device)\n",
    "optimizer = Adam(model.parameters(), lr=lr)\n",
    "\n",
    "model = traindata(device, model, epochs, optimizer, paramDict['loss'], trainloader, validloader, paramDict['patience'])\n",
    "\n",
    "# Test\n",
    "acc, mcc, report = test(device, model, testloader)\n",
    "print('Accuracy: %.3f' % acc)\n",
    "print('MCC: %.3f' % mcc)\n",
    "print(report)"
   ]
  },
  {
   "cell_type": "markdown",
   "metadata": {},
   "source": [
    "## Classification using One hot encoding"
   ]
  },
  {
   "cell_type": "code",
   "execution_count": null,
   "metadata": {},
   "outputs": [],
   "source": [
    "# import torch\n",
    "# import torch.utils.data as data_utils\n",
    "# import src.encoding as enc\n",
    "# import os\n",
    "# from torch import nn\n",
    "# from torch.optim import Adam"
   ]
  },
  {
   "cell_type": "markdown",
   "metadata": {},
   "source": [
    "Without using descriptors and using one hot encoding, all sequences need to have the same length. So, some sequences will be truncated or padded with Ns."
   ]
  },
  {
   "cell_type": "code",
   "execution_count": null,
   "metadata": {},
   "outputs": [],
   "source": [
    "# fps_x = dataset['sequence'].values\n",
    "# fps_y = dataset['label'].values\n",
    "\n",
    "# average_length = int(average_length)\n",
    "\n",
    "# cut sequences to the average length\n",
    "# seqs_dataset = seqs_dataset.str.slice(0, average_length)\n",
    "\n",
    "# fill with \"N\" the sequences that are shorter than average length\n",
    "# seqs_dataset = seqs_dataset.str.pad(average_length, side='right', fillchar='N')"
   ]
  },
  {
   "cell_type": "markdown",
   "metadata": {},
   "source": [
    "We need now to split the dataset into training, test and validation sets."
   ]
  },
  {
   "cell_type": "code",
   "execution_count": null,
   "metadata": {},
   "outputs": [],
   "source": [
    "# x, x_test, y, y_test = train_test_split(\n",
    "#     fps_x, fps_y,\n",
    "#     test_size=0.2,\n",
    "#     train_size=0.8,\n",
    "#     stratify=fps_y\n",
    "# )\n",
    "# x_train, x_cv, y_train, y_cv = train_test_split(\n",
    "#     x, y,\n",
    "#     test_size=0.25,\n",
    "#     train_size=0.75,\n",
    "#     stratify=y\n",
    "# )\n",
    "\n",
    "# print(fps_x.shape)\n",
    "# print(fps_y.shape)"
   ]
  },
  {
   "cell_type": "markdown",
   "metadata": {},
   "source": [
    "Now we need to one hot encode the sequences."
   ]
  },
  {
   "cell_type": "code",
   "execution_count": null,
   "metadata": {},
   "outputs": [],
   "source": [
    "# x_train_enc = enc.DNAEncoding(x_train)\n",
    "# x_train = x_train_enc.one_hot_encode()\n",
    "\n",
    "# x_test_enc = enc.DNAEncoding(x_test)\n",
    "# x_test = x_test_enc.one_hot_encode()\n",
    "\n",
    "# x_cv_enc = enc.DNAEncoding(x_cv)\n",
    "# x_cv = x_cv_enc.one_hot_encode()\n",
    "\n",
    "# print(x_train.shape)\n",
    "# print(y_train.shape)\n",
    "# print(x_test.shape)\n",
    "# print(y_test.shape)\n",
    "# print(x_cv.shape)\n",
    "# print(y_cv.shape)"
   ]
  },
  {
   "cell_type": "code",
   "execution_count": null,
   "metadata": {},
   "outputs": [],
   "source": [
    "# # convert to torch.tensor\n",
    "# train_data = data_utils.TensorDataset(\n",
    "#     torch.tensor(x_train, dtype=torch.float),\n",
    "#     torch.tensor(y_train, dtype=torch.long)\n",
    "# )\n",
    "# test_data = data_utils.TensorDataset(\n",
    "#     torch.tensor(x_test, dtype=torch.float),\n",
    "#     torch.tensor(y_test, dtype=torch.long)\n",
    "# )\n",
    "# valid_data = data_utils.TensorDataset(\n",
    "#     torch.tensor(x_cv, dtype=torch.float),\n",
    "#     torch.tensor(y_cv, dtype=torch.long)\n",
    "# )\n",
    "\n",
    "# batch_size = 16\n",
    "\n",
    "# # Data loader\n",
    "# trainloader = data_utils.DataLoader(\n",
    "#     train_data,\n",
    "#     shuffle=True,\n",
    "#     batch_size=batch_size\n",
    "# )\n",
    "# testloader = data_utils.DataLoader(\n",
    "#     test_data,\n",
    "#     shuffle=True,\n",
    "#     batch_size=batch_size\n",
    "# )\n",
    "# validloader = data_utils.DataLoader(\n",
    "#     valid_data,\n",
    "#     shuffle=True,\n",
    "#     batch_size=batch_size\n",
    "# )"
   ]
  },
  {
   "cell_type": "markdown",
   "metadata": {},
   "source": [
    "Building the model equivalent to the one in the paper."
   ]
  },
  {
   "cell_type": "code",
   "execution_count": null,
   "metadata": {},
   "outputs": [],
   "source": [
    "# from src.models import MLP\n",
    "# from src.train import traindata\n",
    "# from src.test import test"
   ]
  },
  {
   "cell_type": "code",
   "execution_count": null,
   "metadata": {},
   "outputs": [],
   "source": [
    "# torch.manual_seed(2022)\n",
    "# os.environ[\"CUDA_VISIBLE_DEVICES\"] = '4,5'\n",
    "# device = torch.device('cuda:0')\n",
    "\n",
    "# model = MLP().to(device)\n",
    "\n",
    "# paramDict = {\n",
    "#     'epoch': 200,\n",
    "#     'batchSize': 32,\n",
    "#     'dropOut': 0.2,\n",
    "#     'learning_rate': 0.004,\n",
    "#     'loss': nn.CrossEntropyLoss(),\n",
    "#     'metrics': ['accuracy'],\n",
    "#     'activation1': 'relu',\n",
    "#     'activation2': 'sigmoid',\n",
    "#     'monitor': 'val_accuracy',\n",
    "#     'save_best_only': True,\n",
    "#     'mode': 'max'\n",
    "# }\n",
    "\n",
    "# class_weight = {0: 1.0, 1: 4.0}\n",
    "\n",
    "# optimizerDict = {\n",
    "#     'adam': Adam(model.parameters(), learning_rate=0.001, beta_1=0.9, beta_2=0.999),\n",
    "# }"
   ]
  },
  {
   "cell_type": "code",
   "execution_count": null,
   "metadata": {},
   "outputs": [],
   "source": [
    "# # epochs = 100\n",
    "# # lr = 0.004\n",
    "# # loss_function = nn.CrossEntropyLoss()\n",
    "\n",
    "# #optimizer = Adam(model.parameters(), lr=lr)\n",
    "\n",
    "# model = traindata(device, model, paramDict['epochs'], optimizerDict['adam'], paramDict['loss'], trainloader, validloader)\n",
    "\n",
    "# acc, mcc, report = test(device, model, testloader)\n",
    "# print('Accuracy: %.3f' % acc)\n",
    "# print('MCC: %.3f' % mcc)\n",
    "# print(report)"
   ]
  }
 ],
 "metadata": {
  "interpreter": {
   "hash": "ba449ea13c29f64a91968d8f927cecceedd6e605eda30388903386e6cd94168d"
  },
  "kernelspec": {
   "display_name": "Python 3.8.13 ('dna-conda': conda)",
   "language": "python",
   "name": "python3"
  },
  "language_info": {
   "codemirror_mode": {
    "name": "ipython",
    "version": 3
   },
   "file_extension": ".py",
   "mimetype": "text/x-python",
   "name": "python",
   "nbconvert_exporter": "python",
   "pygments_lexer": "ipython3",
   "version": "3.8.13"
  },
  "orig_nbformat": 4
 },
 "nbformat": 4,
 "nbformat_minor": 2
}
