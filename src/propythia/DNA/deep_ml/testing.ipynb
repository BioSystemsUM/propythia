{
 "cells": [
  {
   "cell_type": "markdown",
   "metadata": {},
   "source": [
    "# Identification of human sequences"
   ]
  },
  {
   "cell_type": "markdown",
   "metadata": {},
   "source": [
    "We'll try to replicate the [Classifying human DNA sequence and random ATCG sequences, using keras CNN](https://github.com/onceupon/deep_learning_DNA) problem, but using PyTorch instead."
   ]
  },
  {
   "cell_type": "code",
   "execution_count": 91,
   "metadata": {},
   "outputs": [],
   "source": [
    "import numpy as np\n",
    "import torch.utils.data as data_utils\n",
    "import torch\n",
    "from torch import nn\n",
    "import torch.nn.functional as F\n",
    "import torch.optim as optim\n",
    "from torch.optim.lr_scheduler import StepLR\n",
    "import pandas as pd"
   ]
  },
  {
   "cell_type": "code",
   "execution_count": 92,
   "metadata": {
    "collapsed": true
   },
   "outputs": [
    {
     "name": "stdout",
     "output_type": "stream",
     "text": [
      "(20000, 2)\n",
      "                                            sequence  label\n",
      "0  CTACTCGGGAGGCTGAGGCAGGAGAATCACTTGAACCAGGGAGTCA...      1\n",
      "1  CACCTTATCCAGAGAAGCTTCTTCTTTTAGAAAATCAAGCAAAACA...      1\n",
      "2  AAAGGGGCTGATAGAAAAATAAAGAGATTTGGCCAGGTACGGTGGC...      1\n",
      "3  AAGTGGATATTCAGACCTCCTTGAGGCCTTCGTTGGAAACGGGATT...      1\n",
      "4  ATACCATGACAAAGATATTATTAGCCAATTTTTAGAGAGAAGGAAA...      1\n"
     ]
    }
   ],
   "source": [
    "dataset = pd.read_csv(\"datasets/human-exercise/dataset.csv\")\n",
    "print(dataset.shape)\n",
    "print(dataset.head())"
   ]
  },
  {
   "cell_type": "markdown",
   "metadata": {},
   "source": [
    "As we can see, this dataset contains the sequence and the corresponding positive/negative class labels, with positive class labels corresponding to the human DNA. The amount of positive and negative examples is evenly distributed across the two classes."
   ]
  },
  {
   "cell_type": "code",
   "execution_count": 93,
   "metadata": {},
   "outputs": [
    {
     "data": {
      "text/plain": [
       "<AxesSubplot:xlabel='label'>"
      ]
     },
     "execution_count": 93,
     "metadata": {},
     "output_type": "execute_result"
    },
    {
     "data": {
      "image/png": "[encoded data removed]",
      "text/plain": [
       "<Figure size 432x288 with 1 Axes>"
      ]
     },
     "metadata": {
      "needs_background": "light"
     },
     "output_type": "display_data"
    }
   ],
   "source": [
    "# plot the distribution of each class\n",
    "dataset.groupby('label').size().plot(kind='bar')"
   ]
  },
  {
   "cell_type": "markdown",
   "metadata": {},
   "source": [
    "Now we need to one hot encode the sequences and labels."
   ]
  },
  {
   "cell_type": "code",
   "execution_count": 94,
   "metadata": {},
   "outputs": [
    {
     "data": {
      "text/html": [
       "<div>\n",
       "<style scoped>\n",
       "    .dataframe tbody tr th:only-of-type {\n",
       "        vertical-align: middle;\n",
       "    }\n",
       "\n",
       "    .dataframe tbody tr th {\n",
       "        vertical-align: top;\n",
       "    }\n",
       "\n",
       "    .dataframe thead th {\n",
       "        text-align: right;\n",
       "    }\n",
       "</style>\n",
       "<table border=\"1\" class=\"dataframe\">\n",
       "  <thead>\n",
       "    <tr style=\"text-align: right;\">\n",
       "      <th></th>\n",
       "      <th>sequence</th>\n",
       "      <th>label</th>\n",
       "    </tr>\n",
       "  </thead>\n",
       "  <tbody>\n",
       "    <tr>\n",
       "      <th>0</th>\n",
       "      <td>[[0.0, 1.0, 0.0, 0.0], [0.0, 0.0, 0.0, 1.0], [...</td>\n",
       "      <td>1</td>\n",
       "    </tr>\n",
       "    <tr>\n",
       "      <th>1</th>\n",
       "      <td>[[0.0, 1.0, 0.0, 0.0], [1.0, 0.0, 0.0, 0.0], [...</td>\n",
       "      <td>1</td>\n",
       "    </tr>\n",
       "    <tr>\n",
       "      <th>2</th>\n",
       "      <td>[[1.0, 0.0, 0.0, 0.0], [1.0, 0.0, 0.0, 0.0], [...</td>\n",
       "      <td>1</td>\n",
       "    </tr>\n",
       "    <tr>\n",
       "      <th>3</th>\n",
       "      <td>[[1.0, 0.0, 0.0, 0.0], [1.0, 0.0, 0.0, 0.0], [...</td>\n",
       "      <td>1</td>\n",
       "    </tr>\n",
       "    <tr>\n",
       "      <th>4</th>\n",
       "      <td>[[1.0, 0.0, 0.0, 0.0], [0.0, 0.0, 0.0, 1.0], [...</td>\n",
       "      <td>1</td>\n",
       "    </tr>\n",
       "    <tr>\n",
       "      <th>...</th>\n",
       "      <td>...</td>\n",
       "      <td>...</td>\n",
       "    </tr>\n",
       "    <tr>\n",
       "      <th>19995</th>\n",
       "      <td>[[1.0, 0.0, 0.0, 0.0], [1.0, 0.0, 0.0, 0.0], [...</td>\n",
       "      <td>0</td>\n",
       "    </tr>\n",
       "    <tr>\n",
       "      <th>19996</th>\n",
       "      <td>[[1.0, 0.0, 0.0, 0.0], [0.0, 1.0, 0.0, 0.0], [...</td>\n",
       "      <td>0</td>\n",
       "    </tr>\n",
       "    <tr>\n",
       "      <th>19997</th>\n",
       "      <td>[[0.0, 1.0, 0.0, 0.0], [1.0, 0.0, 0.0, 0.0], [...</td>\n",
       "      <td>0</td>\n",
       "    </tr>\n",
       "    <tr>\n",
       "      <th>19998</th>\n",
       "      <td>[[1.0, 0.0, 0.0, 0.0], [0.0, 0.0, 0.0, 1.0], [...</td>\n",
       "      <td>0</td>\n",
       "    </tr>\n",
       "    <tr>\n",
       "      <th>19999</th>\n",
       "      <td>[[0.0, 1.0, 0.0, 0.0], [0.0, 0.0, 0.0, 1.0], [...</td>\n",
       "      <td>0</td>\n",
       "    </tr>\n",
       "  </tbody>\n",
       "</table>\n",
       "<p>20000 rows × 2 columns</p>\n",
       "</div>"
      ],
      "text/plain": [
       "                                                sequence  label\n",
       "0      [[0.0, 1.0, 0.0, 0.0], [0.0, 0.0, 0.0, 1.0], [...      1\n",
       "1      [[0.0, 1.0, 0.0, 0.0], [1.0, 0.0, 0.0, 0.0], [...      1\n",
       "2      [[1.0, 0.0, 0.0, 0.0], [1.0, 0.0, 0.0, 0.0], [...      1\n",
       "3      [[1.0, 0.0, 0.0, 0.0], [1.0, 0.0, 0.0, 0.0], [...      1\n",
       "4      [[1.0, 0.0, 0.0, 0.0], [0.0, 0.0, 0.0, 1.0], [...      1\n",
       "...                                                  ...    ...\n",
       "19995  [[1.0, 0.0, 0.0, 0.0], [1.0, 0.0, 0.0, 0.0], [...      0\n",
       "19996  [[1.0, 0.0, 0.0, 0.0], [0.0, 1.0, 0.0, 0.0], [...      0\n",
       "19997  [[0.0, 1.0, 0.0, 0.0], [1.0, 0.0, 0.0, 0.0], [...      0\n",
       "19998  [[1.0, 0.0, 0.0, 0.0], [0.0, 0.0, 0.0, 1.0], [...      0\n",
       "19999  [[0.0, 1.0, 0.0, 0.0], [0.0, 0.0, 0.0, 1.0], [...      0\n",
       "\n",
       "[20000 rows x 2 columns]"
      ]
     },
     "execution_count": 94,
     "metadata": {},
     "output_type": "execute_result"
    }
   ],
   "source": [
    "import encoding as enc\n",
    "\n",
    "dna_enc = enc.DNAEncoding(dataset)\n",
    "one_hot_dataset = dna_enc.one_hot_encode() # returns a dataframe\n",
    "one_hot_dataset"
   ]
  },
  {
   "cell_type": "code",
   "execution_count": 95,
   "metadata": {},
   "outputs": [
    {
     "name": "stdout",
     "output_type": "stream",
     "text": [
      "(16000, 250, 4)\n",
      "(16000,)\n",
      "(4000, 250, 4)\n",
      "(4000,)\n"
     ]
    }
   ],
   "source": [
    "# split dataset into train and test\n",
    "train_dataset = one_hot_dataset.sample(frac=0.8, random_state=0)\n",
    "test_dataset = one_hot_dataset.drop(train_dataset.index)\n",
    "\n",
    "# separate features (X) and target (y) variables\n",
    "X_train = np.array(train_dataset['sequence'].to_list())\n",
    "y_train = np.array(train_dataset['label'].to_list())\n",
    "X_test = np.array(test_dataset['sequence'].to_list())\n",
    "y_test = np.array(test_dataset['label'].to_list())\n",
    "\n",
    "print(X_train.shape)\n",
    "print(y_train.shape)\n",
    "print(X_test.shape)\n",
    "print(y_test.shape)"
   ]
  },
  {
   "cell_type": "code",
   "execution_count": 96,
   "metadata": {},
   "outputs": [],
   "source": [
    "device = torch.device(\"cuda\" if torch.cuda.is_available() else \"cpu\")\n",
    "\n",
    "# convert X and y to torch tensors\n",
    "train_data = data_utils.TensorDataset(torch.tensor(X_train), torch.tensor(y_train))\n",
    "train_loader = data_utils.DataLoader(train_data, shuffle=True, batch_size=4)\n",
    "test_data = data_utils.TensorDataset(torch.tensor(X_test), torch.tensor(y_test))\n",
    "test_loader = data_utils.DataLoader(test_data, shuffle=True, batch_size=4)"
   ]
  },
  {
   "cell_type": "code",
   "execution_count": 97,
   "metadata": {},
   "outputs": [],
   "source": [
    "class Net(nn.Module):\n",
    "    def __init__(self):\n",
    "        super(Net, self).__init__()\n",
    "        self.conv1 = nn.Conv2d(4, 4, kernel_size=3, stride=1, padding=1)\n",
    "        self.conv2 = nn.Conv2d(4, 4, kernel_size=3, stride=1, padding=1)\n",
    "        self.dropout1 = nn.Dropout(0.2)\n",
    "        self.dropout2 = nn.Dropout(0.2)\n",
    "        self.fc1 = nn.Linear(250, 100)\n",
    "        self.fc2 = nn.Linear(100, 2)\n",
    "\n",
    "\n",
    "    def forward(self, x):\n",
    "        x = self.conv1(x)\n",
    "        x = F.relu(x)\n",
    "        x = self.conv2(x)\n",
    "        x = F.relu(x)\n",
    "        x = F.max_pool2d(x, 2)\n",
    "        x = self.dropout1(x)\n",
    "        x = torch.flatten(x, 1)\n",
    "        x = self.fc1(x)\n",
    "        x = F.relu(x)\n",
    "        x = self.dropout2(x)\n",
    "        x = self.fc2(x)\n",
    "        output = F.log_softmax(x, dim=1)\n",
    "        return output"
   ]
  },
  {
   "cell_type": "code",
   "execution_count": 98,
   "metadata": {},
   "outputs": [],
   "source": [
    "def train(model, device, train_loader, optimizer, epoch):\n",
    "    model.train()\n",
    "    for batch_idx, (data, target) in enumerate(train_loader):\n",
    "        data, target = data.to(device), target.to(device)\n",
    "        optimizer.zero_grad()\n",
    "        output = model(data)\n",
    "        loss = F.nll_loss(output, target)\n",
    "        loss.backward()\n",
    "        optimizer.step()\n",
    "        if batch_idx % 1000 == 0:\n",
    "            print('Train Epoch: {} [{}/{} ({:.0f}%)]\\tLoss: {:.6f}'.format(\n",
    "                epoch, batch_idx * len(data), len(train_loader.dataset),\n",
    "                100. * batch_idx / len(train_loader), loss.item()))\n",
    "            \n",
    "\n",
    "\n",
    "def test(model, device, test_loader):\n",
    "    model.eval()\n",
    "    test_loss = 0\n",
    "    correct = 0\n",
    "    with torch.no_grad():\n",
    "        for data, target in test_loader:\n",
    "            data, target = data.to(device), target.to(device)\n",
    "            output = model(data)\n",
    "            test_loss += F.nll_loss(output, target, reduction='sum').item()  # sum up batch loss\n",
    "            pred = output.argmax(dim=1, keepdim=True)  # get the index of the max log-probability\n",
    "            correct += pred.eq(target.view_as(pred)).sum().item()\n",
    "\n",
    "    test_loss /= len(test_loader.dataset)\n",
    "\n",
    "    print('\\nTest set: Average loss: {:.4f}, Accuracy: {}/{} ({:.0f}%)\\n'.format(\n",
    "        test_loss, correct, len(test_loader.dataset),\n",
    "        100. * correct / len(test_loader.dataset)))"
   ]
  },
  {
   "cell_type": "code",
   "execution_count": 99,
   "metadata": {},
   "outputs": [
    {
     "name": "stdout",
     "output_type": "stream",
     "text": [
      "Train Epoch: 1 [0/16000 (0%)]\tLoss: 0.704577\n",
      "Train Epoch: 1 [4000/16000 (25%)]\tLoss: 0.682406\n",
      "Train Epoch: 1 [8000/16000 (50%)]\tLoss: 0.757579\n",
      "Train Epoch: 1 [12000/16000 (75%)]\tLoss: 0.654870\n",
      "\n",
      "Test set: Average loss: 0.5823, Accuracy: 2417/4000 (60%)\n",
      "\n",
      "Train Epoch: 2 [0/16000 (0%)]\tLoss: 0.494165\n",
      "Train Epoch: 2 [4000/16000 (25%)]\tLoss: 0.352851\n",
      "Train Epoch: 2 [8000/16000 (50%)]\tLoss: 0.548938\n",
      "Train Epoch: 2 [12000/16000 (75%)]\tLoss: 0.413577\n",
      "\n",
      "Test set: Average loss: 0.4711, Accuracy: 2864/4000 (72%)\n",
      "\n",
      "Train Epoch: 3 [0/16000 (0%)]\tLoss: 0.721146\n",
      "Train Epoch: 3 [4000/16000 (25%)]\tLoss: 0.372819\n",
      "Train Epoch: 3 [8000/16000 (50%)]\tLoss: 0.344883\n",
      "Train Epoch: 3 [12000/16000 (75%)]\tLoss: 0.341757\n",
      "\n",
      "Test set: Average loss: 0.4274, Accuracy: 2904/4000 (73%)\n",
      "\n",
      "Train Epoch: 4 [0/16000 (0%)]\tLoss: 0.346789\n",
      "Train Epoch: 4 [4000/16000 (25%)]\tLoss: 0.360833\n",
      "Train Epoch: 4 [8000/16000 (50%)]\tLoss: 0.346156\n",
      "Train Epoch: 4 [12000/16000 (75%)]\tLoss: 0.346420\n",
      "\n",
      "Test set: Average loss: 0.4063, Accuracy: 2908/4000 (73%)\n",
      "\n",
      "Train Epoch: 5 [0/16000 (0%)]\tLoss: 0.346562\n",
      "Train Epoch: 5 [4000/16000 (25%)]\tLoss: 0.329028\n",
      "Train Epoch: 5 [8000/16000 (50%)]\tLoss: 0.349130\n",
      "Train Epoch: 5 [12000/16000 (75%)]\tLoss: 0.339648\n",
      "\n",
      "Test set: Average loss: 0.4080, Accuracy: 2894/4000 (72%)\n",
      "\n"
     ]
    }
   ],
   "source": [
    "torch.manual_seed(2022)\n",
    "\n",
    "learning_rate = 1\n",
    "gamma = 0.7\n",
    "epochs = 5\n",
    "\n",
    "model = Net().to(device)\n",
    "optimizer = optim.Adadelta(model.parameters(), lr=learning_rate)\n",
    "\n",
    "scheduler = StepLR(optimizer, step_size=1, gamma=gamma)\n",
    "for epoch in range(1,epochs+1):\n",
    "    train(model, device, train_loader, optimizer, epoch)\n",
    "    test(model, device, test_loader)\n",
    "    scheduler.step()"
   ]
  }
 ],
 "metadata": {
  "interpreter": {
   "hash": "ba449ea13c29f64a91968d8f927cecceedd6e605eda30388903386e6cd94168d"
  },
  "kernelspec": {
   "display_name": "Python 2",
   "language": "python",
   "name": "python3"
  },
  "language_info": {
   "codemirror_mode": {
    "name": "ipython",
    "version": 3
   },
   "file_extension": ".py",
   "mimetype": "text/x-python",
   "name": "python",
   "nbconvert_exporter": "python",
   "pygments_lexer": "ipython3",
   "version": "3.8.13"
  }
 },
 "nbformat": 4,
 "nbformat_minor": 1
}
