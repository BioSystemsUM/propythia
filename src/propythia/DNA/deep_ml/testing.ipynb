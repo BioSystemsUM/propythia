{
 "cells": [
  {
   "cell_type": "markdown",
   "metadata": {},
   "source": [
    "# Identification of human sequences"
   ]
  },
  {
   "cell_type": "markdown",
   "metadata": {},
   "source": [
    "We'll try to replicate the [Classifying human DNA sequence and random ATCG sequences, using keras CNN](https://github.com/onceupon/deep_learning_DNA) problem, but using PyTorch instead."
   ]
  },
  {
   "cell_type": "code",
   "execution_count": 9,
   "metadata": {},
   "outputs": [],
   "source": [
    "import torch\n",
    "import torch.utils.data as data_utils\n",
    "from torch import nn\n",
    "import pandas as pd\n",
    "from numpy import argmax\n",
    "from sklearn.model_selection import train_test_split\n",
    "from torch.optim import Adam\n",
    "from torch.optim.lr_scheduler import ReduceLROnPlateau\n",
    "from numpy import vstack\n",
    "from sklearn.metrics import accuracy_score, matthews_corrcoef, confusion_matrix\n",
    "import os\n",
    "import src.encoding as enc"
   ]
  },
  {
   "cell_type": "code",
   "execution_count": 10,
   "metadata": {
    "collapsed": true
   },
   "outputs": [
    {
     "name": "stdout",
     "output_type": "stream",
     "text": [
      "(20000, 2)\n"
     ]
    },
    {
     "data": {
      "text/html": [
       "<div>\n",
       "<style scoped>\n",
       "    .dataframe tbody tr th:only-of-type {\n",
       "        vertical-align: middle;\n",
       "    }\n",
       "\n",
       "    .dataframe tbody tr th {\n",
       "        vertical-align: top;\n",
       "    }\n",
       "\n",
       "    .dataframe thead th {\n",
       "        text-align: right;\n",
       "    }\n",
       "</style>\n",
       "<table border=\"1\" class=\"dataframe\">\n",
       "  <thead>\n",
       "    <tr style=\"text-align: right;\">\n",
       "      <th></th>\n",
       "      <th>sequence</th>\n",
       "      <th>label</th>\n",
       "    </tr>\n",
       "  </thead>\n",
       "  <tbody>\n",
       "    <tr>\n",
       "      <th>0</th>\n",
       "      <td>CTACTCGGGAGGCTGAGGCAGGAGAATCACTTGAACCAGGGAGTCA...</td>\n",
       "      <td>1</td>\n",
       "    </tr>\n",
       "    <tr>\n",
       "      <th>1</th>\n",
       "      <td>CACCTTATCCAGAGAAGCTTCTTCTTTTAGAAAATCAAGCAAAACA...</td>\n",
       "      <td>1</td>\n",
       "    </tr>\n",
       "    <tr>\n",
       "      <th>2</th>\n",
       "      <td>AAAGGGGCTGATAGAAAAATAAAGAGATTTGGCCAGGTACGGTGGC...</td>\n",
       "      <td>1</td>\n",
       "    </tr>\n",
       "    <tr>\n",
       "      <th>3</th>\n",
       "      <td>AAGTGGATATTCAGACCTCCTTGAGGCCTTCGTTGGAAACGGGATT...</td>\n",
       "      <td>1</td>\n",
       "    </tr>\n",
       "    <tr>\n",
       "      <th>4</th>\n",
       "      <td>ATACCATGACAAAGATATTATTAGCCAATTTTTAGAGAGAAGGAAA...</td>\n",
       "      <td>1</td>\n",
       "    </tr>\n",
       "    <tr>\n",
       "      <th>...</th>\n",
       "      <td>...</td>\n",
       "      <td>...</td>\n",
       "    </tr>\n",
       "    <tr>\n",
       "      <th>19995</th>\n",
       "      <td>AAGACGAGTGGTTACCCCCTGTGAGACTGCCGCGCGTGGTGGTCGG...</td>\n",
       "      <td>0</td>\n",
       "    </tr>\n",
       "    <tr>\n",
       "      <th>19996</th>\n",
       "      <td>ACGAGGCCATCTAGAGCGCAACGAAACTGCAAGAAAATACGTCCGA...</td>\n",
       "      <td>0</td>\n",
       "    </tr>\n",
       "    <tr>\n",
       "      <th>19997</th>\n",
       "      <td>CATCTTTACCCAATTTGTGTGTGGAAAGGTGTCAGCGATGCTTTGG...</td>\n",
       "      <td>0</td>\n",
       "    </tr>\n",
       "    <tr>\n",
       "      <th>19998</th>\n",
       "      <td>ATAAGTAACTCCAGTCGAGCGGAAGGTATAGTGGCACGGGGTTTAG...</td>\n",
       "      <td>0</td>\n",
       "    </tr>\n",
       "    <tr>\n",
       "      <th>19999</th>\n",
       "      <td>CTTGTAACGCCATAGCCGAATTTGCTCTATTTTCTTATGTCCCTCT...</td>\n",
       "      <td>0</td>\n",
       "    </tr>\n",
       "  </tbody>\n",
       "</table>\n",
       "<p>20000 rows × 2 columns</p>\n",
       "</div>"
      ],
      "text/plain": [
       "                                                sequence  label\n",
       "0      CTACTCGGGAGGCTGAGGCAGGAGAATCACTTGAACCAGGGAGTCA...      1\n",
       "1      CACCTTATCCAGAGAAGCTTCTTCTTTTAGAAAATCAAGCAAAACA...      1\n",
       "2      AAAGGGGCTGATAGAAAAATAAAGAGATTTGGCCAGGTACGGTGGC...      1\n",
       "3      AAGTGGATATTCAGACCTCCTTGAGGCCTTCGTTGGAAACGGGATT...      1\n",
       "4      ATACCATGACAAAGATATTATTAGCCAATTTTTAGAGAGAAGGAAA...      1\n",
       "...                                                  ...    ...\n",
       "19995  AAGACGAGTGGTTACCCCCTGTGAGACTGCCGCGCGTGGTGGTCGG...      0\n",
       "19996  ACGAGGCCATCTAGAGCGCAACGAAACTGCAAGAAAATACGTCCGA...      0\n",
       "19997  CATCTTTACCCAATTTGTGTGTGGAAAGGTGTCAGCGATGCTTTGG...      0\n",
       "19998  ATAAGTAACTCCAGTCGAGCGGAAGGTATAGTGGCACGGGGTTTAG...      0\n",
       "19999  CTTGTAACGCCATAGCCGAATTTGCTCTATTTTCTTATGTCCCTCT...      0\n",
       "\n",
       "[20000 rows x 2 columns]"
      ]
     },
     "execution_count": 10,
     "metadata": {},
     "output_type": "execute_result"
    }
   ],
   "source": [
    "dataset = pd.read_csv(\"datasets/human-exercise.csv\")\n",
    "print(dataset.shape)\n",
    "dataset"
   ]
  },
  {
   "cell_type": "markdown",
   "metadata": {},
   "source": [
    "As we can see, this dataset contains the sequence and the corresponding positive/negative class labels, with positive class labels corresponding to the human DNA. The amount of positive and negative examples is evenly distributed across the two classes."
   ]
  },
  {
   "cell_type": "code",
   "execution_count": 11,
   "metadata": {},
   "outputs": [
    {
     "name": "stdout",
     "output_type": "stream",
     "text": [
      "1    10000\n",
      "0    10000\n",
      "Name: label, dtype: int64\n"
     ]
    },
    {
     "data": {
      "image/png": "[encoded data removed]",
      "text/plain": [
       "<Figure size 432x288 with 1 Axes>"
      ]
     },
     "metadata": {
      "needs_background": "light"
     },
     "output_type": "display_data"
    }
   ],
   "source": [
    "# plot the distribution of each class\n",
    "dataset.groupby('label').size().plot(kind='bar')\n",
    "\n",
    "print(dataset['label'].value_counts())"
   ]
  },
  {
   "cell_type": "markdown",
   "metadata": {},
   "source": [
    "We need now to split the dataset into training, test and validation sets."
   ]
  },
  {
   "cell_type": "code",
   "execution_count": 12,
   "metadata": {},
   "outputs": [],
   "source": [
    "fps_x = dataset['sequence'].values\n",
    "fps_y = dataset['label'].values\n",
    "\n",
    "x, x_test, y, y_test = train_test_split(\n",
    "    fps_x, fps_y,\n",
    "    test_size=0.2,\n",
    "    train_size=0.8,\n",
    "    stratify=fps_y\n",
    ")\n",
    "x_train, x_cv, y_train, y_cv = train_test_split(\n",
    "    x, y,\n",
    "    test_size=0.25,\n",
    "    train_size=0.75,\n",
    "    stratify=y\n",
    ")"
   ]
  },
  {
   "cell_type": "markdown",
   "metadata": {},
   "source": [
    "Now we need to one hot encode the sequences."
   ]
  },
  {
   "cell_type": "code",
   "execution_count": 13,
   "metadata": {},
   "outputs": [
    {
     "name": "stdout",
     "output_type": "stream",
     "text": [
      "(12000, 250, 4)\n",
      "(12000,)\n",
      "(4000, 250, 4)\n",
      "(4000,)\n",
      "(4000, 250, 4)\n",
      "(4000,)\n"
     ]
    }
   ],
   "source": [
    "x_train_enc = enc.DNAEncoding(x_train)\n",
    "x_train = x_train_enc.one_hot_encode()\n",
    "\n",
    "x_test_enc = enc.DNAEncoding(x_test)\n",
    "x_test = x_test_enc.one_hot_encode()\n",
    "\n",
    "x_cv_enc = enc.DNAEncoding(x_cv)\n",
    "x_cv = x_cv_enc.one_hot_encode()\n",
    "\n",
    "print(x_train.shape)\n",
    "print(y_train.shape)\n",
    "print(x_test.shape)\n",
    "print(y_test.shape)\n",
    "print(x_cv.shape)\n",
    "print(y_cv.shape)\n"
   ]
  },
  {
   "cell_type": "code",
   "execution_count": 14,
   "metadata": {},
   "outputs": [],
   "source": [
    "train_data = data_utils.TensorDataset(\n",
    "    torch.tensor(x_train, dtype=torch.float),\n",
    "    torch.tensor(y_train, dtype=torch.long)\n",
    ")\n",
    "test_data = data_utils.TensorDataset(\n",
    "    torch.tensor(x_test, dtype=torch.float),\n",
    "    torch.tensor(y_test, dtype=torch.long)\n",
    ")\n",
    "valid_data = data_utils.TensorDataset(\n",
    "    torch.tensor(x_cv, dtype=torch.float),\n",
    "    torch.tensor(y_cv, dtype=torch.long)\n",
    ")\n",
    "\n",
    "batch_size = 16\n",
    "\n",
    "# Data loader\n",
    "trainloader = data_utils.DataLoader(\n",
    "    train_data,\n",
    "    shuffle=True,\n",
    "    batch_size=batch_size\n",
    ")\n",
    "testloader = data_utils.DataLoader(\n",
    "    test_data,\n",
    "    shuffle=True,\n",
    "    batch_size=batch_size\n",
    ")\n",
    "validloader = data_utils.DataLoader(\n",
    "    valid_data,\n",
    "    shuffle=True,\n",
    "    batch_size=batch_size\n",
    ")"
   ]
  },
  {
   "cell_type": "markdown",
   "metadata": {},
   "source": [
    "Building the model equivalent to the one in the paper."
   ]
  },
  {
   "cell_type": "code",
   "execution_count": 15,
   "metadata": {},
   "outputs": [],
   "source": [
    "from src.models import Net\n",
    "from src.train import traindata\n",
    "from src.test import test"
   ]
  },
  {
   "cell_type": "code",
   "execution_count": 16,
   "metadata": {},
   "outputs": [
    {
     "name": "stdout",
     "output_type": "stream",
     "text": [
      "[1/100, 0/750] loss: 0.72236013\n",
      "[1/100, 100/750] loss: 0.58320677\n",
      "[1/100, 200/750] loss: 0.53448516\n",
      "[1/100, 300/750] loss: 0.54353732\n",
      "[1/100, 400/750] loss: 0.57001674\n",
      "[1/100, 500/750] loss: 0.46083093\n",
      "[1/100, 600/750] loss: 0.63752681\n",
      "[1/100, 700/750] loss: 0.43186209\n",
      "The Current Loss: 0.3580567539930344\n",
      "trigger times: 0\n",
      "[2/100, 0/750] loss: 0.34374538\n",
      "[2/100, 100/750] loss: 0.50452554\n",
      "[2/100, 200/750] loss: 0.34781852\n",
      "[2/100, 300/750] loss: 0.38474628\n",
      "[2/100, 400/750] loss: 0.48772132\n",
      "[2/100, 500/750] loss: 0.439547\n",
      "[2/100, 600/750] loss: 0.44653255\n",
      "[2/100, 700/750] loss: 0.49700311\n",
      "The Current Loss: 0.34361228728294374\n",
      "trigger times: 0\n",
      "[3/100, 0/750] loss: 0.38650107\n",
      "[3/100, 100/750] loss: 0.61622781\n",
      "[3/100, 200/750] loss: 0.50087816\n",
      "[3/100, 300/750] loss: 0.49983442\n",
      "[3/100, 400/750] loss: 0.38365075\n",
      "[3/100, 500/750] loss: 0.50445825\n",
      "[3/100, 600/750] loss: 0.49833393\n",
      "[3/100, 700/750] loss: 0.55985308\n",
      "The Current Loss: 0.3333751401901245\n",
      "trigger times: 0\n",
      "[4/100, 0/750] loss: 0.50003254\n",
      "[4/100, 100/750] loss: 0.56143481\n",
      "[4/100, 200/750] loss: 0.56088078\n",
      "[4/100, 300/750] loss: 0.50199515\n",
      "[4/100, 400/750] loss: 0.43867111\n",
      "[4/100, 500/750] loss: 0.56179065\n",
      "[4/100, 600/750] loss: 0.56270677\n",
      "[4/100, 700/750] loss: 0.45794261\n",
      "The Current Loss: 0.3337799084186554\n",
      "Trigger Times: 1\n",
      "[5/100, 0/750] loss: 0.46879005\n",
      "[5/100, 100/750] loss: 0.50197536\n",
      "[5/100, 200/750] loss: 0.50034922\n",
      "[5/100, 300/750] loss: 0.37770808\n",
      "[5/100, 400/750] loss: 0.50142205\n",
      "[5/100, 500/750] loss: 0.37687597\n",
      "[5/100, 600/750] loss: 0.37781271\n",
      "[5/100, 700/750] loss: 0.37798625\n",
      "The Current Loss: 0.3291542856693268\n",
      "trigger times: 0\n",
      "[6/100, 0/750] loss: 0.43844339\n",
      "[6/100, 100/750] loss: 0.6239537\n",
      "[6/100, 200/750] loss: 0.68447644\n",
      "[6/100, 300/750] loss: 0.66002113\n",
      "[6/100, 400/750] loss: 0.43891722\n",
      "[6/100, 500/750] loss: 0.37794316\n",
      "[6/100, 600/750] loss: 0.37805423\n",
      "[6/100, 700/750] loss: 0.43508923\n",
      "The Current Loss: 0.332749197602272\n",
      "Trigger Times: 1\n",
      "[7/100, 0/750] loss: 0.37684935\n",
      "[7/100, 100/750] loss: 0.37681592\n",
      "[7/100, 200/750] loss: 0.50065374\n",
      "[7/100, 300/750] loss: 0.56254882\n",
      "[7/100, 400/750] loss: 0.43911609\n",
      "[7/100, 500/750] loss: 0.3761473\n",
      "[7/100, 600/750] loss: 0.3152234\n",
      "[7/100, 700/750] loss: 0.62472731\n",
      "The Current Loss: 0.3782403284311295\n",
      "Trigger Times: 2\n",
      "Early stopping!\n",
      "Start to test process.\n",
      "Accuracy: 0.930\n",
      "MCC: 0.869\n",
      "[[1729  271]\n",
      " [   7 1993]]\n"
     ]
    }
   ],
   "source": [
    "torch.manual_seed(2022)\n",
    "os.environ[\"CUDA_VISIBLE_DEVICES\"] = '4,5'\n",
    "device = torch.device('cuda:0')\n",
    "\n",
    "epochs = 100\n",
    "lr = 0.004\n",
    "loss_function = nn.CrossEntropyLoss()\n",
    "model = Net().to(device)\n",
    "optimizer = Adam(model.parameters(), lr=lr)\n",
    "\n",
    "model = traindata(device, model, epochs, optimizer, loss_function, trainloader, validloader)\n",
    "\n",
    "# Test\n",
    "acc, mcc, report = test(device, model, testloader)\n",
    "print('Accuracy: %.3f' % acc)\n",
    "print('MCC: %.3f' % mcc)\n",
    "print(report)"
   ]
  }
 ],
 "metadata": {
  "interpreter": {
   "hash": "ba449ea13c29f64a91968d8f927cecceedd6e605eda30388903386e6cd94168d"
  },
  "kernelspec": {
   "display_name": "Python 2",
   "language": "python",
   "name": "python3"
  },
  "language_info": {
   "codemirror_mode": {
    "name": "ipython",
    "version": 3
   },
   "file_extension": ".py",
   "mimetype": "text/x-python",
   "name": "python",
   "nbconvert_exporter": "python",
   "pygments_lexer": "ipython3",
   "version": "3.8.13"
  }
 },
 "nbformat": 4,
 "nbformat_minor": 1
}
