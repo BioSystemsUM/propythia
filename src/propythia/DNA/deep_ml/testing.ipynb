{
 "cells": [
  {
   "cell_type": "markdown",
   "metadata": {},
   "source": [
    "# Identification of human sequences"
   ]
  },
  {
   "cell_type": "markdown",
   "metadata": {},
   "source": [
    "We'll try to replicate the [Classifying human DNA sequence and random ATCG sequences, using keras CNN](https://github.com/onceupon/deep_learning_DNA) problem, but using PyTorch instead."
   ]
  },
  {
   "cell_type": "code",
   "execution_count": 1,
   "metadata": {},
   "outputs": [],
   "source": [
    "import torch.utils.data as data_utils\n",
    "import torch\n",
    "from torch import nn\n",
    "import pandas as pd\n",
    "from numpy import argmax\n",
    "from sklearn.model_selection import train_test_split\n",
    "from torch.optim import Adam\n",
    "from numpy import vstack\n",
    "from sklearn.metrics import accuracy_score, matthews_corrcoef, confusion_matrix\n",
    "from torch import Tensor\n",
    "import os"
   ]
  },
  {
   "cell_type": "code",
   "execution_count": 2,
   "metadata": {
    "collapsed": true
   },
   "outputs": [
    {
     "name": "stdout",
     "output_type": "stream",
     "text": [
      "(20000, 2)\n"
     ]
    },
    {
     "data": {
      "text/html": [
       "<div>\n",
       "<style scoped>\n",
       "    .dataframe tbody tr th:only-of-type {\n",
       "        vertical-align: middle;\n",
       "    }\n",
       "\n",
       "    .dataframe tbody tr th {\n",
       "        vertical-align: top;\n",
       "    }\n",
       "\n",
       "    .dataframe thead th {\n",
       "        text-align: right;\n",
       "    }\n",
       "</style>\n",
       "<table border=\"1\" class=\"dataframe\">\n",
       "  <thead>\n",
       "    <tr style=\"text-align: right;\">\n",
       "      <th></th>\n",
       "      <th>sequence</th>\n",
       "      <th>label</th>\n",
       "    </tr>\n",
       "  </thead>\n",
       "  <tbody>\n",
       "    <tr>\n",
       "      <th>0</th>\n",
       "      <td>CTACTCGGGAGGCTGAGGCAGGAGAATCACTTGAACCAGGGAGTCA...</td>\n",
       "      <td>1</td>\n",
       "    </tr>\n",
       "    <tr>\n",
       "      <th>1</th>\n",
       "      <td>CACCTTATCCAGAGAAGCTTCTTCTTTTAGAAAATCAAGCAAAACA...</td>\n",
       "      <td>1</td>\n",
       "    </tr>\n",
       "    <tr>\n",
       "      <th>2</th>\n",
       "      <td>AAAGGGGCTGATAGAAAAATAAAGAGATTTGGCCAGGTACGGTGGC...</td>\n",
       "      <td>1</td>\n",
       "    </tr>\n",
       "    <tr>\n",
       "      <th>3</th>\n",
       "      <td>AAGTGGATATTCAGACCTCCTTGAGGCCTTCGTTGGAAACGGGATT...</td>\n",
       "      <td>1</td>\n",
       "    </tr>\n",
       "    <tr>\n",
       "      <th>4</th>\n",
       "      <td>ATACCATGACAAAGATATTATTAGCCAATTTTTAGAGAGAAGGAAA...</td>\n",
       "      <td>1</td>\n",
       "    </tr>\n",
       "    <tr>\n",
       "      <th>...</th>\n",
       "      <td>...</td>\n",
       "      <td>...</td>\n",
       "    </tr>\n",
       "    <tr>\n",
       "      <th>19995</th>\n",
       "      <td>AAGACGAGTGGTTACCCCCTGTGAGACTGCCGCGCGTGGTGGTCGG...</td>\n",
       "      <td>0</td>\n",
       "    </tr>\n",
       "    <tr>\n",
       "      <th>19996</th>\n",
       "      <td>ACGAGGCCATCTAGAGCGCAACGAAACTGCAAGAAAATACGTCCGA...</td>\n",
       "      <td>0</td>\n",
       "    </tr>\n",
       "    <tr>\n",
       "      <th>19997</th>\n",
       "      <td>CATCTTTACCCAATTTGTGTGTGGAAAGGTGTCAGCGATGCTTTGG...</td>\n",
       "      <td>0</td>\n",
       "    </tr>\n",
       "    <tr>\n",
       "      <th>19998</th>\n",
       "      <td>ATAAGTAACTCCAGTCGAGCGGAAGGTATAGTGGCACGGGGTTTAG...</td>\n",
       "      <td>0</td>\n",
       "    </tr>\n",
       "    <tr>\n",
       "      <th>19999</th>\n",
       "      <td>CTTGTAACGCCATAGCCGAATTTGCTCTATTTTCTTATGTCCCTCT...</td>\n",
       "      <td>0</td>\n",
       "    </tr>\n",
       "  </tbody>\n",
       "</table>\n",
       "<p>20000 rows × 2 columns</p>\n",
       "</div>"
      ],
      "text/plain": [
       "                                                sequence  label\n",
       "0      CTACTCGGGAGGCTGAGGCAGGAGAATCACTTGAACCAGGGAGTCA...      1\n",
       "1      CACCTTATCCAGAGAAGCTTCTTCTTTTAGAAAATCAAGCAAAACA...      1\n",
       "2      AAAGGGGCTGATAGAAAAATAAAGAGATTTGGCCAGGTACGGTGGC...      1\n",
       "3      AAGTGGATATTCAGACCTCCTTGAGGCCTTCGTTGGAAACGGGATT...      1\n",
       "4      ATACCATGACAAAGATATTATTAGCCAATTTTTAGAGAGAAGGAAA...      1\n",
       "...                                                  ...    ...\n",
       "19995  AAGACGAGTGGTTACCCCCTGTGAGACTGCCGCGCGTGGTGGTCGG...      0\n",
       "19996  ACGAGGCCATCTAGAGCGCAACGAAACTGCAAGAAAATACGTCCGA...      0\n",
       "19997  CATCTTTACCCAATTTGTGTGTGGAAAGGTGTCAGCGATGCTTTGG...      0\n",
       "19998  ATAAGTAACTCCAGTCGAGCGGAAGGTATAGTGGCACGGGGTTTAG...      0\n",
       "19999  CTTGTAACGCCATAGCCGAATTTGCTCTATTTTCTTATGTCCCTCT...      0\n",
       "\n",
       "[20000 rows x 2 columns]"
      ]
     },
     "execution_count": 2,
     "metadata": {},
     "output_type": "execute_result"
    }
   ],
   "source": [
    "dataset = pd.read_csv(\"datasets/human-exercise/dataset.csv\")\n",
    "print(dataset.shape)\n",
    "dataset"
   ]
  },
  {
   "cell_type": "markdown",
   "metadata": {},
   "source": [
    "As we can see, this dataset contains the sequence and the corresponding positive/negative class labels, with positive class labels corresponding to the human DNA. The amount of positive and negative examples is evenly distributed across the two classes."
   ]
  },
  {
   "cell_type": "code",
   "execution_count": 3,
   "metadata": {},
   "outputs": [
    {
     "name": "stdout",
     "output_type": "stream",
     "text": [
      "1    10000\n",
      "0    10000\n",
      "Name: label, dtype: int64\n"
     ]
    },
    {
     "data": {
      "image/png": "[encoded data removed]",
      "text/plain": [
       "<Figure size 432x288 with 1 Axes>"
      ]
     },
     "metadata": {
      "needs_background": "light"
     },
     "output_type": "display_data"
    }
   ],
   "source": [
    "# plot the distribution of each class\n",
    "dataset.groupby('label').size().plot(kind='bar')\n",
    "\n",
    "print(dataset['label'].value_counts())"
   ]
  },
  {
   "cell_type": "markdown",
   "metadata": {},
   "source": [
    "We need now to split the dataset into training and validation sets."
   ]
  },
  {
   "cell_type": "code",
   "execution_count": 4,
   "metadata": {},
   "outputs": [],
   "source": [
    "fps_x = dataset['sequence'].values\n",
    "fps_y = dataset['label'].values\n",
    "\n",
    "X_train, X_test, y_train, y_test = train_test_split(fps_x, fps_y, stratify=fps_y)"
   ]
  },
  {
   "cell_type": "markdown",
   "metadata": {},
   "source": [
    "Now we need to one hot encode the sequences."
   ]
  },
  {
   "cell_type": "code",
   "execution_count": 5,
   "metadata": {},
   "outputs": [
    {
     "name": "stdout",
     "output_type": "stream",
     "text": [
      "(15000, 250, 4)\n",
      "(15000,)\n",
      "(5000, 250, 4)\n",
      "(5000,)\n"
     ]
    }
   ],
   "source": [
    "import encoding as enc\n",
    "X_train_enc = enc.DNAEncoding(X_train)\n",
    "X_train = X_train_enc.one_hot_encode()\n",
    "\n",
    "# y_train_enc = enc.DNAEncoding(y_train)\n",
    "# y_train = y_train_enc.one_hot_encode()\n",
    "\n",
    "X_test_enc = enc.DNAEncoding(X_test)\n",
    "X_test = X_test_enc.one_hot_encode()\n",
    "\n",
    "# y_test_enc = enc.DNAEncoding(y_test)\n",
    "# y_test = y_test_enc.one_hot_encode()\n",
    "\n",
    "print(X_train.shape)\n",
    "print(y_train.shape)\n",
    "print(X_test.shape)\n",
    "print(y_test.shape)"
   ]
  },
  {
   "cell_type": "code",
   "execution_count": 6,
   "metadata": {},
   "outputs": [],
   "source": [
    "train_data = data_utils.TensorDataset(torch.tensor(X_train, dtype=torch.float), torch.tensor(y_train, dtype=torch.long))\n",
    "train_loader = data_utils.DataLoader(train_data, shuffle=True, batch_size=16)\n",
    "test_data = data_utils.TensorDataset(torch.tensor(X_test, dtype=torch.float), torch.tensor(y_test, dtype=torch.long))\n",
    "test_loader = data_utils.DataLoader(test_data, shuffle=True, batch_size=16)"
   ]
  },
  {
   "cell_type": "markdown",
   "metadata": {},
   "source": [
    "Building the model equivalent to the one in the paper."
   ]
  },
  {
   "cell_type": "code",
   "execution_count": 7,
   "metadata": {},
   "outputs": [],
   "source": [
    "class Net(nn.Module):\n",
    "    def __init__(self):\n",
    "        super(Net, self).__init__()\n",
    "        self.conv1 = nn.Conv1d(4, 20, 10, stride=1, padding=0)\n",
    "        self.fc1 = nn.Linear(940, 10)\n",
    "        self.dropout1 = nn.Dropout(0.5)\n",
    "        self.fc2 = nn.Linear(10, 2)\n",
    "\n",
    "        self.max_pool = nn.MaxPool1d(10, stride=5)\n",
    "\n",
    "        self.act1 = nn.ReLU()\n",
    "        self.act2 = nn.ReLU()\n",
    "        self.act3 = nn.Softmax(dim=1)\n",
    "\n",
    "    def forward(self, x):\n",
    "        x = x.permute(0, 2, 1)\n",
    "        x = self.conv1(x)\n",
    "        x = self.act1(x)\n",
    "        x = self.max_pool(x)\n",
    "        x = x.reshape(x.shape[0], -1)\n",
    "        x = self.fc1(x)\n",
    "        x = self.act2(x)\n",
    "        x = self.dropout1(x)\n",
    "        x = self.fc2(x)\n",
    "        x = self.act3(x)\n",
    "\n",
    "        return x"
   ]
  },
  {
   "cell_type": "code",
   "execution_count": 8,
   "metadata": {},
   "outputs": [],
   "source": [
    "def train_model(train_loader, model, epochs, device):\n",
    "    criterion = nn.CrossEntropyLoss()\n",
    "    optimizer = Adam(model.parameters(), lr=0.01)\n",
    "    for epoch in range(epochs):\n",
    "        for i, (inputs, targets) in enumerate(train_loader):\n",
    "            inputs, targets = inputs.to(device), targets.to(device)\n",
    "            optimizer.zero_grad()\n",
    "            yhat = model(inputs)\n",
    "            loss = criterion(yhat, targets)\n",
    "            loss.backward()\n",
    "            optimizer.step()\n",
    "        print(f'Epoch: {epoch}, Loss: {loss}')\n",
    "\n",
    "\n",
    "def evaluate_model(test_loader, model, device):\n",
    "    predictions, actuals = list(), list()\n",
    "    for i, (inputs, targets) in enumerate(test_loader):\n",
    "        inputs, targets = inputs.to(device), targets.to(device)\n",
    "        yhat = model(inputs)\n",
    "        yhat = yhat.cpu().detach().numpy()\n",
    "        actual = targets.cpu().numpy()\n",
    "        actual = actual.reshape((len(actual), 1))\n",
    "        yhat = argmax(yhat, axis=1)\n",
    "        yhat = yhat.reshape((len(yhat), 1))\n",
    "        predictions.append(yhat)\n",
    "        actuals.append(actual)\n",
    "    predictions, actuals = vstack(predictions), vstack(actuals)\n",
    "    acc = accuracy_score(actuals, predictions)\n",
    "    mcc = matthews_corrcoef(actuals, predictions)\n",
    "    report = confusion_matrix(actuals, predictions)\n",
    "    return acc, mcc, report\n",
    "\n",
    "def predict(row, model):\n",
    "    row = Tensor([row])\n",
    "    yhat = model(row)\n",
    "    yhat = yhat.detach().numpy()\n",
    "    return yhat"
   ]
  },
  {
   "cell_type": "code",
   "execution_count": 9,
   "metadata": {},
   "outputs": [
    {
     "name": "stdout",
     "output_type": "stream",
     "text": [
      "Epoch: 0, Loss: 0.31526169180870056\n",
      "Epoch: 1, Loss: 0.3139423727989197\n",
      "Epoch: 2, Loss: 0.5593253374099731\n",
      "Epoch: 3, Loss: 0.31360873579978943\n",
      "Epoch: 4, Loss: 0.4380377233028412\n",
      "Accuracy: 0.950\n",
      "MCC: 0.902\n",
      "[[2447   53]\n",
      " [ 195 2305]]\n"
     ]
    }
   ],
   "source": [
    "torch.manual_seed(2022)\n",
    "os.environ[\"CUDA_VISIBLE_DEVICES\"] = '4,5'\n",
    "device = torch.device('cuda:0')\n",
    "epochs = 5\n",
    "\n",
    "model = Net()\n",
    "model.to(device)\n",
    "\n",
    "train_model(train_loader, model, epochs, device)\n",
    "acc, mcc, report = evaluate_model(test_loader, model, device)\n",
    "\n",
    "print('Accuracy: %.3f' % acc)\n",
    "print('MCC: %.3f' % mcc)\n",
    "print(report)"
   ]
  }
 ],
 "metadata": {
  "interpreter": {
   "hash": "ba449ea13c29f64a91968d8f927cecceedd6e605eda30388903386e6cd94168d"
  },
  "kernelspec": {
   "display_name": "Python 2",
   "language": "python",
   "name": "python3"
  },
  "language_info": {
   "codemirror_mode": {
    "name": "ipython",
    "version": 3
   },
   "file_extension": ".py",
   "mimetype": "text/x-python",
   "name": "python",
   "nbconvert_exporter": "python",
   "pygments_lexer": "ipython3",
   "version": "3.8.13"
  }
 },
 "nbformat": 4,
 "nbformat_minor": 1
}
