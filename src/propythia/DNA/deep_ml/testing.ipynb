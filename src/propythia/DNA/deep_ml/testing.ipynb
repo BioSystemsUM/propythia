{
 "cells": [
  {
   "cell_type": "markdown",
   "metadata": {},
   "source": [
    "# Identification of human sequences"
   ]
  },
  {
   "cell_type": "markdown",
   "metadata": {},
   "source": [
    "We'll try to replicate the [Classifying human DNA sequence and random ATCG sequences, using keras CNN](https://github.com/onceupon/deep_learning_DNA) problem, but using PyTorch instead."
   ]
  },
  {
   "cell_type": "code",
   "execution_count": 13,
   "metadata": {},
   "outputs": [],
   "source": [
    "import torch\n",
    "import torch.utils.data as data_utils\n",
    "from torch import nn\n",
    "import pandas as pd\n",
    "from torch.optim import Adam\n",
    "import os\n",
    "import src.encoding as enc"
   ]
  },
  {
   "cell_type": "code",
   "execution_count": 14,
   "metadata": {
    "collapsed": true
   },
   "outputs": [
    {
     "name": "stdout",
     "output_type": "stream",
     "text": [
      "(20000, 2)\n"
     ]
    },
    {
     "data": {
      "text/html": [
       "<div>\n",
       "<style scoped>\n",
       "    .dataframe tbody tr th:only-of-type {\n",
       "        vertical-align: middle;\n",
       "    }\n",
       "\n",
       "    .dataframe tbody tr th {\n",
       "        vertical-align: top;\n",
       "    }\n",
       "\n",
       "    .dataframe thead th {\n",
       "        text-align: right;\n",
       "    }\n",
       "</style>\n",
       "<table border=\"1\" class=\"dataframe\">\n",
       "  <thead>\n",
       "    <tr style=\"text-align: right;\">\n",
       "      <th></th>\n",
       "      <th>sequence</th>\n",
       "      <th>label</th>\n",
       "    </tr>\n",
       "  </thead>\n",
       "  <tbody>\n",
       "    <tr>\n",
       "      <th>0</th>\n",
       "      <td>CTACTCGGGAGGCTGAGGCAGGAGAATCACTTGAACCAGGGAGTCA...</td>\n",
       "      <td>1</td>\n",
       "    </tr>\n",
       "    <tr>\n",
       "      <th>1</th>\n",
       "      <td>CACCTTATCCAGAGAAGCTTCTTCTTTTAGAAAATCAAGCAAAACA...</td>\n",
       "      <td>1</td>\n",
       "    </tr>\n",
       "    <tr>\n",
       "      <th>2</th>\n",
       "      <td>AAAGGGGCTGATAGAAAAATAAAGAGATTTGGCCAGGTACGGTGGC...</td>\n",
       "      <td>1</td>\n",
       "    </tr>\n",
       "    <tr>\n",
       "      <th>3</th>\n",
       "      <td>AAGTGGATATTCAGACCTCCTTGAGGCCTTCGTTGGAAACGGGATT...</td>\n",
       "      <td>1</td>\n",
       "    </tr>\n",
       "    <tr>\n",
       "      <th>4</th>\n",
       "      <td>ATACCATGACAAAGATATTATTAGCCAATTTTTAGAGAGAAGGAAA...</td>\n",
       "      <td>1</td>\n",
       "    </tr>\n",
       "    <tr>\n",
       "      <th>...</th>\n",
       "      <td>...</td>\n",
       "      <td>...</td>\n",
       "    </tr>\n",
       "    <tr>\n",
       "      <th>19995</th>\n",
       "      <td>AAGACGAGTGGTTACCCCCTGTGAGACTGCCGCGCGTGGTGGTCGG...</td>\n",
       "      <td>0</td>\n",
       "    </tr>\n",
       "    <tr>\n",
       "      <th>19996</th>\n",
       "      <td>ACGAGGCCATCTAGAGCGCAACGAAACTGCAAGAAAATACGTCCGA...</td>\n",
       "      <td>0</td>\n",
       "    </tr>\n",
       "    <tr>\n",
       "      <th>19997</th>\n",
       "      <td>CATCTTTACCCAATTTGTGTGTGGAAAGGTGTCAGCGATGCTTTGG...</td>\n",
       "      <td>0</td>\n",
       "    </tr>\n",
       "    <tr>\n",
       "      <th>19998</th>\n",
       "      <td>ATAAGTAACTCCAGTCGAGCGGAAGGTATAGTGGCACGGGGTTTAG...</td>\n",
       "      <td>0</td>\n",
       "    </tr>\n",
       "    <tr>\n",
       "      <th>19999</th>\n",
       "      <td>CTTGTAACGCCATAGCCGAATTTGCTCTATTTTCTTATGTCCCTCT...</td>\n",
       "      <td>0</td>\n",
       "    </tr>\n",
       "  </tbody>\n",
       "</table>\n",
       "<p>20000 rows × 2 columns</p>\n",
       "</div>"
      ],
      "text/plain": [
       "                                                sequence  label\n",
       "0      CTACTCGGGAGGCTGAGGCAGGAGAATCACTTGAACCAGGGAGTCA...      1\n",
       "1      CACCTTATCCAGAGAAGCTTCTTCTTTTAGAAAATCAAGCAAAACA...      1\n",
       "2      AAAGGGGCTGATAGAAAAATAAAGAGATTTGGCCAGGTACGGTGGC...      1\n",
       "3      AAGTGGATATTCAGACCTCCTTGAGGCCTTCGTTGGAAACGGGATT...      1\n",
       "4      ATACCATGACAAAGATATTATTAGCCAATTTTTAGAGAGAAGGAAA...      1\n",
       "...                                                  ...    ...\n",
       "19995  AAGACGAGTGGTTACCCCCTGTGAGACTGCCGCGCGTGGTGGTCGG...      0\n",
       "19996  ACGAGGCCATCTAGAGCGCAACGAAACTGCAAGAAAATACGTCCGA...      0\n",
       "19997  CATCTTTACCCAATTTGTGTGTGGAAAGGTGTCAGCGATGCTTTGG...      0\n",
       "19998  ATAAGTAACTCCAGTCGAGCGGAAGGTATAGTGGCACGGGGTTTAG...      0\n",
       "19999  CTTGTAACGCCATAGCCGAATTTGCTCTATTTTCTTATGTCCCTCT...      0\n",
       "\n",
       "[20000 rows x 2 columns]"
      ]
     },
     "execution_count": 14,
     "metadata": {},
     "output_type": "execute_result"
    }
   ],
   "source": [
    "dataset = pd.read_csv(\"datasets/testing/human-exercise.csv\")\n",
    "print(dataset.shape)\n",
    "dataset"
   ]
  },
  {
   "cell_type": "markdown",
   "metadata": {},
   "source": [
    "As we can see, this dataset contains the sequence and the corresponding positive/negative class labels, with positive class labels corresponding to the human DNA. The amount of positive and negative examples is evenly distributed across the two classes."
   ]
  },
  {
   "cell_type": "code",
   "execution_count": 15,
   "metadata": {},
   "outputs": [
    {
     "name": "stdout",
     "output_type": "stream",
     "text": [
      "1    10000\n",
      "0    10000\n",
      "Name: label, dtype: int64\n"
     ]
    },
    {
     "data": {
      "image/png": "[encoded data removed]",
      "text/plain": [
       "<Figure size 432x288 with 1 Axes>"
      ]
     },
     "metadata": {
      "needs_background": "light"
     },
     "output_type": "display_data"
    }
   ],
   "source": [
    "# plot the distribution of each class\n",
    "dataset.groupby('label').size().plot(kind='bar')\n",
    "\n",
    "print(dataset['label'].value_counts())"
   ]
  },
  {
   "cell_type": "markdown",
   "metadata": {},
   "source": [
    "We need now to split the dataset into training, test and validation sets."
   ]
  },
  {
   "cell_type": "code",
   "execution_count": 16,
   "metadata": {},
   "outputs": [],
   "source": [
    "fps_x = dataset['sequence'].values\n",
    "fps_y = dataset['label'].values"
   ]
  },
  {
   "cell_type": "markdown",
   "metadata": {},
   "source": [
    "Building the model equivalent to the one in the paper."
   ]
  },
  {
   "cell_type": "code",
   "execution_count": 17,
   "metadata": {},
   "outputs": [
    {
     "name": "stdout",
     "output_type": "stream",
     "text": [
      "The autoreload extension is already loaded. To reload it, use:\n",
      "  %reload_ext autoreload\n"
     ]
    }
   ],
   "source": [
    "%load_ext autoreload\n",
    "%autoreload 2\n",
    "from src.models import Net\n",
    "from src.train import traindata\n",
    "from src.test import test\n",
    "from src.prepare_data import prepare_data"
   ]
  },
  {
   "cell_type": "code",
   "execution_count": 18,
   "metadata": {},
   "outputs": [
    {
     "name": "stdout",
     "output_type": "stream",
     "text": [
      "x_train.shape: (12000, 250, 4)\n",
      "y_train.shape: (12000,)\n",
      "x_test.shape: (4000, 250, 4)\n",
      "y_test.shape: (4000,)\n",
      "x_cv.shape: (4000, 250, 4)\n",
      "y_cv.shape: (4000,)\n",
      "[1/100, 0/750] loss: 0.65400922\n",
      "[1/100, 100/750] loss: 0.56396806\n",
      "[1/100, 200/750] loss: 0.42583612\n",
      "[1/100, 300/750] loss: 0.45813543\n",
      "[1/100, 400/750] loss: 0.4750354\n",
      "[1/100, 500/750] loss: 0.37468842\n",
      "[1/100, 600/750] loss: 0.39981669\n",
      "[1/100, 700/750] loss: 0.37857983\n",
      "The Current Loss: 0.3295469402074814\n",
      "trigger times: 0\n",
      "[2/100, 0/750] loss: 0.32722062\n",
      "[2/100, 100/750] loss: 0.32195234\n",
      "[2/100, 200/750] loss: 0.40032765\n",
      "[2/100, 300/750] loss: 0.37809104\n",
      "[2/100, 400/750] loss: 0.31472594\n",
      "[2/100, 500/750] loss: 0.38382658\n",
      "[2/100, 600/750] loss: 0.4411293\n",
      "[2/100, 700/750] loss: 0.32032967\n",
      "The Current Loss: 0.3268485641479492\n",
      "trigger times: 0\n",
      "[3/100, 0/750] loss: 0.37900347\n",
      "[3/100, 100/750] loss: 0.37352976\n",
      "[3/100, 200/750] loss: 0.31326753\n",
      "[3/100, 300/750] loss: 0.31694633\n",
      "[3/100, 400/750] loss: 0.31590736\n",
      "[3/100, 500/750] loss: 0.31578314\n",
      "[3/100, 600/750] loss: 0.31585681\n",
      "[3/100, 700/750] loss: 0.31641585\n",
      "The Current Loss: 0.32665971755981443\n",
      "trigger times: 0\n",
      "[4/100, 0/750] loss: 0.31477645\n",
      "[4/100, 100/750] loss: 0.3169184\n",
      "[4/100, 200/750] loss: 0.37631449\n",
      "[4/100, 300/750] loss: 0.31335548\n",
      "[4/100, 400/750] loss: 0.31506586\n",
      "[4/100, 500/750] loss: 0.31397173\n",
      "[4/100, 600/750] loss: 0.31558424\n",
      "[4/100, 700/750] loss: 0.3147999\n",
      "The Current Loss: 0.3289412496089935\n",
      "Trigger Times: 1\n",
      "[5/100, 0/750] loss: 0.377543\n",
      "[5/100, 100/750] loss: 0.31470138\n",
      "[5/100, 200/750] loss: 0.31428212\n",
      "[5/100, 300/750] loss: 0.31391773\n",
      "[5/100, 400/750] loss: 0.37689686\n",
      "[5/100, 500/750] loss: 0.31449729\n",
      "[5/100, 600/750] loss: 0.31444746\n",
      "[5/100, 700/750] loss: 0.31364504\n",
      "The Current Loss: 0.33981507456302645\n",
      "Trigger Times: 2\n",
      "Early stopping!\n",
      "Start to test process.\n",
      "Accuracy: 0.964\n",
      "MCC: 0.928\n",
      "[[1874  126]\n",
      " [  20 1980]]\n"
     ]
    }
   ],
   "source": [
    "torch.manual_seed(2022)\n",
    "os.environ[\"CUDA_VISIBLE_DEVICES\"] = '4,5'\n",
    "device = torch.device('cuda:0')\n",
    "\n",
    "epochs = 100\n",
    "lr = 0.004\n",
    "loss_function = nn.CrossEntropyLoss()\n",
    "model = Net().to(device)\n",
    "optimizer = Adam(model.parameters(), lr=lr)\n",
    "\n",
    "trainloader, testloader, validloader = prepare_data(\n",
    "    fps_x, fps_y, \n",
    "    mode='one_hot',\n",
    "    batch_size=16, \n",
    ")\n",
    "model = traindata(device, model, epochs, optimizer, loss_function, trainloader, validloader, patience=2)\n",
    "\n",
    "# Test\n",
    "acc, mcc, report = test(device, model, testloader)\n",
    "print('Accuracy: %.3f' % acc)\n",
    "print('MCC: %.3f' % mcc)\n",
    "print(report)"
   ]
  }
 ],
 "metadata": {
  "interpreter": {
   "hash": "ba449ea13c29f64a91968d8f927cecceedd6e605eda30388903386e6cd94168d"
  },
  "kernelspec": {
   "display_name": "Python 2",
   "language": "python",
   "name": "python3"
  },
  "language_info": {
   "codemirror_mode": {
    "name": "ipython",
    "version": 3
   },
   "file_extension": ".py",
   "mimetype": "text/x-python",
   "name": "python",
   "nbconvert_exporter": "python",
   "pygments_lexer": "ipython3",
   "version": "3.8.13"
  }
 },
 "nbformat": 4,
 "nbformat_minor": 1
}
