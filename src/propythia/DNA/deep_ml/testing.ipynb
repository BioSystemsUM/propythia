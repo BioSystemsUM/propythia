{
 "cells": [
  {
   "cell_type": "markdown",
   "metadata": {},
   "source": [
    "# Identification of human sequences"
   ]
  },
  {
   "cell_type": "markdown",
   "metadata": {},
   "source": [
    "We'll try to replicate the [Classifying human DNA sequence and random ATCG sequences, using keras CNN](https://github.com/onceupon/deep_learning_DNA) problem, but using PyTorch instead."
   ]
  },
  {
   "cell_type": "code",
   "execution_count": 1,
   "metadata": {},
   "outputs": [],
   "source": [
    "import torch\n",
    "import torch.utils.data as data_utils\n",
    "from torch import nn\n",
    "import pandas as pd\n",
    "from numpy import argmax\n",
    "from sklearn.model_selection import train_test_split\n",
    "from torch.optim import Adam\n",
    "from torch.optim.lr_scheduler import ReduceLROnPlateau\n",
    "from numpy import vstack\n",
    "from sklearn.metrics import accuracy_score, matthews_corrcoef, confusion_matrix\n",
    "import os\n",
    "import src.encoding as enc"
   ]
  },
  {
   "cell_type": "code",
   "execution_count": 2,
   "metadata": {
    "collapsed": true
   },
   "outputs": [
    {
     "name": "stdout",
     "output_type": "stream",
     "text": [
      "(20000, 2)\n"
     ]
    },
    {
     "data": {
      "text/html": [
       "<div>\n",
       "<style scoped>\n",
       "    .dataframe tbody tr th:only-of-type {\n",
       "        vertical-align: middle;\n",
       "    }\n",
       "\n",
       "    .dataframe tbody tr th {\n",
       "        vertical-align: top;\n",
       "    }\n",
       "\n",
       "    .dataframe thead th {\n",
       "        text-align: right;\n",
       "    }\n",
       "</style>\n",
       "<table border=\"1\" class=\"dataframe\">\n",
       "  <thead>\n",
       "    <tr style=\"text-align: right;\">\n",
       "      <th></th>\n",
       "      <th>sequence</th>\n",
       "      <th>label</th>\n",
       "    </tr>\n",
       "  </thead>\n",
       "  <tbody>\n",
       "    <tr>\n",
       "      <th>0</th>\n",
       "      <td>CTACTCGGGAGGCTGAGGCAGGAGAATCACTTGAACCAGGGAGTCA...</td>\n",
       "      <td>1</td>\n",
       "    </tr>\n",
       "    <tr>\n",
       "      <th>1</th>\n",
       "      <td>CACCTTATCCAGAGAAGCTTCTTCTTTTAGAAAATCAAGCAAAACA...</td>\n",
       "      <td>1</td>\n",
       "    </tr>\n",
       "    <tr>\n",
       "      <th>2</th>\n",
       "      <td>AAAGGGGCTGATAGAAAAATAAAGAGATTTGGCCAGGTACGGTGGC...</td>\n",
       "      <td>1</td>\n",
       "    </tr>\n",
       "    <tr>\n",
       "      <th>3</th>\n",
       "      <td>AAGTGGATATTCAGACCTCCTTGAGGCCTTCGTTGGAAACGGGATT...</td>\n",
       "      <td>1</td>\n",
       "    </tr>\n",
       "    <tr>\n",
       "      <th>4</th>\n",
       "      <td>ATACCATGACAAAGATATTATTAGCCAATTTTTAGAGAGAAGGAAA...</td>\n",
       "      <td>1</td>\n",
       "    </tr>\n",
       "    <tr>\n",
       "      <th>...</th>\n",
       "      <td>...</td>\n",
       "      <td>...</td>\n",
       "    </tr>\n",
       "    <tr>\n",
       "      <th>19995</th>\n",
       "      <td>AAGACGAGTGGTTACCCCCTGTGAGACTGCCGCGCGTGGTGGTCGG...</td>\n",
       "      <td>0</td>\n",
       "    </tr>\n",
       "    <tr>\n",
       "      <th>19996</th>\n",
       "      <td>ACGAGGCCATCTAGAGCGCAACGAAACTGCAAGAAAATACGTCCGA...</td>\n",
       "      <td>0</td>\n",
       "    </tr>\n",
       "    <tr>\n",
       "      <th>19997</th>\n",
       "      <td>CATCTTTACCCAATTTGTGTGTGGAAAGGTGTCAGCGATGCTTTGG...</td>\n",
       "      <td>0</td>\n",
       "    </tr>\n",
       "    <tr>\n",
       "      <th>19998</th>\n",
       "      <td>ATAAGTAACTCCAGTCGAGCGGAAGGTATAGTGGCACGGGGTTTAG...</td>\n",
       "      <td>0</td>\n",
       "    </tr>\n",
       "    <tr>\n",
       "      <th>19999</th>\n",
       "      <td>CTTGTAACGCCATAGCCGAATTTGCTCTATTTTCTTATGTCCCTCT...</td>\n",
       "      <td>0</td>\n",
       "    </tr>\n",
       "  </tbody>\n",
       "</table>\n",
       "<p>20000 rows × 2 columns</p>\n",
       "</div>"
      ],
      "text/plain": [
       "                                                sequence  label\n",
       "0      CTACTCGGGAGGCTGAGGCAGGAGAATCACTTGAACCAGGGAGTCA...      1\n",
       "1      CACCTTATCCAGAGAAGCTTCTTCTTTTAGAAAATCAAGCAAAACA...      1\n",
       "2      AAAGGGGCTGATAGAAAAATAAAGAGATTTGGCCAGGTACGGTGGC...      1\n",
       "3      AAGTGGATATTCAGACCTCCTTGAGGCCTTCGTTGGAAACGGGATT...      1\n",
       "4      ATACCATGACAAAGATATTATTAGCCAATTTTTAGAGAGAAGGAAA...      1\n",
       "...                                                  ...    ...\n",
       "19995  AAGACGAGTGGTTACCCCCTGTGAGACTGCCGCGCGTGGTGGTCGG...      0\n",
       "19996  ACGAGGCCATCTAGAGCGCAACGAAACTGCAAGAAAATACGTCCGA...      0\n",
       "19997  CATCTTTACCCAATTTGTGTGTGGAAAGGTGTCAGCGATGCTTTGG...      0\n",
       "19998  ATAAGTAACTCCAGTCGAGCGGAAGGTATAGTGGCACGGGGTTTAG...      0\n",
       "19999  CTTGTAACGCCATAGCCGAATTTGCTCTATTTTCTTATGTCCCTCT...      0\n",
       "\n",
       "[20000 rows x 2 columns]"
      ]
     },
     "execution_count": 2,
     "metadata": {},
     "output_type": "execute_result"
    }
   ],
   "source": [
    "dataset = pd.read_csv(\"datasets/human-exercise.csv\")\n",
    "print(dataset.shape)\n",
    "dataset"
   ]
  },
  {
   "cell_type": "markdown",
   "metadata": {},
   "source": [
    "As we can see, this dataset contains the sequence and the corresponding positive/negative class labels, with positive class labels corresponding to the human DNA. The amount of positive and negative examples is evenly distributed across the two classes."
   ]
  },
  {
   "cell_type": "code",
   "execution_count": 3,
   "metadata": {},
   "outputs": [
    {
     "name": "stdout",
     "output_type": "stream",
     "text": [
      "1    10000\n",
      "0    10000\n",
      "Name: label, dtype: int64\n"
     ]
    },
    {
     "data": {
      "image/png": "[encoded data removed]",
      "text/plain": [
       "<Figure size 432x288 with 1 Axes>"
      ]
     },
     "metadata": {
      "needs_background": "light"
     },
     "output_type": "display_data"
    }
   ],
   "source": [
    "# plot the distribution of each class\n",
    "dataset.groupby('label').size().plot(kind='bar')\n",
    "\n",
    "print(dataset['label'].value_counts())"
   ]
  },
  {
   "cell_type": "markdown",
   "metadata": {},
   "source": [
    "We need now to split the dataset into training, test and validation sets."
   ]
  },
  {
   "cell_type": "code",
   "execution_count": 4,
   "metadata": {},
   "outputs": [],
   "source": [
    "fps_x = dataset['sequence'].values\n",
    "fps_y = dataset['label'].values\n",
    "\n",
    "x, x_test, y, y_test = train_test_split(\n",
    "    fps_x, fps_y,\n",
    "    test_size=0.2,\n",
    "    train_size=0.8,\n",
    "    stratify=fps_y\n",
    ")\n",
    "x_train, x_cv, y_train, y_cv = train_test_split(\n",
    "    x, y,\n",
    "    test_size=0.25,\n",
    "    train_size=0.75,\n",
    "    stratify=y\n",
    ")"
   ]
  },
  {
   "cell_type": "markdown",
   "metadata": {},
   "source": [
    "Now we need to one hot encode the sequences."
   ]
  },
  {
   "cell_type": "code",
   "execution_count": 5,
   "metadata": {},
   "outputs": [
    {
     "name": "stdout",
     "output_type": "stream",
     "text": [
      "(12000, 250, 4)\n",
      "(12000,)\n",
      "(4000, 250, 4)\n",
      "(4000,)\n",
      "(4000, 250, 4)\n",
      "(4000,)\n"
     ]
    }
   ],
   "source": [
    "x_train_enc = enc.DNAEncoding(x_train)\n",
    "x_train = x_train_enc.one_hot_encode()\n",
    "\n",
    "x_test_enc = enc.DNAEncoding(x_test)\n",
    "x_test = x_test_enc.one_hot_encode()\n",
    "\n",
    "x_cv_enc = enc.DNAEncoding(x_cv)\n",
    "x_cv = x_cv_enc.one_hot_encode()\n",
    "\n",
    "print(x_train.shape)\n",
    "print(y_train.shape)\n",
    "print(x_test.shape)\n",
    "print(y_test.shape)\n",
    "print(x_cv.shape)\n",
    "print(y_cv.shape)\n"
   ]
  },
  {
   "cell_type": "code",
   "execution_count": 6,
   "metadata": {},
   "outputs": [],
   "source": [
    "# convert to torch.tensor\n",
    "train_data = data_utils.TensorDataset(\n",
    "    torch.tensor(x_train, dtype=torch.float),\n",
    "    torch.tensor(y_train, dtype=torch.long)\n",
    ")\n",
    "test_data = data_utils.TensorDataset(\n",
    "    torch.tensor(x_test, dtype=torch.float),\n",
    "    torch.tensor(y_test, dtype=torch.long)\n",
    ")\n",
    "valid_data = data_utils.TensorDataset(\n",
    "    torch.tensor(x_cv, dtype=torch.float),\n",
    "    torch.tensor(y_cv, dtype=torch.long)\n",
    ")\n",
    "\n",
    "batch_size = 16\n",
    "\n",
    "# Data loader\n",
    "trainloader = data_utils.DataLoader(\n",
    "    train_data,\n",
    "    shuffle=True,\n",
    "    batch_size=batch_size\n",
    ")\n",
    "testloader = data_utils.DataLoader(\n",
    "    test_data,\n",
    "    shuffle=True,\n",
    "    batch_size=batch_size\n",
    ")\n",
    "validloader = data_utils.DataLoader(\n",
    "    valid_data,\n",
    "    shuffle=True,\n",
    "    batch_size=batch_size\n",
    ")"
   ]
  },
  {
   "cell_type": "markdown",
   "metadata": {},
   "source": [
    "Building the model equivalent to the one in the paper."
   ]
  },
  {
   "cell_type": "code",
   "execution_count": 7,
   "metadata": {},
   "outputs": [],
   "source": [
    "from src.models import Net\n",
    "from src.train import traindata\n",
    "from src.test import test"
   ]
  },
  {
   "cell_type": "code",
   "execution_count": 8,
   "metadata": {},
   "outputs": [
    {
     "name": "stdout",
     "output_type": "stream",
     "text": [
      "[1/100, 0/750] loss: 0.71868831\n",
      "[1/100, 100/750] loss: 0.50178188\n",
      "[1/100, 200/750] loss: 0.43479669\n",
      "[1/100, 300/750] loss: 0.44566453\n",
      "[1/100, 400/750] loss: 0.49917829\n",
      "[1/100, 500/750] loss: 0.46849173\n",
      "[1/100, 600/750] loss: 0.34305367\n",
      "[1/100, 700/750] loss: 0.37496141\n",
      "The Current Loss: 0.334246883392334\n",
      "trigger times: 0\n",
      "[2/100, 0/750] loss: 0.33523715\n",
      "[2/100, 100/750] loss: 0.43114179\n",
      "[2/100, 200/750] loss: 0.39242992\n",
      "[2/100, 300/750] loss: 0.33393493\n",
      "[2/100, 400/750] loss: 0.46728218\n",
      "[2/100, 500/750] loss: 0.32058808\n",
      "[2/100, 600/750] loss: 0.38262829\n",
      "[2/100, 700/750] loss: 0.38405123\n",
      "The Current Loss: 0.3300363482236862\n",
      "trigger times: 0\n",
      "[3/100, 0/750] loss: 0.38001817\n",
      "[3/100, 100/750] loss: 0.37495339\n",
      "[3/100, 200/750] loss: 0.32003227\n",
      "[3/100, 300/750] loss: 0.37921616\n",
      "[3/100, 400/750] loss: 0.31660518\n",
      "[3/100, 500/750] loss: 0.3182072\n",
      "[3/100, 600/750] loss: 0.31512943\n",
      "[3/100, 700/750] loss: 0.31866622\n",
      "The Current Loss: 0.33059286236763\n",
      "Trigger Times: 1\n",
      "[4/100, 0/750] loss: 0.31560251\n",
      "[4/100, 100/750] loss: 0.32503548\n",
      "[4/100, 200/750] loss: 0.47343916\n",
      "[4/100, 300/750] loss: 0.31512752\n",
      "[4/100, 400/750] loss: 0.43724257\n",
      "[4/100, 500/750] loss: 0.31483805\n",
      "[4/100, 600/750] loss: 0.31573606\n",
      "[4/100, 700/750] loss: 0.31683218\n",
      "The Current Loss: 0.3332187294960022\n",
      "Trigger Times: 2\n",
      "Early stopping!\n",
      "Start to test process.\n",
      "Accuracy: 0.986\n",
      "MCC: 0.972\n",
      "[[1961   39]\n",
      " [  18 1982]]\n"
     ]
    }
   ],
   "source": [
    "torch.manual_seed(2022)\n",
    "os.environ[\"CUDA_VISIBLE_DEVICES\"] = '4,5'\n",
    "device = torch.device('cuda:0')\n",
    "\n",
    "epochs = 100\n",
    "lr = 0.004\n",
    "loss_function = nn.CrossEntropyLoss()\n",
    "model = Net().to(device)\n",
    "optimizer = Adam(model.parameters(), lr=lr)\n",
    "\n",
    "model = traindata(device, model, epochs, optimizer, loss_function, trainloader, validloader)\n",
    "\n",
    "# Test\n",
    "acc, mcc, report = test(device, model, testloader)\n",
    "print('Accuracy: %.3f' % acc)\n",
    "print('MCC: %.3f' % mcc)\n",
    "print(report)"
   ]
  }
 ],
 "metadata": {
  "interpreter": {
   "hash": "ba449ea13c29f64a91968d8f927cecceedd6e605eda30388903386e6cd94168d"
  },
  "kernelspec": {
   "display_name": "Python 2",
   "language": "python",
   "name": "python3"
  },
  "language_info": {
   "codemirror_mode": {
    "name": "ipython",
    "version": 3
   },
   "file_extension": ".py",
   "mimetype": "text/x-python",
   "name": "python",
   "nbconvert_exporter": "python",
   "pygments_lexer": "ipython3",
   "version": "3.8.13"
  }
 },
 "nbformat": 4,
 "nbformat_minor": 1
}
