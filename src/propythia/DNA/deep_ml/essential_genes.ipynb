{
 "cells": [
  {
   "cell_type": "code",
   "execution_count": 52,
   "metadata": {},
   "outputs": [],
   "source": [
    "import pandas as pd\n",
    "import matplotlib.pyplot as plt\n",
    "from os.path import exists"
   ]
  },
  {
   "cell_type": "markdown",
   "metadata": {},
   "source": [
    "The original essential genes dataset had 28166 rows but only 26791 had available sequences."
   ]
  },
  {
   "cell_type": "code",
   "execution_count": 53,
   "metadata": {},
   "outputs": [
    {
     "name": "stdout",
     "output_type": "stream",
     "text": [
      "(26791, 15)\n",
      "(27684, 2)\n"
     ]
    }
   ],
   "source": [
    "deg_dataset = pd.read_csv(\"datasets/essential_genes.csv\", sep=';')\n",
    "print(deg_dataset.shape)\n",
    "\n",
    "eg_negative = pd.read_csv(\"datasets/essential_genes_negative.csv\", sep=',')\n",
    "print(eg_negative.shape)"
   ]
  },
  {
   "cell_type": "markdown",
   "metadata": {},
   "source": [
    "Creating positive essential genes dataset. Each sequence needs to be in at least 5 datasets."
   ]
  },
  {
   "cell_type": "code",
   "execution_count": 54,
   "metadata": {},
   "outputs": [
    {
     "name": "stdout",
     "output_type": "stream",
     "text": [
      "     id                                           sequence\n",
      "0  GI:-  ATGGTGCTGTCCCAGAGACAACGAGATGAACTAAATCGAGCTATAG...\n",
      "1  GI:-  ATGGCTGCAGCTTCATATGATCAGTTGTTAAAGCAAGTTGAGGCAC...\n",
      "2  GI:-  ATGAGCCGCCTGCTCTGGAGGAAGGTGGCCGGCGCCACCGTCGGGC...\n",
      "3  GI:-  ATGCAGAGCTGGAGTCGTGTGTACTGCTCCTTGGCCAAGAGAGGCC...\n",
      "4  GI:-  ATGGTTGGCTATGACCCCAAACCAGATGGCAGGAATAACACCAAGT...\n",
      "(2010, 2)\n"
     ]
    }
   ],
   "source": [
    "# for each sequence, get all the datasets that contain it\n",
    "d = {}\n",
    "for _, row in deg_dataset.iterrows():\n",
    "    if(row[\"sequence\"] in d):\n",
    "        d[row[\"sequence\"]].append((row[\"id1\"], row[\"id4\"]))\n",
    "    else:\n",
    "        d[row[\"sequence\"]] = [(row[\"id1\"], row[\"id4\"])]\n",
    "\n",
    "\n",
    "# get a list of sequences that are in more than 5 datasets\n",
    "essential_sequences = []\n",
    "for key, val in d.items():\n",
    "    if(len(val) >= 5):\n",
    "        essential_sequences.append((val[0][1], key))\n",
    "        \n",
    "# create dataframe with essential sequences\n",
    "eg_positive = pd.DataFrame(essential_sequences, columns=[\"id\", \"sequence\"])\n",
    "print(eg_positive.head())\n",
    "print(eg_positive.shape)\n",
    "\n",
    "# write to csv\n",
    "eg_positive.to_csv(\"datasets/essential_genes_positive.csv\", index=False)"
   ]
  },
  {
   "cell_type": "markdown",
   "metadata": {},
   "source": [
    "At this point, we have both positive and negative datasets:\n",
    "* eg_positive -> positive dataset with essential genes (genes contained in at least 5 datasets) (2010, 2)\n",
    "* eg_negative -> negative dataset with non essential genes (if sequences from the DEG dataset were on the Ensembl dataset, they were removed. Also, each sequence in DEG dataset had an EMBL id associated and, even if the sequence itself was not the same with the sequence with that ID in the EMBL dataset, they also go removed, forming the negative dataset) (27684, 2)"
   ]
  },
  {
   "cell_type": "code",
   "execution_count": 55,
   "metadata": {},
   "outputs": [
    {
     "name": "stdout",
     "output_type": "stream",
     "text": [
      "unique positive sequences: 2010\n",
      "unique negative sequences: 23443\n"
     ]
    }
   ],
   "source": [
    "print(\"unique positive sequences:\", len(set(eg_positive[\"sequence\"])))\n",
    "print(\"unique negative sequences:\", len(set(eg_negative[\"sequence\"])))"
   ]
  },
  {
   "cell_type": "markdown",
   "metadata": {},
   "source": [
    "Even though the negative dataset has 27684 sequences, not all of them are unique. So, we need to remove the duplicates."
   ]
  },
  {
   "cell_type": "code",
   "execution_count": 56,
   "metadata": {},
   "outputs": [
    {
     "name": "stdout",
     "output_type": "stream",
     "text": [
      "(23443, 2)\n"
     ]
    }
   ],
   "source": [
    "eg_negative = eg_negative.drop_duplicates(subset=\"sequence\")\n",
    "print(eg_negative.shape)"
   ]
  },
  {
   "cell_type": "markdown",
   "metadata": {},
   "source": [
    "Calculating length of each sequence and cleaning up the data"
   ]
  },
  {
   "cell_type": "code",
   "execution_count": 57,
   "metadata": {},
   "outputs": [],
   "source": [
    "eg_positive[\"length\"] = eg_positive[\"sequence\"].str.len()\n",
    "eg_negative[\"length\"] = eg_negative[\"sequence\"].str.len()"
   ]
  },
  {
   "cell_type": "code",
   "execution_count": 58,
   "metadata": {},
   "outputs": [
    {
     "name": "stdout",
     "output_type": "stream",
     "text": [
      "before removing\n",
      "(2010, 3)\n",
      "(23443, 3)\n",
      "after removing\n",
      "(2010, 3) 0 were removed\n",
      "(23439, 3) 4 were removed\n"
     ]
    }
   ],
   "source": [
    "print(\"before removing\")\n",
    "print(eg_positive.shape)\n",
    "print(eg_negative.shape)\n",
    "\n",
    "old_eg_positive = eg_positive.shape[0]\n",
    "old_eg_negative = eg_negative.shape[0]\n",
    "\n",
    "eg_positive = eg_positive[eg_positive[\"length\"] <= 20000]\n",
    "eg_negative = eg_negative[eg_negative[\"length\"] <= 20000]\n",
    "print(\"after removing\")\n",
    "print(eg_positive.shape, old_eg_positive - eg_positive.shape[0], \"were removed\")\n",
    "print(eg_negative.shape, old_eg_negative - eg_negative.shape[0], \"were removed\")"
   ]
  },
  {
   "cell_type": "markdown",
   "metadata": {},
   "source": [
    "Statistics about the data, including:\n",
    "* Total sequences\n",
    "* Top 5 longest and shortest sequences\n",
    "* Average length of sequences\n",
    "* Top 5 most and least common sequence length"
   ]
  },
  {
   "cell_type": "code",
   "execution_count": 59,
   "metadata": {},
   "outputs": [],
   "source": [
    "def stats(dataset):\n",
    "    dataset[\"length\"].hist(bins=100)\n",
    "    plt.show()\n",
    "\n",
    "    print(\"-\" * 40)\n",
    "\n",
    "    print(\"Total sequences:\", dataset.shape[0])\n",
    "\n",
    "    print(\"-\" * 40)\n",
    "\n",
    "    print(\"Top 5 longest sequences:\")\n",
    "    print(\"id       length\")\n",
    "    print(dataset[\"length\"].nlargest(5).to_string())\n",
    "\n",
    "    print(\"-\" * 40)\n",
    "\n",
    "    print(\"Top 5 shortest sequences:\")\n",
    "    print(\"id       length\")\n",
    "    print(dataset[\"length\"].nsmallest(5).to_string())\n",
    "\n",
    "    print(\"-\" * 40)\n",
    "\n",
    "    average_length = dataset[\"length\"].mean()\n",
    "    print(\"Average length:\", average_length)\n",
    "\n",
    "    print(\"-\" * 40)\n",
    "\n",
    "    print(\"Top 5 most common lengths:\")\n",
    "    print(\"length   count\")\n",
    "    print(dataset[\"length\"].value_counts().nlargest(5).to_string())\n",
    "    \n",
    "    print(\"-\" * 40)\n",
    "\n",
    "    print(\"Top 5 least common lengths:\")\n",
    "    print(\"length   count\")\n",
    "    print(dataset[\"length\"].value_counts().nsmallest(5).to_string())"
   ]
  },
  {
   "cell_type": "code",
   "execution_count": 60,
   "metadata": {},
   "outputs": [
    {
     "data": {
      "image/png": "[encoded data removed]",
      "text/plain": [
       "<Figure size 432x288 with 1 Axes>"
      ]
     },
     "metadata": {},
     "output_type": "display_data"
    },
    {
     "name": "stdout",
     "output_type": "stream",
     "text": [
      "----------------------------------------\n",
      "Total sequences: 2010\n",
      "----------------------------------------\n",
      "Top 5 longest sequences:\n",
      "id       length\n",
      "676    16791\n",
      "248    15615\n",
      "204    14574\n",
      "491    13941\n",
      "31     13167\n",
      "----------------------------------------\n",
      "Top 5 shortest sequences:\n",
      "id       length\n",
      "1112    192\n",
      "1427    195\n",
      "1500    204\n",
      "1611    204\n",
      "1346    210\n",
      "----------------------------------------\n",
      "Average length: 1903.6034825870647\n",
      "----------------------------------------\n",
      "Top 5 most common lengths:\n",
      "length   count\n",
      "1083    9\n",
      "1041    8\n",
      "618     7\n",
      "585     7\n",
      "1314    7\n",
      "----------------------------------------\n",
      "Top 5 least common lengths:\n",
      "length   count\n",
      "4311    1\n",
      "2289    1\n",
      "2958    1\n",
      "513     1\n",
      "2799    1\n",
      "****************************************************************************************************\n"
     ]
    },
    {
     "data": {
      "image/png": "[encoded data removed]",
      "text/plain": [
       "<Figure size 432x288 with 1 Axes>"
      ]
     },
     "metadata": {},
     "output_type": "display_data"
    },
    {
     "name": "stdout",
     "output_type": "stream",
     "text": [
      "----------------------------------------\n",
      "Total sequences: 23439\n",
      "----------------------------------------\n",
      "Top 5 longest sequences:\n",
      "id       length\n",
      "20105    18921\n",
      "2852     17673\n",
      "12774    17388\n",
      "23013    17289\n",
      "25523    16965\n",
      "----------------------------------------\n",
      "Top 5 shortest sequences:\n",
      "id       length\n",
      "6728      3\n",
      "14762     5\n",
      "13586    10\n",
      "23228    10\n",
      "25635    12\n",
      "----------------------------------------\n",
      "Average length: 1351.6297196979394\n",
      "----------------------------------------\n",
      "Top 5 most common lengths:\n",
      "length   count\n",
      "939    98\n",
      "945    76\n",
      "930    72\n",
      "444    66\n",
      "948    63\n",
      "----------------------------------------\n",
      "Top 5 least common lengths:\n",
      "length   count\n",
      "644      1\n",
      "997      1\n",
      "11724    1\n",
      "607      1\n",
      "10896    1\n"
     ]
    }
   ],
   "source": [
    "stats(eg_positive)\n",
    "print(\"*\" * 100)\n",
    "stats(eg_negative)"
   ]
  },
  {
   "cell_type": "markdown",
   "metadata": {},
   "source": [
    "Joining the positive and negative datasets"
   ]
  },
  {
   "cell_type": "code",
   "execution_count": 61,
   "metadata": {},
   "outputs": [
    {
     "name": "stdout",
     "output_type": "stream",
     "text": [
      "(25449, 3)\n",
      "     id                                           sequence  label\n",
      "0  GI:-  ATGGTGCTGTCCCAGAGACAACGAGATGAACTAAATCGAGCTATAG...      1\n",
      "1  GI:-  ATGGCTGCAGCTTCATATGATCAGTTGTTAAAGCAAGTTGAGGCAC...      1\n",
      "2  GI:-  ATGAGCCGCCTGCTCTGGAGGAAGGTGGCCGGCGCCACCGTCGGGC...      1\n",
      "3  GI:-  ATGCAGAGCTGGAGTCGTGTGTACTGCTCCTTGGCCAAGAGAGGCC...      1\n",
      "4  GI:-  ATGGTTGGCTATGACCCCAAACCAGATGGCAGGAATAACACCAAGT...      1\n"
     ]
    }
   ],
   "source": [
    "# adding labels to the dataset\n",
    "eg_positive[\"label\"] = 1\n",
    "eg_negative[\"label\"] = 0\n",
    "\n",
    "# removing length column\n",
    "eg_positive = eg_positive.drop(columns=[\"length\"])\n",
    "eg_negative = eg_negative.drop(columns=[\"length\"])\n",
    "\n",
    "# joining the two datasets\n",
    "dataset = pd.concat([eg_positive, eg_negative])\n",
    "print(dataset.shape)\n",
    "print(dataset.head())"
   ]
  },
  {
   "cell_type": "markdown",
   "metadata": {},
   "source": [
    "## Classification using DNA descriptors"
   ]
  },
  {
   "cell_type": "code",
   "execution_count": 62,
   "metadata": {},
   "outputs": [],
   "source": [
    "import sys\n",
    "from sklearn.model_selection import train_test_split\n",
    "from sklearn.metrics import make_scorer, matthews_corrcoef\n",
    "from sklearn.preprocessing import StandardScaler\n",
    "\n",
    "sys.path.append('../../../../src/')\n",
    "from propythia.shallow_ml import ShallowML\n",
    "from propythia.DNA.descriptors.descriptors import DNADescriptor"
   ]
  },
  {
   "cell_type": "code",
   "execution_count": 63,
   "metadata": {},
   "outputs": [
    {
     "name": "stdout",
     "output_type": "stream",
     "text": [
      "(25449, 3)\n"
     ]
    }
   ],
   "source": [
    "print(dataset.shape)"
   ]
  },
  {
   "cell_type": "code",
   "execution_count": 64,
   "metadata": {},
   "outputs": [
    {
     "data": {
      "text/plain": [
       "<AxesSubplot:xlabel='label'>"
      ]
     },
     "execution_count": 64,
     "metadata": {},
     "output_type": "execute_result"
    },
    {
     "data": {
      "image/png": "[encoded data removed]",
      "text/plain": [
       "<Figure size 432x288 with 1 Axes>"
      ]
     },
     "metadata": {},
     "output_type": "display_data"
    }
   ],
   "source": [
    "# plot the distribution of each class\n",
    "dataset.groupby('label').size().plot(kind='bar')"
   ]
  },
  {
   "cell_type": "code",
   "execution_count": 65,
   "metadata": {},
   "outputs": [
    {
     "name": "stdout",
     "output_type": "stream",
     "text": [
      "0 / 25449\n",
      "100 / 25449\n",
      "200 / 25449\n",
      "300 / 25449\n",
      "400 / 25449\n",
      "500 / 25449\n",
      "600 / 25449\n",
      "700 / 25449\n",
      "800 / 25449\n",
      "900 / 25449\n",
      "1000 / 25449\n",
      "1100 / 25449\n",
      "1200 / 25449\n",
      "1300 / 25449\n",
      "1400 / 25449\n",
      "1500 / 25449\n",
      "1600 / 25449\n",
      "1700 / 25449\n",
      "1800 / 25449\n",
      "1900 / 25449\n",
      "2000 / 25449\n",
      "2100 / 25449\n",
      "2200 / 25449\n",
      "2300 / 25449\n",
      "2400 / 25449\n",
      "2500 / 25449\n",
      "2600 / 25449\n",
      "2700 / 25449\n",
      "2800 / 25449\n",
      "2900 / 25449\n",
      "3000 / 25449\n",
      "3100 / 25449\n",
      "3200 / 25449\n",
      "3300 / 25449\n",
      "3400 / 25449\n",
      "3500 / 25449\n",
      "3600 / 25449\n",
      "3700 / 25449\n",
      "3800 / 25449\n",
      "3900 / 25449\n",
      "4000 / 25449\n",
      "4100 / 25449\n",
      "4200 / 25449\n",
      "4300 / 25449\n",
      "4400 / 25449\n",
      "4500 / 25449\n",
      "4600 / 25449\n",
      "4700 / 25449\n",
      "4800 / 25449\n",
      "4900 / 25449\n",
      "5000 / 25449\n",
      "5100 / 25449\n",
      "5200 / 25449\n",
      "5300 / 25449\n",
      "5400 / 25449\n",
      "5500 / 25449\n",
      "5600 / 25449\n",
      "5700 / 25449\n",
      "5800 / 25449\n",
      "5900 / 25449\n",
      "6000 / 25449\n",
      "6100 / 25449\n",
      "6200 / 25449\n",
      "6300 / 25449\n",
      "6400 / 25449\n",
      "6500 / 25449\n",
      "6600 / 25449\n",
      "6700 / 25449\n",
      "6800 / 25449\n",
      "6900 / 25449\n",
      "7000 / 25449\n",
      "7100 / 25449\n",
      "7200 / 25449\n",
      "7300 / 25449\n",
      "7400 / 25449\n",
      "7500 / 25449\n",
      "7600 / 25449\n",
      "7700 / 25449\n",
      "7800 / 25449\n",
      "7900 / 25449\n",
      "8000 / 25449\n",
      "8100 / 25449\n",
      "8200 / 25449\n",
      "8300 / 25449\n",
      "8400 / 25449\n",
      "8500 / 25449\n",
      "8600 / 25449\n",
      "8700 / 25449\n",
      "8800 / 25449\n",
      "8900 / 25449\n",
      "9000 / 25449\n",
      "9100 / 25449\n",
      "9200 / 25449\n",
      "9300 / 25449\n",
      "9400 / 25449\n",
      "9500 / 25449\n",
      "9600 / 25449\n",
      "9700 / 25449\n",
      "9800 / 25449\n",
      "9900 / 25449\n",
      "10000 / 25449\n",
      "10100 / 25449\n",
      "10200 / 25449\n",
      "10300 / 25449\n",
      "10400 / 25449\n",
      "10500 / 25449\n",
      "10600 / 25449\n",
      "10700 / 25449\n",
      "10800 / 25449\n",
      "10900 / 25449\n",
      "11000 / 25449\n",
      "11100 / 25449\n",
      "11200 / 25449\n",
      "11300 / 25449\n",
      "11400 / 25449\n",
      "11500 / 25449\n",
      "11600 / 25449\n",
      "11700 / 25449\n",
      "11800 / 25449\n",
      "11900 / 25449\n",
      "12000 / 25449\n",
      "12100 / 25449\n",
      "12200 / 25449\n",
      "12300 / 25449\n",
      "12400 / 25449\n",
      "12500 / 25449\n",
      "12600 / 25449\n",
      "12700 / 25449\n",
      "12800 / 25449\n",
      "12900 / 25449\n",
      "13000 / 25449\n",
      "13100 / 25449\n",
      "13200 / 25449\n",
      "13300 / 25449\n",
      "13400 / 25449\n",
      "13500 / 25449\n",
      "13600 / 25449\n",
      "13700 / 25449\n",
      "13800 / 25449\n",
      "13900 / 25449\n",
      "14000 / 25449\n",
      "14100 / 25449\n",
      "14200 / 25449\n",
      "14300 / 25449\n",
      "14400 / 25449\n",
      "14500 / 25449\n",
      "14600 / 25449\n",
      "14700 / 25449\n",
      "14800 / 25449\n",
      "14900 / 25449\n",
      "15000 / 25449\n",
      "15100 / 25449\n",
      "15200 / 25449\n",
      "15300 / 25449\n",
      "15400 / 25449\n",
      "15500 / 25449\n",
      "15600 / 25449\n",
      "15700 / 25449\n",
      "15800 / 25449\n",
      "15900 / 25449\n",
      "16000 / 25449\n",
      "16100 / 25449\n",
      "16200 / 25449\n",
      "16300 / 25449\n",
      "16400 / 25449\n",
      "16500 / 25449\n",
      "16600 / 25449\n",
      "16700 / 25449\n",
      "16800 / 25449\n",
      "16900 / 25449\n",
      "17000 / 25449\n",
      "17100 / 25449\n",
      "17200 / 25449\n",
      "17300 / 25449\n",
      "17400 / 25449\n",
      "17500 / 25449\n",
      "17600 / 25449\n",
      "17700 / 25449\n",
      "17800 / 25449\n",
      "17900 / 25449\n",
      "18000 / 25449\n",
      "18100 / 25449\n",
      "18200 / 25449\n",
      "18300 / 25449\n",
      "18400 / 25449\n",
      "18500 / 25449\n",
      "18600 / 25449\n",
      "18700 / 25449\n",
      "18800 / 25449\n",
      "18900 / 25449\n",
      "19000 / 25449\n",
      "19100 / 25449\n",
      "19200 / 25449\n",
      "19300 / 25449\n",
      "19400 / 25449\n",
      "19500 / 25449\n",
      "19600 / 25449\n",
      "19700 / 25449\n",
      "19800 / 25449\n",
      "19900 / 25449\n",
      "20000 / 25449\n",
      "20100 / 25449\n",
      "20200 / 25449\n",
      "20300 / 25449\n",
      "20400 / 25449\n",
      "20500 / 25449\n",
      "20600 / 25449\n",
      "20700 / 25449\n",
      "20800 / 25449\n",
      "20900 / 25449\n",
      "21000 / 25449\n",
      "21100 / 25449\n",
      "21200 / 25449\n",
      "21300 / 25449\n",
      "21400 / 25449\n",
      "21500 / 25449\n",
      "21600 / 25449\n",
      "21700 / 25449\n",
      "21800 / 25449\n",
      "21900 / 25449\n",
      "22000 / 25449\n",
      "22100 / 25449\n",
      "22200 / 25449\n",
      "22300 / 25449\n",
      "22400 / 25449\n",
      "22500 / 25449\n",
      "22600 / 25449\n",
      "22700 / 25449\n",
      "22800 / 25449\n",
      "22900 / 25449\n",
      "23000 / 25449\n",
      "23100 / 25449\n",
      "23200 / 25449\n",
      "23300 / 25449\n",
      "23400 / 25449\n",
      "23500 / 25449\n",
      "23600 / 25449\n",
      "23700 / 25449\n",
      "23800 / 25449\n",
      "23900 / 25449\n",
      "24000 / 25449\n",
      "24100 / 25449\n",
      "24200 / 25449\n",
      "24300 / 25449\n",
      "24400 / 25449\n",
      "24500 / 25449\n",
      "24600 / 25449\n",
      "24700 / 25449\n",
      "24800 / 25449\n",
      "24900 / 25449\n",
      "25000 / 25449\n",
      "25100 / 25449\n",
      "25200 / 25449\n",
      "25300 / 25449\n",
      "25400 / 25449\n",
      "Done!\n",
      "Not valid: 1\n"
     ]
    }
   ],
   "source": [
    "# List of descriptors to be calculed. If empty, all descriptors will be calculated.\n",
    "specifics = []\n",
    "\n",
    "def calculate_feature(data):\n",
    "    list_feature = []\n",
    "    count = 0\n",
    "    not_valid = 0\n",
    "    for seq in data['sequence']:\n",
    "        res = {'sequence': seq}\n",
    "        dna = DNADescriptor(seq)\n",
    "        try:\n",
    "            feature = dna.get_descriptors(specifics=specifics)\n",
    "            res.update(feature)\n",
    "            list_feature.append(res)\n",
    "        except ZeroDivisionError:\n",
    "            not_valid += 1\n",
    "        \n",
    "        # print progress every 100 sequences\n",
    "        if count % 100 == 0:\n",
    "            print(count, '/', len(data))\n",
    "\n",
    "        count += 1\n",
    "    print(\"Done!\")\n",
    "    df = pd.DataFrame(list_feature)\n",
    "    return df, not_valid\n",
    "\n",
    "file_exists = exists('datasets/essential_genes_features.csv')\n",
    "if(file_exists):\n",
    "    features = pd.read_csv('datasets/essential_genes_features.csv')\n",
    "else:\n",
    "    features, not_valid = calculate_feature(dataset)\n",
    "    print(\"Not valid:\", not_valid)\n",
    "    features.to_csv(\"datasets/essential_genes_features.csv\", index=False)"
   ]
  },
  {
   "cell_type": "code",
   "execution_count": 66,
   "metadata": {},
   "outputs": [
    {
     "data": {
      "text/plain": [
       "(25448, 20)"
      ]
     },
     "execution_count": 66,
     "metadata": {},
     "output_type": "execute_result"
    }
   ],
   "source": [
    "fps_y = dataset['label']\n",
    "fps_x = features.loc[:, features.columns != 'label']\n",
    "fps_x = fps_x.loc[:, fps_x.columns != 'sequence']\n",
    "fps_x.shape"
   ]
  },
  {
   "cell_type": "code",
   "execution_count": 67,
   "metadata": {},
   "outputs": [
    {
     "name": "stdout",
     "output_type": "stream",
     "text": [
      "col: length : 1 / 20\n",
      "col: gc_content : 2 / 20\n",
      "col: at_content : 3 / 20\n",
      "col: nucleic_acid_composition : 4 / 20\n"
     ]
    },
    {
     "ename": "KeyboardInterrupt",
     "evalue": "",
     "output_type": "error",
     "traceback": [
      "\u001b[0;31m---------------------------------------------------------------------------\u001b[0m",
      "\u001b[0;31mKeyboardInterrupt\u001b[0m                         Traceback (most recent call last)",
      "\u001b[1;32m/home/jabreu/propythia/src/propythia/DNA/deep_ml/essential_genes.ipynb Cell 24'\u001b[0m in \u001b[0;36m<cell line: 30>\u001b[0;34m()\u001b[0m\n\u001b[1;32m     <a href='vscode-notebook-cell://ssh-remote%2Bturing.di.uminho.pt/home/jabreu/propythia/src/propythia/DNA/deep_ml/essential_genes.ipynb#ch0000024vscode-remote?line=29'>30</a>\u001b[0m \u001b[39mfor\u001b[39;00m col \u001b[39min\u001b[39;00m fps_x\u001b[39m.\u001b[39mcolumns:\n\u001b[1;32m     <a href='vscode-notebook-cell://ssh-remote%2Bturing.di.uminho.pt/home/jabreu/propythia/src/propythia/DNA/deep_ml/essential_genes.ipynb#ch0000024vscode-remote?line=30'>31</a>\u001b[0m     \u001b[39mif\u001b[39;00m col \u001b[39min\u001b[39;00m need_dict_normalization:\n\u001b[0;32m---> <a href='vscode-notebook-cell://ssh-remote%2Bturing.di.uminho.pt/home/jabreu/propythia/src/propythia/DNA/deep_ml/essential_genes.ipynb#ch0000024vscode-remote?line=31'>32</a>\u001b[0m         new_fps_x \u001b[39m=\u001b[39m pd\u001b[39m.\u001b[39mconcat([new_fps_x, normalize_dict(fps_x[col], col)], axis\u001b[39m=\u001b[39m\u001b[39m1\u001b[39m)\n\u001b[1;32m     <a href='vscode-notebook-cell://ssh-remote%2Bturing.di.uminho.pt/home/jabreu/propythia/src/propythia/DNA/deep_ml/essential_genes.ipynb#ch0000024vscode-remote?line=32'>33</a>\u001b[0m     \u001b[39melif\u001b[39;00m col \u001b[39min\u001b[39;00m need_list_normalization:\n\u001b[1;32m     <a href='vscode-notebook-cell://ssh-remote%2Bturing.di.uminho.pt/home/jabreu/propythia/src/propythia/DNA/deep_ml/essential_genes.ipynb#ch0000024vscode-remote?line=33'>34</a>\u001b[0m         new_fps_x \u001b[39m=\u001b[39m pd\u001b[39m.\u001b[39mconcat([new_fps_x, normalize_list(fps_x[col], col)], axis\u001b[39m=\u001b[39m\u001b[39m1\u001b[39m)\n",
      "\u001b[1;32m/home/jabreu/propythia/src/propythia/DNA/deep_ml/essential_genes.ipynb Cell 24'\u001b[0m in \u001b[0;36mnormalize_dict\u001b[0;34m(d, field)\u001b[0m\n\u001b[1;32m     <a href='vscode-notebook-cell://ssh-remote%2Bturing.di.uminho.pt/home/jabreu/propythia/src/propythia/DNA/deep_ml/essential_genes.ipynb#ch0000024vscode-remote?line=11'>12</a>\u001b[0m     \u001b[39mif\u001b[39;00m \u001b[39misinstance\u001b[39m(df[f][\u001b[39m0\u001b[39m], \u001b[39mdict\u001b[39m):\n\u001b[1;32m     <a href='vscode-notebook-cell://ssh-remote%2Bturing.di.uminho.pt/home/jabreu/propythia/src/propythia/DNA/deep_ml/essential_genes.ipynb#ch0000024vscode-remote?line=12'>13</a>\u001b[0m         df \u001b[39m=\u001b[39m pd\u001b[39m.\u001b[39mconcat([df, normalize_dict(df[f], f)], axis\u001b[39m=\u001b[39m\u001b[39m1\u001b[39m)\n\u001b[0;32m---> <a href='vscode-notebook-cell://ssh-remote%2Bturing.di.uminho.pt/home/jabreu/propythia/src/propythia/DNA/deep_ml/essential_genes.ipynb#ch0000024vscode-remote?line=13'>14</a>\u001b[0m         df\u001b[39m.\u001b[39;49mdrop(f, axis\u001b[39m=\u001b[39;49m\u001b[39m1\u001b[39;49m, inplace\u001b[39m=\u001b[39;49m\u001b[39mTrue\u001b[39;49;00m)\n\u001b[1;32m     <a href='vscode-notebook-cell://ssh-remote%2Bturing.di.uminho.pt/home/jabreu/propythia/src/propythia/DNA/deep_ml/essential_genes.ipynb#ch0000024vscode-remote?line=14'>15</a>\u001b[0m \u001b[39mreturn\u001b[39;00m df\n",
      "File \u001b[0;32m~/miniconda3/envs/dna-conda/lib/python3.8/site-packages/pandas/util/_decorators.py:311\u001b[0m, in \u001b[0;36mdeprecate_nonkeyword_arguments.<locals>.decorate.<locals>.wrapper\u001b[0;34m(*args, **kwargs)\u001b[0m\n\u001b[1;32m    <a href='file:///home/jabreu/miniconda3/envs/dna-conda/lib/python3.8/site-packages/pandas/util/_decorators.py?line=304'>305</a>\u001b[0m \u001b[39mif\u001b[39;00m \u001b[39mlen\u001b[39m(args) \u001b[39m>\u001b[39m num_allow_args:\n\u001b[1;32m    <a href='file:///home/jabreu/miniconda3/envs/dna-conda/lib/python3.8/site-packages/pandas/util/_decorators.py?line=305'>306</a>\u001b[0m     warnings\u001b[39m.\u001b[39mwarn(\n\u001b[1;32m    <a href='file:///home/jabreu/miniconda3/envs/dna-conda/lib/python3.8/site-packages/pandas/util/_decorators.py?line=306'>307</a>\u001b[0m         msg\u001b[39m.\u001b[39mformat(arguments\u001b[39m=\u001b[39marguments),\n\u001b[1;32m    <a href='file:///home/jabreu/miniconda3/envs/dna-conda/lib/python3.8/site-packages/pandas/util/_decorators.py?line=307'>308</a>\u001b[0m         \u001b[39mFutureWarning\u001b[39;00m,\n\u001b[1;32m    <a href='file:///home/jabreu/miniconda3/envs/dna-conda/lib/python3.8/site-packages/pandas/util/_decorators.py?line=308'>309</a>\u001b[0m         stacklevel\u001b[39m=\u001b[39mstacklevel,\n\u001b[1;32m    <a href='file:///home/jabreu/miniconda3/envs/dna-conda/lib/python3.8/site-packages/pandas/util/_decorators.py?line=309'>310</a>\u001b[0m     )\n\u001b[0;32m--> <a href='file:///home/jabreu/miniconda3/envs/dna-conda/lib/python3.8/site-packages/pandas/util/_decorators.py?line=310'>311</a>\u001b[0m \u001b[39mreturn\u001b[39;00m func(\u001b[39m*\u001b[39;49margs, \u001b[39m*\u001b[39;49m\u001b[39m*\u001b[39;49mkwargs)\n",
      "File \u001b[0;32m~/miniconda3/envs/dna-conda/lib/python3.8/site-packages/pandas/core/frame.py:4948\u001b[0m, in \u001b[0;36mDataFrame.drop\u001b[0;34m(self, labels, axis, index, columns, level, inplace, errors)\u001b[0m\n\u001b[1;32m   <a href='file:///home/jabreu/miniconda3/envs/dna-conda/lib/python3.8/site-packages/pandas/core/frame.py?line=4799'>4800</a>\u001b[0m \u001b[39m@deprecate_nonkeyword_arguments\u001b[39m(version\u001b[39m=\u001b[39m\u001b[39mNone\u001b[39;00m, allowed_args\u001b[39m=\u001b[39m[\u001b[39m\"\u001b[39m\u001b[39mself\u001b[39m\u001b[39m\"\u001b[39m, \u001b[39m\"\u001b[39m\u001b[39mlabels\u001b[39m\u001b[39m\"\u001b[39m])\n\u001b[1;32m   <a href='file:///home/jabreu/miniconda3/envs/dna-conda/lib/python3.8/site-packages/pandas/core/frame.py?line=4800'>4801</a>\u001b[0m \u001b[39mdef\u001b[39;00m \u001b[39mdrop\u001b[39m(\n\u001b[1;32m   <a href='file:///home/jabreu/miniconda3/envs/dna-conda/lib/python3.8/site-packages/pandas/core/frame.py?line=4801'>4802</a>\u001b[0m     \u001b[39mself\u001b[39m,\n\u001b[0;32m   (...)\u001b[0m\n\u001b[1;32m   <a href='file:///home/jabreu/miniconda3/envs/dna-conda/lib/python3.8/site-packages/pandas/core/frame.py?line=4808'>4809</a>\u001b[0m     errors: \u001b[39mstr\u001b[39m \u001b[39m=\u001b[39m \u001b[39m\"\u001b[39m\u001b[39mraise\u001b[39m\u001b[39m\"\u001b[39m,\n\u001b[1;32m   <a href='file:///home/jabreu/miniconda3/envs/dna-conda/lib/python3.8/site-packages/pandas/core/frame.py?line=4809'>4810</a>\u001b[0m ):\n\u001b[1;32m   <a href='file:///home/jabreu/miniconda3/envs/dna-conda/lib/python3.8/site-packages/pandas/core/frame.py?line=4810'>4811</a>\u001b[0m     \u001b[39m\"\"\"\u001b[39;00m\n\u001b[1;32m   <a href='file:///home/jabreu/miniconda3/envs/dna-conda/lib/python3.8/site-packages/pandas/core/frame.py?line=4811'>4812</a>\u001b[0m \u001b[39m    Drop specified labels from rows or columns.\u001b[39;00m\n\u001b[1;32m   <a href='file:///home/jabreu/miniconda3/envs/dna-conda/lib/python3.8/site-packages/pandas/core/frame.py?line=4812'>4813</a>\u001b[0m \n\u001b[0;32m   (...)\u001b[0m\n\u001b[1;32m   <a href='file:///home/jabreu/miniconda3/envs/dna-conda/lib/python3.8/site-packages/pandas/core/frame.py?line=4945'>4946</a>\u001b[0m \u001b[39m            weight  1.0     0.8\u001b[39;00m\n\u001b[1;32m   <a href='file:///home/jabreu/miniconda3/envs/dna-conda/lib/python3.8/site-packages/pandas/core/frame.py?line=4946'>4947</a>\u001b[0m \u001b[39m    \"\"\"\u001b[39;00m\n\u001b[0;32m-> <a href='file:///home/jabreu/miniconda3/envs/dna-conda/lib/python3.8/site-packages/pandas/core/frame.py?line=4947'>4948</a>\u001b[0m     \u001b[39mreturn\u001b[39;00m \u001b[39msuper\u001b[39;49m()\u001b[39m.\u001b[39;49mdrop(\n\u001b[1;32m   <a href='file:///home/jabreu/miniconda3/envs/dna-conda/lib/python3.8/site-packages/pandas/core/frame.py?line=4948'>4949</a>\u001b[0m         labels\u001b[39m=\u001b[39;49mlabels,\n\u001b[1;32m   <a href='file:///home/jabreu/miniconda3/envs/dna-conda/lib/python3.8/site-packages/pandas/core/frame.py?line=4949'>4950</a>\u001b[0m         axis\u001b[39m=\u001b[39;49maxis,\n\u001b[1;32m   <a href='file:///home/jabreu/miniconda3/envs/dna-conda/lib/python3.8/site-packages/pandas/core/frame.py?line=4950'>4951</a>\u001b[0m         index\u001b[39m=\u001b[39;49mindex,\n\u001b[1;32m   <a href='file:///home/jabreu/miniconda3/envs/dna-conda/lib/python3.8/site-packages/pandas/core/frame.py?line=4951'>4952</a>\u001b[0m         columns\u001b[39m=\u001b[39;49mcolumns,\n\u001b[1;32m   <a href='file:///home/jabreu/miniconda3/envs/dna-conda/lib/python3.8/site-packages/pandas/core/frame.py?line=4952'>4953</a>\u001b[0m         level\u001b[39m=\u001b[39;49mlevel,\n\u001b[1;32m   <a href='file:///home/jabreu/miniconda3/envs/dna-conda/lib/python3.8/site-packages/pandas/core/frame.py?line=4953'>4954</a>\u001b[0m         inplace\u001b[39m=\u001b[39;49minplace,\n\u001b[1;32m   <a href='file:///home/jabreu/miniconda3/envs/dna-conda/lib/python3.8/site-packages/pandas/core/frame.py?line=4954'>4955</a>\u001b[0m         errors\u001b[39m=\u001b[39;49merrors,\n\u001b[1;32m   <a href='file:///home/jabreu/miniconda3/envs/dna-conda/lib/python3.8/site-packages/pandas/core/frame.py?line=4955'>4956</a>\u001b[0m     )\n",
      "File \u001b[0;32m~/miniconda3/envs/dna-conda/lib/python3.8/site-packages/pandas/core/generic.py:4279\u001b[0m, in \u001b[0;36mNDFrame.drop\u001b[0;34m(self, labels, axis, index, columns, level, inplace, errors)\u001b[0m\n\u001b[1;32m   <a href='file:///home/jabreu/miniconda3/envs/dna-conda/lib/python3.8/site-packages/pandas/core/generic.py?line=4276'>4277</a>\u001b[0m \u001b[39mfor\u001b[39;00m axis, labels \u001b[39min\u001b[39;00m axes\u001b[39m.\u001b[39mitems():\n\u001b[1;32m   <a href='file:///home/jabreu/miniconda3/envs/dna-conda/lib/python3.8/site-packages/pandas/core/generic.py?line=4277'>4278</a>\u001b[0m     \u001b[39mif\u001b[39;00m labels \u001b[39mis\u001b[39;00m \u001b[39mnot\u001b[39;00m \u001b[39mNone\u001b[39;00m:\n\u001b[0;32m-> <a href='file:///home/jabreu/miniconda3/envs/dna-conda/lib/python3.8/site-packages/pandas/core/generic.py?line=4278'>4279</a>\u001b[0m         obj \u001b[39m=\u001b[39m obj\u001b[39m.\u001b[39;49m_drop_axis(labels, axis, level\u001b[39m=\u001b[39;49mlevel, errors\u001b[39m=\u001b[39;49merrors)\n\u001b[1;32m   <a href='file:///home/jabreu/miniconda3/envs/dna-conda/lib/python3.8/site-packages/pandas/core/generic.py?line=4280'>4281</a>\u001b[0m \u001b[39mif\u001b[39;00m inplace:\n\u001b[1;32m   <a href='file:///home/jabreu/miniconda3/envs/dna-conda/lib/python3.8/site-packages/pandas/core/generic.py?line=4281'>4282</a>\u001b[0m     \u001b[39mself\u001b[39m\u001b[39m.\u001b[39m_update_inplace(obj)\n",
      "File \u001b[0;32m~/miniconda3/envs/dna-conda/lib/python3.8/site-packages/pandas/core/generic.py:4358\u001b[0m, in \u001b[0;36mNDFrame._drop_axis\u001b[0;34m(self, labels, axis, level, errors, consolidate, only_slice)\u001b[0m\n\u001b[1;32m   <a href='file:///home/jabreu/miniconda3/envs/dna-conda/lib/python3.8/site-packages/pandas/core/generic.py?line=4354'>4355</a>\u001b[0m     new_axis \u001b[39m=\u001b[39m axis\u001b[39m.\u001b[39mtake(indexer)\n\u001b[1;32m   <a href='file:///home/jabreu/miniconda3/envs/dna-conda/lib/python3.8/site-packages/pandas/core/generic.py?line=4356'>4357</a>\u001b[0m bm_axis \u001b[39m=\u001b[39m \u001b[39mself\u001b[39m\u001b[39m.\u001b[39mndim \u001b[39m-\u001b[39m axis_num \u001b[39m-\u001b[39m \u001b[39m1\u001b[39m\n\u001b[0;32m-> <a href='file:///home/jabreu/miniconda3/envs/dna-conda/lib/python3.8/site-packages/pandas/core/generic.py?line=4357'>4358</a>\u001b[0m new_mgr \u001b[39m=\u001b[39m \u001b[39mself\u001b[39;49m\u001b[39m.\u001b[39;49m_mgr\u001b[39m.\u001b[39;49mreindex_indexer(\n\u001b[1;32m   <a href='file:///home/jabreu/miniconda3/envs/dna-conda/lib/python3.8/site-packages/pandas/core/generic.py?line=4358'>4359</a>\u001b[0m     new_axis,\n\u001b[1;32m   <a href='file:///home/jabreu/miniconda3/envs/dna-conda/lib/python3.8/site-packages/pandas/core/generic.py?line=4359'>4360</a>\u001b[0m     indexer,\n\u001b[1;32m   <a href='file:///home/jabreu/miniconda3/envs/dna-conda/lib/python3.8/site-packages/pandas/core/generic.py?line=4360'>4361</a>\u001b[0m     axis\u001b[39m=\u001b[39;49mbm_axis,\n\u001b[1;32m   <a href='file:///home/jabreu/miniconda3/envs/dna-conda/lib/python3.8/site-packages/pandas/core/generic.py?line=4361'>4362</a>\u001b[0m     allow_dups\u001b[39m=\u001b[39;49m\u001b[39mTrue\u001b[39;49;00m,\n\u001b[1;32m   <a href='file:///home/jabreu/miniconda3/envs/dna-conda/lib/python3.8/site-packages/pandas/core/generic.py?line=4362'>4363</a>\u001b[0m     consolidate\u001b[39m=\u001b[39;49mconsolidate,\n\u001b[1;32m   <a href='file:///home/jabreu/miniconda3/envs/dna-conda/lib/python3.8/site-packages/pandas/core/generic.py?line=4363'>4364</a>\u001b[0m     only_slice\u001b[39m=\u001b[39;49monly_slice,\n\u001b[1;32m   <a href='file:///home/jabreu/miniconda3/envs/dna-conda/lib/python3.8/site-packages/pandas/core/generic.py?line=4364'>4365</a>\u001b[0m )\n\u001b[1;32m   <a href='file:///home/jabreu/miniconda3/envs/dna-conda/lib/python3.8/site-packages/pandas/core/generic.py?line=4365'>4366</a>\u001b[0m result \u001b[39m=\u001b[39m \u001b[39mself\u001b[39m\u001b[39m.\u001b[39m_constructor(new_mgr)\n\u001b[1;32m   <a href='file:///home/jabreu/miniconda3/envs/dna-conda/lib/python3.8/site-packages/pandas/core/generic.py?line=4366'>4367</a>\u001b[0m \u001b[39mif\u001b[39;00m \u001b[39mself\u001b[39m\u001b[39m.\u001b[39mndim \u001b[39m==\u001b[39m \u001b[39m1\u001b[39m:\n",
      "File \u001b[0;32m~/miniconda3/envs/dna-conda/lib/python3.8/site-packages/pandas/core/internals/managers.py:685\u001b[0m, in \u001b[0;36mBaseBlockManager.reindex_indexer\u001b[0;34m(self, new_axis, indexer, axis, fill_value, allow_dups, copy, consolidate, only_slice, use_na_proxy)\u001b[0m\n\u001b[1;32m    <a href='file:///home/jabreu/miniconda3/envs/dna-conda/lib/python3.8/site-packages/pandas/core/internals/managers.py?line=681'>682</a>\u001b[0m     \u001b[39mraise\u001b[39;00m \u001b[39mIndexError\u001b[39;00m(\u001b[39m\"\u001b[39m\u001b[39mRequested axis not found in manager\u001b[39m\u001b[39m\"\u001b[39m)\n\u001b[1;32m    <a href='file:///home/jabreu/miniconda3/envs/dna-conda/lib/python3.8/site-packages/pandas/core/internals/managers.py?line=683'>684</a>\u001b[0m \u001b[39mif\u001b[39;00m axis \u001b[39m==\u001b[39m \u001b[39m0\u001b[39m:\n\u001b[0;32m--> <a href='file:///home/jabreu/miniconda3/envs/dna-conda/lib/python3.8/site-packages/pandas/core/internals/managers.py?line=684'>685</a>\u001b[0m     new_blocks \u001b[39m=\u001b[39m \u001b[39mself\u001b[39;49m\u001b[39m.\u001b[39;49m_slice_take_blocks_ax0(\n\u001b[1;32m    <a href='file:///home/jabreu/miniconda3/envs/dna-conda/lib/python3.8/site-packages/pandas/core/internals/managers.py?line=685'>686</a>\u001b[0m         indexer,\n\u001b[1;32m    <a href='file:///home/jabreu/miniconda3/envs/dna-conda/lib/python3.8/site-packages/pandas/core/internals/managers.py?line=686'>687</a>\u001b[0m         fill_value\u001b[39m=\u001b[39;49mfill_value,\n\u001b[1;32m    <a href='file:///home/jabreu/miniconda3/envs/dna-conda/lib/python3.8/site-packages/pandas/core/internals/managers.py?line=687'>688</a>\u001b[0m         only_slice\u001b[39m=\u001b[39;49monly_slice,\n\u001b[1;32m    <a href='file:///home/jabreu/miniconda3/envs/dna-conda/lib/python3.8/site-packages/pandas/core/internals/managers.py?line=688'>689</a>\u001b[0m         use_na_proxy\u001b[39m=\u001b[39;49muse_na_proxy,\n\u001b[1;32m    <a href='file:///home/jabreu/miniconda3/envs/dna-conda/lib/python3.8/site-packages/pandas/core/internals/managers.py?line=689'>690</a>\u001b[0m     )\n\u001b[1;32m    <a href='file:///home/jabreu/miniconda3/envs/dna-conda/lib/python3.8/site-packages/pandas/core/internals/managers.py?line=690'>691</a>\u001b[0m \u001b[39melse\u001b[39;00m:\n\u001b[1;32m    <a href='file:///home/jabreu/miniconda3/envs/dna-conda/lib/python3.8/site-packages/pandas/core/internals/managers.py?line=691'>692</a>\u001b[0m     new_blocks \u001b[39m=\u001b[39m [\n\u001b[1;32m    <a href='file:///home/jabreu/miniconda3/envs/dna-conda/lib/python3.8/site-packages/pandas/core/internals/managers.py?line=692'>693</a>\u001b[0m         blk\u001b[39m.\u001b[39mtake_nd(\n\u001b[1;32m    <a href='file:///home/jabreu/miniconda3/envs/dna-conda/lib/python3.8/site-packages/pandas/core/internals/managers.py?line=693'>694</a>\u001b[0m             indexer,\n\u001b[0;32m   (...)\u001b[0m\n\u001b[1;32m    <a href='file:///home/jabreu/miniconda3/envs/dna-conda/lib/python3.8/site-packages/pandas/core/internals/managers.py?line=699'>700</a>\u001b[0m         \u001b[39mfor\u001b[39;00m blk \u001b[39min\u001b[39;00m \u001b[39mself\u001b[39m\u001b[39m.\u001b[39mblocks\n\u001b[1;32m    <a href='file:///home/jabreu/miniconda3/envs/dna-conda/lib/python3.8/site-packages/pandas/core/internals/managers.py?line=700'>701</a>\u001b[0m     ]\n",
      "File \u001b[0;32m~/miniconda3/envs/dna-conda/lib/python3.8/site-packages/pandas/core/internals/managers.py:844\u001b[0m, in \u001b[0;36mBaseBlockManager._slice_take_blocks_ax0\u001b[0;34m(self, slice_or_indexer, fill_value, only_slice, use_na_proxy)\u001b[0m\n\u001b[1;32m    <a href='file:///home/jabreu/miniconda3/envs/dna-conda/lib/python3.8/site-packages/pandas/core/internals/managers.py?line=841'>842</a>\u001b[0m                     blocks\u001b[39m.\u001b[39mappend(nb)\n\u001b[1;32m    <a href='file:///home/jabreu/miniconda3/envs/dna-conda/lib/python3.8/site-packages/pandas/core/internals/managers.py?line=842'>843</a>\u001b[0m             \u001b[39melse\u001b[39;00m:\n\u001b[0;32m--> <a href='file:///home/jabreu/miniconda3/envs/dna-conda/lib/python3.8/site-packages/pandas/core/internals/managers.py?line=843'>844</a>\u001b[0m                 nb \u001b[39m=\u001b[39m blk\u001b[39m.\u001b[39;49mtake_nd(taker, axis\u001b[39m=\u001b[39;49m\u001b[39m0\u001b[39;49m, new_mgr_locs\u001b[39m=\u001b[39;49mmgr_locs)\n\u001b[1;32m    <a href='file:///home/jabreu/miniconda3/envs/dna-conda/lib/python3.8/site-packages/pandas/core/internals/managers.py?line=844'>845</a>\u001b[0m                 blocks\u001b[39m.\u001b[39mappend(nb)\n\u001b[1;32m    <a href='file:///home/jabreu/miniconda3/envs/dna-conda/lib/python3.8/site-packages/pandas/core/internals/managers.py?line=846'>847</a>\u001b[0m \u001b[39mreturn\u001b[39;00m blocks\n",
      "File \u001b[0;32m~/miniconda3/envs/dna-conda/lib/python3.8/site-packages/pandas/core/internals/blocks.py:1121\u001b[0m, in \u001b[0;36mBlock.take_nd\u001b[0;34m(self, indexer, axis, new_mgr_locs, fill_value)\u001b[0m\n\u001b[1;32m   <a href='file:///home/jabreu/miniconda3/envs/dna-conda/lib/python3.8/site-packages/pandas/core/internals/blocks.py?line=1117'>1118</a>\u001b[0m \u001b[39melse\u001b[39;00m:\n\u001b[1;32m   <a href='file:///home/jabreu/miniconda3/envs/dna-conda/lib/python3.8/site-packages/pandas/core/internals/blocks.py?line=1118'>1119</a>\u001b[0m     allow_fill \u001b[39m=\u001b[39m \u001b[39mTrue\u001b[39;00m\n\u001b[0;32m-> <a href='file:///home/jabreu/miniconda3/envs/dna-conda/lib/python3.8/site-packages/pandas/core/internals/blocks.py?line=1120'>1121</a>\u001b[0m new_values \u001b[39m=\u001b[39m algos\u001b[39m.\u001b[39;49mtake_nd(\n\u001b[1;32m   <a href='file:///home/jabreu/miniconda3/envs/dna-conda/lib/python3.8/site-packages/pandas/core/internals/blocks.py?line=1121'>1122</a>\u001b[0m     values, indexer, axis\u001b[39m=\u001b[39;49maxis, allow_fill\u001b[39m=\u001b[39;49mallow_fill, fill_value\u001b[39m=\u001b[39;49mfill_value\n\u001b[1;32m   <a href='file:///home/jabreu/miniconda3/envs/dna-conda/lib/python3.8/site-packages/pandas/core/internals/blocks.py?line=1122'>1123</a>\u001b[0m )\n\u001b[1;32m   <a href='file:///home/jabreu/miniconda3/envs/dna-conda/lib/python3.8/site-packages/pandas/core/internals/blocks.py?line=1124'>1125</a>\u001b[0m \u001b[39m# Called from three places in managers, all of which satisfy\u001b[39;00m\n\u001b[1;32m   <a href='file:///home/jabreu/miniconda3/envs/dna-conda/lib/python3.8/site-packages/pandas/core/internals/blocks.py?line=1125'>1126</a>\u001b[0m \u001b[39m#  this assertion\u001b[39;00m\n\u001b[1;32m   <a href='file:///home/jabreu/miniconda3/envs/dna-conda/lib/python3.8/site-packages/pandas/core/internals/blocks.py?line=1126'>1127</a>\u001b[0m \u001b[39massert\u001b[39;00m \u001b[39mnot\u001b[39;00m (axis \u001b[39m==\u001b[39m \u001b[39m0\u001b[39m \u001b[39mand\u001b[39;00m new_mgr_locs \u001b[39mis\u001b[39;00m \u001b[39mNone\u001b[39;00m)\n",
      "File \u001b[0;32m~/miniconda3/envs/dna-conda/lib/python3.8/site-packages/pandas/core/array_algos/take.py:117\u001b[0m, in \u001b[0;36mtake_nd\u001b[0;34m(arr, indexer, axis, fill_value, allow_fill)\u001b[0m\n\u001b[1;32m    <a href='file:///home/jabreu/miniconda3/envs/dna-conda/lib/python3.8/site-packages/pandas/core/array_algos/take.py?line=113'>114</a>\u001b[0m     \u001b[39mreturn\u001b[39;00m arr\u001b[39m.\u001b[39mtake(indexer, fill_value\u001b[39m=\u001b[39mfill_value, allow_fill\u001b[39m=\u001b[39mallow_fill)\n\u001b[1;32m    <a href='file:///home/jabreu/miniconda3/envs/dna-conda/lib/python3.8/site-packages/pandas/core/array_algos/take.py?line=115'>116</a>\u001b[0m arr \u001b[39m=\u001b[39m np\u001b[39m.\u001b[39masarray(arr)\n\u001b[0;32m--> <a href='file:///home/jabreu/miniconda3/envs/dna-conda/lib/python3.8/site-packages/pandas/core/array_algos/take.py?line=116'>117</a>\u001b[0m \u001b[39mreturn\u001b[39;00m _take_nd_ndarray(arr, indexer, axis, fill_value, allow_fill)\n",
      "File \u001b[0;32m~/miniconda3/envs/dna-conda/lib/python3.8/site-packages/pandas/core/array_algos/take.py:158\u001b[0m, in \u001b[0;36m_take_nd_ndarray\u001b[0;34m(arr, indexer, axis, fill_value, allow_fill)\u001b[0m\n\u001b[1;32m    <a href='file:///home/jabreu/miniconda3/envs/dna-conda/lib/python3.8/site-packages/pandas/core/array_algos/take.py?line=155'>156</a>\u001b[0m     out \u001b[39m=\u001b[39m np\u001b[39m.\u001b[39mempty(out_shape, dtype\u001b[39m=\u001b[39mdtype, order\u001b[39m=\u001b[39m\u001b[39m\"\u001b[39m\u001b[39mF\u001b[39m\u001b[39m\"\u001b[39m)\n\u001b[1;32m    <a href='file:///home/jabreu/miniconda3/envs/dna-conda/lib/python3.8/site-packages/pandas/core/array_algos/take.py?line=156'>157</a>\u001b[0m \u001b[39melse\u001b[39;00m:\n\u001b[0;32m--> <a href='file:///home/jabreu/miniconda3/envs/dna-conda/lib/python3.8/site-packages/pandas/core/array_algos/take.py?line=157'>158</a>\u001b[0m     out \u001b[39m=\u001b[39m np\u001b[39m.\u001b[39;49mempty(out_shape, dtype\u001b[39m=\u001b[39;49mdtype)\n\u001b[1;32m    <a href='file:///home/jabreu/miniconda3/envs/dna-conda/lib/python3.8/site-packages/pandas/core/array_algos/take.py?line=159'>160</a>\u001b[0m func \u001b[39m=\u001b[39m _get_take_nd_function(\n\u001b[1;32m    <a href='file:///home/jabreu/miniconda3/envs/dna-conda/lib/python3.8/site-packages/pandas/core/array_algos/take.py?line=160'>161</a>\u001b[0m     arr\u001b[39m.\u001b[39mndim, arr\u001b[39m.\u001b[39mdtype, out\u001b[39m.\u001b[39mdtype, axis\u001b[39m=\u001b[39maxis, mask_info\u001b[39m=\u001b[39mmask_info\n\u001b[1;32m    <a href='file:///home/jabreu/miniconda3/envs/dna-conda/lib/python3.8/site-packages/pandas/core/array_algos/take.py?line=161'>162</a>\u001b[0m )\n\u001b[1;32m    <a href='file:///home/jabreu/miniconda3/envs/dna-conda/lib/python3.8/site-packages/pandas/core/array_algos/take.py?line=162'>163</a>\u001b[0m func(arr, indexer, out, fill_value)\n",
      "\u001b[0;31mKeyboardInterrupt\u001b[0m: "
     ]
    }
   ],
   "source": [
    "no_need_normalization = [\"length\", \"at_content\", \"gc_content\"]\n",
    "\n",
    "need_dict_normalization = [\"nucleic_acid_composition\", \"enhanced_nucleic_acid_composition\",\"dinucleotide_composition\",\"trinucleotide_composition\",\"k_spaced_nucleic_acid_pairs\",\"kmer\",\"PseDNC\", \"PseKNC\"]\n",
    "\n",
    "need_list_normalization = [\"nucleotide_chemical_property\", \"accumulated_nucleotide_frequency\", \"DAC\", \"DCC\", \"DACC\", \"TAC\",\"TCC\",\"TACC\", \"binary\"]\n",
    "\n",
    "def normalize_dict(d, field):\n",
    "    df = pd.json_normalize(d)\n",
    "    df.columns = [str(field) + \"_\" + str(i) for i in df.columns]\n",
    "    \n",
    "    for f in df.columns:\n",
    "        if isinstance(df[f][0], dict):\n",
    "            df = pd.concat([df, normalize_dict(df[f], f)], axis=1)\n",
    "            df.drop(f, axis=1, inplace=True)\n",
    "    return df\n",
    "\n",
    "def normalize_list(l, field):\n",
    "    df = pd.DataFrame(l.to_list())\n",
    "    df.columns = [str(field) + \"_\" + str(i) for i in df.columns]\n",
    "    \n",
    "    for f in df.columns:\n",
    "        if isinstance(df[f][0], list):\n",
    "            df = pd.concat([df, normalize_list(df[f], f)], axis=1)\n",
    "            df.drop(f, axis=1, inplace=True)\n",
    "    return df\n",
    "\n",
    "new_fps_x = pd.DataFrame()\n",
    "\n",
    "count = 0\n",
    "for col in fps_x.columns:\n",
    "    if col in need_dict_normalization:\n",
    "        new_fps_x = pd.concat([new_fps_x, normalize_dict(fps_x[col], col)], axis=1)\n",
    "    elif col in need_list_normalization:\n",
    "        new_fps_x = pd.concat([new_fps_x, normalize_list(fps_x[col], col)], axis=1)\n",
    "    else:\n",
    "        new_fps_x[col] = fps_x[col].to_numpy()\n",
    "    count += 1\n",
    "    print(\"col:\", col, \":\", count, '/', len(fps_x.columns))\n",
    "    \n",
    "        \n",
    "# write to csv\n",
    "new_fps_x.to_csv(\"fps_x.csv\", index=False)\n",
    "fps_y.to_csv(\"fps_y.csv\", index=False)\n",
    "new_fps_x"
   ]
  },
  {
   "cell_type": "markdown",
   "metadata": {},
   "source": [
    "## Classification using Deep Learning and One hot encoding"
   ]
  },
  {
   "cell_type": "code",
   "execution_count": null,
   "metadata": {},
   "outputs": [],
   "source": [
    "# average_length = int(average_length)\n",
    "\n",
    "# cut sequences to the average length\n",
    "# seqs_dataset = seqs_dataset.str.slice(0, average_length)\n",
    "\n",
    "# fill with \"N\" the sequences that are shorter than average length\n",
    "# seqs_dataset = seqs_dataset.str.pad(average_length, side='right', fillchar='N')"
   ]
  }
 ],
 "metadata": {
  "interpreter": {
   "hash": "ba449ea13c29f64a91968d8f927cecceedd6e605eda30388903386e6cd94168d"
  },
  "kernelspec": {
   "display_name": "Python 3.8.13 ('dna-conda': conda)",
   "language": "python",
   "name": "python3"
  },
  "language_info": {
   "codemirror_mode": {
    "name": "ipython",
    "version": 3
   },
   "file_extension": ".py",
   "mimetype": "text/x-python",
   "name": "python",
   "nbconvert_exporter": "python",
   "pygments_lexer": "ipython3",
   "version": "3.8.13"
  },
  "orig_nbformat": 4
 },
 "nbformat": 4,
 "nbformat_minor": 2
}
