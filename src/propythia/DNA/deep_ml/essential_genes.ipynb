{
 "cells": [
  {
   "cell_type": "code",
   "execution_count": null,
   "metadata": {},
   "outputs": [],
   "source": [
    "import pandas as pd\n",
    "import matplotlib.pyplot as plt"
   ]
  },
  {
   "cell_type": "code",
   "execution_count": null,
   "metadata": {},
   "outputs": [],
   "source": [
    "dataset = pd.read_csv(\"datasets/essential_genes.csv\", sep=';', header=None)\n",
    "print(dataset.shape)"
   ]
  },
  {
   "cell_type": "markdown",
   "metadata": {},
   "source": [
    "Calculating length of each sequence and cleaning up the data"
   ]
  },
  {
   "cell_type": "code",
   "execution_count": null,
   "metadata": {},
   "outputs": [],
   "source": [
    "# remove rows with \"Notavailablenow.\" in the last column\n",
    "dataset = dataset[dataset[dataset.shape[1]-1] != \"Notavailablenow.\"]\n",
    "\n",
    "# calculate length of each gene (last row)\n",
    "dataset[dataset.shape[1]] = dataset[dataset.shape[1] - 1].str.len()\n",
    "\n",
    "# remove rows that have a length bigger than 27000\n",
    "dataset = dataset[dataset[dataset.shape[1] - 1] <= 27000]"
   ]
  },
  {
   "cell_type": "markdown",
   "metadata": {},
   "source": [
    "Statistics about the data"
   ]
  },
  {
   "cell_type": "code",
   "execution_count": null,
   "metadata": {},
   "outputs": [],
   "source": [
    "# build a histogram of the lengths of the genes\n",
    "dataset[dataset.shape[1] - 1].hist(bins=100)\n",
    "plt.show()\n",
    "\n",
    "print(\"------------------------------------\")\n",
    "\n",
    "print(\"Total sequences:\", dataset.shape[0])\n",
    "\n",
    "print(\"------------------------------------\")\n",
    "\n",
    "print(\"Top 5 longest sequences:\")\n",
    "print(dataset[dataset.shape[1] - 1].nlargest(5).to_string())\n",
    "\n",
    "print(\"------------------------------------\")\n",
    "\n",
    "print(\"Top 5 shortest sequences:\")\n",
    "print(dataset[dataset.shape[1] - 1].nsmallest(5).to_string())\n",
    "\n",
    "print(\"------------------------------------\")\n",
    "\n",
    "average_length = dataset[dataset.shape[1] - 1].mean()\n",
    "print(\"Average length:\", average_length)\n",
    "\n",
    "print(\"------------------------------------\")\n",
    "\n",
    "print(\"Most common lengths:\")\n",
    "print(dataset[dataset.shape[1] - 1].value_counts().to_string())"
   ]
  },
  {
   "cell_type": "markdown",
   "metadata": {},
   "source": [
    "Creating dataset with only sequences"
   ]
  },
  {
   "cell_type": "code",
   "execution_count": null,
   "metadata": {},
   "outputs": [],
   "source": [
    "# extract only last column of dataset\n",
    "seqs_dataset = dataset.iloc[:, dataset.shape[1] - 2]\n",
    "\n",
    "print(seqs_dataset.shape)\n",
    "print(seqs_dataset.head().to_string())"
   ]
  },
  {
   "cell_type": "code",
   "execution_count": null,
   "metadata": {},
   "outputs": [],
   "source": [
    "average_length = int(average_length)\n",
    "\n",
    "# cut sequences to the average length\n",
    "seqs_dataset = seqs_dataset.str.slice(0, average_length)\n",
    "\n",
    "# fill with \"N\" the sequences that are shorter than average length\n",
    "seqs_dataset = seqs_dataset.str.pad(average_length, side='right', fillchar='N')\n",
    "\n",
    "seqs_dataset.to_csv(\"datasets/essential_genes_clean.csv\", sep=';', header=False, index=False)"
   ]
  }
 ],
 "metadata": {
  "interpreter": {
   "hash": "ba449ea13c29f64a91968d8f927cecceedd6e605eda30388903386e6cd94168d"
  },
  "kernelspec": {
   "display_name": "Python 3.8.13 ('dna-conda': conda)",
   "language": "python",
   "name": "python3"
  },
  "language_info": {
   "codemirror_mode": {
    "name": "ipython",
    "version": 3
   },
   "file_extension": ".py",
   "mimetype": "text/x-python",
   "name": "python",
   "nbconvert_exporter": "python",
   "pygments_lexer": "ipython3",
   "version": "3.8.13"
  },
  "orig_nbformat": 4
 },
 "nbformat": 4,
 "nbformat_minor": 2
}
