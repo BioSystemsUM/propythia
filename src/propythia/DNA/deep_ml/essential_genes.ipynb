{
 "cells": [
  {
   "cell_type": "code",
   "execution_count": 174,
   "metadata": {},
   "outputs": [],
   "source": [
    "\n",
    "import pandas as pd\n",
    "import matplotlib.pyplot as plt\n",
    "from os.path import exists\n",
    "import ast\n",
    "import pickle"
   ]
  },
  {
   "cell_type": "markdown",
   "metadata": {},
   "source": [
    "The original essential genes dataset had 28166 rows but only 26791 had available sequences."
   ]
  },
  {
   "cell_type": "code",
   "execution_count": 175,
   "metadata": {},
   "outputs": [
    {
     "name": "stdout",
     "output_type": "stream",
     "text": [
      "(26791, 15)\n",
      "(27684, 2)\n"
     ]
    }
   ],
   "source": [
    "deg_dataset = pd.read_csv(\"datasets/essential_genes.csv\", sep=';')\n",
    "print(deg_dataset.shape)\n",
    "\n",
    "eg_negative = pd.read_csv(\"datasets/essential_genes_negative.csv\", sep=',')\n",
    "print(eg_negative.shape)"
   ]
  },
  {
   "cell_type": "markdown",
   "metadata": {},
   "source": [
    "Creating positive essential genes dataset. Each sequence needs to be in at least 5 datasets."
   ]
  },
  {
   "cell_type": "code",
   "execution_count": 176,
   "metadata": {},
   "outputs": [
    {
     "name": "stdout",
     "output_type": "stream",
     "text": [
      "     id                                           sequence\n",
      "0  GI:-  ATGGTGCTGTCCCAGAGACAACGAGATGAACTAAATCGAGCTATAG...\n",
      "1  GI:-  ATGGCTGCAGCTTCATATGATCAGTTGTTAAAGCAAGTTGAGGCAC...\n",
      "2  GI:-  ATGAGCCGCCTGCTCTGGAGGAAGGTGGCCGGCGCCACCGTCGGGC...\n",
      "3  GI:-  ATGCAGAGCTGGAGTCGTGTGTACTGCTCCTTGGCCAAGAGAGGCC...\n",
      "4  GI:-  ATGGTTGGCTATGACCCCAAACCAGATGGCAGGAATAACACCAAGT...\n",
      "(2010, 2)\n"
     ]
    }
   ],
   "source": [
    "# for each sequence, get all the datasets that contain it\n",
    "d = {}\n",
    "for _, row in deg_dataset.iterrows():\n",
    "    if(row[\"sequence\"] in d):\n",
    "        d[row[\"sequence\"]].append((row[\"id1\"], row[\"id4\"]))\n",
    "    else:\n",
    "        d[row[\"sequence\"]] = [(row[\"id1\"], row[\"id4\"])]\n",
    "\n",
    "\n",
    "# get a list of sequences that are in more than 5 datasets\n",
    "essential_sequences = []\n",
    "for key, val in d.items():\n",
    "    if(len(val) >= 5):\n",
    "        essential_sequences.append((val[0][1], key))\n",
    "        \n",
    "# create dataframe with essential sequences\n",
    "eg_positive = pd.DataFrame(essential_sequences, columns=[\"id\", \"sequence\"])\n",
    "print(eg_positive.head())\n",
    "print(eg_positive.shape)\n",
    "\n",
    "# write to csv\n",
    "eg_positive.to_csv(\"datasets/essential_genes_positive.csv\", index=False)"
   ]
  },
  {
   "cell_type": "markdown",
   "metadata": {},
   "source": [
    "At this point, we have both positive and negative datasets:\n",
    "* eg_positive -> positive dataset with essential genes (genes contained in at least 5 datasets) (2010, 2)\n",
    "* eg_negative -> negative dataset with non essential genes (if sequences from the DEG dataset were on the Ensembl dataset, they were removed. Also, each sequence in DEG dataset had an EMBL id associated and, even if the sequence itself was not the same with the sequence with that ID in the EMBL dataset, they also go removed, forming the negative dataset) (27684, 2)"
   ]
  },
  {
   "cell_type": "code",
   "execution_count": 177,
   "metadata": {},
   "outputs": [
    {
     "name": "stdout",
     "output_type": "stream",
     "text": [
      "unique positive sequences: 2010\n",
      "unique negative sequences: 23443\n"
     ]
    }
   ],
   "source": [
    "print(\"unique positive sequences:\", len(set(eg_positive[\"sequence\"])))\n",
    "print(\"unique negative sequences:\", len(set(eg_negative[\"sequence\"])))"
   ]
  },
  {
   "cell_type": "markdown",
   "metadata": {},
   "source": [
    "Even though the negative dataset has 27684 sequences, not all of them are unique. So, we need to remove the duplicates."
   ]
  },
  {
   "cell_type": "code",
   "execution_count": 178,
   "metadata": {},
   "outputs": [
    {
     "name": "stdout",
     "output_type": "stream",
     "text": [
      "(23443, 2)\n"
     ]
    }
   ],
   "source": [
    "eg_negative = eg_negative.drop_duplicates(subset=\"sequence\")\n",
    "print(eg_negative.shape)"
   ]
  },
  {
   "cell_type": "markdown",
   "metadata": {},
   "source": [
    "Calculating length of each sequence and cleaning up the data"
   ]
  },
  {
   "cell_type": "code",
   "execution_count": 179,
   "metadata": {},
   "outputs": [],
   "source": [
    "eg_positive[\"length\"] = eg_positive[\"sequence\"].str.len()\n",
    "eg_negative[\"length\"] = eg_negative[\"sequence\"].str.len()"
   ]
  },
  {
   "cell_type": "code",
   "execution_count": 180,
   "metadata": {},
   "outputs": [
    {
     "name": "stdout",
     "output_type": "stream",
     "text": [
      "before removing\n",
      "(2010, 3)\n",
      "(23443, 3)\n",
      "after removing\n",
      "(2010, 3) 0 were removed\n",
      "(23439, 3) 4 were removed\n"
     ]
    }
   ],
   "source": [
    "print(\"before removing\")\n",
    "print(eg_positive.shape)\n",
    "print(eg_negative.shape)\n",
    "\n",
    "old_eg_positive = eg_positive.shape[0]\n",
    "old_eg_negative = eg_negative.shape[0]\n",
    "\n",
    "eg_positive = eg_positive[eg_positive[\"length\"] <= 20000]\n",
    "eg_negative = eg_negative[eg_negative[\"length\"] <= 20000]\n",
    "print(\"after removing\")\n",
    "print(eg_positive.shape, old_eg_positive - eg_positive.shape[0], \"were removed\")\n",
    "print(eg_negative.shape, old_eg_negative - eg_negative.shape[0], \"were removed\")"
   ]
  },
  {
   "cell_type": "markdown",
   "metadata": {},
   "source": [
    "Statistics about the data, including:\n",
    "* Total sequences\n",
    "* Top 5 longest and shortest sequences\n",
    "* Average length of sequences\n",
    "* Top 5 most and least common sequence length"
   ]
  },
  {
   "cell_type": "code",
   "execution_count": 181,
   "metadata": {},
   "outputs": [],
   "source": [
    "def stats(dataset):\n",
    "    dataset[\"length\"].hist(bins=100)\n",
    "    plt.show()\n",
    "\n",
    "    print(\"-\" * 40)\n",
    "\n",
    "    print(\"Total sequences:\", dataset.shape[0])\n",
    "\n",
    "    print(\"-\" * 40)\n",
    "\n",
    "    print(\"Top 5 longest sequences:\")\n",
    "    print(\"id       length\")\n",
    "    print(dataset[\"length\"].nlargest(5).to_string())\n",
    "\n",
    "    print(\"-\" * 40)\n",
    "\n",
    "    print(\"Top 5 shortest sequences:\")\n",
    "    print(\"id       length\")\n",
    "    print(dataset[\"length\"].nsmallest(5).to_string())\n",
    "\n",
    "    print(\"-\" * 40)\n",
    "\n",
    "    average_length = dataset[\"length\"].mean()\n",
    "    print(\"Average length:\", average_length)\n",
    "\n",
    "    print(\"-\" * 40)\n",
    "\n",
    "    print(\"Top 5 most common lengths:\")\n",
    "    print(\"length   count\")\n",
    "    print(dataset[\"length\"].value_counts().nlargest(5).to_string())\n",
    "    \n",
    "    print(\"-\" * 40)\n",
    "\n",
    "    print(\"Top 5 least common lengths:\")\n",
    "    print(\"length   count\")\n",
    "    print(dataset[\"length\"].value_counts().nsmallest(5).to_string())"
   ]
  },
  {
   "cell_type": "code",
   "execution_count": 182,
   "metadata": {},
   "outputs": [
    {
     "data": {
      "image/png": "[encoded data removed]",
      "text/plain": [
       "<Figure size 432x288 with 1 Axes>"
      ]
     },
     "metadata": {},
     "output_type": "display_data"
    },
    {
     "name": "stdout",
     "output_type": "stream",
     "text": [
      "----------------------------------------\n",
      "Total sequences: 2010\n",
      "----------------------------------------\n",
      "Top 5 longest sequences:\n",
      "id       length\n",
      "676    16791\n",
      "248    15615\n",
      "204    14574\n",
      "491    13941\n",
      "31     13167\n",
      "----------------------------------------\n",
      "Top 5 shortest sequences:\n",
      "id       length\n",
      "1112    192\n",
      "1427    195\n",
      "1500    204\n",
      "1611    204\n",
      "1346    210\n",
      "----------------------------------------\n",
      "Average length: 1903.6034825870647\n",
      "----------------------------------------\n",
      "Top 5 most common lengths:\n",
      "length   count\n",
      "1083    9\n",
      "1041    8\n",
      "618     7\n",
      "585     7\n",
      "1314    7\n",
      "----------------------------------------\n",
      "Top 5 least common lengths:\n",
      "length   count\n",
      "4311    1\n",
      "2289    1\n",
      "2958    1\n",
      "513     1\n",
      "2799    1\n",
      "****************************************************************************************************\n"
     ]
    },
    {
     "data": {
      "image/png": "[encoded data removed]",
      "text/plain": [
       "<Figure size 432x288 with 1 Axes>"
      ]
     },
     "metadata": {},
     "output_type": "display_data"
    },
    {
     "name": "stdout",
     "output_type": "stream",
     "text": [
      "----------------------------------------\n",
      "Total sequences: 23439\n",
      "----------------------------------------\n",
      "Top 5 longest sequences:\n",
      "id       length\n",
      "20105    18921\n",
      "2852     17673\n",
      "12774    17388\n",
      "23013    17289\n",
      "25523    16965\n",
      "----------------------------------------\n",
      "Top 5 shortest sequences:\n",
      "id       length\n",
      "6728      3\n",
      "14762     5\n",
      "13586    10\n",
      "23228    10\n",
      "25635    12\n",
      "----------------------------------------\n",
      "Average length: 1351.6297196979394\n",
      "----------------------------------------\n",
      "Top 5 most common lengths:\n",
      "length   count\n",
      "939    98\n",
      "945    76\n",
      "930    72\n",
      "444    66\n",
      "948    63\n",
      "----------------------------------------\n",
      "Top 5 least common lengths:\n",
      "length   count\n",
      "644      1\n",
      "997      1\n",
      "11724    1\n",
      "607      1\n",
      "10896    1\n"
     ]
    }
   ],
   "source": [
    "stats(eg_positive)\n",
    "print(\"*\" * 100)\n",
    "stats(eg_negative)"
   ]
  },
  {
   "cell_type": "markdown",
   "metadata": {},
   "source": [
    "Joining the positive and negative datasets"
   ]
  },
  {
   "cell_type": "code",
   "execution_count": 183,
   "metadata": {},
   "outputs": [
    {
     "name": "stdout",
     "output_type": "stream",
     "text": [
      "(25449, 3)\n",
      "     id                                           sequence  label\n",
      "0  GI:-  ATGGTGCTGTCCCAGAGACAACGAGATGAACTAAATCGAGCTATAG...      1\n",
      "1  GI:-  ATGGCTGCAGCTTCATATGATCAGTTGTTAAAGCAAGTTGAGGCAC...      1\n",
      "2  GI:-  ATGAGCCGCCTGCTCTGGAGGAAGGTGGCCGGCGCCACCGTCGGGC...      1\n",
      "3  GI:-  ATGCAGAGCTGGAGTCGTGTGTACTGCTCCTTGGCCAAGAGAGGCC...      1\n",
      "4  GI:-  ATGGTTGGCTATGACCCCAAACCAGATGGCAGGAATAACACCAAGT...      1\n"
     ]
    }
   ],
   "source": [
    "# adding labels to the dataset\n",
    "eg_positive[\"label\"] = 1\n",
    "eg_negative[\"label\"] = 0\n",
    "\n",
    "# removing length column\n",
    "eg_positive = eg_positive.drop(columns=[\"length\"])\n",
    "eg_negative = eg_negative.drop(columns=[\"length\"])\n",
    "\n",
    "# joining the two datasets\n",
    "dataset = pd.concat([eg_positive, eg_negative])\n",
    "print(dataset.shape)\n",
    "print(dataset.head())"
   ]
  },
  {
   "cell_type": "markdown",
   "metadata": {},
   "source": [
    "## Classification using DNA descriptors"
   ]
  },
  {
   "cell_type": "code",
   "execution_count": 184,
   "metadata": {},
   "outputs": [],
   "source": [
    "import sys\n",
    "from sklearn.model_selection import train_test_split\n",
    "from sklearn.metrics import make_scorer, matthews_corrcoef\n",
    "from sklearn.preprocessing import StandardScaler\n",
    "\n",
    "sys.path.append('../../../../src/')\n",
    "from propythia.shallow_ml import ShallowML\n",
    "from propythia.DNA.descriptors.descriptors import DNADescriptor"
   ]
  },
  {
   "cell_type": "code",
   "execution_count": 185,
   "metadata": {},
   "outputs": [
    {
     "name": "stdout",
     "output_type": "stream",
     "text": [
      "(25449, 3)\n"
     ]
    }
   ],
   "source": [
    "print(dataset.shape)"
   ]
  },
  {
   "cell_type": "code",
   "execution_count": 186,
   "metadata": {},
   "outputs": [
    {
     "data": {
      "text/plain": [
       "<AxesSubplot:xlabel='label'>"
      ]
     },
     "execution_count": 186,
     "metadata": {},
     "output_type": "execute_result"
    },
    {
     "data": {
      "image/png": "[encoded data removed]",
      "text/plain": [
       "<Figure size 432x288 with 1 Axes>"
      ]
     },
     "metadata": {},
     "output_type": "display_data"
    }
   ],
   "source": [
    "# plot the distribution of each class\n",
    "dataset.groupby('label').size().plot(kind='bar')"
   ]
  },
  {
   "cell_type": "code",
   "execution_count": 188,
   "metadata": {},
   "outputs": [
    {
     "ename": "SyntaxError",
     "evalue": "unexpected EOF while parsing (3302909747.py, line 47)",
     "output_type": "error",
     "traceback": [
      "\u001b[0;36m  Input \u001b[0;32mIn [188]\u001b[0;36m\u001b[0m\n\u001b[0;31m    #     features.to_csv(\"datasets/essential_genes_features.csv\", index=False, sep=';')\u001b[0m\n\u001b[0m                                                                                        ^\u001b[0m\n\u001b[0;31mSyntaxError\u001b[0m\u001b[0;31m:\u001b[0m unexpected EOF while parsing\n"
     ]
    }
   ],
   "source": [
    "# List of descriptors to be calculed. If empty, all descriptors will be calculated.\n",
    "specifics = []\n",
    "\n",
    "def calculate_feature(data):\n",
    "    list_feature = []\n",
    "    count = 0\n",
    "    not_valid = 0\n",
    "    for seq in data['sequence']:\n",
    "        res = {'sequence': seq}\n",
    "        dna = DNADescriptor(seq)\n",
    "        try:\n",
    "            feature = dna.get_descriptors(specifics=specifics)\n",
    "            res.update(feature)\n",
    "            list_feature.append(res)\n",
    "        except ZeroDivisionError:\n",
    "            not_valid += 1\n",
    "        # print progress every 100 sequences\n",
    "        if count % 100 == 0:\n",
    "            print(count, '/', len(data))\n",
    "\n",
    "        count += 1\n",
    "    print(\"Done!\")\n",
    "    df = pd.DataFrame(list_feature)\n",
    "    return df, not_valid\n",
    "\n",
    "\n",
    "# ----------------------------------- Using pickle -----------------------------------\n",
    "# if the file exists, load the data from the file\n",
    "if exists(\"datasets/essential_genes_features.pkl\"):\n",
    "    with open(\"datasets/essential_genes_features.pkl\", \"rb\") as f:\n",
    "        features = pickle.load(f)\n",
    "else:\n",
    "    features, not_valid = calculate_feature(dataset)\n",
    "    print(\"Not valid:\", not_valid)\n",
    "    with open(\"datasets/essential_genes_features.pkl\", \"wb\") as f:\n",
    "        pickle.dump(features, f)\n",
    "\n",
    "# ----------------------------------- Using csv -----------------------------------\n",
    "# file_exists = exists('datasets/essential_genes_features.csv')\n",
    "# if(file_exists):\n",
    "#     features = pd.read_csv('datasets/essential_genes_features.csv')\n",
    "#     # converting each column to its corresponding type\n",
    "#     count = 0\n",
    "#     for i in features.columns[4:]:\n",
    "#         features[i] = features[i].apply(lambda x: ast.literal_eval(x)) \n",
    "#         print(count, '/', len(features.columns[4:]))\n",
    "#         count += 1\n",
    "# else:\n",
    "#     features, not_valid = calculate_feature(dataset)\n",
    "#     print(\"Not valid:\", not_valid)\n",
    "#     features.to_csv(\"datasets/essential_genes_features.csv\", index=False, sep=';')"
   ]
  },
  {
   "cell_type": "code",
   "execution_count": null,
   "metadata": {},
   "outputs": [
    {
     "data": {
      "text/plain": [
       "(10, 20)"
      ]
     },
     "execution_count": 129,
     "metadata": {},
     "output_type": "execute_result"
    }
   ],
   "source": [
    "fps_y = dataset['label']\n",
    "fps_x = features.loc[:, features.columns != 'label']\n",
    "fps_x = fps_x.loc[:, fps_x.columns != 'sequence']\n",
    "fps_x.shape"
   ]
  },
  {
   "cell_type": "code",
   "execution_count": null,
   "metadata": {},
   "outputs": [
    {
     "name": "stdout",
     "output_type": "stream",
     "text": [
      "Calculating: length : 1 / 20\n",
      "Calculating: gc_content : 2 / 20\n",
      "Calculating: at_content : 3 / 20\n",
      "Calculating: nucleic_acid_composition : 4 / 20\n",
      "Calculating: enhanced_nucleic_acid_composition : 5 / 20\n",
      "0 / 8528\n",
      "1000 / 8528\n",
      "2000 / 8528\n",
      "3000 / 8528\n",
      "4000 / 8528\n",
      "5000 / 8528\n",
      "6000 / 8528\n",
      "7000 / 8528\n",
      "8000 / 8528\n",
      "Calculating: dinucleotide_composition : 6 / 20\n",
      "Calculating: trinucleotide_composition : 7 / 20\n",
      "Calculating: k_spaced_nucleic_acid_pairs : 8 / 20\n",
      "Calculating: kmer : 9 / 20\n",
      "Calculating: nucleotide_chemical_property : 10 / 20\n",
      "Calculating: accumulated_nucleotide_frequency : 11 / 20\n",
      "Calculating: DAC : 12 / 20\n",
      "Calculating: DCC : 13 / 20\n",
      "Calculating: DACC : 14 / 20\n",
      "Calculating: TAC : 15 / 20\n",
      "Calculating: TCC : 16 / 20\n",
      "Calculating: TACC : 17 / 20\n",
      "Calculating: PseDNC : 18 / 20\n",
      "Calculating: PseKNC : 19 / 20\n",
      "Calculating: binary : 20 / 20\n",
      "writing to csv...\n"
     ]
    },
    {
     "data": {
      "text/html": [
       "<div>\n",
       "<style scoped>\n",
       "    .dataframe tbody tr th:only-of-type {\n",
       "        vertical-align: middle;\n",
       "    }\n",
       "\n",
       "    .dataframe tbody tr th {\n",
       "        vertical-align: top;\n",
       "    }\n",
       "\n",
       "    .dataframe thead th {\n",
       "        text-align: right;\n",
       "    }\n",
       "</style>\n",
       "<table border=\"1\" class=\"dataframe\">\n",
       "  <thead>\n",
       "    <tr style=\"text-align: right;\">\n",
       "      <th></th>\n",
       "      <th>length</th>\n",
       "      <th>gc_content</th>\n",
       "      <th>at_content</th>\n",
       "      <th>nucleic_acid_composition_A</th>\n",
       "      <th>nucleic_acid_composition_C</th>\n",
       "      <th>nucleic_acid_composition_G</th>\n",
       "      <th>nucleic_acid_composition_T</th>\n",
       "      <th>enhanced_nucleic_acid_composition_0_A</th>\n",
       "      <th>enhanced_nucleic_acid_composition_0_C</th>\n",
       "      <th>enhanced_nucleic_acid_composition_0_G</th>\n",
       "      <th>...</th>\n",
       "      <th>binary_1230_2</th>\n",
       "      <th>binary_1230_3</th>\n",
       "      <th>binary_1231_0</th>\n",
       "      <th>binary_1231_1</th>\n",
       "      <th>binary_1231_2</th>\n",
       "      <th>binary_1231_3</th>\n",
       "      <th>binary_1232_0</th>\n",
       "      <th>binary_1232_1</th>\n",
       "      <th>binary_1232_2</th>\n",
       "      <th>binary_1232_3</th>\n",
       "    </tr>\n",
       "  </thead>\n",
       "  <tbody>\n",
       "    <tr>\n",
       "      <th>0</th>\n",
       "      <td>1233</td>\n",
       "      <td>0.440</td>\n",
       "      <td>0.560</td>\n",
       "      <td>0.303</td>\n",
       "      <td>0.193</td>\n",
       "      <td>0.247</td>\n",
       "      <td>0.256</td>\n",
       "      <td>0.2</td>\n",
       "      <td>0.0</td>\n",
       "      <td>0.4</td>\n",
       "      <td>...</td>\n",
       "      <td>0.0</td>\n",
       "      <td>1.0</td>\n",
       "      <td>0.0</td>\n",
       "      <td>0.0</td>\n",
       "      <td>1.0</td>\n",
       "      <td>0.0</td>\n",
       "      <td>1.0</td>\n",
       "      <td>0.0</td>\n",
       "      <td>0.0</td>\n",
       "      <td>0.0</td>\n",
       "    </tr>\n",
       "    <tr>\n",
       "      <th>1</th>\n",
       "      <td>8532</td>\n",
       "      <td>0.412</td>\n",
       "      <td>0.588</td>\n",
       "      <td>0.344</td>\n",
       "      <td>0.208</td>\n",
       "      <td>0.205</td>\n",
       "      <td>0.244</td>\n",
       "      <td>0.2</td>\n",
       "      <td>0.2</td>\n",
       "      <td>0.4</td>\n",
       "      <td>...</td>\n",
       "      <td>1.0</td>\n",
       "      <td>0.0</td>\n",
       "      <td>1.0</td>\n",
       "      <td>0.0</td>\n",
       "      <td>0.0</td>\n",
       "      <td>0.0</td>\n",
       "      <td>1.0</td>\n",
       "      <td>0.0</td>\n",
       "      <td>0.0</td>\n",
       "      <td>0.0</td>\n",
       "    </tr>\n",
       "    <tr>\n",
       "      <th>2</th>\n",
       "      <td>3720</td>\n",
       "      <td>0.604</td>\n",
       "      <td>0.396</td>\n",
       "      <td>0.215</td>\n",
       "      <td>0.290</td>\n",
       "      <td>0.314</td>\n",
       "      <td>0.181</td>\n",
       "      <td>0.4</td>\n",
       "      <td>0.0</td>\n",
       "      <td>0.4</td>\n",
       "      <td>...</td>\n",
       "      <td>0.0</td>\n",
       "      <td>0.0</td>\n",
       "      <td>0.0</td>\n",
       "      <td>0.0</td>\n",
       "      <td>0.0</td>\n",
       "      <td>1.0</td>\n",
       "      <td>1.0</td>\n",
       "      <td>0.0</td>\n",
       "      <td>0.0</td>\n",
       "      <td>0.0</td>\n",
       "    </tr>\n",
       "    <tr>\n",
       "      <th>3</th>\n",
       "      <td>1530</td>\n",
       "      <td>0.414</td>\n",
       "      <td>0.586</td>\n",
       "      <td>0.303</td>\n",
       "      <td>0.169</td>\n",
       "      <td>0.246</td>\n",
       "      <td>0.282</td>\n",
       "      <td>0.4</td>\n",
       "      <td>0.2</td>\n",
       "      <td>0.2</td>\n",
       "      <td>...</td>\n",
       "      <td>1.0</td>\n",
       "      <td>0.0</td>\n",
       "      <td>1.0</td>\n",
       "      <td>0.0</td>\n",
       "      <td>0.0</td>\n",
       "      <td>0.0</td>\n",
       "      <td>1.0</td>\n",
       "      <td>0.0</td>\n",
       "      <td>0.0</td>\n",
       "      <td>0.0</td>\n",
       "    </tr>\n",
       "    <tr>\n",
       "      <th>4</th>\n",
       "      <td>963</td>\n",
       "      <td>0.559</td>\n",
       "      <td>0.441</td>\n",
       "      <td>0.212</td>\n",
       "      <td>0.286</td>\n",
       "      <td>0.273</td>\n",
       "      <td>0.229</td>\n",
       "      <td>0.2</td>\n",
       "      <td>0.0</td>\n",
       "      <td>0.4</td>\n",
       "      <td>...</td>\n",
       "      <td>NaN</td>\n",
       "      <td>NaN</td>\n",
       "      <td>NaN</td>\n",
       "      <td>NaN</td>\n",
       "      <td>NaN</td>\n",
       "      <td>NaN</td>\n",
       "      <td>NaN</td>\n",
       "      <td>NaN</td>\n",
       "      <td>NaN</td>\n",
       "      <td>NaN</td>\n",
       "    </tr>\n",
       "    <tr>\n",
       "      <th>5</th>\n",
       "      <td>1530</td>\n",
       "      <td>0.678</td>\n",
       "      <td>0.322</td>\n",
       "      <td>0.216</td>\n",
       "      <td>0.391</td>\n",
       "      <td>0.287</td>\n",
       "      <td>0.106</td>\n",
       "      <td>0.6</td>\n",
       "      <td>0.0</td>\n",
       "      <td>0.2</td>\n",
       "      <td>...</td>\n",
       "      <td>0.0</td>\n",
       "      <td>0.0</td>\n",
       "      <td>1.0</td>\n",
       "      <td>0.0</td>\n",
       "      <td>0.0</td>\n",
       "      <td>0.0</td>\n",
       "      <td>0.0</td>\n",
       "      <td>0.0</td>\n",
       "      <td>1.0</td>\n",
       "      <td>0.0</td>\n",
       "    </tr>\n",
       "    <tr>\n",
       "      <th>6</th>\n",
       "      <td>1533</td>\n",
       "      <td>0.460</td>\n",
       "      <td>0.540</td>\n",
       "      <td>0.290</td>\n",
       "      <td>0.211</td>\n",
       "      <td>0.249</td>\n",
       "      <td>0.250</td>\n",
       "      <td>0.4</td>\n",
       "      <td>0.0</td>\n",
       "      <td>0.2</td>\n",
       "      <td>...</td>\n",
       "      <td>0.0</td>\n",
       "      <td>0.0</td>\n",
       "      <td>0.0</td>\n",
       "      <td>0.0</td>\n",
       "      <td>0.0</td>\n",
       "      <td>1.0</td>\n",
       "      <td>0.0</td>\n",
       "      <td>0.0</td>\n",
       "      <td>1.0</td>\n",
       "      <td>0.0</td>\n",
       "    </tr>\n",
       "    <tr>\n",
       "      <th>7</th>\n",
       "      <td>438</td>\n",
       "      <td>0.580</td>\n",
       "      <td>0.420</td>\n",
       "      <td>0.258</td>\n",
       "      <td>0.272</td>\n",
       "      <td>0.308</td>\n",
       "      <td>0.162</td>\n",
       "      <td>0.2</td>\n",
       "      <td>0.4</td>\n",
       "      <td>0.2</td>\n",
       "      <td>...</td>\n",
       "      <td>NaN</td>\n",
       "      <td>NaN</td>\n",
       "      <td>NaN</td>\n",
       "      <td>NaN</td>\n",
       "      <td>NaN</td>\n",
       "      <td>NaN</td>\n",
       "      <td>NaN</td>\n",
       "      <td>NaN</td>\n",
       "      <td>NaN</td>\n",
       "      <td>NaN</td>\n",
       "    </tr>\n",
       "    <tr>\n",
       "      <th>8</th>\n",
       "      <td>1914</td>\n",
       "      <td>0.449</td>\n",
       "      <td>0.551</td>\n",
       "      <td>0.303</td>\n",
       "      <td>0.206</td>\n",
       "      <td>0.243</td>\n",
       "      <td>0.248</td>\n",
       "      <td>0.2</td>\n",
       "      <td>0.0</td>\n",
       "      <td>0.6</td>\n",
       "      <td>...</td>\n",
       "      <td>0.0</td>\n",
       "      <td>1.0</td>\n",
       "      <td>0.0</td>\n",
       "      <td>0.0</td>\n",
       "      <td>0.0</td>\n",
       "      <td>1.0</td>\n",
       "      <td>0.0</td>\n",
       "      <td>0.0</td>\n",
       "      <td>0.0</td>\n",
       "      <td>1.0</td>\n",
       "    </tr>\n",
       "    <tr>\n",
       "      <th>9</th>\n",
       "      <td>1044</td>\n",
       "      <td>0.534</td>\n",
       "      <td>0.466</td>\n",
       "      <td>0.283</td>\n",
       "      <td>0.260</td>\n",
       "      <td>0.274</td>\n",
       "      <td>0.184</td>\n",
       "      <td>0.4</td>\n",
       "      <td>0.0</td>\n",
       "      <td>0.4</td>\n",
       "      <td>...</td>\n",
       "      <td>NaN</td>\n",
       "      <td>NaN</td>\n",
       "      <td>NaN</td>\n",
       "      <td>NaN</td>\n",
       "      <td>NaN</td>\n",
       "      <td>NaN</td>\n",
       "      <td>NaN</td>\n",
       "      <td>NaN</td>\n",
       "      <td>NaN</td>\n",
       "      <td>NaN</td>\n",
       "    </tr>\n",
       "  </tbody>\n",
       "</table>\n",
       "<p>10 rows × 66108 columns</p>\n",
       "</div>"
      ],
      "text/plain": [
       "   length  gc_content  at_content  nucleic_acid_composition_A  \\\n",
       "0    1233       0.440       0.560                       0.303   \n",
       "1    8532       0.412       0.588                       0.344   \n",
       "2    3720       0.604       0.396                       0.215   \n",
       "3    1530       0.414       0.586                       0.303   \n",
       "4     963       0.559       0.441                       0.212   \n",
       "5    1530       0.678       0.322                       0.216   \n",
       "6    1533       0.460       0.540                       0.290   \n",
       "7     438       0.580       0.420                       0.258   \n",
       "8    1914       0.449       0.551                       0.303   \n",
       "9    1044       0.534       0.466                       0.283   \n",
       "\n",
       "   nucleic_acid_composition_C  nucleic_acid_composition_G  \\\n",
       "0                       0.193                       0.247   \n",
       "1                       0.208                       0.205   \n",
       "2                       0.290                       0.314   \n",
       "3                       0.169                       0.246   \n",
       "4                       0.286                       0.273   \n",
       "5                       0.391                       0.287   \n",
       "6                       0.211                       0.249   \n",
       "7                       0.272                       0.308   \n",
       "8                       0.206                       0.243   \n",
       "9                       0.260                       0.274   \n",
       "\n",
       "   nucleic_acid_composition_T  enhanced_nucleic_acid_composition_0_A  \\\n",
       "0                       0.256                                    0.2   \n",
       "1                       0.244                                    0.2   \n",
       "2                       0.181                                    0.4   \n",
       "3                       0.282                                    0.4   \n",
       "4                       0.229                                    0.2   \n",
       "5                       0.106                                    0.6   \n",
       "6                       0.250                                    0.4   \n",
       "7                       0.162                                    0.2   \n",
       "8                       0.248                                    0.2   \n",
       "9                       0.184                                    0.4   \n",
       "\n",
       "   enhanced_nucleic_acid_composition_0_C  \\\n",
       "0                                    0.0   \n",
       "1                                    0.2   \n",
       "2                                    0.0   \n",
       "3                                    0.2   \n",
       "4                                    0.0   \n",
       "5                                    0.0   \n",
       "6                                    0.0   \n",
       "7                                    0.4   \n",
       "8                                    0.0   \n",
       "9                                    0.0   \n",
       "\n",
       "   enhanced_nucleic_acid_composition_0_G  ...  binary_1230_2  binary_1230_3  \\\n",
       "0                                    0.4  ...            0.0            1.0   \n",
       "1                                    0.4  ...            1.0            0.0   \n",
       "2                                    0.4  ...            0.0            0.0   \n",
       "3                                    0.2  ...            1.0            0.0   \n",
       "4                                    0.4  ...            NaN            NaN   \n",
       "5                                    0.2  ...            0.0            0.0   \n",
       "6                                    0.2  ...            0.0            0.0   \n",
       "7                                    0.2  ...            NaN            NaN   \n",
       "8                                    0.6  ...            0.0            1.0   \n",
       "9                                    0.4  ...            NaN            NaN   \n",
       "\n",
       "   binary_1231_0  binary_1231_1  binary_1231_2  binary_1231_3  binary_1232_0  \\\n",
       "0            0.0            0.0            1.0            0.0            1.0   \n",
       "1            1.0            0.0            0.0            0.0            1.0   \n",
       "2            0.0            0.0            0.0            1.0            1.0   \n",
       "3            1.0            0.0            0.0            0.0            1.0   \n",
       "4            NaN            NaN            NaN            NaN            NaN   \n",
       "5            1.0            0.0            0.0            0.0            0.0   \n",
       "6            0.0            0.0            0.0            1.0            0.0   \n",
       "7            NaN            NaN            NaN            NaN            NaN   \n",
       "8            0.0            0.0            0.0            1.0            0.0   \n",
       "9            NaN            NaN            NaN            NaN            NaN   \n",
       "\n",
       "   binary_1232_1  binary_1232_2  binary_1232_3  \n",
       "0            0.0            0.0            0.0  \n",
       "1            0.0            0.0            0.0  \n",
       "2            0.0            0.0            0.0  \n",
       "3            0.0            0.0            0.0  \n",
       "4            NaN            NaN            NaN  \n",
       "5            0.0            1.0            0.0  \n",
       "6            0.0            1.0            0.0  \n",
       "7            NaN            NaN            NaN  \n",
       "8            0.0            0.0            1.0  \n",
       "9            NaN            NaN            NaN  \n",
       "\n",
       "[10 rows x 66108 columns]"
      ]
     },
     "execution_count": 130,
     "metadata": {},
     "output_type": "execute_result"
    }
   ],
   "source": [
    "no_need_normalization = [\"length\", \"at_content\", \"gc_content\"]\n",
    "\n",
    "need_dict_normalization = [\"nucleic_acid_composition\", \"enhanced_nucleic_acid_composition\",\"dinucleotide_composition\",\"trinucleotide_composition\",\"k_spaced_nucleic_acid_pairs\",\"kmer\",\"PseDNC\", \"PseKNC\"]\n",
    "\n",
    "need_list_normalization = [\"nucleotide_chemical_property\", \"accumulated_nucleotide_frequency\", \"DAC\", \"DCC\", \"DACC\", \"TAC\",\"TCC\",\"TACC\", \"binary\"]\n",
    "\n",
    "def normalize_dict(d, field):\n",
    "    df = pd.json_normalize(d)\n",
    "    df.columns = [str(field) + \"_\" + str(i) for i in df.columns]\n",
    "    count = 0\n",
    "    original_length = len(df.columns)\n",
    "    for f in df.columns:\n",
    "        if any(isinstance(elem, dict) for elem in df[f]):\n",
    "            df = pd.concat([df, normalize_dict(df[f], f)], axis=1)\n",
    "            df.drop(f, axis=1, inplace=True)\n",
    "        if(count % 1000 == 0 and field == \"enhanced_nucleic_acid_composition\"):\n",
    "            print(count, '/', original_length)\n",
    "        count += 1\n",
    "    return df\n",
    "\n",
    "def normalize_list(l, field):\n",
    "    df = pd.DataFrame([[] if i is None else i for i in l.to_list()])    \n",
    "    df.columns = [str(field) + \"_\" + str(i) for i in df.columns]\n",
    "    \n",
    "    for f in df.columns:\n",
    "        if isinstance(df[f][0], list):\n",
    "            df = pd.concat([df, normalize_list(df[f], f)], axis=1)\n",
    "            df.drop(f, axis=1, inplace=True)\n",
    "    return df\n",
    "\n",
    "new_fps_x = pd.DataFrame()\n",
    "count = 0\n",
    "for col in fps_x.columns:\n",
    "    count += 1\n",
    "    print(\"Calculating:\", col, \":\", count, '/', len(fps_x.columns))\n",
    "    if col in need_dict_normalization:\n",
    "        new_fps_x = pd.concat([new_fps_x, normalize_dict(fps_x[col], col)], axis=1)\n",
    "    elif col in need_list_normalization:\n",
    "        new_fps_x = pd.concat([new_fps_x, normalize_list(fps_x[col], col)], axis=1)\n",
    "    else:\n",
    "        new_fps_x[col] = fps_x[col].to_numpy()\n",
    "    \n",
    "    \n",
    "print(\"writing to csv...\")\n",
    "new_fps_x.to_csv(\"fps_x.csv\", index=False)\n",
    "fps_y.to_csv(\"fps_y.csv\", index=False)\n",
    "new_fps_x"
   ]
  },
  {
   "cell_type": "markdown",
   "metadata": {},
   "source": [
    "## Classification using Deep Learning and One hot encoding"
   ]
  },
  {
   "cell_type": "code",
   "execution_count": null,
   "metadata": {},
   "outputs": [],
   "source": [
    "# average_length = int(average_length)\n",
    "\n",
    "# cut sequences to the average length\n",
    "# seqs_dataset = seqs_dataset.str.slice(0, average_length)\n",
    "\n",
    "# fill with \"N\" the sequences that are shorter than average length\n",
    "# seqs_dataset = seqs_dataset.str.pad(average_length, side='right', fillchar='N')"
   ]
  }
 ],
 "metadata": {
  "interpreter": {
   "hash": "ba449ea13c29f64a91968d8f927cecceedd6e605eda30388903386e6cd94168d"
  },
  "kernelspec": {
   "display_name": "Python 3.8.13 ('dna-conda': conda)",
   "language": "python",
   "name": "python3"
  },
  "language_info": {
   "codemirror_mode": {
    "name": "ipython",
    "version": 3
   },
   "file_extension": ".py",
   "mimetype": "text/x-python",
   "name": "python",
   "nbconvert_exporter": "python",
   "pygments_lexer": "ipython3",
   "version": "3.8.13"
  },
  "orig_nbformat": 4
 },
 "nbformat": 4,
 "nbformat_minor": 2
}
