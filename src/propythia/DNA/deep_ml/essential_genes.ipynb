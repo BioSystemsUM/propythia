{
 "cells": [
  {
   "cell_type": "code",
   "execution_count": 1,
   "metadata": {},
   "outputs": [],
   "source": [
    "import pandas as pd\n",
    "import matplotlib.pyplot as plt"
   ]
  },
  {
   "cell_type": "markdown",
   "metadata": {},
   "source": [
    "The original essential genes dataset had 28166 rows but only 26791 had available sequences."
   ]
  },
  {
   "cell_type": "code",
   "execution_count": 2,
   "metadata": {},
   "outputs": [
    {
     "name": "stdout",
     "output_type": "stream",
     "text": [
      "       id1          id2    id3   id4 id5 id6  \\\n",
      "0  DEG2006  DEG20060001   GBAP  GI:-   -   -   \n",
      "1  DEG2006  DEG20060002  MTHFR  GI:-   -   -   \n",
      "2  DEG2006  DEG20060003   ECE1  GI:-   -   -   \n",
      "3  DEG2006  DEG20060004  HSPG2  GI:-   -   -   \n",
      "4  DEG2006  DEG20060005  TGIF1  GI:-   -   -   \n",
      "\n",
      "                                   id7           id8       id9         id10  \\\n",
      "0                     Beta-glucosidase  Homo sapiens      1q22  Rich medium   \n",
      "1  Methylenetetrahydrofolate reductase  Homo sapiens   1p36.22  Rich medium   \n",
      "2       Endothelin converting enzyme 1  Homo sapiens   1p36.12  Rich medium   \n",
      "3                             Perlecan  Homo sapiens   1p36.12  Rich medium   \n",
      "4                TG-interacting factor  Homo sapiens  18p11.31  Rich medium   \n",
      "\n",
      "  id11 id12 id13        id14  \\\n",
      "0    -    -    -   HGNC:4178   \n",
      "1    -    -    -   HGNC:7436   \n",
      "2    -    -    -   HGNC:3146   \n",
      "3    -    -    -   HGNC:5273   \n",
      "4    -    -    -  HGNC:11776   \n",
      "\n",
      "                                            sequence  \n",
      "0  ATGGAGTTTTCAAGTCCTTCCAGAGAGGAATGTCCCAAGCCTTCGG...  \n",
      "1  ATGGACCATCGAAAAGCCAGGGTCCTCCCAGCTGGGCACTACTGCC...  \n",
      "2  ATGCGGGGCGTGTGGCCGCCCCCGGTGTCCGCCCTGCTGTCGGCGC...  \n",
      "3  ATGGGGTGGCGGGCGGCGGGCGCGCTGCTGCTGGCGCTGCTGCTGC...  \n",
      "4  ATGGTTCTAGCGCAGAGCCGGGTGTCTGCCGGGGTGGGCTCCCCGC...  \n",
      "(26791, 15)\n",
      "                                                  id  \\\n",
      "0  ENSG00000000005|ENSG00000000005.6|ENST00000485...   \n",
      "1  ENSG00000000003|ENSG00000000003.15|ENST0000049...   \n",
      "2  ENSG00000000419|ENSG00000000419.14|ENST0000037...   \n",
      "3  ENSG00000000460|ENSG00000000460.17|ENST0000028...   \n",
      "4  ENSG00000000457|ENSG00000000457.14|ENST0000036...   \n",
      "\n",
      "                                            sequence  \n",
      "0  AGCCGACTCACTTGCAACTCCACCTCAGCAGTGGTCTCTCAGTCCT...  \n",
      "1  AGCTCTTCAGTAGTTTCTGAACATCTAGACGGTAGGATGTAGAATA...  \n",
      "2  ACTGCGCTAGTGGACAGCCGAGCCCACCGCAGCCCACGATTAGCAC...  \n",
      "3  AACCCGCTCGGGTCCCCTTCCACACTGTGGAAGCTTTGTTCTTTCG...  \n",
      "4  GCACCTCTACTGTTTGCTACAAGTGGCCAGCAGCCATTTTGGATTT...  \n",
      "(22824, 2)\n"
     ]
    }
   ],
   "source": [
    "deg_dataset = pd.read_csv(\"datasets/essential_genes.csv\", sep=';')\n",
    "print(deg_dataset.head())\n",
    "print(deg_dataset.shape)\n",
    "\n",
    "ensembl_dataset = pd.read_csv(\"datasets/ensembl.csv\", sep=',')\n",
    "print(ensembl_dataset.head())\n",
    "print(ensembl_dataset.shape)"
   ]
  },
  {
   "cell_type": "markdown",
   "metadata": {},
   "source": [
    "Creating positive essential genes dataset. Each sequence needs to be in at least 5 datasets."
   ]
  },
  {
   "cell_type": "code",
   "execution_count": 3,
   "metadata": {},
   "outputs": [
    {
     "name": "stdout",
     "output_type": "stream",
     "text": [
      "                                            sequence\n",
      "0  ATGGTGCTGTCCCAGAGACAACGAGATGAACTAAATCGAGCTATAG...\n",
      "1  ATGGCTGCAGCTTCATATGATCAGTTGTTAAAGCAAGTTGAGGCAC...\n",
      "2  ATGAGCCGCCTGCTCTGGAGGAAGGTGGCCGGCGCCACCGTCGGGC...\n",
      "3  ATGCAGAGCTGGAGTCGTGTGTACTGCTCCTTGGCCAAGAGAGGCC...\n",
      "4  ATGGTTGGCTATGACCCCAAACCAGATGGCAGGAATAACACCAAGT...\n",
      "(2010, 1)\n"
     ]
    }
   ],
   "source": [
    "# for each sequence, get all the datasets that contain it\n",
    "d = {}\n",
    "for _, row in deg_dataset.iterrows():\n",
    "    if(row[\"sequence\"] in d):\n",
    "        d[row[\"sequence\"]].append(row[\"id1\"])\n",
    "    else:\n",
    "        d[row[\"sequence\"]] = [row[\"id1\"]]\n",
    "\n",
    "\n",
    "# get a list of sequences that are in more than 5 datasets\n",
    "essential_sequences = []\n",
    "for key, val in d.items():\n",
    "    if(len(val) >= 5):\n",
    "        essential_sequences.append(key)\n",
    "        \n",
    "# create dataframe with essential sequences\n",
    "eg_positive = pd.DataFrame(essential_sequences, columns=[\"sequence\"])\n",
    "print(eg_positive.head())\n",
    "print(eg_positive.shape)"
   ]
  },
  {
   "cell_type": "markdown",
   "metadata": {},
   "source": [
    "At this point, we have 3 different datasets:\n",
    "* deg_dataset -> dataset with all genes from the DEG dataset (26791, 15)\n",
    "* ensembl_dataset -> dataset with all genes from the Ensembl dataset (22824, 2)\n",
    "* eg_positive -> positive dataset with essential genes (genes contained in at least 5 datasets) (2010, 1)"
   ]
  },
  {
   "cell_type": "markdown",
   "metadata": {},
   "source": [
    "Now we need to remove from the Ensembl dataset the sequences that are in the essential genes dataset."
   ]
  },
  {
   "cell_type": "code",
   "execution_count": 4,
   "metadata": {},
   "outputs": [
    {
     "name": "stdout",
     "output_type": "stream",
     "text": [
      "unique deg sequences: 6890\n",
      "removed: 14\n",
      "(22810, 2)\n"
     ]
    }
   ],
   "source": [
    "unique_deg_sequences = list(set(deg_dataset[\"sequence\"]))\n",
    "print(\"unique deg sequences:\", len(unique_deg_sequences))\n",
    "old_shape = ensembl_dataset.shape\n",
    "\n",
    "# remove all occurences of unique_deg_sequences from ensembl dataset\n",
    "ensembl_dataset = ensembl_dataset[~ensembl_dataset[\"sequence\"].isin(unique_deg_sequences)]\n",
    "\n",
    "print(\"removed:\", old_shape[0] - ensembl_dataset.shape[0])\n",
    "print(ensembl_dataset.shape)"
   ]
  },
  {
   "cell_type": "markdown",
   "metadata": {},
   "source": [
    "Calculating length of each sequence and cleaning up the data"
   ]
  },
  {
   "cell_type": "code",
   "execution_count": 5,
   "metadata": {},
   "outputs": [],
   "source": [
    "# calculate length of each gene (last row)\n",
    "deg_dataset[\"length\"] = deg_dataset[\"sequence\"].str.len()\n",
    "ensembl_dataset[\"length\"] = ensembl_dataset[\"sequence\"].str.len()"
   ]
  },
  {
   "cell_type": "code",
   "execution_count": 6,
   "metadata": {},
   "outputs": [
    {
     "name": "stdout",
     "output_type": "stream",
     "text": [
      "(26790, 16)\n",
      "(19032, 3)\n"
     ]
    }
   ],
   "source": [
    "deg_dataset = deg_dataset[deg_dataset[\"length\"] <= 27000]\n",
    "print(deg_dataset.shape)\n",
    "\n",
    "ensembl_dataset = ensembl_dataset[ensembl_dataset[\"length\"] <= 100000]\n",
    "print(ensembl_dataset.shape)"
   ]
  },
  {
   "cell_type": "markdown",
   "metadata": {},
   "source": [
    "Statistics about the data, including:\n",
    "* Total sequences\n",
    "* Top 5 longest and shortest sequences\n",
    "* Average length of sequences\n",
    "* Top 5 most and least common sequence length"
   ]
  },
  {
   "cell_type": "code",
   "execution_count": 7,
   "metadata": {},
   "outputs": [],
   "source": [
    "def stats(dataset):\n",
    "    dataset[\"length\"].hist(bins=100)\n",
    "    plt.show()\n",
    "\n",
    "    print(\"-\" * 40)\n",
    "\n",
    "    print(\"Total sequences:\", dataset.shape[0])\n",
    "\n",
    "    print(\"-\" * 40)\n",
    "\n",
    "    print(\"Top 5 longest sequences:\")\n",
    "    print(\"id       length\")\n",
    "    print(dataset[\"length\"].nlargest(5).to_string())\n",
    "\n",
    "    print(\"-\" * 40)\n",
    "\n",
    "    print(\"Top 5 shortest sequences:\")\n",
    "    print(\"id       length\")\n",
    "    print(dataset[\"length\"].nsmallest(5).to_string())\n",
    "\n",
    "    print(\"-\" * 40)\n",
    "\n",
    "    average_length = dataset[\"length\"].mean()\n",
    "    print(\"Average length:\", average_length)\n",
    "\n",
    "    print(\"-\" * 40)\n",
    "\n",
    "    print(\"Top 5 most common lengths:\")\n",
    "    print(\"length   count\")\n",
    "    print(dataset[\"length\"].value_counts().nlargest(5).to_string())\n",
    "    \n",
    "    print(\"-\" * 40)\n",
    "\n",
    "    print(\"Top 5 least common lengths:\")\n",
    "    print(\"length   count\")\n",
    "    print(dataset[\"length\"].value_counts().nsmallest(5).to_string())"
   ]
  },
  {
   "cell_type": "code",
   "execution_count": 8,
   "metadata": {},
   "outputs": [
    {
     "data": {
      "image/png": "[encoded data removed]",
      "text/plain": [
       "<Figure size 432x288 with 1 Axes>"
      ]
     },
     "metadata": {
      "needs_background": "light"
     },
     "output_type": "display_data"
    },
    {
     "name": "stdout",
     "output_type": "stream",
     "text": [
      "----------------------------------------\n",
      "Total sequences: 26790\n",
      "----------------------------------------\n",
      "Top 5 longest sequences:\n",
      "id       length\n",
      "19660    26778\n",
      "1223     26394\n",
      "2298     25578\n",
      "1661     23253\n",
      "3222     23253\n",
      "----------------------------------------\n",
      "Top 5 shortest sequences:\n",
      "id       length\n",
      "5943      78\n",
      "8094      78\n",
      "25617    135\n",
      "4647     144\n",
      "6718     144\n",
      "----------------------------------------\n",
      "Average length: 1951.3291899962674\n",
      "----------------------------------------\n",
      "Top 5 most common lengths:\n",
      "length   count\n",
      "1041    87\n",
      "1083    87\n",
      "1314    85\n",
      "555     80\n",
      "1005    79\n",
      "----------------------------------------\n",
      "Top 5 least common lengths:\n",
      "length   count\n",
      "3240    1\n",
      "3417    1\n",
      "5751    1\n",
      "6054    1\n",
      "3660    1\n",
      "****************************************************************************************************\n"
     ]
    },
    {
     "data": {
      "image/png": "[encoded data removed]",
      "text/plain": [
       "<Figure size 432x288 with 1 Axes>"
      ]
     },
     "metadata": {
      "needs_background": "light"
     },
     "output_type": "display_data"
    },
    {
     "name": "stdout",
     "output_type": "stream",
     "text": [
      "----------------------------------------\n",
      "Total sequences: 19032\n",
      "----------------------------------------\n",
      "Top 5 longest sequences:\n",
      "id       length\n",
      "20208    99989\n",
      "450      99960\n",
      "12089    99954\n",
      "14019    99917\n",
      "15700    99892\n",
      "----------------------------------------\n",
      "Top 5 shortest sequences:\n",
      "id       length\n",
      "21861    39\n",
      "22277    51\n",
      "22035    54\n",
      "22603    57\n",
      "22653    63\n",
      "----------------------------------------\n",
      "Average length: 25790.488230348885\n",
      "----------------------------------------\n",
      "Top 5 most common lengths:\n",
      "length   count\n",
      "1272    31\n",
      "1593    24\n",
      "939     23\n",
      "930     21\n",
      "936     15\n",
      "----------------------------------------\n",
      "Top 5 least common lengths:\n",
      "length   count\n",
      "6604     1\n",
      "33754    1\n",
      "14208    1\n",
      "68466    1\n",
      "35460    1\n"
     ]
    }
   ],
   "source": [
    "stats(deg_dataset)\n",
    "print(\"*\" * 100)\n",
    "stats(ensembl_dataset)"
   ]
  },
  {
   "cell_type": "code",
   "execution_count": 9,
   "metadata": {},
   "outputs": [],
   "source": [
    "with open('datasets/eg_positive.csv', 'w') as file:\n",
    "    file.write('id,sequence\\n')\n",
    "    eg_positive.to_csv(file, sep=',', header=False)"
   ]
  },
  {
   "cell_type": "code",
   "execution_count": 10,
   "metadata": {},
   "outputs": [],
   "source": [
    "# average_length = int(average_length)\n",
    "\n",
    "# cut sequences to the average length\n",
    "# seqs_dataset = seqs_dataset.str.slice(0, average_length)\n",
    "\n",
    "# fill with \"N\" the sequences that are shorter than average length\n",
    "# seqs_dataset = seqs_dataset.str.pad(average_length, side='right', fillchar='N')"
   ]
  }
 ],
 "metadata": {
  "interpreter": {
   "hash": "ba449ea13c29f64a91968d8f927cecceedd6e605eda30388903386e6cd94168d"
  },
  "kernelspec": {
   "display_name": "Python 3.8.13 ('dna-conda': conda)",
   "language": "python",
   "name": "python3"
  },
  "language_info": {
   "codemirror_mode": {
    "name": "ipython",
    "version": 3
   },
   "file_extension": ".py",
   "mimetype": "text/x-python",
   "name": "python",
   "nbconvert_exporter": "python",
   "pygments_lexer": "ipython3",
   "version": "3.8.13"
  },
  "orig_nbformat": 4
 },
 "nbformat": 4,
 "nbformat_minor": 2
}
