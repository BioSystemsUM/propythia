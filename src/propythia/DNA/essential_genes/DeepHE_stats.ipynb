{
 "cells": [
  {
   "cell_type": "code",
   "execution_count": 19,
   "metadata": {},
   "outputs": [],
   "source": [
    "import pandas as pd\n",
    "import matplotlib.pyplot as plt"
   ]
  },
  {
   "cell_type": "markdown",
   "metadata": {},
   "source": [
    "Statistics about the data, including:\n",
    "* Total sequences\n",
    "* Top 5 longest and shortest sequences\n",
    "* Average length of sequences\n",
    "* Top 5 most and least common sequence length"
   ]
  },
  {
   "cell_type": "code",
   "execution_count": 20,
   "metadata": {},
   "outputs": [],
   "source": [
    "def stats(dataset, name):\n",
    "    dataset[\"length\"].hist(bins=100)\n",
    "    \n",
    "    # save image as pdf\n",
    "    plt.savefig(f\"{name}_length_hist.pdf\")\n",
    "    plt.show()\n",
    "\n",
    "    print(\"-\" * 40)\n",
    "\n",
    "    print(\"Total sequences:\", dataset.shape[0])\n",
    "\n",
    "    print(\"-\" * 40)\n",
    "\n",
    "    print(\"Top 5 longest sequences:\")\n",
    "    print(\"id     length\")\n",
    "    print(dataset[\"length\"].nlargest(5).to_string())\n",
    "\n",
    "    print(\"-\" * 40)\n",
    "\n",
    "    print(\"Top 5 shortest sequences:\")\n",
    "    print(\"id      length\")\n",
    "    print(dataset[\"length\"].nsmallest(5).to_string())\n",
    "\n",
    "    print(\"-\" * 40)\n",
    "\n",
    "    average_length = dataset[\"length\"].mean()\n",
    "    print(\"Average length:\", average_length)\n",
    "\n",
    "    print(\"-\" * 40)\n",
    "\n",
    "    print(\"Top 5 most common lengths:\")\n",
    "    print(\"length  count\")\n",
    "    print(dataset[\"length\"].value_counts().nlargest(5).to_string())\n",
    "    \n",
    "    print(\"-\" * 40)\n",
    "\n",
    "    print(\"Top 5 least common lengths:\")\n",
    "    print(\"length  count\")\n",
    "    print(dataset[\"length\"].value_counts().nsmallest(5).to_string())"
   ]
  },
  {
   "cell_type": "code",
   "execution_count": 21,
   "metadata": {},
   "outputs": [
    {
     "name": "stdout",
     "output_type": "stream",
     "text": [
      "(2010, 2)\n",
      "(15888, 2)\n"
     ]
    }
   ],
   "source": [
    "positive = pd.read_csv(\"../datasets/essential_genes/positive.csv\")\n",
    "print(positive.shape)\n",
    "\n",
    "negative = pd.read_csv(\"../datasets/essential_genes/essential_genes_negative.csv\")\n",
    "print(negative.shape)"
   ]
  },
  {
   "cell_type": "code",
   "execution_count": 22,
   "metadata": {},
   "outputs": [
    {
     "name": "stdout",
     "output_type": "stream",
     "text": [
      "15888 15888 unique negative ids\n",
      "(15179, 2)\n"
     ]
    }
   ],
   "source": [
    "negative_ids = negative[\"id\"].values\n",
    "unique_negative_ids = set(negative_ids)\n",
    "print(len(negative_ids), len(unique_negative_ids), \"unique negative ids\")\n",
    "\n",
    "# from Bio.SeqIO.FastaIO import SimpleFastaParser\n",
    "# def read_fasta(filename):\n",
    "#     d = {}\n",
    "#     with open(filename) as handle:\n",
    "#         for key, sequence in SimpleFastaParser(handle):\n",
    "#             sequence = sequence.upper()\n",
    "#             if(sequence != \"SEQUENCEUNAVAILABLE\"):\n",
    "#                 key = key.split(\"|\")[0]\n",
    "#                 d[key] = sequence\n",
    "#     print(len(d), \"keys\", len(d.values()), \"seqs\", len(set(d.values())), \"unique\")\n",
    "#     return d\n",
    "\n",
    "# d = read_fasta(\"../datasets/essential_genes/mart_export_unspliced.fa\")\n",
    "\n",
    "# # replace negatives sequences with sequence from the dict\n",
    "# negative[\"sequence\"] = negative[\"id\"].apply(lambda x: d[x])\n",
    "\n",
    "# remove rows with repeating sequences\n",
    "negative = negative.drop_duplicates(subset=[\"sequence\"])\n",
    "print(negative.shape)"
   ]
  },
  {
   "cell_type": "code",
   "execution_count": 23,
   "metadata": {},
   "outputs": [
    {
     "name": "stdout",
     "output_type": "stream",
     "text": [
      "(15137, 2)\n",
      "(2010, 2)\n"
     ]
    }
   ],
   "source": [
    "# remove sequences with letters different from A, C, G, T\n",
    "negative = negative[negative[\"sequence\"].str.contains(\"^[ACGT]+$\")]\n",
    "positive = positive[positive[\"sequence\"].str.contains(\"^[ACGT]+$\")]\n",
    "\n",
    "print(negative.shape)\n",
    "print(positive.shape)"
   ]
  },
  {
   "cell_type": "code",
   "execution_count": 24,
   "metadata": {},
   "outputs": [
    {
     "data": {
      "image/png": "[encoded data removed]",
      "text/plain": [
       "<Figure size 432x288 with 1 Axes>"
      ]
     },
     "metadata": {
      "needs_background": "light"
     },
     "output_type": "display_data"
    },
    {
     "name": "stdout",
     "output_type": "stream",
     "text": [
      "----------------------------------------\n",
      "Total sequences: 2010\n",
      "----------------------------------------\n",
      "Top 5 longest sequences:\n",
      "id     length\n",
      "676    16791\n",
      "248    15615\n",
      "204    14574\n",
      "491    13941\n",
      "31     13167\n",
      "----------------------------------------\n",
      "Top 5 shortest sequences:\n",
      "id      length\n",
      "1112    192\n",
      "1427    195\n",
      "1500    204\n",
      "1611    204\n",
      "1346    210\n",
      "----------------------------------------\n",
      "Average length: 1903.5980099502488\n",
      "----------------------------------------\n",
      "Top 5 most common lengths:\n",
      "length  count\n",
      "1083    9\n",
      "1041    8\n",
      "1314    7\n",
      "618     7\n",
      "1371    7\n",
      "----------------------------------------\n",
      "Top 5 least common lengths:\n",
      "length  count\n",
      "2496    1\n",
      "2763    1\n",
      "3162    1\n",
      "2982    1\n",
      "3324    1\n",
      "****************************************************************************************************\n"
     ]
    },
    {
     "data": {
      "image/png": "[encoded data removed]",
      "text/plain": [
       "<Figure size 432x288 with 1 Axes>"
      ]
     },
     "metadata": {
      "needs_background": "light"
     },
     "output_type": "display_data"
    },
    {
     "name": "stdout",
     "output_type": "stream",
     "text": [
      "----------------------------------------\n",
      "Total sequences: 15137\n",
      "----------------------------------------\n",
      "Top 5 longest sequences:\n",
      "id     length\n",
      "734      2473537\n",
      "7904     2304997\n",
      "15761    2303293\n",
      "5357     2298478\n",
      "5466     2172911\n",
      "----------------------------------------\n",
      "Top 5 shortest sequences:\n",
      "id      length\n",
      "15229     76\n",
      "12750    117\n",
      "13021    128\n",
      "13309    135\n",
      "14763    148\n",
      "----------------------------------------\n",
      "Average length: 64199.51278324635\n",
      "----------------------------------------\n",
      "Top 5 most common lengths:\n",
      "length  count\n",
      "930     15\n",
      "939     13\n",
      "945     12\n",
      "1952    11\n",
      "597      9\n",
      "----------------------------------------\n",
      "Top 5 least common lengths:\n",
      "length  count\n",
      "4873       1\n",
      "20360      1\n",
      "4419       1\n",
      "1337027    1\n",
      "2059620    1\n"
     ]
    }
   ],
   "source": [
    "# add a column that contains length of the sequence\n",
    "positive[\"length\"] = positive[\"sequence\"].apply(len)\n",
    "negative[\"length\"] = negative[\"sequence\"].apply(len)\n",
    "\n",
    "stats(positive, \"positive_nada\")\n",
    "print(\"*\" * 100)\n",
    "stats(negative, \"negative_nada\")"
   ]
  },
  {
   "cell_type": "code",
   "execution_count": 25,
   "metadata": {},
   "outputs": [
    {
     "data": {
      "image/png": "[encoded data removed]",
      "text/plain": [
       "<Figure size 432x288 with 1 Axes>"
      ]
     },
     "metadata": {
      "needs_background": "light"
     },
     "output_type": "display_data"
    },
    {
     "name": "stdout",
     "output_type": "stream",
     "text": [
      "----------------------------------------\n",
      "Total sequences: 2010\n",
      "----------------------------------------\n",
      "Top 5 longest sequences:\n",
      "id     length\n",
      "676    16791\n",
      "248    15615\n",
      "204    14574\n",
      "491    13941\n",
      "31     13167\n",
      "----------------------------------------\n",
      "Top 5 shortest sequences:\n",
      "id      length\n",
      "1112    192\n",
      "1427    195\n",
      "1500    204\n",
      "1611    204\n",
      "1346    210\n",
      "----------------------------------------\n",
      "Average length: 1903.5980099502488\n",
      "----------------------------------------\n",
      "Top 5 most common lengths:\n",
      "length  count\n",
      "1083    9\n",
      "1041    8\n",
      "1314    7\n",
      "618     7\n",
      "1371    7\n",
      "----------------------------------------\n",
      "Top 5 least common lengths:\n",
      "length  count\n",
      "2496    1\n",
      "2763    1\n",
      "3162    1\n",
      "2982    1\n",
      "3324    1\n",
      "****************************************************************************************************\n"
     ]
    },
    {
     "data": {
      "image/png": "[encoded data removed]",
      "text/plain": [
       "<Figure size 432x288 with 1 Axes>"
      ]
     },
     "metadata": {
      "needs_background": "light"
     },
     "output_type": "display_data"
    },
    {
     "name": "stdout",
     "output_type": "stream",
     "text": [
      "----------------------------------------\n",
      "Total sequences: 12624\n",
      "----------------------------------------\n",
      "Top 5 longest sequences:\n",
      "id     length\n",
      "12906    99993\n",
      "7152     99954\n",
      "8826     99916\n",
      "5233     99794\n",
      "9819     99778\n",
      "----------------------------------------\n",
      "Top 5 shortest sequences:\n",
      "id      length\n",
      "15229     76\n",
      "12750    117\n",
      "13021    128\n",
      "13309    135\n",
      "14763    148\n",
      "----------------------------------------\n",
      "Average length: 25173.596720532318\n",
      "----------------------------------------\n",
      "Top 5 most common lengths:\n",
      "length  count\n",
      "930     15\n",
      "939     13\n",
      "945     12\n",
      "1952    11\n",
      "597      9\n",
      "----------------------------------------\n",
      "Top 5 least common lengths:\n",
      "length  count\n",
      "60747    1\n",
      "969      1\n",
      "23223    1\n",
      "75025    1\n",
      "5711     1\n"
     ]
    }
   ],
   "source": [
    "# remove seequnces with length less than 50\n",
    "positive = positive[positive[\"length\"] >= 50]\n",
    "negative = negative[negative[\"length\"] >= 50]\n",
    "\n",
    "folder = \"essential_genes_100k\"\n",
    "positive = positive[positive[\"length\"] < 100000]\n",
    "negative = negative[negative[\"length\"] < 100000]\n",
    "\n",
    "stats(positive, \"positive_cut\")\n",
    "print(\"*\" * 100)\n",
    "stats(negative, \"negative_cut\")"
   ]
  },
  {
   "cell_type": "code",
   "execution_count": 26,
   "metadata": {},
   "outputs": [],
   "source": [
    "positive[\"label\"] = 1\n",
    "negative[\"label\"] = 0\n",
    "\n",
    "dataset = pd.concat([positive, negative])\n",
    "\n",
    "# remove length column\n",
    "dataset = dataset.drop(columns=[\"length\"])\n",
    "\n",
    "# dataset.to_csv(\"../datasets/\" + folder + \"/dataset.csv\", index=False)"
   ]
  }
 ],
 "metadata": {
  "kernelspec": {
   "display_name": "Python 3.8.13 ('dna-conda': conda)",
   "language": "python",
   "name": "python3"
  },
  "language_info": {
   "codemirror_mode": {
    "name": "ipython",
    "version": 3
   },
   "file_extension": ".py",
   "mimetype": "text/x-python",
   "name": "python",
   "nbconvert_exporter": "python",
   "pygments_lexer": "ipython3",
   "version": "3.8.13"
  },
  "orig_nbformat": 4,
  "vscode": {
   "interpreter": {
    "hash": "ba449ea13c29f64a91968d8f927cecceedd6e605eda30388903386e6cd94168d"
   }
  }
 },
 "nbformat": 4,
 "nbformat_minor": 2
}
