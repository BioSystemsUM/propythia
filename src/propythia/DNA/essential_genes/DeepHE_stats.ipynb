{
 "cells": [
  {
   "cell_type": "code",
   "execution_count": 42,
   "metadata": {},
   "outputs": [],
   "source": [
    "import pandas as pd\n",
    "import matplotlib.pyplot as plt"
   ]
  },
  {
   "cell_type": "markdown",
   "metadata": {},
   "source": [
    "Statistics about the data, including:\n",
    "* Total sequences\n",
    "* Top 5 longest and shortest sequences\n",
    "* Average length of sequences\n",
    "* Top 5 most and least common sequence length"
   ]
  },
  {
   "cell_type": "code",
   "execution_count": 43,
   "metadata": {},
   "outputs": [],
   "source": [
    "def stats(dataset):\n",
    "    dataset[\"length\"].hist(bins=100)\n",
    "    plt.show()\n",
    "\n",
    "    print(\"-\" * 40)\n",
    "\n",
    "    print(\"Total sequences:\", dataset.shape[0])\n",
    "\n",
    "    print(\"-\" * 40)\n",
    "\n",
    "    print(\"Top 5 longest sequences:\")\n",
    "    print(\"id     length\")\n",
    "    print(dataset[\"length\"].nlargest(5).to_string())\n",
    "\n",
    "    print(\"-\" * 40)\n",
    "\n",
    "    print(\"Top 5 shortest sequences:\")\n",
    "    print(\"id      length\")\n",
    "    print(dataset[\"length\"].nsmallest(5).to_string())\n",
    "\n",
    "    print(\"-\" * 40)\n",
    "\n",
    "    average_length = dataset[\"length\"].mean()\n",
    "    print(\"Average length:\", average_length)\n",
    "\n",
    "    print(\"-\" * 40)\n",
    "\n",
    "    print(\"Top 5 most common lengths:\")\n",
    "    print(\"length  count\")\n",
    "    print(dataset[\"length\"].value_counts().nlargest(5).to_string())\n",
    "    \n",
    "    print(\"-\" * 40)\n",
    "\n",
    "    print(\"Top 5 least common lengths:\")\n",
    "    print(\"length  count\")\n",
    "    print(dataset[\"length\"].value_counts().nsmallest(5).to_string())"
   ]
  },
  {
   "cell_type": "code",
   "execution_count": 44,
   "metadata": {},
   "outputs": [
    {
     "name": "stdout",
     "output_type": "stream",
     "text": [
      "(2010, 2)\n",
      "(23443, 2)\n"
     ]
    }
   ],
   "source": [
    "positive = pd.read_csv(\"../datasets/essential_genes/positive.csv\")\n",
    "print(positive.shape)\n",
    "\n",
    "negative = pd.read_csv(\"../datasets/essential_genes/negative_unique.csv\")\n",
    "print(negative.shape)"
   ]
  },
  {
   "cell_type": "code",
   "execution_count": 45,
   "metadata": {},
   "outputs": [
    {
     "name": "stdout",
     "output_type": "stream",
     "text": [
      "23443 14574 unique negative ids\n",
      "22824 keys 22824 seqs 22059 unique\n",
      "(14453, 2)\n"
     ]
    }
   ],
   "source": [
    "negative_ids = negative[\"id\"].values\n",
    "unique_negative_ids = set(negative_ids)\n",
    "print(len(negative_ids), len(unique_negative_ids), \"unique negative ids\")\n",
    "\n",
    "from Bio.SeqIO.FastaIO import SimpleFastaParser\n",
    "def read_fasta(filename):\n",
    "    d = {}\n",
    "    with open(filename) as handle:\n",
    "        for key, sequence in SimpleFastaParser(handle):\n",
    "            sequence = sequence.upper()\n",
    "            if(sequence != \"SEQUENCEUNAVAILABLE\"):\n",
    "                key = key.split(\"|\")[0]\n",
    "                d[key] = sequence\n",
    "    print(len(d), \"keys\", len(d.values()), \"seqs\", len(set(d.values())), \"unique\")\n",
    "    return d\n",
    "\n",
    "d = read_fasta(\"../datasets/essential_genes/mart_export_unspliced.fa\")\n",
    "\n",
    "# replace negatives sequences with sequence from the dict\n",
    "negative[\"sequence\"] = negative[\"id\"].apply(lambda x: d[x])\n",
    "\n",
    "# remove rows with repeating sequences\n",
    "negative = negative.drop_duplicates(subset=[\"sequence\"])\n",
    "print(negative.shape)"
   ]
  },
  {
   "cell_type": "code",
   "execution_count": 46,
   "metadata": {},
   "outputs": [
    {
     "name": "stdout",
     "output_type": "stream",
     "text": [
      "(14416, 2)\n",
      "(2010, 2)\n"
     ]
    }
   ],
   "source": [
    "# remove sequences with letters different from A, C, G, T\n",
    "negative = negative[negative[\"sequence\"].str.contains(\"^[ACGT]+$\")]\n",
    "positive = positive[positive[\"sequence\"].str.contains(\"^[ACGT]+$\")]\n",
    "\n",
    "print(negative.shape)\n",
    "print(positive.shape)"
   ]
  },
  {
   "cell_type": "code",
   "execution_count": 47,
   "metadata": {},
   "outputs": [
    {
     "data": {
      "image/png": "[encoded data removed]",
      "text/plain": [
       "<Figure size 432x288 with 1 Axes>"
      ]
     },
     "metadata": {
      "needs_background": "light"
     },
     "output_type": "display_data"
    },
    {
     "name": "stdout",
     "output_type": "stream",
     "text": [
      "----------------------------------------\n",
      "Total sequences: 2010\n",
      "----------------------------------------\n",
      "Top 5 longest sequences:\n",
      "id     length\n",
      "676    16791\n",
      "248    15615\n",
      "204    14574\n",
      "491    13941\n",
      "31     13167\n",
      "----------------------------------------\n",
      "Top 5 shortest sequences:\n",
      "id      length\n",
      "1112    192\n",
      "1427    195\n",
      "1500    204\n",
      "1611    204\n",
      "1346    210\n",
      "----------------------------------------\n",
      "Average length: 1903.5980099502488\n",
      "----------------------------------------\n",
      "Top 5 most common lengths:\n",
      "length  count\n",
      "1083    9\n",
      "1041    8\n",
      "1314    7\n",
      "618     7\n",
      "1371    7\n",
      "----------------------------------------\n",
      "Top 5 least common lengths:\n",
      "length  count\n",
      "2496    1\n",
      "2763    1\n",
      "3162    1\n",
      "2982    1\n",
      "3324    1\n",
      "****************************************************************************************************\n"
     ]
    },
    {
     "data": {
      "image/png": "[encoded data removed]",
      "text/plain": [
       "<Figure size 432x288 with 1 Axes>"
      ]
     },
     "metadata": {
      "needs_background": "light"
     },
     "output_type": "display_data"
    },
    {
     "name": "stdout",
     "output_type": "stream",
     "text": [
      "----------------------------------------\n",
      "Total sequences: 14416\n",
      "----------------------------------------\n",
      "Top 5 longest sequences:\n",
      "id     length\n",
      "8599     2473539\n",
      "14533    2304997\n",
      "13345    2298757\n",
      "22185    2298478\n",
      "6069     2172911\n",
      "----------------------------------------\n",
      "Top 5 shortest sequences:\n",
      "id      length\n",
      "23423    39\n",
      "23367    51\n",
      "23422    54\n",
      "23417    57\n",
      "23373    63\n",
      "----------------------------------------\n",
      "Average length: 66718.0164400666\n",
      "----------------------------------------\n",
      "Top 5 most common lengths:\n",
      "length  count\n",
      "939     21\n",
      "930     19\n",
      "1593    18\n",
      "945     14\n",
      "942     11\n",
      "----------------------------------------\n",
      "Top 5 least common lengths:\n",
      "length  count\n",
      "93542     1\n",
      "63515     1\n",
      "284807    1\n",
      "2876      1\n",
      "735       1\n"
     ]
    }
   ],
   "source": [
    "# add a column that contains length of the sequence\n",
    "positive[\"length\"] = positive[\"sequence\"].apply(len)\n",
    "negative[\"length\"] = negative[\"sequence\"].apply(len)\n",
    "\n",
    "stats(positive)\n",
    "print(\"*\" * 100)\n",
    "stats(negative)"
   ]
  },
  {
   "cell_type": "code",
   "execution_count": 48,
   "metadata": {},
   "outputs": [
    {
     "data": {
      "image/png": "[encoded data removed]",
      "text/plain": [
       "<Figure size 432x288 with 1 Axes>"
      ]
     },
     "metadata": {
      "needs_background": "light"
     },
     "output_type": "display_data"
    },
    {
     "name": "stdout",
     "output_type": "stream",
     "text": [
      "----------------------------------------\n",
      "Total sequences: 2010\n",
      "----------------------------------------\n",
      "Top 5 longest sequences:\n",
      "id     length\n",
      "676    16791\n",
      "248    15615\n",
      "204    14574\n",
      "491    13941\n",
      "31     13167\n",
      "----------------------------------------\n",
      "Top 5 shortest sequences:\n",
      "id      length\n",
      "1112    192\n",
      "1427    195\n",
      "1500    204\n",
      "1611    204\n",
      "1346    210\n",
      "----------------------------------------\n",
      "Average length: 1903.5980099502488\n",
      "----------------------------------------\n",
      "Top 5 most common lengths:\n",
      "length  count\n",
      "1083    9\n",
      "1041    8\n",
      "1314    7\n",
      "618     7\n",
      "1371    7\n",
      "----------------------------------------\n",
      "Top 5 least common lengths:\n",
      "length  count\n",
      "2496    1\n",
      "2763    1\n",
      "3162    1\n",
      "2982    1\n",
      "3324    1\n",
      "****************************************************************************************************\n"
     ]
    },
    {
     "data": {
      "image/png": "[encoded data removed]",
      "text/plain": [
       "<Figure size 432x288 with 1 Axes>"
      ]
     },
     "metadata": {
      "needs_background": "light"
     },
     "output_type": "display_data"
    },
    {
     "name": "stdout",
     "output_type": "stream",
     "text": [
      "----------------------------------------\n",
      "Total sequences: 11900\n",
      "----------------------------------------\n",
      "Top 5 longest sequences:\n",
      "id     length\n",
      "18103    99989\n",
      "18255    99954\n",
      "15616    99917\n",
      "18000    99892\n",
      "5855     99739\n",
      "----------------------------------------\n",
      "Top 5 shortest sequences:\n",
      "id      length\n",
      "23367    51\n",
      "23422    54\n",
      "23417    57\n",
      "23373    63\n",
      "23403    66\n",
      "----------------------------------------\n",
      "Average length: 25958.777310924368\n",
      "----------------------------------------\n",
      "Top 5 most common lengths:\n",
      "length  count\n",
      "939     21\n",
      "930     19\n",
      "1593    18\n",
      "945     14\n",
      "942     11\n",
      "----------------------------------------\n",
      "Top 5 least common lengths:\n",
      "length  count\n",
      "52249    1\n",
      "2900     1\n",
      "12118    1\n",
      "64161    1\n",
      "30275    1\n"
     ]
    }
   ],
   "source": [
    "# remove seequnces with length less than 50\n",
    "positive = positive[positive[\"length\"] >= 50]\n",
    "negative = negative[negative[\"length\"] >= 50]\n",
    "\n",
    "folder = \"essential_genes_100k\"\n",
    "positive = positive[positive[\"length\"] < 100000]\n",
    "negative = negative[negative[\"length\"] < 100000]\n",
    "\n",
    "stats(positive)\n",
    "print(\"*\" * 100)\n",
    "stats(negative)"
   ]
  },
  {
   "cell_type": "code",
   "execution_count": 49,
   "metadata": {},
   "outputs": [],
   "source": [
    "positive[\"label\"] = 1\n",
    "negative[\"label\"] = 0\n",
    "\n",
    "dataset = pd.concat([positive, negative])\n",
    "\n",
    "# remove length column\n",
    "dataset = dataset.drop(columns=[\"length\"])\n",
    "\n",
    "# dataset.to_csv(\"../datasets/\" + folder + \"/dataset.csv\", index=False)"
   ]
  },
  {
   "cell_type": "code",
   "execution_count": 50,
   "metadata": {},
   "outputs": [
    {
     "name": "stdout",
     "output_type": "stream",
     "text": [
      "(13910, 3)\n"
     ]
    }
   ],
   "source": [
    "cutting_length = 2000\n",
    "\n",
    "# cut sequences to the cutting length\n",
    "dataset[\"sequence\"] = dataset[\"sequence\"].apply(lambda x: x[:cutting_length])\n",
    "\n",
    "# fill with \"N\" the sequences that are shorter than cutting length\n",
    "dataset[\"sequence\"] = dataset[\"sequence\"].apply(lambda x: x.ljust(cutting_length, \"N\"))\n",
    "\n",
    "print(dataset.shape)\n",
    "\n",
    "# write dataset to csv\n",
    "# dataset.to_csv(\"../datasets/\" + folder + \"_cut/dataset.csv\", index=False)"
   ]
  }
 ],
 "metadata": {
  "kernelspec": {
   "display_name": "Python 3.8.13 ('dna-conda': conda)",
   "language": "python",
   "name": "python3"
  },
  "language_info": {
   "codemirror_mode": {
    "name": "ipython",
    "version": 3
   },
   "file_extension": ".py",
   "mimetype": "text/x-python",
   "name": "python",
   "nbconvert_exporter": "python",
   "pygments_lexer": "ipython3",
   "version": "3.8.13"
  },
  "orig_nbformat": 4,
  "vscode": {
   "interpreter": {
    "hash": "ba449ea13c29f64a91968d8f927cecceedd6e605eda30388903386e6cd94168d"
   }
  }
 },
 "nbformat": 4,
 "nbformat_minor": 2
}
