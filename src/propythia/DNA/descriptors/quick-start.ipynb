{
 "cells": [
  {
   "cell_type": "markdown",
   "metadata": {},
   "source": [
    "# ProPythia DNA quick start"
   ]
  },
  {
   "cell_type": "code",
   "execution_count": 8,
   "metadata": {},
   "outputs": [
    {
     "name": "stdout",
     "output_type": "stream",
     "text": [
      "The autoreload extension is already loaded. To reload it, use:\n",
      "  %reload_ext autoreload\n"
     ]
    }
   ],
   "source": [
    "%load_ext autoreload\n",
    "%autoreload 2\n",
    "\n",
    "import sys\n",
    "import pandas as pd"
   ]
  },
  {
   "cell_type": "markdown",
   "metadata": {},
   "source": [
    "1. Getting sequences"
   ]
  },
  {
   "cell_type": "markdown",
   "metadata": {},
   "source": [
    "This module comprehends functions to read and to validate DNA sequences. First is necessary to create the object ReadDNA."
   ]
  },
  {
   "cell_type": "code",
   "execution_count": 9,
   "metadata": {},
   "outputs": [],
   "source": [
    "from read_sequence import ReadDNA\n",
    "reader = ReadDNA()"
   ]
  },
  {
   "cell_type": "markdown",
   "metadata": {},
   "source": [
    "It is possible to create sequence objects using a single DNA sequence, a *CSV* and a *FASTA* file. "
   ]
  },
  {
   "cell_type": "code",
   "execution_count": 10,
   "metadata": {},
   "outputs": [
    {
     "name": "stdout",
     "output_type": "stream",
     "text": [
      "           sequence\n",
      "0  ACGTACGAGCATGCAT\n",
      "(1, 1)\n"
     ]
    }
   ],
   "source": [
    "data = reader.read_sequence(\"ACGTACGAGCATGCAT\")\n",
    "print(data.head())\n",
    "print(data.shape)"
   ]
  },
  {
   "cell_type": "markdown",
   "metadata": {},
   "source": [
    "With *CSV* there must be at least a column with the sequence. If the user wants the labels, he must specify the *with_label* parameter as **True** and the column with the labels must be named 'label'."
   ]
  },
  {
   "cell_type": "code",
   "execution_count": 11,
   "metadata": {},
   "outputs": [
    {
     "name": "stdout",
     "output_type": "stream",
     "text": [
      "                                            sequence\n",
      "0  CCGAGGGCTATGGTTTGGAAGTTAGAACCCTGGGGCTTCTCGCGGA...\n",
      "1  GAGTTTATATGGCGCGAGCCTAGTGGTTTTTGTACTTGTTTGTCGC...\n",
      "2  GATCAGTAGGGAAACAAACAGAGGGCCCAGCCACATCTAGCAGGTA...\n",
      "3  GTCCACGACCGAACTCCCACCTTGACCGCAGAGGTACCACCAGAGC...\n",
      "4  GGCGACCGAACTCCAACTAGAACCTGCATAACTGGCCTGGGAGATA...\n",
      "(2000, 1)\n"
     ]
    }
   ],
   "source": [
    "filename = \"data/dataset.csv\"\n",
    "data = reader.read_csv(filename, with_labels=False)\n",
    "print(data.head())\n",
    "print(data.shape)"
   ]
  },
  {
   "cell_type": "markdown",
   "metadata": {},
   "source": [
    "The *FASTA* format is similar to the *CSV* format. It always reads the sequence, and the labels only if the user wants them. The *FASTA* format is must be one of the following examples:\n",
    "\n",
    "```\n",
    ">sequence_id1\n",
    "ACTGACTGACTGACTGACTGACTGACTGACTGACTGACTG...\n",
    ">sequence_id2\n",
    "ACTGACTGACTGACTGACTGACTGACTGACTGACTGACTG...\n",
    "``` \n",
    "\n",
    "```\n",
    ">sequence_id1,label1\n",
    "ACTGACTGACTGACTGACTGACTGACTGACTGACTGACTG...\n",
    ">sequence_id2,label2\n",
    "ACTGACTGACTGACTGACTGACTGACTGACTGACTGACTG...\n",
    "``` "
   ]
  },
  {
   "cell_type": "code",
   "execution_count": 12,
   "metadata": {},
   "outputs": [
    {
     "name": "stdout",
     "output_type": "stream",
     "text": [
      "                                            sequence\n",
      "0  CCGAGGGCTATGGTTTGGAAGTTAGAACCCTGGGGCTTCTCGCGGA...\n",
      "1  GAGTTTATATGGCGCGAGCCTAGTGGTTTTTGTACTTGTTTGTCGC...\n",
      "2  GATCAGTAGGGAAACAAACAGAGGGCCCAGCCACATCTAGCAGGTA...\n",
      "3  GTCCACGACCGAACTCCCACCTTGACCGCAGAGGTACCACCAGAGC...\n",
      "4  GGCGACCGAACTCCAACTAGAACCTGCATAACTGGCCTGGGAGATA...\n",
      "(2000, 1)\n"
     ]
    }
   ],
   "source": [
    "filename = \"data/dataset.fasta\"\n",
    "data = reader.read_fasta(filename, with_labels=False)\n",
    "print(data.head())\n",
    "print(data.shape)"
   ]
  }
 ],
 "metadata": {
  "kernelspec": {
   "display_name": "Python 3.8.13 ('dna-conda')",
   "language": "python",
   "name": "python3"
  },
  "language_info": {
   "codemirror_mode": {
    "name": "ipython",
    "version": 3
   },
   "file_extension": ".py",
   "mimetype": "text/x-python",
   "name": "python",
   "nbconvert_exporter": "python",
   "pygments_lexer": "ipython3",
   "version": "3.8.13"
  },
  "orig_nbformat": 4,
  "vscode": {
   "interpreter": {
    "hash": "c0bcc559ef33487cab7f2a2558a52d71f1a0ee6852f4c5d070acd011fceb9d44"
   }
  }
 },
 "nbformat": 4,
 "nbformat_minor": 2
}
