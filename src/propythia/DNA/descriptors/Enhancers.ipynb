{
 "cells": [
  {
   "cell_type": "markdown",
   "metadata": {},
   "source": [
    "# Identification of enhancers case study "
   ]
  },
  {
   "cell_type": "markdown",
   "metadata": {},
   "source": [
    "This section will present a comparative analysis to demonstrate the application and performance of proPythia for addressing sequence-based prediction problems.\n",
    "\n",
    "We'll try to replicate one of the [BioSeq-Analysis](https://academic.oup.com/nar/article/47/20/e127/5559689?login=true) case studies for identifying [enhancers](https://academic.oup.com/bioinformatics/article/32/3/362/1744331?login=true#btv604-M1)."
   ]
  },
  {
   "cell_type": "code",
   "execution_count": 1,
   "metadata": {
    "pycharm": {
     "name": "#%%\n"
    }
   },
   "outputs": [
    {
     "name": "stderr",
     "output_type": "stream",
     "text": [
      "2022-04-06 18:02:45.306222: W tensorflow/stream_executor/platform/default/dso_loader.cc:64] Could not load dynamic library 'libcudart.so.11.0'; dlerror: libcudart.so.11.0: cannot open shared object file: No such file or directory\n",
      "2022-04-06 18:02:45.306238: I tensorflow/stream_executor/cuda/cudart_stub.cc:29] Ignore above cudart dlerror if you do not have a GPU set up on your machine.\n"
     ]
    },
    {
     "name": "stdout",
     "output_type": "stream",
     "text": [
      "Executing op VarHandleOp in device /job:localhost/replica:0/task:0/device:CPU:0\n",
      "Executing op AssignVariableOp in device /job:localhost/replica:0/task:0/device:CPU:0\n",
      "Executing op VarHandleOp in device /job:localhost/replica:0/task:0/device:CPU:0\n",
      "Executing op AssignVariableOp in device /job:localhost/replica:0/task:0/device:CPU:0\n",
      "Executing op VarHandleOp in device /job:localhost/replica:0/task:0/device:CPU:0\n",
      "Executing op AssignVariableOp in device /job:localhost/replica:0/task:0/device:CPU:0\n",
      "Executing op VarHandleOp in device /job:localhost/replica:0/task:0/device:CPU:0\n",
      "Executing op AssignVariableOp in device /job:localhost/replica:0/task:0/device:CPU:0\n",
      "Executing op VarHandleOp in device /job:localhost/replica:0/task:0/device:CPU:0\n",
      "Executing op AssignVariableOp in device /job:localhost/replica:0/task:0/device:CPU:0\n"
     ]
    },
    {
     "name": "stderr",
     "output_type": "stream",
     "text": [
      "2022-04-06 18:02:49.019557: W tensorflow/stream_executor/platform/default/dso_loader.cc:64] Could not load dynamic library 'libcuda.so.1'; dlerror: libcuda.so.1: cannot open shared object file: No such file or directory\n",
      "2022-04-06 18:02:49.019578: W tensorflow/stream_executor/cuda/cuda_driver.cc:269] failed call to cuInit: UNKNOWN ERROR (303)\n",
      "2022-04-06 18:02:49.019592: I tensorflow/stream_executor/cuda/cuda_diagnostics.cc:156] kernel driver does not appear to be running on this host (pop-os): /proc/driver/nvidia/version does not exist\n",
      "2022-04-06 18:02:49.019766: I tensorflow/core/platform/cpu_feature_guard.cc:151] This TensorFlow binary is optimized with oneAPI Deep Neural Network Library (oneDNN) to use the following CPU instructions in performance-critical operations:  AVX2 FMA\n",
      "To enable them in other operations, rebuild TensorFlow with the appropriate compiler flags.\n"
     ]
    }
   ],
   "source": [
    "%load_ext autoreload\n",
    "\n",
    "import sys\n",
    "import pandas as pd\n",
    "\n",
    "from sklearn.metrics import confusion_matrix\n",
    "from sklearn.model_selection import train_test_split\n",
    "from sklearn.metrics import make_scorer, matthews_corrcoef\n",
    "from sklearn.preprocessing import StandardScaler\n",
    "\n",
    "sys.path.append('../../../../src/')\n",
    "from propythia.shallow_ml import ShallowML\n",
    "\n",
    "from descriptors import DNADescriptor"
   ]
  },
  {
   "cell_type": "code",
   "execution_count": 2,
   "metadata": {},
   "outputs": [],
   "source": [
    "import csv\n",
    "\n",
    "def write_dict_to_csv(d: dict, filename: str):\n",
    "    \"\"\"\n",
    "    Writes a dictionary to a csv file.\n",
    "    \"\"\"\n",
    "    with open(filename, 'w') as csv_file:\n",
    "        writer = csv.writer(csv_file)\n",
    "        headers = [\"id\", \"sequence\"]\n",
    "        writer.writerow(headers)\n",
    "        for key, val in d.items():\n",
    "            writer.writerow([key, val])"
   ]
  },
  {
   "cell_type": "code",
   "execution_count": 3,
   "metadata": {},
   "outputs": [],
   "source": [
    "from sequence import ReadDNA\n",
    "\n",
    "dna = ReadDNA()\n",
    "dna.read_fasta_in_folder('enhancer_dataset')\n",
    "for i in dna.d:\n",
    "    write_dict_to_csv(dna.d[i], f'enhancer_dataset/{i}.csv')"
   ]
  },
  {
   "cell_type": "markdown",
   "metadata": {},
   "source": [
    "This dataset has **742** weak enhancers, **742** strong enhancers, and **1484** non-enhancers."
   ]
  },
  {
   "cell_type": "code",
   "execution_count": 4,
   "metadata": {},
   "outputs": [
    {
     "name": "stdout",
     "output_type": "stream",
     "text": [
      "strong (742, 2)\n",
      "weak (742, 2)\n",
      "non (1484, 2)\n"
     ]
    }
   ],
   "source": [
    "strong_file =  r'enhancer_dataset/strong.csv'\n",
    "weak_file =  r'enhancer_dataset/weak.csv'\n",
    "non_file =  r'enhancer_dataset/non-enhancers.csv'\n",
    "\n",
    "strong = pd.read_csv(strong_file)\n",
    "weak = pd.read_csv(weak_file)\n",
    "non = pd.read_csv(non_file)\n",
    "\n",
    "print('strong', strong.shape)\n",
    "print('weak', weak.shape)\n",
    "print('non', non.shape)"
   ]
  },
  {
   "cell_type": "markdown",
   "metadata": {},
   "source": [
    "To calculate features, and to be more easy, we create a function to calculate features, calculating all available DNA features."
   ]
  },
  {
   "cell_type": "code",
   "execution_count": 5,
   "metadata": {
    "scrolled": false
   },
   "outputs": [
    {
     "name": "stdout",
     "output_type": "stream",
     "text": [
      "0 / 742\n",
      "100 / 742\n",
      "200 / 742\n",
      "300 / 742\n",
      "400 / 742\n",
      "500 / 742\n",
      "600 / 742\n",
      "700 / 742\n",
      "Done!\n",
      "0 / 742\n",
      "100 / 742\n",
      "200 / 742\n",
      "300 / 742\n",
      "400 / 742\n",
      "500 / 742\n",
      "600 / 742\n",
      "700 / 742\n",
      "Done!\n",
      "0 / 1484\n",
      "100 / 1484\n",
      "200 / 1484\n",
      "300 / 1484\n",
      "400 / 1484\n",
      "500 / 1484\n",
      "600 / 1484\n",
      "700 / 1484\n",
      "800 / 1484\n",
      "900 / 1484\n",
      "1000 / 1484\n",
      "1100 / 1484\n",
      "1200 / 1484\n",
      "1300 / 1484\n",
      "1400 / 1484\n",
      "Done!\n"
     ]
    }
   ],
   "source": [
    "def calculate_feature(data):\n",
    "    list_feature = []\n",
    "    count = 0\n",
    "    for seq in data['sequence']:\n",
    "        res = {'sequence': seq}\n",
    "        dna = DNADescriptor(seq)\n",
    "        feature = dna.get_all_descriptors()\n",
    "        res.update(feature)\n",
    "        list_feature.append(res)\n",
    "        \n",
    "        # print progress every 100 sequences\n",
    "        if count % 100 == 0:\n",
    "            print(count, '/', len(data))\n",
    "\n",
    "        count += 1\n",
    "    print(\"Done!\")\n",
    "    df = pd.DataFrame(list_feature)\n",
    "    return df\n",
    "\n",
    "strong_feature = calculate_feature(strong)\n",
    "weak_feature = calculate_feature(weak)\n",
    "non_feature = calculate_feature(non)"
   ]
  },
  {
   "cell_type": "markdown",
   "metadata": {},
   "source": [
    "- In the dataframe, each row is a sequence and each column is a feature.\n",
    "- There are 19 different features for each sequence."
   ]
  },
  {
   "cell_type": "code",
   "execution_count": 6,
   "metadata": {},
   "outputs": [
    {
     "name": "stdout",
     "output_type": "stream",
     "text": [
      "(742, 21)\n",
      "(742, 21)\n",
      "(1484, 21)\n"
     ]
    }
   ],
   "source": [
    "# put labels for each dataset   \n",
    "strong_feature['label'] = 2\n",
    "weak_feature['label'] = 1\n",
    "non_feature['label'] = 0\n",
    "\n",
    "print(strong_feature.shape)\n",
    "print(weak_feature.shape)\n",
    "print(non_feature.shape)"
   ]
  },
  {
   "cell_type": "code",
   "execution_count": 7,
   "metadata": {},
   "outputs": [
    {
     "name": "stdout",
     "output_type": "stream",
     "text": [
      "(2968, 19)\n"
     ]
    }
   ],
   "source": [
    "dataset = pd.concat([strong_feature, weak_feature, non_feature])\n",
    "\n",
    "fps_y = dataset['label']\n",
    "fps_x = dataset.loc[:, dataset.columns != 'label']\n",
    "fps_x = fps_x.loc[:, fps_x.columns != 'sequence']\n",
    "\n",
    "print(fps_x.shape)"
   ]
  },
  {
   "cell_type": "code",
   "execution_count": 8,
   "metadata": {},
   "outputs": [],
   "source": [
    "no_need_normalization = [\"length\", \"at_content\", \"gc_content\"]\n",
    "\n",
    "need_dict_normalization = [\"nucleic_acid_composition\", \"enhanced_nucleic_acid_composition\",\"dinucleotide_composition\",\"trinucleotide_composition\",\"k_spaced_nucleic_acid_pairs\",\"kmer\",\"PseDNC\", \"PseKNC\"]\n",
    "\n",
    "need_list_normalization = [\"nucleotide_chemical_property\", \"accumulated_nucleotide_frequency\", \"DAC\", \"DCC\", \"DACC\", \"TAC\",\"TCC\",\"TACC\"]\n",
    "\n",
    "def normalize_dict(d, field):\n",
    "    df = pd.json_normalize(d)\n",
    "    df.columns = [str(field) + \"_\" + str(i) for i in df.columns]\n",
    "    \n",
    "    for f in df.columns:\n",
    "        if isinstance(df[f][0], dict):\n",
    "            df = pd.concat([df, normalize_dict(df[f], f)], axis=1)\n",
    "            df.drop(f, axis=1, inplace=True)\n",
    "    return df\n",
    "\n",
    "def normalize_list(l, field):\n",
    "    df = pd.DataFrame(l.to_list())\n",
    "    df.columns = [str(field) + \"_\" + str(i) for i in df.columns]\n",
    "    \n",
    "    for f in df.columns:\n",
    "        if isinstance(df[f][0], list):\n",
    "            df = pd.concat([df, normalize_list(df[f], f)], axis=1)\n",
    "            df.drop(f, axis=1, inplace=True)\n",
    "    return df\n",
    "\n",
    "new_fps_x = pd.DataFrame()\n",
    "\n",
    "for col in fps_x.columns:\n",
    "    if col in need_dict_normalization:\n",
    "        new_fps_x = pd.concat([new_fps_x, normalize_dict(fps_x[col], col)], axis=1)\n",
    "    elif col in need_list_normalization:\n",
    "        new_fps_x = pd.concat([new_fps_x, normalize_list(fps_x[col], col)], axis=1)\n",
    "    else:\n",
    "        new_fps_x[col] = fps_x[col].to_numpy()"
   ]
  },
  {
   "cell_type": "code",
   "execution_count": 10,
   "metadata": {},
   "outputs": [
    {
     "name": "stdout",
     "output_type": "stream",
     "text": [
      "performing gridSearch...\n"
     ]
    },
    {
     "ename": "KeyboardInterrupt",
     "evalue": "",
     "output_type": "error",
     "traceback": [
      "\u001b[0;31m---------------------------------------------------------------------------\u001b[0m",
      "\u001b[0;31mKeyboardInterrupt\u001b[0m                         Traceback (most recent call last)",
      "\u001b[1;32m/home/jna/Desktop/propythia/src/propythia/DNA/descriptors/Enhancers.ipynb Cell 14'\u001b[0m in \u001b[0;36m<cell line: 18>\u001b[0;34m()\u001b[0m\n\u001b[1;32m     <a href='vscode-notebook-cell:/home/jna/Desktop/propythia/src/propythia/DNA/descriptors/Enhancers.ipynb#ch0000013?line=12'>13</a>\u001b[0m param_grid \u001b[39m=\u001b[39m [{\u001b[39m'\u001b[39m\u001b[39mclf__n_estimators\u001b[39m\u001b[39m'\u001b[39m: [\u001b[39m100\u001b[39m, \u001b[39m200\u001b[39m, \u001b[39m500\u001b[39m], \u001b[39m'\u001b[39m\u001b[39mclf__max_features\u001b[39m\u001b[39m'\u001b[39m: [\u001b[39m'\u001b[39m\u001b[39msqrt\u001b[39m\u001b[39m'\u001b[39m]}]\n\u001b[1;32m     <a href='vscode-notebook-cell:/home/jna/Desktop/propythia/src/propythia/DNA/descriptors/Enhancers.ipynb#ch0000013?line=14'>15</a>\u001b[0m \u001b[39m# train_best_model will perform a GRIDSEARCHCV optimizing MCC with a cv = 10\u001b[39;00m\n\u001b[1;32m     <a href='vscode-notebook-cell:/home/jna/Desktop/propythia/src/propythia/DNA/descriptors/Enhancers.ipynb#ch0000013?line=15'>16</a>\u001b[0m \u001b[39m# best_rf_model_enhancers = ml.train_best_model(model_name=None, model='rf', score=make_scorer(matthews_corrcoef), param_grid=param_grid, cv=10)\u001b[39;00m\n\u001b[0;32m---> <a href='vscode-notebook-cell:/home/jna/Desktop/propythia/src/propythia/DNA/descriptors/Enhancers.ipynb#ch0000013?line=17'>18</a>\u001b[0m best_rf_model_enhancers \u001b[39m=\u001b[39m ml\u001b[39m.\u001b[39;49mtrain_best_model(model_name\u001b[39m=\u001b[39;49m\u001b[39mNone\u001b[39;49;00m,model\u001b[39m=\u001b[39;49m\u001b[39m'\u001b[39;49m\u001b[39msvm\u001b[39;49m\u001b[39m'\u001b[39;49m, scaler\u001b[39m=\u001b[39;49m\u001b[39mNone\u001b[39;49;00m,\n\u001b[1;32m     <a href='vscode-notebook-cell:/home/jna/Desktop/propythia/src/propythia/DNA/descriptors/Enhancers.ipynb#ch0000013?line=18'>19</a>\u001b[0m                  score\u001b[39m=\u001b[39;49mmake_scorer(matthews_corrcoef),\n\u001b[1;32m     <a href='vscode-notebook-cell:/home/jna/Desktop/propythia/src/propythia/DNA/descriptors/Enhancers.ipynb#ch0000013?line=19'>20</a>\u001b[0m                  cv\u001b[39m=\u001b[39;49m\u001b[39m10\u001b[39;49m, optType\u001b[39m=\u001b[39;49m\u001b[39m'\u001b[39;49m\u001b[39mgridSearch\u001b[39;49m\u001b[39m'\u001b[39;49m, param_grid\u001b[39m=\u001b[39;49m\u001b[39mNone\u001b[39;49;00m,\n\u001b[1;32m     <a href='vscode-notebook-cell:/home/jna/Desktop/propythia/src/propythia/DNA/descriptors/Enhancers.ipynb#ch0000013?line=20'>21</a>\u001b[0m                  n_jobs\u001b[39m=\u001b[39;49m\u001b[39m10\u001b[39;49m,\n\u001b[1;32m     <a href='vscode-notebook-cell:/home/jna/Desktop/propythia/src/propythia/DNA/descriptors/Enhancers.ipynb#ch0000013?line=21'>22</a>\u001b[0m                  random_state\u001b[39m=\u001b[39;49m\u001b[39m1\u001b[39;49m, n_iter\u001b[39m=\u001b[39;49m\u001b[39m15\u001b[39;49m, refit\u001b[39m=\u001b[39;49m\u001b[39mTrue\u001b[39;49;00m)\n",
      "File \u001b[0;32m~/Desktop/propythia/src/propythia/DNA/descriptors/../../../../src/propythia/shallow_ml.py:207\u001b[0m, in \u001b[0;36mShallowML.train_best_model\u001b[0;34m(self, model_name, model, scaler, score, cv, optType, param_grid, n_jobs, random_state, n_iter, refit, **params)\u001b[0m\n\u001b[1;32m    <a href='file:///home/jna/Desktop/propythia/src/propythia/DNA/descriptors/../../../../src/propythia/shallow_ml.py?line=200'>201</a>\u001b[0m         param_grid \u001b[39m=\u001b[39m param[model\u001b[39m.\u001b[39mlower()][\u001b[39m'\u001b[39m\u001b[39mdistribution\u001b[39m\u001b[39m'\u001b[39m]\n\u001b[1;32m    <a href='file:///home/jna/Desktop/propythia/src/propythia/DNA/descriptors/../../../../src/propythia/shallow_ml.py?line=202'>203</a>\u001b[0m po \u001b[39m=\u001b[39m ParamOptimizer(optType\u001b[39m=\u001b[39moptType, estimator\u001b[39m=\u001b[39mpipe_model, paramDic\u001b[39m=\u001b[39mparam_grid,\n\u001b[1;32m    <a href='file:///home/jna/Desktop/propythia/src/propythia/DNA/descriptors/../../../../src/propythia/shallow_ml.py?line=203'>204</a>\u001b[0m                     dataX\u001b[39m=\u001b[39m\u001b[39mself\u001b[39m\u001b[39m.\u001b[39mx_train, datay\u001b[39m=\u001b[39m\u001b[39mself\u001b[39m\u001b[39m.\u001b[39my_train,\n\u001b[1;32m    <a href='file:///home/jna/Desktop/propythia/src/propythia/DNA/descriptors/../../../../src/propythia/shallow_ml.py?line=204'>205</a>\u001b[0m                     cv\u001b[39m=\u001b[39mcv, n_iter_search\u001b[39m=\u001b[39mn_iter, n_jobs\u001b[39m=\u001b[39mn_jobs, scoring\u001b[39m=\u001b[39mscore, model_name\u001b[39m=\u001b[39m\u001b[39mself\u001b[39m\u001b[39m.\u001b[39mmodel_name,\n\u001b[1;32m    <a href='file:///home/jna/Desktop/propythia/src/propythia/DNA/descriptors/../../../../src/propythia/shallow_ml.py?line=205'>206</a>\u001b[0m                     refit\u001b[39m=\u001b[39mrefit)\n\u001b[0;32m--> <a href='file:///home/jna/Desktop/propythia/src/propythia/DNA/descriptors/../../../../src/propythia/shallow_ml.py?line=206'>207</a>\u001b[0m gs \u001b[39m=\u001b[39m po\u001b[39m.\u001b[39;49mget_opt_params()\n\u001b[1;32m    <a href='file:///home/jna/Desktop/propythia/src/propythia/DNA/descriptors/../../../../src/propythia/shallow_ml.py?line=208'>209</a>\u001b[0m \u001b[39m# # summaries\u001b[39;00m\n\u001b[1;32m    <a href='file:///home/jna/Desktop/propythia/src/propythia/DNA/descriptors/../../../../src/propythia/shallow_ml.py?line=209'>210</a>\u001b[0m list_to_write_top_3_models \u001b[39m=\u001b[39m po\u001b[39m.\u001b[39mreport_top_models(gs)\n",
      "File \u001b[0;32m~/Desktop/propythia/src/propythia/DNA/descriptors/../../../../src/propythia/param_optimizer.py:154\u001b[0m, in \u001b[0;36mParamOptimizer.get_opt_params\u001b[0;34m(self)\u001b[0m\n\u001b[1;32m    <a href='file:///home/jna/Desktop/propythia/src/propythia/DNA/descriptors/../../../../src/propythia/param_optimizer.py?line=147'>148</a>\u001b[0m \u001b[39m\"\"\"\u001b[39;00m\n\u001b[1;32m    <a href='file:///home/jna/Desktop/propythia/src/propythia/DNA/descriptors/../../../../src/propythia/param_optimizer.py?line=148'>149</a>\u001b[0m \u001b[39mFunction to do gridSearch or randomizedSearch optimization\u001b[39;00m\n\u001b[1;32m    <a href='file:///home/jna/Desktop/propythia/src/propythia/DNA/descriptors/../../../../src/propythia/param_optimizer.py?line=149'>150</a>\u001b[0m \u001b[39m:return: gridsearch object with metrics for the models and best model.  best model is accessed using\u001b[39;00m\n\u001b[1;32m    <a href='file:///home/jna/Desktop/propythia/src/propythia/DNA/descriptors/../../../../src/propythia/param_optimizer.py?line=150'>151</a>\u001b[0m \u001b[39mgs.best_estimator_\u001b[39;00m\n\u001b[1;32m    <a href='file:///home/jna/Desktop/propythia/src/propythia/DNA/descriptors/../../../../src/propythia/param_optimizer.py?line=151'>152</a>\u001b[0m \u001b[39m\"\"\"\u001b[39;00m\n\u001b[1;32m    <a href='file:///home/jna/Desktop/propythia/src/propythia/DNA/descriptors/../../../../src/propythia/param_optimizer.py?line=152'>153</a>\u001b[0m \u001b[39mif\u001b[39;00m \u001b[39mself\u001b[39m\u001b[39m.\u001b[39moptType \u001b[39m==\u001b[39m \u001b[39m'\u001b[39m\u001b[39mgridSearch\u001b[39m\u001b[39m'\u001b[39m:\n\u001b[0;32m--> <a href='file:///home/jna/Desktop/propythia/src/propythia/DNA/descriptors/../../../../src/propythia/param_optimizer.py?line=153'>154</a>\u001b[0m     gs \u001b[39m=\u001b[39m \u001b[39mself\u001b[39;49m\u001b[39m.\u001b[39;49m_grid_search()\n\u001b[1;32m    <a href='file:///home/jna/Desktop/propythia/src/propythia/DNA/descriptors/../../../../src/propythia/param_optimizer.py?line=154'>155</a>\u001b[0m     \u001b[39mreturn\u001b[39;00m gs\n\u001b[1;32m    <a href='file:///home/jna/Desktop/propythia/src/propythia/DNA/descriptors/../../../../src/propythia/param_optimizer.py?line=155'>156</a>\u001b[0m \u001b[39melif\u001b[39;00m \u001b[39mself\u001b[39m\u001b[39m.\u001b[39moptType \u001b[39m==\u001b[39m \u001b[39m'\u001b[39m\u001b[39mrandomizedSearch\u001b[39m\u001b[39m'\u001b[39m:\n",
      "File \u001b[0;32m~/Desktop/propythia/src/propythia/DNA/descriptors/../../../../src/propythia/param_optimizer.py:141\u001b[0m, in \u001b[0;36mParamOptimizer._grid_search\u001b[0;34m(self)\u001b[0m\n\u001b[1;32m    <a href='file:///home/jna/Desktop/propythia/src/propythia/DNA/descriptors/../../../../src/propythia/param_optimizer.py?line=134'>135</a>\u001b[0m gs \u001b[39m=\u001b[39m GridSearchCV(estimator\u001b[39m=\u001b[39m\u001b[39mself\u001b[39m\u001b[39m.\u001b[39mmodel,\n\u001b[1;32m    <a href='file:///home/jna/Desktop/propythia/src/propythia/DNA/descriptors/../../../../src/propythia/param_optimizer.py?line=135'>136</a>\u001b[0m                   param_grid\u001b[39m=\u001b[39m\u001b[39mself\u001b[39m\u001b[39m.\u001b[39mparamDic,\n\u001b[1;32m    <a href='file:///home/jna/Desktop/propythia/src/propythia/DNA/descriptors/../../../../src/propythia/param_optimizer.py?line=136'>137</a>\u001b[0m                   scoring\u001b[39m=\u001b[39m\u001b[39mself\u001b[39m\u001b[39m.\u001b[39mscore,\n\u001b[1;32m    <a href='file:///home/jna/Desktop/propythia/src/propythia/DNA/descriptors/../../../../src/propythia/param_optimizer.py?line=137'>138</a>\u001b[0m                   cv\u001b[39m=\u001b[39m\u001b[39mself\u001b[39m\u001b[39m.\u001b[39mcv,\n\u001b[1;32m    <a href='file:///home/jna/Desktop/propythia/src/propythia/DNA/descriptors/../../../../src/propythia/param_optimizer.py?line=138'>139</a>\u001b[0m                   n_jobs\u001b[39m=\u001b[39m\u001b[39mself\u001b[39m\u001b[39m.\u001b[39mn_jobs, refit\u001b[39m=\u001b[39m\u001b[39mself\u001b[39m\u001b[39m.\u001b[39mrefit)\n\u001b[1;32m    <a href='file:///home/jna/Desktop/propythia/src/propythia/DNA/descriptors/../../../../src/propythia/param_optimizer.py?line=139'>140</a>\u001b[0m start \u001b[39m=\u001b[39m time()\n\u001b[0;32m--> <a href='file:///home/jna/Desktop/propythia/src/propythia/DNA/descriptors/../../../../src/propythia/param_optimizer.py?line=140'>141</a>\u001b[0m gs\u001b[39m.\u001b[39;49mfit(\u001b[39mself\u001b[39;49m\u001b[39m.\u001b[39;49mdataX, \u001b[39mself\u001b[39;49m\u001b[39m.\u001b[39;49mdatay)\n\u001b[1;32m    <a href='file:///home/jna/Desktop/propythia/src/propythia/DNA/descriptors/../../../../src/propythia/param_optimizer.py?line=141'>142</a>\u001b[0m \u001b[39mprint\u001b[39m(\u001b[39m\"\u001b[39m\u001b[39mGridSearchCV took \u001b[39m\u001b[39m%.2f\u001b[39;00m\u001b[39m seconds for \u001b[39m\u001b[39m%d\u001b[39;00m\u001b[39m candidate parameter settings.\u001b[39m\u001b[39m\"\u001b[39m\n\u001b[1;32m    <a href='file:///home/jna/Desktop/propythia/src/propythia/DNA/descriptors/../../../../src/propythia/param_optimizer.py?line=142'>143</a>\u001b[0m       \u001b[39m%\u001b[39m (time() \u001b[39m-\u001b[39m start, \u001b[39mlen\u001b[39m(gs\u001b[39m.\u001b[39mcv_results_[\u001b[39m'\u001b[39m\u001b[39mparams\u001b[39m\u001b[39m'\u001b[39m])))\n\u001b[1;32m    <a href='file:///home/jna/Desktop/propythia/src/propythia/DNA/descriptors/../../../../src/propythia/param_optimizer.py?line=144'>145</a>\u001b[0m \u001b[39mreturn\u001b[39;00m gs\n",
      "File \u001b[0;32m~/Desktop/propythia/src/propythia/DNA/venv/lib/python3.9/site-packages/sklearn/model_selection/_search.py:891\u001b[0m, in \u001b[0;36mBaseSearchCV.fit\u001b[0;34m(self, X, y, groups, **fit_params)\u001b[0m\n\u001b[1;32m    <a href='file:///home/jna/Desktop/propythia/src/propythia/DNA/venv/lib/python3.9/site-packages/sklearn/model_selection/_search.py?line=884'>885</a>\u001b[0m     results \u001b[39m=\u001b[39m \u001b[39mself\u001b[39m\u001b[39m.\u001b[39m_format_results(\n\u001b[1;32m    <a href='file:///home/jna/Desktop/propythia/src/propythia/DNA/venv/lib/python3.9/site-packages/sklearn/model_selection/_search.py?line=885'>886</a>\u001b[0m         all_candidate_params, n_splits, all_out, all_more_results\n\u001b[1;32m    <a href='file:///home/jna/Desktop/propythia/src/propythia/DNA/venv/lib/python3.9/site-packages/sklearn/model_selection/_search.py?line=886'>887</a>\u001b[0m     )\n\u001b[1;32m    <a href='file:///home/jna/Desktop/propythia/src/propythia/DNA/venv/lib/python3.9/site-packages/sklearn/model_selection/_search.py?line=888'>889</a>\u001b[0m     \u001b[39mreturn\u001b[39;00m results\n\u001b[0;32m--> <a href='file:///home/jna/Desktop/propythia/src/propythia/DNA/venv/lib/python3.9/site-packages/sklearn/model_selection/_search.py?line=890'>891</a>\u001b[0m \u001b[39mself\u001b[39;49m\u001b[39m.\u001b[39;49m_run_search(evaluate_candidates)\n\u001b[1;32m    <a href='file:///home/jna/Desktop/propythia/src/propythia/DNA/venv/lib/python3.9/site-packages/sklearn/model_selection/_search.py?line=892'>893</a>\u001b[0m \u001b[39m# multimetric is determined here because in the case of a callable\u001b[39;00m\n\u001b[1;32m    <a href='file:///home/jna/Desktop/propythia/src/propythia/DNA/venv/lib/python3.9/site-packages/sklearn/model_selection/_search.py?line=893'>894</a>\u001b[0m \u001b[39m# self.scoring the return type is only known after calling\u001b[39;00m\n\u001b[1;32m    <a href='file:///home/jna/Desktop/propythia/src/propythia/DNA/venv/lib/python3.9/site-packages/sklearn/model_selection/_search.py?line=894'>895</a>\u001b[0m first_test_score \u001b[39m=\u001b[39m all_out[\u001b[39m0\u001b[39m][\u001b[39m\"\u001b[39m\u001b[39mtest_scores\u001b[39m\u001b[39m\"\u001b[39m]\n",
      "File \u001b[0;32m~/Desktop/propythia/src/propythia/DNA/venv/lib/python3.9/site-packages/sklearn/model_selection/_search.py:1392\u001b[0m, in \u001b[0;36mGridSearchCV._run_search\u001b[0;34m(self, evaluate_candidates)\u001b[0m\n\u001b[1;32m   <a href='file:///home/jna/Desktop/propythia/src/propythia/DNA/venv/lib/python3.9/site-packages/sklearn/model_selection/_search.py?line=1389'>1390</a>\u001b[0m \u001b[39mdef\u001b[39;00m \u001b[39m_run_search\u001b[39m(\u001b[39mself\u001b[39m, evaluate_candidates):\n\u001b[1;32m   <a href='file:///home/jna/Desktop/propythia/src/propythia/DNA/venv/lib/python3.9/site-packages/sklearn/model_selection/_search.py?line=1390'>1391</a>\u001b[0m     \u001b[39m\"\"\"Search all candidates in param_grid\"\"\"\u001b[39;00m\n\u001b[0;32m-> <a href='file:///home/jna/Desktop/propythia/src/propythia/DNA/venv/lib/python3.9/site-packages/sklearn/model_selection/_search.py?line=1391'>1392</a>\u001b[0m     evaluate_candidates(ParameterGrid(\u001b[39mself\u001b[39;49m\u001b[39m.\u001b[39;49mparam_grid))\n",
      "File \u001b[0;32m~/Desktop/propythia/src/propythia/DNA/venv/lib/python3.9/site-packages/sklearn/model_selection/_search.py:838\u001b[0m, in \u001b[0;36mBaseSearchCV.fit.<locals>.evaluate_candidates\u001b[0;34m(candidate_params, cv, more_results)\u001b[0m\n\u001b[1;32m    <a href='file:///home/jna/Desktop/propythia/src/propythia/DNA/venv/lib/python3.9/site-packages/sklearn/model_selection/_search.py?line=829'>830</a>\u001b[0m \u001b[39mif\u001b[39;00m \u001b[39mself\u001b[39m\u001b[39m.\u001b[39mverbose \u001b[39m>\u001b[39m \u001b[39m0\u001b[39m:\n\u001b[1;32m    <a href='file:///home/jna/Desktop/propythia/src/propythia/DNA/venv/lib/python3.9/site-packages/sklearn/model_selection/_search.py?line=830'>831</a>\u001b[0m     \u001b[39mprint\u001b[39m(\n\u001b[1;32m    <a href='file:///home/jna/Desktop/propythia/src/propythia/DNA/venv/lib/python3.9/site-packages/sklearn/model_selection/_search.py?line=831'>832</a>\u001b[0m         \u001b[39m\"\u001b[39m\u001b[39mFitting \u001b[39m\u001b[39m{0}\u001b[39;00m\u001b[39m folds for each of \u001b[39m\u001b[39m{1}\u001b[39;00m\u001b[39m candidates,\u001b[39m\u001b[39m\"\u001b[39m\n\u001b[1;32m    <a href='file:///home/jna/Desktop/propythia/src/propythia/DNA/venv/lib/python3.9/site-packages/sklearn/model_selection/_search.py?line=832'>833</a>\u001b[0m         \u001b[39m\"\u001b[39m\u001b[39m totalling \u001b[39m\u001b[39m{2}\u001b[39;00m\u001b[39m fits\u001b[39m\u001b[39m\"\u001b[39m\u001b[39m.\u001b[39mformat(\n\u001b[1;32m    <a href='file:///home/jna/Desktop/propythia/src/propythia/DNA/venv/lib/python3.9/site-packages/sklearn/model_selection/_search.py?line=833'>834</a>\u001b[0m             n_splits, n_candidates, n_candidates \u001b[39m*\u001b[39m n_splits\n\u001b[1;32m    <a href='file:///home/jna/Desktop/propythia/src/propythia/DNA/venv/lib/python3.9/site-packages/sklearn/model_selection/_search.py?line=834'>835</a>\u001b[0m         )\n\u001b[1;32m    <a href='file:///home/jna/Desktop/propythia/src/propythia/DNA/venv/lib/python3.9/site-packages/sklearn/model_selection/_search.py?line=835'>836</a>\u001b[0m     )\n\u001b[0;32m--> <a href='file:///home/jna/Desktop/propythia/src/propythia/DNA/venv/lib/python3.9/site-packages/sklearn/model_selection/_search.py?line=837'>838</a>\u001b[0m out \u001b[39m=\u001b[39m parallel(\n\u001b[1;32m    <a href='file:///home/jna/Desktop/propythia/src/propythia/DNA/venv/lib/python3.9/site-packages/sklearn/model_selection/_search.py?line=838'>839</a>\u001b[0m     delayed(_fit_and_score)(\n\u001b[1;32m    <a href='file:///home/jna/Desktop/propythia/src/propythia/DNA/venv/lib/python3.9/site-packages/sklearn/model_selection/_search.py?line=839'>840</a>\u001b[0m         clone(base_estimator),\n\u001b[1;32m    <a href='file:///home/jna/Desktop/propythia/src/propythia/DNA/venv/lib/python3.9/site-packages/sklearn/model_selection/_search.py?line=840'>841</a>\u001b[0m         X,\n\u001b[1;32m    <a href='file:///home/jna/Desktop/propythia/src/propythia/DNA/venv/lib/python3.9/site-packages/sklearn/model_selection/_search.py?line=841'>842</a>\u001b[0m         y,\n\u001b[1;32m    <a href='file:///home/jna/Desktop/propythia/src/propythia/DNA/venv/lib/python3.9/site-packages/sklearn/model_selection/_search.py?line=842'>843</a>\u001b[0m         train\u001b[39m=\u001b[39;49mtrain,\n\u001b[1;32m    <a href='file:///home/jna/Desktop/propythia/src/propythia/DNA/venv/lib/python3.9/site-packages/sklearn/model_selection/_search.py?line=843'>844</a>\u001b[0m         test\u001b[39m=\u001b[39;49mtest,\n\u001b[1;32m    <a href='file:///home/jna/Desktop/propythia/src/propythia/DNA/venv/lib/python3.9/site-packages/sklearn/model_selection/_search.py?line=844'>845</a>\u001b[0m         parameters\u001b[39m=\u001b[39;49mparameters,\n\u001b[1;32m    <a href='file:///home/jna/Desktop/propythia/src/propythia/DNA/venv/lib/python3.9/site-packages/sklearn/model_selection/_search.py?line=845'>846</a>\u001b[0m         split_progress\u001b[39m=\u001b[39;49m(split_idx, n_splits),\n\u001b[1;32m    <a href='file:///home/jna/Desktop/propythia/src/propythia/DNA/venv/lib/python3.9/site-packages/sklearn/model_selection/_search.py?line=846'>847</a>\u001b[0m         candidate_progress\u001b[39m=\u001b[39;49m(cand_idx, n_candidates),\n\u001b[1;32m    <a href='file:///home/jna/Desktop/propythia/src/propythia/DNA/venv/lib/python3.9/site-packages/sklearn/model_selection/_search.py?line=847'>848</a>\u001b[0m         \u001b[39m*\u001b[39;49m\u001b[39m*\u001b[39;49mfit_and_score_kwargs,\n\u001b[1;32m    <a href='file:///home/jna/Desktop/propythia/src/propythia/DNA/venv/lib/python3.9/site-packages/sklearn/model_selection/_search.py?line=848'>849</a>\u001b[0m     )\n\u001b[1;32m    <a href='file:///home/jna/Desktop/propythia/src/propythia/DNA/venv/lib/python3.9/site-packages/sklearn/model_selection/_search.py?line=849'>850</a>\u001b[0m     \u001b[39mfor\u001b[39;49;00m (cand_idx, parameters), (split_idx, (train, test)) \u001b[39min\u001b[39;49;00m product(\n\u001b[1;32m    <a href='file:///home/jna/Desktop/propythia/src/propythia/DNA/venv/lib/python3.9/site-packages/sklearn/model_selection/_search.py?line=850'>851</a>\u001b[0m         \u001b[39menumerate\u001b[39;49m(candidate_params), \u001b[39menumerate\u001b[39;49m(cv\u001b[39m.\u001b[39;49msplit(X, y, groups))\n\u001b[1;32m    <a href='file:///home/jna/Desktop/propythia/src/propythia/DNA/venv/lib/python3.9/site-packages/sklearn/model_selection/_search.py?line=851'>852</a>\u001b[0m     )\n\u001b[1;32m    <a href='file:///home/jna/Desktop/propythia/src/propythia/DNA/venv/lib/python3.9/site-packages/sklearn/model_selection/_search.py?line=852'>853</a>\u001b[0m )\n\u001b[1;32m    <a href='file:///home/jna/Desktop/propythia/src/propythia/DNA/venv/lib/python3.9/site-packages/sklearn/model_selection/_search.py?line=854'>855</a>\u001b[0m \u001b[39mif\u001b[39;00m \u001b[39mlen\u001b[39m(out) \u001b[39m<\u001b[39m \u001b[39m1\u001b[39m:\n\u001b[1;32m    <a href='file:///home/jna/Desktop/propythia/src/propythia/DNA/venv/lib/python3.9/site-packages/sklearn/model_selection/_search.py?line=855'>856</a>\u001b[0m     \u001b[39mraise\u001b[39;00m \u001b[39mValueError\u001b[39;00m(\n\u001b[1;32m    <a href='file:///home/jna/Desktop/propythia/src/propythia/DNA/venv/lib/python3.9/site-packages/sklearn/model_selection/_search.py?line=856'>857</a>\u001b[0m         \u001b[39m\"\u001b[39m\u001b[39mNo fits were performed. \u001b[39m\u001b[39m\"\u001b[39m\n\u001b[1;32m    <a href='file:///home/jna/Desktop/propythia/src/propythia/DNA/venv/lib/python3.9/site-packages/sklearn/model_selection/_search.py?line=857'>858</a>\u001b[0m         \u001b[39m\"\u001b[39m\u001b[39mWas the CV iterator empty? \u001b[39m\u001b[39m\"\u001b[39m\n\u001b[1;32m    <a href='file:///home/jna/Desktop/propythia/src/propythia/DNA/venv/lib/python3.9/site-packages/sklearn/model_selection/_search.py?line=858'>859</a>\u001b[0m         \u001b[39m\"\u001b[39m\u001b[39mWere there no candidates?\u001b[39m\u001b[39m\"\u001b[39m\n\u001b[1;32m    <a href='file:///home/jna/Desktop/propythia/src/propythia/DNA/venv/lib/python3.9/site-packages/sklearn/model_selection/_search.py?line=859'>860</a>\u001b[0m     )\n",
      "File \u001b[0;32m~/Desktop/propythia/src/propythia/DNA/venv/lib/python3.9/site-packages/joblib/parallel.py:1056\u001b[0m, in \u001b[0;36mParallel.__call__\u001b[0;34m(self, iterable)\u001b[0m\n\u001b[1;32m   <a href='file:///home/jna/Desktop/propythia/src/propythia/DNA/venv/lib/python3.9/site-packages/joblib/parallel.py?line=1052'>1053</a>\u001b[0m     \u001b[39mself\u001b[39m\u001b[39m.\u001b[39m_iterating \u001b[39m=\u001b[39m \u001b[39mFalse\u001b[39;00m\n\u001b[1;32m   <a href='file:///home/jna/Desktop/propythia/src/propythia/DNA/venv/lib/python3.9/site-packages/joblib/parallel.py?line=1054'>1055</a>\u001b[0m \u001b[39mwith\u001b[39;00m \u001b[39mself\u001b[39m\u001b[39m.\u001b[39m_backend\u001b[39m.\u001b[39mretrieval_context():\n\u001b[0;32m-> <a href='file:///home/jna/Desktop/propythia/src/propythia/DNA/venv/lib/python3.9/site-packages/joblib/parallel.py?line=1055'>1056</a>\u001b[0m     \u001b[39mself\u001b[39;49m\u001b[39m.\u001b[39;49mretrieve()\n\u001b[1;32m   <a href='file:///home/jna/Desktop/propythia/src/propythia/DNA/venv/lib/python3.9/site-packages/joblib/parallel.py?line=1056'>1057</a>\u001b[0m \u001b[39m# Make sure that we get a last message telling us we are done\u001b[39;00m\n\u001b[1;32m   <a href='file:///home/jna/Desktop/propythia/src/propythia/DNA/venv/lib/python3.9/site-packages/joblib/parallel.py?line=1057'>1058</a>\u001b[0m elapsed_time \u001b[39m=\u001b[39m time\u001b[39m.\u001b[39mtime() \u001b[39m-\u001b[39m \u001b[39mself\u001b[39m\u001b[39m.\u001b[39m_start_time\n",
      "File \u001b[0;32m~/Desktop/propythia/src/propythia/DNA/venv/lib/python3.9/site-packages/joblib/parallel.py:935\u001b[0m, in \u001b[0;36mParallel.retrieve\u001b[0;34m(self)\u001b[0m\n\u001b[1;32m    <a href='file:///home/jna/Desktop/propythia/src/propythia/DNA/venv/lib/python3.9/site-packages/joblib/parallel.py?line=932'>933</a>\u001b[0m \u001b[39mtry\u001b[39;00m:\n\u001b[1;32m    <a href='file:///home/jna/Desktop/propythia/src/propythia/DNA/venv/lib/python3.9/site-packages/joblib/parallel.py?line=933'>934</a>\u001b[0m     \u001b[39mif\u001b[39;00m \u001b[39mgetattr\u001b[39m(\u001b[39mself\u001b[39m\u001b[39m.\u001b[39m_backend, \u001b[39m'\u001b[39m\u001b[39msupports_timeout\u001b[39m\u001b[39m'\u001b[39m, \u001b[39mFalse\u001b[39;00m):\n\u001b[0;32m--> <a href='file:///home/jna/Desktop/propythia/src/propythia/DNA/venv/lib/python3.9/site-packages/joblib/parallel.py?line=934'>935</a>\u001b[0m         \u001b[39mself\u001b[39m\u001b[39m.\u001b[39m_output\u001b[39m.\u001b[39mextend(job\u001b[39m.\u001b[39;49mget(timeout\u001b[39m=\u001b[39;49m\u001b[39mself\u001b[39;49m\u001b[39m.\u001b[39;49mtimeout))\n\u001b[1;32m    <a href='file:///home/jna/Desktop/propythia/src/propythia/DNA/venv/lib/python3.9/site-packages/joblib/parallel.py?line=935'>936</a>\u001b[0m     \u001b[39melse\u001b[39;00m:\n\u001b[1;32m    <a href='file:///home/jna/Desktop/propythia/src/propythia/DNA/venv/lib/python3.9/site-packages/joblib/parallel.py?line=936'>937</a>\u001b[0m         \u001b[39mself\u001b[39m\u001b[39m.\u001b[39m_output\u001b[39m.\u001b[39mextend(job\u001b[39m.\u001b[39mget())\n",
      "File \u001b[0;32m~/Desktop/propythia/src/propythia/DNA/venv/lib/python3.9/site-packages/joblib/_parallel_backends.py:542\u001b[0m, in \u001b[0;36mLokyBackend.wrap_future_result\u001b[0;34m(future, timeout)\u001b[0m\n\u001b[1;32m    <a href='file:///home/jna/Desktop/propythia/src/propythia/DNA/venv/lib/python3.9/site-packages/joblib/_parallel_backends.py?line=538'>539</a>\u001b[0m \u001b[39m\"\"\"Wrapper for Future.result to implement the same behaviour as\u001b[39;00m\n\u001b[1;32m    <a href='file:///home/jna/Desktop/propythia/src/propythia/DNA/venv/lib/python3.9/site-packages/joblib/_parallel_backends.py?line=539'>540</a>\u001b[0m \u001b[39mAsyncResults.get from multiprocessing.\"\"\"\u001b[39;00m\n\u001b[1;32m    <a href='file:///home/jna/Desktop/propythia/src/propythia/DNA/venv/lib/python3.9/site-packages/joblib/_parallel_backends.py?line=540'>541</a>\u001b[0m \u001b[39mtry\u001b[39;00m:\n\u001b[0;32m--> <a href='file:///home/jna/Desktop/propythia/src/propythia/DNA/venv/lib/python3.9/site-packages/joblib/_parallel_backends.py?line=541'>542</a>\u001b[0m     \u001b[39mreturn\u001b[39;00m future\u001b[39m.\u001b[39;49mresult(timeout\u001b[39m=\u001b[39;49mtimeout)\n\u001b[1;32m    <a href='file:///home/jna/Desktop/propythia/src/propythia/DNA/venv/lib/python3.9/site-packages/joblib/_parallel_backends.py?line=542'>543</a>\u001b[0m \u001b[39mexcept\u001b[39;00m CfTimeoutError \u001b[39mas\u001b[39;00m e:\n\u001b[1;32m    <a href='file:///home/jna/Desktop/propythia/src/propythia/DNA/venv/lib/python3.9/site-packages/joblib/_parallel_backends.py?line=543'>544</a>\u001b[0m     \u001b[39mraise\u001b[39;00m \u001b[39mTimeoutError\u001b[39;00m \u001b[39mfrom\u001b[39;00m \u001b[39me\u001b[39;00m\n",
      "File \u001b[0;32m/usr/lib/python3.9/concurrent/futures/_base.py:440\u001b[0m, in \u001b[0;36mFuture.result\u001b[0;34m(self, timeout)\u001b[0m\n\u001b[1;32m    <a href='file:///usr/lib/python3.9/concurrent/futures/_base.py?line=436'>437</a>\u001b[0m \u001b[39melif\u001b[39;00m \u001b[39mself\u001b[39m\u001b[39m.\u001b[39m_state \u001b[39m==\u001b[39m FINISHED:\n\u001b[1;32m    <a href='file:///usr/lib/python3.9/concurrent/futures/_base.py?line=437'>438</a>\u001b[0m     \u001b[39mreturn\u001b[39;00m \u001b[39mself\u001b[39m\u001b[39m.\u001b[39m__get_result()\n\u001b[0;32m--> <a href='file:///usr/lib/python3.9/concurrent/futures/_base.py?line=439'>440</a>\u001b[0m \u001b[39mself\u001b[39;49m\u001b[39m.\u001b[39;49m_condition\u001b[39m.\u001b[39;49mwait(timeout)\n\u001b[1;32m    <a href='file:///usr/lib/python3.9/concurrent/futures/_base.py?line=441'>442</a>\u001b[0m \u001b[39mif\u001b[39;00m \u001b[39mself\u001b[39m\u001b[39m.\u001b[39m_state \u001b[39min\u001b[39;00m [CANCELLED, CANCELLED_AND_NOTIFIED]:\n\u001b[1;32m    <a href='file:///usr/lib/python3.9/concurrent/futures/_base.py?line=442'>443</a>\u001b[0m     \u001b[39mraise\u001b[39;00m CancelledError()\n",
      "File \u001b[0;32m/usr/lib/python3.9/threading.py:312\u001b[0m, in \u001b[0;36mCondition.wait\u001b[0;34m(self, timeout)\u001b[0m\n\u001b[1;32m    <a href='file:///usr/lib/python3.9/threading.py?line=309'>310</a>\u001b[0m \u001b[39mtry\u001b[39;00m:    \u001b[39m# restore state no matter what (e.g., KeyboardInterrupt)\u001b[39;00m\n\u001b[1;32m    <a href='file:///usr/lib/python3.9/threading.py?line=310'>311</a>\u001b[0m     \u001b[39mif\u001b[39;00m timeout \u001b[39mis\u001b[39;00m \u001b[39mNone\u001b[39;00m:\n\u001b[0;32m--> <a href='file:///usr/lib/python3.9/threading.py?line=311'>312</a>\u001b[0m         waiter\u001b[39m.\u001b[39;49macquire()\n\u001b[1;32m    <a href='file:///usr/lib/python3.9/threading.py?line=312'>313</a>\u001b[0m         gotit \u001b[39m=\u001b[39m \u001b[39mTrue\u001b[39;00m\n\u001b[1;32m    <a href='file:///usr/lib/python3.9/threading.py?line=313'>314</a>\u001b[0m     \u001b[39melse\u001b[39;00m:\n",
      "\u001b[0;31mKeyboardInterrupt\u001b[0m: "
     ]
    }
   ],
   "source": [
    "X_train, X_test, y_train, y_test = train_test_split(new_fps_x, fps_y, stratify=fps_y)\n",
    "\n",
    "# standard scaler article does not refer scaling and do not validate in x_test, however, we do it anyway\n",
    "\n",
    "scaler = StandardScaler().fit(X_train)\n",
    "X_train = scaler.transform(X_train)\n",
    "X_test = scaler.transform(X_test)\n",
    "\n",
    "# open a ShallowML object\n",
    "ml = ShallowML(X_train, X_test, y_train, y_test, report_name=None, columns_names=new_fps_x.columns)\n",
    "\n",
    "# define param grid as article, here we will search in 100, 200 and 500 estimators\n",
    "param_grid = [{'clf__n_estimators': [100, 200, 500], 'clf__max_features': ['sqrt']}]\n",
    "\n",
    "# train_best_model will perform a GRIDSEARCHCV optimizing MCC with a cv = 10\n",
    "# best_rf_model_enhancers = ml.train_best_model(model_name=None, model='rf', score=make_scorer(matthews_corrcoef), param_grid=param_grid, cv=10)\n",
    "\n",
    "best_rf_model_enhancers = ml.train_best_model(model_name=None,model='svm', scaler=None,\n",
    "                 score=make_scorer(matthews_corrcoef),\n",
    "                 cv=10, optType='gridSearch', param_grid=None,\n",
    "                 n_jobs=10,\n",
    "                 random_state=1, n_iter=15, refit=True)"
   ]
  },
  {
   "cell_type": "code",
   "execution_count": null,
   "metadata": {},
   "outputs": [
    {
     "name": "stdout",
     "output_type": "stream",
     "text": [
      "              precision    recall  f1-score   support\n",
      "\n",
      "           0       0.69      0.87      0.77       371\n",
      "           1       0.39      0.05      0.09       185\n",
      "           2       0.52      0.70      0.59       186\n",
      "\n",
      "    accuracy                           0.62       742\n",
      "   macro avg       0.53      0.54      0.48       742\n",
      "weighted avg       0.57      0.62      0.56       742\n",
      "\n",
      "[[324   6  41]\n",
      " [ 96   9  80]\n",
      " [ 48   8 130]]\n"
     ]
    },
    {
     "data": {
      "text/plain": [
       "{'Accuracy': 0.623989218328841,\n",
       " 'MCC': 0.3917814923704463,\n",
       " 'log_loss': 0.8292365194048797,\n",
       " 'f1 score weighted': 0.5568926567744779,\n",
       " 'f1 score macro': 0.4846173899895776,\n",
       " 'f1 score micro': 0.623989218328841,\n",
       " 'roc_auc ovr': 0.7777556648074809,\n",
       " 'roc_auc ovo': 0.754091381354792,\n",
       " 'precision': 0.5735473309279806,\n",
       " 'recall': 0.623989218328841}"
      ]
     },
     "execution_count": 25,
     "metadata": {},
     "output_type": "execute_result"
    }
   ],
   "source": [
    "scores, report, cm, cm2 = ml.score_testset(best_rf_model_enhancers)\n",
    "print(report)\n",
    "print(cm)  \n",
    "scores"
   ]
  },
  {
   "cell_type": "code",
   "execution_count": null,
   "metadata": {},
   "outputs": [],
   "source": []
  }
 ],
 "metadata": {
  "interpreter": {
   "hash": "eccc737e2ce2db9aa50ea00a61eebd654f595be3688de5a9cd756821a0256d89"
  },
  "kernelspec": {
   "display_name": "Python 3 (ipykernel)",
   "language": "python",
   "name": "python3"
  },
  "language_info": {
   "codemirror_mode": {
    "name": "ipython",
    "version": 3
   },
   "file_extension": ".py",
   "mimetype": "text/x-python",
   "name": "python",
   "nbconvert_exporter": "python",
   "pygments_lexer": "ipython3",
   "version": "3.9.7"
  }
 },
 "nbformat": 4,
 "nbformat_minor": 1
}
