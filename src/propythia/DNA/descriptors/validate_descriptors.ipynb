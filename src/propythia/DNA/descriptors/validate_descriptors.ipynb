{
  "cells": [
    {
      "cell_type": "markdown",
      "metadata": {},
      "source": [
        "# Identification of DNA-binding motifs case study "
      ]
    },
    {
      "cell_type": "markdown",
      "metadata": {},
      "source": [
        "This section will present a comparative analysis to demonstrate the application and performance of proPythia for addressing sequence-based prediction problems.\n",
        "\n",
        "We'll try to replicate the [Deep Learning in Genomics Primer Notebook](https://github.com/abidlabs/deep-learning-genomics-primer/blob/master/A_Primer_on_Deep_Learning_in_Genomics_Public.ipynb) which is a supplement to the manuscript [A Primer on Deep Learning in Genomics](https://www.nature.com/articles/s41588-018-0295-5).\n",
        "\n",
        "The main focus of this notebook is to demonstrate the application of proPythia to the identification of DNA-binding motifs using DNA descriptors."
      ]
    },
    {
      "cell_type": "code",
      "execution_count": 58,
      "metadata": {
        "pycharm": {
          "name": "#%%\n"
        }
      },
      "outputs": [
        {
          "name": "stdout",
          "output_type": "stream",
          "text": [
            "The autoreload extension is already loaded. To reload it, use:\n",
            "  %reload_ext autoreload\n"
          ]
        }
      ],
      "source": [
        "%load_ext autoreload\n",
        "\n",
        "import sys\n",
        "import pandas as pd\n",
        "\n",
        "from sklearn.model_selection import train_test_split\n",
        "from sklearn.metrics import make_scorer, matthews_corrcoef\n",
        "from sklearn.preprocessing import StandardScaler\n",
        "\n",
        "sys.path.append('../../../../src/')\n",
        "from propythia.shallow_ml import ShallowML\n",
        "\n",
        "from descriptors import DNADescriptor"
      ]
    },
    {
      "cell_type": "code",
      "execution_count": 59,
      "metadata": {},
      "outputs": [
        {
          "name": "stdout",
          "output_type": "stream",
          "text": [
            "(2000, 2)\n",
            "                                            sequence  label\n",
            "0  CCGAGGGCTATGGTTTGGAAGTTAGAACCCTGGGGCTTCTCGCGGA...      0\n",
            "1  GAGTTTATATGGCGCGAGCCTAGTGGTTTTTGTACTTGTTTGTCGC...      0\n",
            "2  GATCAGTAGGGAAACAAACAGAGGGCCCAGCCACATCTAGCAGGTA...      0\n",
            "3  GTCCACGACCGAACTCCCACCTTGACCGCAGAGGTACCACCAGAGC...      1\n",
            "4  GGCGACCGAACTCCAACTAGAACCTGCATAACTGGCCTGGGAGATA...      1\n"
          ]
        }
      ],
      "source": [
        "dataset = pd.read_csv(\"dataset.csv\")\n",
        "print(dataset.shape)\n",
        "print(dataset.head())"
      ]
    },
    {
      "cell_type": "markdown",
      "metadata": {},
      "source": [
        "As we can see, this dataset contains the sequence and the corresponding positive/negative class labels, with positive class labels corresponding to the presence of a DNA-binding motif. The amount of positive and negative examples is evenly distributed across the two classes."
      ]
    },
    {
      "cell_type": "code",
      "execution_count": 60,
      "metadata": {},
      "outputs": [
        {
          "data": {
            "text/plain": [
              "<AxesSubplot:xlabel='label'>"
            ]
          },
          "execution_count": 60,
          "metadata": {},
          "output_type": "execute_result"
        },
        {
          "data": {
            "image/png": "[encoded data removed]",
            "text/plain": [
              "<Figure size 432x288 with 1 Axes>"
            ]
          },
          "metadata": {},
          "output_type": "display_data"
        }
      ],
      "source": [
        "# plot the distribution of each class\n",
        "dataset.groupby('label').size().plot(kind='bar')"
      ]
    },
    {
      "cell_type": "markdown",
      "metadata": {},
      "source": [
        "To calculate features, and to be more easy, we create a function to calculate features, calculating all available DNA features.\n",
        "There are a total of 20 DNA descriptors. They are: \n",
        "- length\n",
        "- gc_content\n",
        "- at_content\n",
        "- nucleic_acid_composition\n",
        "- enhanced_nucleic_acid_composition\n",
        "- dinucleotide_composition\n",
        "- trinucleotide_composition\n",
        "- k_spaced_nucleic_acid_pairs\n",
        "- kmer\n",
        "- nucleotide_chemical_property\n",
        "- accumulated_nucleotide_frequency\n",
        "- DAC\n",
        "- DCC\n",
        "- DACC\n",
        "- TAC\n",
        "- TCC\n",
        "- TACC\n",
        "- PseDNC\n",
        "- PseKNC\n",
        "- binary"
      ]
    },
    {
      "cell_type": "code",
      "execution_count": 61,
      "metadata": {
        "scrolled": false
      },
      "outputs": [
        {
          "name": "stdout",
          "output_type": "stream",
          "text": [
            "0 / 2000\n",
            "100 / 2000\n",
            "200 / 2000\n",
            "300 / 2000\n",
            "400 / 2000\n",
            "500 / 2000\n",
            "600 / 2000\n",
            "700 / 2000\n",
            "800 / 2000\n",
            "900 / 2000\n",
            "1000 / 2000\n",
            "1100 / 2000\n",
            "1200 / 2000\n",
            "1300 / 2000\n",
            "1400 / 2000\n",
            "1500 / 2000\n",
            "1600 / 2000\n",
            "1700 / 2000\n",
            "1800 / 2000\n",
            "1900 / 2000\n",
            "Done!\n"
          ]
        }
      ],
      "source": [
        "# List of descriptors to be calculed. If empty, all descriptors will be calculated.\n",
        "specifics = []\n",
        "\n",
        "def calculate_feature(data):\n",
        "    list_feature = []\n",
        "    count = 0\n",
        "    for seq in data['sequence']:\n",
        "        res = {'sequence': seq}\n",
        "        dna = DNADescriptor(seq)\n",
        "        feature = dna.get_descriptors(specifics=specifics)\n",
        "        res.update(feature)\n",
        "        list_feature.append(res)\n",
        "        \n",
        "        # print progress every 100 sequences\n",
        "        if count % 100 == 0:\n",
        "            print(count, '/', len(data))\n",
        "\n",
        "        count += 1\n",
        "    print(\"Done!\")\n",
        "    df = pd.DataFrame(list_feature)\n",
        "    return df\n",
        "\n",
        "features = calculate_feature(dataset)"
      ]
    },
    {
      "cell_type": "code",
      "execution_count": 62,
      "metadata": {},
      "outputs": [
        {
          "data": {
            "text/plain": [
              "(2000, 20)"
            ]
          },
          "execution_count": 62,
          "metadata": {},
          "output_type": "execute_result"
        }
      ],
      "source": [
        "fps_y = dataset['label']\n",
        "fps_x = features.loc[:, features.columns != 'label']\n",
        "fps_x = fps_x.loc[:, fps_x.columns != 'sequence']\n",
        "fps_x.shape"
      ]
    },
    {
      "cell_type": "markdown",
      "metadata": {},
      "source": [
        "Now, we have a dataset (fps_x) with 20 columns. Each column is a result of a DNA descriptor, and some of these columns are numbers, dicts and even lists.\n",
        "\n",
        "Even though we've computed all of the descriptors, we still need to normalize those who have dictionaries and lists because the model can't handle data in these types.\n",
        "\n",
        "To normalize the data, dicts and lists need to \"explode\" into more columns. \n",
        "\n",
        "E.g. dicts:\n",
        "\n",
        "| descriptor_hello |\n",
        "| ---------------- |\n",
        "| {'a': 1, 'b': 2} |\n",
        "\n",
        "will be transformed into:\n",
        "\n",
        "| descriptor_hello_a | descriptor_hello_b |\n",
        "| ------------------ | ------------------ |\n",
        "| 1                  | 2                  |\n",
        "\n",
        "E.g. lists:\n",
        "\n",
        "| descriptor_hello |\n",
        "| ---------------- |\n",
        "| [1, 2, 3]        |\n",
        "\n",
        "will be transformed into:\n",
        "\n",
        "| descriptor_hello_0 | descriptor_hello_1 | descriptor_hello_2 |\n",
        "| ------------------ | ------------------ | ------------------ |\n",
        "| 1                  | 2                  | 3                  |"
      ]
    },
    {
      "cell_type": "code",
      "execution_count": 63,
      "metadata": {},
      "outputs": [
        {
          "data": {
            "text/html": [
              "<div>\n",
              "<style scoped>\n",
              "    .dataframe tbody tr th:only-of-type {\n",
              "        vertical-align: middle;\n",
              "    }\n",
              "\n",
              "    .dataframe tbody tr th {\n",
              "        vertical-align: top;\n",
              "    }\n",
              "\n",
              "    .dataframe thead th {\n",
              "        text-align: right;\n",
              "    }\n",
              "</style>\n",
              "<table border=\"1\" class=\"dataframe\">\n",
              "  <thead>\n",
              "    <tr style=\"text-align: right;\">\n",
              "      <th></th>\n",
              "      <th>length</th>\n",
              "      <th>gc_content</th>\n",
              "      <th>at_content</th>\n",
              "      <th>nucleic_acid_composition_A</th>\n",
              "      <th>nucleic_acid_composition_C</th>\n",
              "      <th>nucleic_acid_composition_G</th>\n",
              "      <th>nucleic_acid_composition_T</th>\n",
              "      <th>enhanced_nucleic_acid_composition_0_A</th>\n",
              "      <th>enhanced_nucleic_acid_composition_0_C</th>\n",
              "      <th>enhanced_nucleic_acid_composition_0_G</th>\n",
              "      <th>...</th>\n",
              "      <th>binary_47_2</th>\n",
              "      <th>binary_47_3</th>\n",
              "      <th>binary_48_0</th>\n",
              "      <th>binary_48_1</th>\n",
              "      <th>binary_48_2</th>\n",
              "      <th>binary_48_3</th>\n",
              "      <th>binary_49_0</th>\n",
              "      <th>binary_49_1</th>\n",
              "      <th>binary_49_2</th>\n",
              "      <th>binary_49_3</th>\n",
              "    </tr>\n",
              "  </thead>\n",
              "  <tbody>\n",
              "    <tr>\n",
              "      <th>0</th>\n",
              "      <td>50</td>\n",
              "      <td>0.60</td>\n",
              "      <td>0.40</td>\n",
              "      <td>0.18</td>\n",
              "      <td>0.26</td>\n",
              "      <td>0.34</td>\n",
              "      <td>0.22</td>\n",
              "      <td>0.2</td>\n",
              "      <td>0.4</td>\n",
              "      <td>0.4</td>\n",
              "      <td>...</td>\n",
              "      <td>0</td>\n",
              "      <td>0</td>\n",
              "      <td>0</td>\n",
              "      <td>1</td>\n",
              "      <td>0</td>\n",
              "      <td>0</td>\n",
              "      <td>0</td>\n",
              "      <td>1</td>\n",
              "      <td>0</td>\n",
              "      <td>0</td>\n",
              "    </tr>\n",
              "    <tr>\n",
              "      <th>1</th>\n",
              "      <td>50</td>\n",
              "      <td>0.48</td>\n",
              "      <td>0.52</td>\n",
              "      <td>0.12</td>\n",
              "      <td>0.16</td>\n",
              "      <td>0.32</td>\n",
              "      <td>0.40</td>\n",
              "      <td>0.2</td>\n",
              "      <td>0.0</td>\n",
              "      <td>0.4</td>\n",
              "      <td>...</td>\n",
              "      <td>0</td>\n",
              "      <td>1</td>\n",
              "      <td>0</td>\n",
              "      <td>1</td>\n",
              "      <td>0</td>\n",
              "      <td>0</td>\n",
              "      <td>0</td>\n",
              "      <td>0</td>\n",
              "      <td>1</td>\n",
              "      <td>0</td>\n",
              "    </tr>\n",
              "    <tr>\n",
              "      <th>2</th>\n",
              "      <td>50</td>\n",
              "      <td>0.54</td>\n",
              "      <td>0.46</td>\n",
              "      <td>0.34</td>\n",
              "      <td>0.26</td>\n",
              "      <td>0.28</td>\n",
              "      <td>0.12</td>\n",
              "      <td>0.4</td>\n",
              "      <td>0.2</td>\n",
              "      <td>0.2</td>\n",
              "      <td>...</td>\n",
              "      <td>0</td>\n",
              "      <td>0</td>\n",
              "      <td>0</td>\n",
              "      <td>1</td>\n",
              "      <td>0</td>\n",
              "      <td>0</td>\n",
              "      <td>0</td>\n",
              "      <td>0</td>\n",
              "      <td>0</td>\n",
              "      <td>1</td>\n",
              "    </tr>\n",
              "    <tr>\n",
              "      <th>3</th>\n",
              "      <td>50</td>\n",
              "      <td>0.64</td>\n",
              "      <td>0.36</td>\n",
              "      <td>0.24</td>\n",
              "      <td>0.42</td>\n",
              "      <td>0.22</td>\n",
              "      <td>0.12</td>\n",
              "      <td>0.2</td>\n",
              "      <td>0.4</td>\n",
              "      <td>0.2</td>\n",
              "      <td>...</td>\n",
              "      <td>0</td>\n",
              "      <td>0</td>\n",
              "      <td>0</td>\n",
              "      <td>0</td>\n",
              "      <td>0</td>\n",
              "      <td>1</td>\n",
              "      <td>0</td>\n",
              "      <td>0</td>\n",
              "      <td>1</td>\n",
              "      <td>0</td>\n",
              "    </tr>\n",
              "    <tr>\n",
              "      <th>4</th>\n",
              "      <td>50</td>\n",
              "      <td>0.54</td>\n",
              "      <td>0.46</td>\n",
              "      <td>0.28</td>\n",
              "      <td>0.26</td>\n",
              "      <td>0.28</td>\n",
              "      <td>0.18</td>\n",
              "      <td>0.2</td>\n",
              "      <td>0.2</td>\n",
              "      <td>0.6</td>\n",
              "      <td>...</td>\n",
              "      <td>1</td>\n",
              "      <td>0</td>\n",
              "      <td>0</td>\n",
              "      <td>0</td>\n",
              "      <td>1</td>\n",
              "      <td>0</td>\n",
              "      <td>0</td>\n",
              "      <td>0</td>\n",
              "      <td>0</td>\n",
              "      <td>1</td>\n",
              "    </tr>\n",
              "    <tr>\n",
              "      <th>...</th>\n",
              "      <td>...</td>\n",
              "      <td>...</td>\n",
              "      <td>...</td>\n",
              "      <td>...</td>\n",
              "      <td>...</td>\n",
              "      <td>...</td>\n",
              "      <td>...</td>\n",
              "      <td>...</td>\n",
              "      <td>...</td>\n",
              "      <td>...</td>\n",
              "      <td>...</td>\n",
              "      <td>...</td>\n",
              "      <td>...</td>\n",
              "      <td>...</td>\n",
              "      <td>...</td>\n",
              "      <td>...</td>\n",
              "      <td>...</td>\n",
              "      <td>...</td>\n",
              "      <td>...</td>\n",
              "      <td>...</td>\n",
              "      <td>...</td>\n",
              "    </tr>\n",
              "    <tr>\n",
              "      <th>1995</th>\n",
              "      <td>50</td>\n",
              "      <td>0.66</td>\n",
              "      <td>0.34</td>\n",
              "      <td>0.16</td>\n",
              "      <td>0.26</td>\n",
              "      <td>0.40</td>\n",
              "      <td>0.18</td>\n",
              "      <td>0.0</td>\n",
              "      <td>0.4</td>\n",
              "      <td>0.4</td>\n",
              "      <td>...</td>\n",
              "      <td>1</td>\n",
              "      <td>0</td>\n",
              "      <td>1</td>\n",
              "      <td>0</td>\n",
              "      <td>0</td>\n",
              "      <td>0</td>\n",
              "      <td>0</td>\n",
              "      <td>0</td>\n",
              "      <td>1</td>\n",
              "      <td>0</td>\n",
              "    </tr>\n",
              "    <tr>\n",
              "      <th>1996</th>\n",
              "      <td>50</td>\n",
              "      <td>0.44</td>\n",
              "      <td>0.56</td>\n",
              "      <td>0.22</td>\n",
              "      <td>0.22</td>\n",
              "      <td>0.22</td>\n",
              "      <td>0.34</td>\n",
              "      <td>0.0</td>\n",
              "      <td>0.2</td>\n",
              "      <td>0.4</td>\n",
              "      <td>...</td>\n",
              "      <td>0</td>\n",
              "      <td>1</td>\n",
              "      <td>0</td>\n",
              "      <td>1</td>\n",
              "      <td>0</td>\n",
              "      <td>0</td>\n",
              "      <td>0</td>\n",
              "      <td>0</td>\n",
              "      <td>0</td>\n",
              "      <td>1</td>\n",
              "    </tr>\n",
              "    <tr>\n",
              "      <th>1997</th>\n",
              "      <td>50</td>\n",
              "      <td>0.46</td>\n",
              "      <td>0.54</td>\n",
              "      <td>0.18</td>\n",
              "      <td>0.24</td>\n",
              "      <td>0.22</td>\n",
              "      <td>0.36</td>\n",
              "      <td>0.2</td>\n",
              "      <td>0.4</td>\n",
              "      <td>0.2</td>\n",
              "      <td>...</td>\n",
              "      <td>0</td>\n",
              "      <td>0</td>\n",
              "      <td>0</td>\n",
              "      <td>1</td>\n",
              "      <td>0</td>\n",
              "      <td>0</td>\n",
              "      <td>0</td>\n",
              "      <td>0</td>\n",
              "      <td>0</td>\n",
              "      <td>1</td>\n",
              "    </tr>\n",
              "    <tr>\n",
              "      <th>1998</th>\n",
              "      <td>50</td>\n",
              "      <td>0.48</td>\n",
              "      <td>0.52</td>\n",
              "      <td>0.28</td>\n",
              "      <td>0.24</td>\n",
              "      <td>0.24</td>\n",
              "      <td>0.24</td>\n",
              "      <td>0.4</td>\n",
              "      <td>0.2</td>\n",
              "      <td>0.2</td>\n",
              "      <td>...</td>\n",
              "      <td>1</td>\n",
              "      <td>0</td>\n",
              "      <td>1</td>\n",
              "      <td>0</td>\n",
              "      <td>0</td>\n",
              "      <td>0</td>\n",
              "      <td>1</td>\n",
              "      <td>0</td>\n",
              "      <td>0</td>\n",
              "      <td>0</td>\n",
              "    </tr>\n",
              "    <tr>\n",
              "      <th>1999</th>\n",
              "      <td>50</td>\n",
              "      <td>0.60</td>\n",
              "      <td>0.40</td>\n",
              "      <td>0.22</td>\n",
              "      <td>0.32</td>\n",
              "      <td>0.28</td>\n",
              "      <td>0.18</td>\n",
              "      <td>0.4</td>\n",
              "      <td>0.0</td>\n",
              "      <td>0.2</td>\n",
              "      <td>...</td>\n",
              "      <td>1</td>\n",
              "      <td>0</td>\n",
              "      <td>1</td>\n",
              "      <td>0</td>\n",
              "      <td>0</td>\n",
              "      <td>0</td>\n",
              "      <td>0</td>\n",
              "      <td>1</td>\n",
              "      <td>0</td>\n",
              "      <td>0</td>\n",
              "    </tr>\n",
              "  </tbody>\n",
              "</table>\n",
              "<p>2000 rows × 819 columns</p>\n",
              "</div>"
            ],
            "text/plain": [
              "      length  gc_content  at_content  nucleic_acid_composition_A  \\\n",
              "0         50        0.60        0.40                        0.18   \n",
              "1         50        0.48        0.52                        0.12   \n",
              "2         50        0.54        0.46                        0.34   \n",
              "3         50        0.64        0.36                        0.24   \n",
              "4         50        0.54        0.46                        0.28   \n",
              "...      ...         ...         ...                         ...   \n",
              "1995      50        0.66        0.34                        0.16   \n",
              "1996      50        0.44        0.56                        0.22   \n",
              "1997      50        0.46        0.54                        0.18   \n",
              "1998      50        0.48        0.52                        0.28   \n",
              "1999      50        0.60        0.40                        0.22   \n",
              "\n",
              "      nucleic_acid_composition_C  nucleic_acid_composition_G  \\\n",
              "0                           0.26                        0.34   \n",
              "1                           0.16                        0.32   \n",
              "2                           0.26                        0.28   \n",
              "3                           0.42                        0.22   \n",
              "4                           0.26                        0.28   \n",
              "...                          ...                         ...   \n",
              "1995                        0.26                        0.40   \n",
              "1996                        0.22                        0.22   \n",
              "1997                        0.24                        0.22   \n",
              "1998                        0.24                        0.24   \n",
              "1999                        0.32                        0.28   \n",
              "\n",
              "      nucleic_acid_composition_T  enhanced_nucleic_acid_composition_0_A  \\\n",
              "0                           0.22                                    0.2   \n",
              "1                           0.40                                    0.2   \n",
              "2                           0.12                                    0.4   \n",
              "3                           0.12                                    0.2   \n",
              "4                           0.18                                    0.2   \n",
              "...                          ...                                    ...   \n",
              "1995                        0.18                                    0.0   \n",
              "1996                        0.34                                    0.0   \n",
              "1997                        0.36                                    0.2   \n",
              "1998                        0.24                                    0.4   \n",
              "1999                        0.18                                    0.4   \n",
              "\n",
              "      enhanced_nucleic_acid_composition_0_C  \\\n",
              "0                                       0.4   \n",
              "1                                       0.0   \n",
              "2                                       0.2   \n",
              "3                                       0.4   \n",
              "4                                       0.2   \n",
              "...                                     ...   \n",
              "1995                                    0.4   \n",
              "1996                                    0.2   \n",
              "1997                                    0.4   \n",
              "1998                                    0.2   \n",
              "1999                                    0.0   \n",
              "\n",
              "      enhanced_nucleic_acid_composition_0_G  ...  binary_47_2  binary_47_3  \\\n",
              "0                                       0.4  ...            0            0   \n",
              "1                                       0.4  ...            0            1   \n",
              "2                                       0.2  ...            0            0   \n",
              "3                                       0.2  ...            0            0   \n",
              "4                                       0.6  ...            1            0   \n",
              "...                                     ...  ...          ...          ...   \n",
              "1995                                    0.4  ...            1            0   \n",
              "1996                                    0.4  ...            0            1   \n",
              "1997                                    0.2  ...            0            0   \n",
              "1998                                    0.2  ...            1            0   \n",
              "1999                                    0.2  ...            1            0   \n",
              "\n",
              "      binary_48_0  binary_48_1  binary_48_2  binary_48_3  binary_49_0  \\\n",
              "0               0            1            0            0            0   \n",
              "1               0            1            0            0            0   \n",
              "2               0            1            0            0            0   \n",
              "3               0            0            0            1            0   \n",
              "4               0            0            1            0            0   \n",
              "...           ...          ...          ...          ...          ...   \n",
              "1995            1            0            0            0            0   \n",
              "1996            0            1            0            0            0   \n",
              "1997            0            1            0            0            0   \n",
              "1998            1            0            0            0            1   \n",
              "1999            1            0            0            0            0   \n",
              "\n",
              "      binary_49_1  binary_49_2  binary_49_3  \n",
              "0               1            0            0  \n",
              "1               0            1            0  \n",
              "2               0            0            1  \n",
              "3               0            1            0  \n",
              "4               0            0            1  \n",
              "...           ...          ...          ...  \n",
              "1995            0            1            0  \n",
              "1996            0            0            1  \n",
              "1997            0            0            1  \n",
              "1998            0            0            0  \n",
              "1999            1            0            0  \n",
              "\n",
              "[2000 rows x 819 columns]"
            ]
          },
          "execution_count": 63,
          "metadata": {},
          "output_type": "execute_result"
        }
      ],
      "source": [
        "no_need_normalization = [\"length\", \"at_content\", \"gc_content\"]\n",
        "\n",
        "need_dict_normalization = [\"nucleic_acid_composition\", \"enhanced_nucleic_acid_composition\",\"dinucleotide_composition\",\"trinucleotide_composition\",\"k_spaced_nucleic_acid_pairs\",\"kmer\",\"PseDNC\", \"PseKNC\"]\n",
        "\n",
        "need_list_normalization = [\"nucleotide_chemical_property\", \"accumulated_nucleotide_frequency\", \"DAC\", \"DCC\", \"DACC\", \"TAC\",\"TCC\",\"TACC\", \"binary\"]\n",
        "\n",
        "def normalize_dict(d, field):\n",
        "    df = pd.json_normalize(d)\n",
        "    df.columns = [str(field) + \"_\" + str(i) for i in df.columns]\n",
        "    \n",
        "    for f in df.columns:\n",
        "        if isinstance(df[f][0], dict):\n",
        "            df = pd.concat([df, normalize_dict(df[f], f)], axis=1)\n",
        "            df.drop(f, axis=1, inplace=True)\n",
        "    return df\n",
        "\n",
        "def normalize_list(l, field):\n",
        "    df = pd.DataFrame(l.to_list())\n",
        "    df.columns = [str(field) + \"_\" + str(i) for i in df.columns]\n",
        "    \n",
        "    for f in df.columns:\n",
        "        if isinstance(df[f][0], list):\n",
        "            df = pd.concat([df, normalize_list(df[f], f)], axis=1)\n",
        "            df.drop(f, axis=1, inplace=True)\n",
        "    return df\n",
        "\n",
        "new_fps_x = pd.DataFrame()\n",
        "\n",
        "for col in fps_x.columns:\n",
        "    if col in need_dict_normalization:\n",
        "        new_fps_x = pd.concat([new_fps_x, normalize_dict(fps_x[col], col)], axis=1)\n",
        "    elif col in need_list_normalization:\n",
        "        new_fps_x = pd.concat([new_fps_x, normalize_list(fps_x[col], col)], axis=1)\n",
        "    else:\n",
        "        new_fps_x[col] = fps_x[col].to_numpy()\n",
        "        \n",
        "new_fps_x"
      ]
    },
    {
      "cell_type": "markdown",
      "metadata": {},
      "source": [
        "At this point, the data is ready to be used by the model. We will train the model, obtain the predictions and then calculate feature importance. We'll do this process for rf, svm and linear_svm models."
      ]
    },
    {
      "cell_type": "code",
      "execution_count": 64,
      "metadata": {},
      "outputs": [
        {
          "name": "stdout",
          "output_type": "stream",
          "text": [
            "performing gridSearch...\n",
            "GridSearchCV took 8.90 seconds for 4 candidate parameter settings.\n",
            "GridSearchCV(cv=10,\n",
            "             estimator=Pipeline(steps=[('scl', None),\n",
            "                                       ('clf',\n",
            "                                        RandomForestClassifier(random_state=1))]),\n",
            "             n_jobs=10,\n",
            "             param_grid=[{'clf__max_features': ['sqrt'],\n",
            "                          'clf__n_estimators': [100, 250, 500, 750]}],\n",
            "             scoring=make_scorer(matthews_corrcoef))\n",
            "Model with rank: 1\n",
            " Mean validation score: 0.991 (std: 0.008)\n",
            " Parameters: {'clf__max_features': 'sqrt', 'clf__n_estimators': 250}\n",
            " \n",
            "\n",
            "Model with rank: 1\n",
            " Mean validation score: 0.991 (std: 0.008)\n",
            " Parameters: {'clf__max_features': 'sqrt', 'clf__n_estimators': 500}\n",
            " \n",
            "\n",
            "Model with rank: 1\n",
            " Mean validation score: 0.991 (std: 0.008)\n",
            " Parameters: {'clf__max_features': 'sqrt', 'clf__n_estimators': 750}\n",
            " \n",
            "\n",
            "make_scorer(matthews_corrcoef)\n",
            "10\n",
            "Best score (scorer: make_scorer(matthews_corrcoef)) and parameters from a 10-fold cross validation:\n",
            " MCC score:\t0.991\n",
            " Parameters:\t{'clf__max_features': 'sqrt', 'clf__n_estimators': 250}\n",
            "\n",
            "0.989420 (0.007913) with: {'clf__max_features': 'sqrt', 'clf__n_estimators': 100}\n",
            "0.990745 (0.008446) with: {'clf__max_features': 'sqrt', 'clf__n_estimators': 250}\n",
            "0.990745 (0.008446) with: {'clf__max_features': 'sqrt', 'clf__n_estimators': 500}\n",
            "0.990745 (0.008446) with: {'clf__max_features': 'sqrt', 'clf__n_estimators': 750}\n",
            "  clf__max_features  clf__n_estimators     means      stds\n",
            "0              sqrt                100  0.989420  0.007913\n",
            "1              sqrt                250  0.990745  0.008446\n",
            "2              sqrt                500  0.990745  0.008446\n",
            "3              sqrt                750  0.990745  0.008446\n"
          ]
        }
      ],
      "source": [
        "X_train, X_test, y_train, y_test = train_test_split(new_fps_x, fps_y, stratify=fps_y)\n",
        "\n",
        "scaler = StandardScaler().fit(X_train)\n",
        "X_train = scaler.transform(X_train)\n",
        "X_test = scaler.transform(X_test)\n",
        "\n",
        "ml = ShallowML(X_train, X_test, y_train, y_test, report_name=None, columns_names=new_fps_x.columns)\n",
        "\n",
        "param_grid = [{'clf__n_estimators': [100, 250, 500, 750], 'clf__max_features': ['sqrt']}]\n",
        "\n",
        "best_rf_model = ml.train_best_model(\n",
        "    model_name=None,\n",
        "    model='rf',\n",
        "    score=make_scorer(matthews_corrcoef),\n",
        "    param_grid=param_grid,\n",
        "    cv=10\n",
        ")"
      ]
    },
    {
      "cell_type": "code",
      "execution_count": 65,
      "metadata": {},
      "outputs": [
        {
          "name": "stdout",
          "output_type": "stream",
          "text": [
            "              precision    recall  f1-score   support\n",
            "\n",
            "           0       1.00      0.98      0.99       253\n",
            "           1       0.98      1.00      0.99       247\n",
            "\n",
            "    accuracy                           0.99       500\n",
            "   macro avg       0.99      0.99      0.99       500\n",
            "weighted avg       0.99      0.99      0.99       500\n",
            "\n",
            "[[248   5]\n",
            " [  1 246]]\n"
          ]
        },
        {
          "data": {
            "text/plain": [
              "{'Accuracy': 0.988,\n",
              " 'MCC': 0.9761260920866331,\n",
              " 'log_loss': 0.09907144746323678,\n",
              " 'f1 score': 0.9879518072289156,\n",
              " 'roc_auc': 0.988094285577123,\n",
              " 'Precision': array([0.494     , 0.98007968, 1.        ]),\n",
              " 'Recall': array([1.        , 0.99595142, 0.        ]),\n",
              " 'fdr': 0.0199203187250996,\n",
              " 'sn': 0.9959514170040485,\n",
              " 'sp': 0.9802371541501976}"
            ]
          },
          "execution_count": 65,
          "metadata": {},
          "output_type": "execute_result"
        }
      ],
      "source": [
        "scores, report, cm, cm2 = ml.score_testset(best_rf_model)\n",
        "print(report)\n",
        "print(cm)  \n",
        "scores"
      ]
    },
    {
      "cell_type": "code",
      "execution_count": 66,
      "metadata": {},
      "outputs": [
        {
          "data": {
            "image/png": "[encoded data removed]",
            "text/plain": [
              "<Figure size 432x288 with 1 Axes>"
            ]
          },
          "metadata": {},
          "output_type": "display_data"
        },
        {
          "data": {
            "image/png": "[encoded data removed]",
            "text/plain": [
              "<Figure size 648x504 with 1 Axes>"
            ]
          },
          "metadata": {},
          "output_type": "display_data"
        },
        {
          "data": {
            "text/plain": [
              "<Figure size 432x288 with 0 Axes>"
            ]
          },
          "metadata": {},
          "output_type": "display_data"
        }
      ],
      "source": [
        "ml.features_importances_plot(\n",
        "    classifier=best_rf_model, \n",
        "    top_features=30, \n",
        "    model_name='rf',\n",
        "    show=True, \n",
        "    path_save=None\n",
        ")"
      ]
    },
    {
      "cell_type": "markdown",
      "metadata": {},
      "source": [
        "Let's try now using SVM."
      ]
    },
    {
      "cell_type": "code",
      "execution_count": 67,
      "metadata": {},
      "outputs": [
        {
          "name": "stdout",
          "output_type": "stream",
          "text": [
            "performing gridSearch...\n",
            "GridSearchCV took 1.67 seconds for 1 candidate parameter settings.\n",
            "GridSearchCV(cv=10,\n",
            "             estimator=Pipeline(steps=[('scl', None),\n",
            "                                       ('clf', SVC(random_state=1))]),\n",
            "             n_jobs=10,\n",
            "             param_grid={'clf__C': [10], 'clf__gamma': [0.001],\n",
            "                         'clf__kernel': ['rbf']},\n",
            "             scoring=make_scorer(matthews_corrcoef))\n",
            "Model with rank: 1\n",
            " Mean validation score: 0.923 (std: 0.030)\n",
            " Parameters: {'clf__C': 10, 'clf__gamma': 0.001, 'clf__kernel': 'rbf'}\n",
            " \n",
            "\n",
            "make_scorer(matthews_corrcoef)\n",
            "10\n",
            "Best score (scorer: make_scorer(matthews_corrcoef)) and parameters from a 10-fold cross validation:\n",
            " MCC score:\t0.923\n",
            " Parameters:\t{'clf__C': 10, 'clf__gamma': 0.001, 'clf__kernel': 'rbf'}\n",
            "\n",
            "0.922725 (0.030011) with: {'clf__C': 10, 'clf__gamma': 0.001, 'clf__kernel': 'rbf'}\n",
            "   clf__C  clf__gamma clf__kernel     means      stds\n",
            "0      10       0.001         rbf  0.922725  0.030011\n"
          ]
        }
      ],
      "source": [
        "ml = ShallowML(X_train, X_test, y_train, y_test, report_name=None, columns_names=new_fps_x.columns)\n",
        "\n",
        "param_grid = {'clf__C':[10], 'clf__gamma':[0.001], 'clf__kernel':['rbf']}\n",
        "\n",
        "best_svm_model = ml.train_best_model(\n",
        "    model_name=None,\n",
        "    model='svm',\n",
        "    score=make_scorer(matthews_corrcoef),\n",
        "    param_grid=param_grid,\n",
        ")"
      ]
    },
    {
      "cell_type": "code",
      "execution_count": 68,
      "metadata": {},
      "outputs": [
        {
          "name": "stdout",
          "output_type": "stream",
          "text": [
            "              precision    recall  f1-score   support\n",
            "\n",
            "           0       0.98      0.94      0.96       253\n",
            "           1       0.94      0.98      0.96       247\n",
            "\n",
            "    accuracy                           0.96       500\n",
            "   macro avg       0.96      0.96      0.96       500\n",
            "weighted avg       0.96      0.96      0.96       500\n",
            "\n",
            "[[237  16]\n",
            " [  6 241]]\n"
          ]
        },
        {
          "data": {
            "text/plain": [
              "{'Accuracy': 0.956,\n",
              " 'MCC': 0.9127595671941634,\n",
              " 'f1 score': 0.9563492063492063,\n",
              " 'roc_auc': 0.956233697652462,\n",
              " 'Precision': array([0.494     , 0.93774319, 1.        ]),\n",
              " 'Recall': array([1.       , 0.9757085, 0.       ]),\n",
              " 'fdr': 0.0622568093385214,\n",
              " 'sn': 0.9757085020242915,\n",
              " 'sp': 0.9367588932806324}"
            ]
          },
          "execution_count": 68,
          "metadata": {},
          "output_type": "execute_result"
        }
      ],
      "source": [
        "scores, report, cm, cm2 = ml.score_testset(best_svm_model)\n",
        "print(report)\n",
        "print(cm)  \n",
        "scores"
      ]
    },
    {
      "cell_type": "markdown",
      "metadata": {},
      "source": [
        "The SVM feature importance can only be calculated if the best model has a linear kernel. Since the best model has the RBF kernel, we can't calculate the feature importance, so we will use the linear_svm model instead."
      ]
    },
    {
      "cell_type": "code",
      "execution_count": 69,
      "metadata": {},
      "outputs": [
        {
          "name": "stdout",
          "output_type": "stream",
          "text": [
            "performing gridSearch...\n"
          ]
        },
        {
          "name": "stderr",
          "output_type": "stream",
          "text": [
            "/home/jabreu/miniconda3/envs/dna-conda/lib/python3.8/site-packages/sklearn/svm/_base.py:1206: ConvergenceWarning: Liblinear failed to converge, increase the number of iterations.\n",
            "  warnings.warn(\n",
            "/home/jabreu/miniconda3/envs/dna-conda/lib/python3.8/site-packages/sklearn/svm/_base.py:1206: ConvergenceWarning: Liblinear failed to converge, increase the number of iterations.\n",
            "  warnings.warn(\n",
            "/home/jabreu/miniconda3/envs/dna-conda/lib/python3.8/site-packages/sklearn/svm/_base.py:1206: ConvergenceWarning: Liblinear failed to converge, increase the number of iterations.\n",
            "  warnings.warn(\n",
            "/home/jabreu/miniconda3/envs/dna-conda/lib/python3.8/site-packages/sklearn/svm/_base.py:1206: ConvergenceWarning: Liblinear failed to converge, increase the number of iterations.\n",
            "  warnings.warn(\n",
            "/home/jabreu/miniconda3/envs/dna-conda/lib/python3.8/site-packages/sklearn/svm/_base.py:1206: ConvergenceWarning: Liblinear failed to converge, increase the number of iterations.\n",
            "  warnings.warn(\n"
          ]
        },
        {
          "name": "stdout",
          "output_type": "stream",
          "text": [
            "GridSearchCV took 1.72 seconds for 4 candidate parameter settings.\n",
            "GridSearchCV(cv=10,\n",
            "             estimator=Pipeline(steps=[('scl', None),\n",
            "                                       ('clf', LinearSVC(random_state=1))]),\n",
            "             n_jobs=10, param_grid=[{'clf__C': [0.01, 0.1, 1.0, 10]}],\n",
            "             scoring=make_scorer(matthews_corrcoef))\n",
            "Model with rank: 1\n",
            " Mean validation score: 0.892 (std: 0.031)\n",
            " Parameters: {'clf__C': 0.01}\n",
            " \n",
            "\n",
            "Model with rank: 2\n",
            " Mean validation score: 0.866 (std: 0.046)\n",
            " Parameters: {'clf__C': 0.1}\n",
            " \n",
            "\n",
            "Model with rank: 3\n",
            " Mean validation score: 0.861 (std: 0.048)\n",
            " Parameters: {'clf__C': 1.0}\n",
            " \n",
            "\n",
            "make_scorer(matthews_corrcoef)\n",
            "10\n",
            "Best score (scorer: make_scorer(matthews_corrcoef)) and parameters from a 10-fold cross validation:\n",
            " MCC score:\t0.892\n",
            " Parameters:\t{'clf__C': 0.01}\n",
            "\n",
            "0.891669 (0.031455) with: {'clf__C': 0.01}\n",
            "0.866270 (0.046302) with: {'clf__C': 0.1}\n",
            "0.860987 (0.048366) with: {'clf__C': 1.0}\n",
            "0.858284 (0.047205) with: {'clf__C': 10}\n",
            "   clf__C     means      stds\n",
            "0    0.01  0.891669  0.031455\n",
            "1    0.10  0.866270  0.046302\n",
            "2    1.00  0.860987  0.048366\n",
            "3   10.00  0.858284  0.047205\n"
          ]
        }
      ],
      "source": [
        "ml = ShallowML(X_train, X_test, y_train, y_test, report_name=None, columns_names=new_fps_x.columns)\n",
        "\n",
        "best_linear_svm_model = ml.train_best_model(\n",
        "    model_name=None,\n",
        "    model='linear_svm',                               \n",
        "    score=make_scorer(matthews_corrcoef),\n",
        "    param_grid=None\n",
        ")"
      ]
    },
    {
      "cell_type": "code",
      "execution_count": 70,
      "metadata": {},
      "outputs": [
        {
          "name": "stdout",
          "output_type": "stream",
          "text": [
            "              precision    recall  f1-score   support\n",
            "\n",
            "           0       0.95      0.93      0.94       253\n",
            "           1       0.93      0.95      0.94       247\n",
            "\n",
            "    accuracy                           0.94       500\n",
            "   macro avg       0.94      0.94      0.94       500\n",
            "weighted avg       0.94      0.94      0.94       500\n",
            "\n",
            "[[235  18]\n",
            " [ 12 235]]\n"
          ]
        },
        {
          "data": {
            "text/plain": [
              "{'Accuracy': 0.94,\n",
              " 'MCC': 0.8802707589892944,\n",
              " 'f1 score': 0.94,\n",
              " 'roc_auc': 0.9401353794946472,\n",
              " 'Precision': array([0.494     , 0.92885375, 1.        ]),\n",
              " 'Recall': array([1.      , 0.951417, 0.      ]),\n",
              " 'fdr': 0.07114624505928854,\n",
              " 'sn': 0.951417004048583,\n",
              " 'sp': 0.9288537549407114}"
            ]
          },
          "execution_count": 70,
          "metadata": {},
          "output_type": "execute_result"
        }
      ],
      "source": [
        "scores, report, cm, cm2 = ml.score_testset(best_linear_svm_model)\n",
        "print(report)\n",
        "print(cm)  \n",
        "scores"
      ]
    },
    {
      "cell_type": "code",
      "execution_count": 71,
      "metadata": {},
      "outputs": [
        {
          "data": {
            "image/png": "[encoded data removed]",
            "text/plain": [
              "<Figure size 648x504 with 1 Axes>"
            ]
          },
          "metadata": {},
          "output_type": "display_data"
        },
        {
          "data": {
            "text/plain": [
              "<Figure size 432x288 with 0 Axes>"
            ]
          },
          "metadata": {},
          "output_type": "display_data"
        }
      ],
      "source": [
        "ml.features_importances_plot(\n",
        "    classifier=best_linear_svm_model, \n",
        "    model_name='linear_svm',\n",
        "    column_to_plot=0,\n",
        "    top_features=30, \n",
        "    show=True, \n",
        "    path_save=None\n",
        ")"
      ]
    }
  ],
  "metadata": {
    "interpreter": {
      "hash": "eccc737e2ce2db9aa50ea00a61eebd654f595be3688de5a9cd756821a0256d89"
    },
    "kernelspec": {
      "display_name": "Python 3 (ipykernel)",
      "language": "python",
      "name": "python3"
    },
    "language_info": {
      "codemirror_mode": {
        "name": "ipython",
        "version": 3
      },
      "file_extension": ".py",
      "mimetype": "text/x-python",
      "name": "python",
      "nbconvert_exporter": "python",
      "pygments_lexer": "ipython3",
      "version": "3.8.13"
    }
  },
  "nbformat": 4,
  "nbformat_minor": 1
}
