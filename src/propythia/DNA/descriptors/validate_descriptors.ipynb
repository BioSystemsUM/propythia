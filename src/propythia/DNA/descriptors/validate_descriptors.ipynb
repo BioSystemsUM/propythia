{
  "cells": [
    {
      "cell_type": "markdown",
      "metadata": {},
      "source": [
        "# Identification of DNA-binding motifs case study "
      ]
    },
    {
      "cell_type": "markdown",
      "metadata": {},
      "source": [
        "This section will present a comparative analysis to demonstrate the application and performance of proPythia for addressing sequence-based prediction problems.\n",
        "\n",
        "We'll try to replicate the [Deep Learning in Genomics Primer Notebook](https://github.com/abidlabs/deep-learning-genomics-primer/blob/master/A_Primer_on_Deep_Learning_in_Genomics_Public.ipynb) which is a supplement to the manuscript [A Primer on Deep Learning in Genomics](https://www.nature.com/articles/s41588-018-0295-5).\n",
        "\n",
        "The main focus of this notebook is to demonstrate the application of proPythia to the identification of DNA-binding motifs using DNA descriptors."
      ]
    },
    {
      "cell_type": "code",
      "execution_count": 8,
      "metadata": {
        "pycharm": {
          "name": "#%%\n"
        }
      },
      "outputs": [
        {
          "name": "stdout",
          "output_type": "stream",
          "text": [
            "The autoreload extension is already loaded. To reload it, use:\n",
            "  %reload_ext autoreload\n"
          ]
        }
      ],
      "source": [
        "%load_ext autoreload\n",
        "%autoreload 2\n",
        "\n",
        "import sys\n",
        "import pandas as pd\n",
        "\n",
        "from sklearn.model_selection import train_test_split\n",
        "from sklearn.metrics import make_scorer, matthews_corrcoef\n",
        "from sklearn.preprocessing import StandardScaler\n",
        "\n",
        "sys.path.append('../../../../src/')\n",
        "from propythia.shallow_ml import ShallowML\n",
        "\n",
        "from descriptors import DNADescriptor"
      ]
    },
    {
      "cell_type": "code",
      "execution_count": 9,
      "metadata": {},
      "outputs": [
        {
          "name": "stdout",
          "output_type": "stream",
          "text": [
            "(2000, 2)\n",
            "                                            sequence  label\n",
            "0  CCGAGGGCTATGGTTTGGAAGTTAGAACCCTGGGGCTTCTCGCGGA...      0\n",
            "1  GAGTTTATATGGCGCGAGCCTAGTGGTTTTTGTACTTGTTTGTCGC...      0\n",
            "2  GATCAGTAGGGAAACAAACAGAGGGCCCAGCCACATCTAGCAGGTA...      0\n",
            "3  GTCCACGACCGAACTCCCACCTTGACCGCAGAGGTACCACCAGAGC...      1\n",
            "4  GGCGACCGAACTCCAACTAGAACCTGCATAACTGGCCTGGGAGATA...      1\n"
          ]
        }
      ],
      "source": [
        "dataset = pd.read_csv(\"dataset.csv\")\n",
        "print(dataset.shape)\n",
        "print(dataset.head())"
      ]
    },
    {
      "cell_type": "markdown",
      "metadata": {},
      "source": [
        "As we can see, this dataset contains the sequence and the corresponding positive/negative class labels, with positive class labels corresponding to the presence of a DNA-binding motif. The amount of positive and negative examples is evenly distributed across the two classes."
      ]
    },
    {
      "cell_type": "code",
      "execution_count": 10,
      "metadata": {},
      "outputs": [
        {
          "data": {
            "text/plain": [
              "<AxesSubplot:xlabel='label'>"
            ]
          },
          "execution_count": 10,
          "metadata": {},
          "output_type": "execute_result"
        },
        {
          "data": {
            "image/png": "[encoded data removed]",
            "text/plain": [
              "<Figure size 432x288 with 1 Axes>"
            ]
          },
          "metadata": {},
          "output_type": "display_data"
        }
      ],
      "source": [
        "# plot the distribution of each class\n",
        "dataset.groupby('label').size().plot(kind='bar')"
      ]
    },
    {
      "cell_type": "markdown",
      "metadata": {},
      "source": [
        "To calculate features, and to be more easy, we create a function to calculate features, calculating all available DNA features.\n",
        "There are a total of ~~20~~ 17 DNA descriptors. They are: \n",
        "- length\n",
        "- gc_content\n",
        "- at_content\n",
        "- nucleic_acid_composition\n",
        "- ~~enhanced_nucleic_acid_composition~~\n",
        "- ~~nucleotide_chemical_property~~\n",
        "- dinucleotide_composition\n",
        "- trinucleotide_composition\n",
        "- k_spaced_nucleic_acid_pairs\n",
        "- kmer\n",
        "- accumulated_nucleotide_frequency\n",
        "- DAC\n",
        "- DCC\n",
        "- DACC\n",
        "- TAC\n",
        "- TCC\n",
        "- TACC\n",
        "- PseDNC\n",
        "- PseKNC\n",
        "- ~~binary~~"
      ]
    },
    {
      "cell_type": "code",
      "execution_count": 11,
      "metadata": {
        "scrolled": false
      },
      "outputs": [
        {
          "name": "stdout",
          "output_type": "stream",
          "text": [
            "0 / 2000\n",
            "100 / 2000\n",
            "200 / 2000\n",
            "300 / 2000\n",
            "400 / 2000\n",
            "500 / 2000\n",
            "600 / 2000\n",
            "700 / 2000\n",
            "800 / 2000\n",
            "900 / 2000\n",
            "1000 / 2000\n",
            "1100 / 2000\n",
            "1200 / 2000\n",
            "1300 / 2000\n",
            "1400 / 2000\n",
            "1500 / 2000\n",
            "1600 / 2000\n",
            "1700 / 2000\n",
            "1800 / 2000\n",
            "1900 / 2000\n",
            "Done!\n"
          ]
        }
      ],
      "source": [
        "def calculate_feature(data):\n",
        "    list_feature = []\n",
        "    count = 0\n",
        "    for seq in data['sequence']:\n",
        "        res = {'sequence': seq}\n",
        "        dna = DNADescriptor(seq)\n",
        "        feature = dna.get_descriptors()\n",
        "        res.update(feature)\n",
        "        list_feature.append(res)\n",
        "        \n",
        "        # print progress every 100 sequences\n",
        "        if count % 100 == 0:\n",
        "            print(count, '/', len(data))\n",
        "\n",
        "        count += 1\n",
        "    print(\"Done!\")\n",
        "    df = pd.DataFrame(list_feature)\n",
        "    return df\n",
        "\n",
        "features = calculate_feature(dataset)"
      ]
    },
    {
      "cell_type": "code",
      "execution_count": 12,
      "metadata": {},
      "outputs": [
        {
          "data": {
            "text/plain": [
              "(2000, 17)"
            ]
          },
          "execution_count": 12,
          "metadata": {},
          "output_type": "execute_result"
        }
      ],
      "source": [
        "fps_y = dataset['label']\n",
        "fps_x = features.loc[:, features.columns != 'label']\n",
        "fps_x = fps_x.loc[:, fps_x.columns != 'sequence']\n",
        "fps_x.shape"
      ]
    },
    {
      "cell_type": "markdown",
      "metadata": {},
      "source": [
        "Now, we have a dataset (fps_x) with ~~20~~ 17 columns. Each column is a result of a DNA descriptor, and some of these columns are numbers, dicts and even lists.\n",
        "\n",
        "Even though we've computed all of the descriptors, we still need to normalize those who have dictionaries and lists because the model can't handle data in these types.\n",
        "\n",
        "To normalize the data, dicts and lists need to \"explode\" into more columns. \n",
        "\n",
        "E.g. dicts:\n",
        "\n",
        "| descriptor_hello |\n",
        "| ---------------- |\n",
        "| {'a': 1, 'b': 2} |\n",
        "\n",
        "will be transformed into:\n",
        "\n",
        "| descriptor_hello_a | descriptor_hello_b |\n",
        "| ------------------ | ------------------ |\n",
        "| 1                  | 2                  |\n",
        "\n",
        "E.g. lists:\n",
        "\n",
        "| descriptor_hello |\n",
        "| ---------------- |\n",
        "| [1, 2, 3]        |\n",
        "\n",
        "will be transformed into:\n",
        "\n",
        "| descriptor_hello_0 | descriptor_hello_1 | descriptor_hello_2 |\n",
        "| ------------------ | ------------------ | ------------------ |\n",
        "| 1                  | 2                  | 3                  |"
      ]
    },
    {
      "cell_type": "code",
      "execution_count": 13,
      "metadata": {},
      "outputs": [],
      "source": [
        "def process_lists(fps_x, field):\n",
        "    l = fps_x[field].to_list()\n",
        "    new_df = pd.DataFrame(l)\n",
        "    new_df.columns = [str(field) + \"_\" + str(i) for i in new_df.columns]\n",
        "    fps_x.drop(field, axis=1, inplace=True)\n",
        "    return new_df"
      ]
    },
    {
      "cell_type": "code",
      "execution_count": 14,
      "metadata": {},
      "outputs": [
        {
          "name": "stdout",
          "output_type": "stream",
          "text": [
            "Starting: nucleic_acid_composition\n",
            "Starting: dinucleotide_composition\n",
            "Starting: trinucleotide_composition\n",
            "Starting: k_spaced_nucleic_acid_pairs\n",
            "Starting: kmer\n",
            "Starting: PseDNC\n",
            "Starting: PseKNC\n",
            "Starting: DAC\n",
            "Starting: DCC\n",
            "Starting: DACC\n",
            "Starting: TAC\n",
            "Starting: TCC\n",
            "Starting: TACC\n",
            "Starting: accumulated_nucleotide_frequency\n"
          ]
        },
        {
          "data": {
            "text/html": [
              "<div>\n",
              "<style scoped>\n",
              "    .dataframe tbody tr th:only-of-type {\n",
              "        vertical-align: middle;\n",
              "    }\n",
              "\n",
              "    .dataframe tbody tr th {\n",
              "        vertical-align: top;\n",
              "    }\n",
              "\n",
              "    .dataframe thead th {\n",
              "        text-align: right;\n",
              "    }\n",
              "</style>\n",
              "<table border=\"1\" class=\"dataframe\">\n",
              "  <thead>\n",
              "    <tr style=\"text-align: right;\">\n",
              "      <th></th>\n",
              "      <th>length</th>\n",
              "      <th>gc_content</th>\n",
              "      <th>at_content</th>\n",
              "      <th>nucleic_acid_composition_A</th>\n",
              "      <th>nucleic_acid_composition_C</th>\n",
              "      <th>nucleic_acid_composition_G</th>\n",
              "      <th>nucleic_acid_composition_T</th>\n",
              "      <th>dinucleotide_composition_AA</th>\n",
              "      <th>dinucleotide_composition_AC</th>\n",
              "      <th>dinucleotide_composition_AG</th>\n",
              "      <th>...</th>\n",
              "      <th>accumulated_nucleotide_frequency_40</th>\n",
              "      <th>accumulated_nucleotide_frequency_41</th>\n",
              "      <th>accumulated_nucleotide_frequency_42</th>\n",
              "      <th>accumulated_nucleotide_frequency_43</th>\n",
              "      <th>accumulated_nucleotide_frequency_44</th>\n",
              "      <th>accumulated_nucleotide_frequency_45</th>\n",
              "      <th>accumulated_nucleotide_frequency_46</th>\n",
              "      <th>accumulated_nucleotide_frequency_47</th>\n",
              "      <th>accumulated_nucleotide_frequency_48</th>\n",
              "      <th>accumulated_nucleotide_frequency_49</th>\n",
              "    </tr>\n",
              "  </thead>\n",
              "  <tbody>\n",
              "    <tr>\n",
              "      <th>0</th>\n",
              "      <td>50</td>\n",
              "      <td>0.60</td>\n",
              "      <td>0.40</td>\n",
              "      <td>0.18</td>\n",
              "      <td>0.26</td>\n",
              "      <td>0.34</td>\n",
              "      <td>0.22</td>\n",
              "      <td>0.041</td>\n",
              "      <td>0.061</td>\n",
              "      <td>0.061</td>\n",
              "      <td>...</td>\n",
              "      <td>0.220</td>\n",
              "      <td>0.357</td>\n",
              "      <td>0.233</td>\n",
              "      <td>0.364</td>\n",
              "      <td>0.378</td>\n",
              "      <td>0.174</td>\n",
              "      <td>0.234</td>\n",
              "      <td>0.188</td>\n",
              "      <td>0.245</td>\n",
              "      <td>0.26</td>\n",
              "    </tr>\n",
              "    <tr>\n",
              "      <th>1</th>\n",
              "      <td>50</td>\n",
              "      <td>0.48</td>\n",
              "      <td>0.52</td>\n",
              "      <td>0.12</td>\n",
              "      <td>0.16</td>\n",
              "      <td>0.32</td>\n",
              "      <td>0.40</td>\n",
              "      <td>0.000</td>\n",
              "      <td>0.020</td>\n",
              "      <td>0.061</td>\n",
              "      <td>...</td>\n",
              "      <td>0.439</td>\n",
              "      <td>0.310</td>\n",
              "      <td>0.442</td>\n",
              "      <td>0.136</td>\n",
              "      <td>0.311</td>\n",
              "      <td>0.152</td>\n",
              "      <td>0.319</td>\n",
              "      <td>0.417</td>\n",
              "      <td>0.163</td>\n",
              "      <td>0.32</td>\n",
              "    </tr>\n",
              "    <tr>\n",
              "      <th>2</th>\n",
              "      <td>50</td>\n",
              "      <td>0.54</td>\n",
              "      <td>0.46</td>\n",
              "      <td>0.34</td>\n",
              "      <td>0.26</td>\n",
              "      <td>0.28</td>\n",
              "      <td>0.12</td>\n",
              "      <td>0.082</td>\n",
              "      <td>0.061</td>\n",
              "      <td>0.163</td>\n",
              "      <td>...</td>\n",
              "      <td>0.268</td>\n",
              "      <td>0.381</td>\n",
              "      <td>0.279</td>\n",
              "      <td>0.295</td>\n",
              "      <td>0.111</td>\n",
              "      <td>0.370</td>\n",
              "      <td>0.298</td>\n",
              "      <td>0.250</td>\n",
              "      <td>0.265</td>\n",
              "      <td>0.12</td>\n",
              "    </tr>\n",
              "    <tr>\n",
              "      <th>3</th>\n",
              "      <td>50</td>\n",
              "      <td>0.64</td>\n",
              "      <td>0.36</td>\n",
              "      <td>0.24</td>\n",
              "      <td>0.42</td>\n",
              "      <td>0.22</td>\n",
              "      <td>0.12</td>\n",
              "      <td>0.020</td>\n",
              "      <td>0.143</td>\n",
              "      <td>0.082</td>\n",
              "      <td>...</td>\n",
              "      <td>0.439</td>\n",
              "      <td>0.262</td>\n",
              "      <td>0.209</td>\n",
              "      <td>0.273</td>\n",
              "      <td>0.222</td>\n",
              "      <td>0.413</td>\n",
              "      <td>0.426</td>\n",
              "      <td>0.438</td>\n",
              "      <td>0.122</td>\n",
              "      <td>0.22</td>\n",
              "    </tr>\n",
              "    <tr>\n",
              "      <th>4</th>\n",
              "      <td>50</td>\n",
              "      <td>0.54</td>\n",
              "      <td>0.46</td>\n",
              "      <td>0.28</td>\n",
              "      <td>0.26</td>\n",
              "      <td>0.28</td>\n",
              "      <td>0.18</td>\n",
              "      <td>0.082</td>\n",
              "      <td>0.102</td>\n",
              "      <td>0.041</td>\n",
              "      <td>...</td>\n",
              "      <td>0.268</td>\n",
              "      <td>0.286</td>\n",
              "      <td>0.279</td>\n",
              "      <td>0.295</td>\n",
              "      <td>0.156</td>\n",
              "      <td>0.304</td>\n",
              "      <td>0.170</td>\n",
              "      <td>0.271</td>\n",
              "      <td>0.286</td>\n",
              "      <td>0.18</td>\n",
              "    </tr>\n",
              "    <tr>\n",
              "      <th>...</th>\n",
              "      <td>...</td>\n",
              "      <td>...</td>\n",
              "      <td>...</td>\n",
              "      <td>...</td>\n",
              "      <td>...</td>\n",
              "      <td>...</td>\n",
              "      <td>...</td>\n",
              "      <td>...</td>\n",
              "      <td>...</td>\n",
              "      <td>...</td>\n",
              "      <td>...</td>\n",
              "      <td>...</td>\n",
              "      <td>...</td>\n",
              "      <td>...</td>\n",
              "      <td>...</td>\n",
              "      <td>...</td>\n",
              "      <td>...</td>\n",
              "      <td>...</td>\n",
              "      <td>...</td>\n",
              "      <td>...</td>\n",
              "      <td>...</td>\n",
              "    </tr>\n",
              "    <tr>\n",
              "      <th>1995</th>\n",
              "      <td>50</td>\n",
              "      <td>0.66</td>\n",
              "      <td>0.34</td>\n",
              "      <td>0.16</td>\n",
              "      <td>0.26</td>\n",
              "      <td>0.40</td>\n",
              "      <td>0.18</td>\n",
              "      <td>0.000</td>\n",
              "      <td>0.020</td>\n",
              "      <td>0.082</td>\n",
              "      <td>...</td>\n",
              "      <td>0.220</td>\n",
              "      <td>0.214</td>\n",
              "      <td>0.419</td>\n",
              "      <td>0.227</td>\n",
              "      <td>0.244</td>\n",
              "      <td>0.261</td>\n",
              "      <td>0.277</td>\n",
              "      <td>0.396</td>\n",
              "      <td>0.163</td>\n",
              "      <td>0.40</td>\n",
              "    </tr>\n",
              "    <tr>\n",
              "      <th>1996</th>\n",
              "      <td>50</td>\n",
              "      <td>0.44</td>\n",
              "      <td>0.56</td>\n",
              "      <td>0.22</td>\n",
              "      <td>0.22</td>\n",
              "      <td>0.22</td>\n",
              "      <td>0.34</td>\n",
              "      <td>0.041</td>\n",
              "      <td>0.061</td>\n",
              "      <td>0.041</td>\n",
              "      <td>...</td>\n",
              "      <td>0.244</td>\n",
              "      <td>0.238</td>\n",
              "      <td>0.302</td>\n",
              "      <td>0.250</td>\n",
              "      <td>0.311</td>\n",
              "      <td>0.326</td>\n",
              "      <td>0.234</td>\n",
              "      <td>0.333</td>\n",
              "      <td>0.224</td>\n",
              "      <td>0.34</td>\n",
              "    </tr>\n",
              "    <tr>\n",
              "      <th>1997</th>\n",
              "      <td>50</td>\n",
              "      <td>0.46</td>\n",
              "      <td>0.54</td>\n",
              "      <td>0.18</td>\n",
              "      <td>0.24</td>\n",
              "      <td>0.22</td>\n",
              "      <td>0.36</td>\n",
              "      <td>0.020</td>\n",
              "      <td>0.061</td>\n",
              "      <td>0.041</td>\n",
              "      <td>...</td>\n",
              "      <td>0.171</td>\n",
              "      <td>0.214</td>\n",
              "      <td>0.233</td>\n",
              "      <td>0.364</td>\n",
              "      <td>0.244</td>\n",
              "      <td>0.174</td>\n",
              "      <td>0.362</td>\n",
              "      <td>0.188</td>\n",
              "      <td>0.245</td>\n",
              "      <td>0.36</td>\n",
              "    </tr>\n",
              "    <tr>\n",
              "      <th>1998</th>\n",
              "      <td>50</td>\n",
              "      <td>0.48</td>\n",
              "      <td>0.52</td>\n",
              "      <td>0.28</td>\n",
              "      <td>0.24</td>\n",
              "      <td>0.24</td>\n",
              "      <td>0.24</td>\n",
              "      <td>0.102</td>\n",
              "      <td>0.061</td>\n",
              "      <td>0.041</td>\n",
              "      <td>...</td>\n",
              "      <td>0.293</td>\n",
              "      <td>0.238</td>\n",
              "      <td>0.233</td>\n",
              "      <td>0.250</td>\n",
              "      <td>0.267</td>\n",
              "      <td>0.239</td>\n",
              "      <td>0.255</td>\n",
              "      <td>0.250</td>\n",
              "      <td>0.265</td>\n",
              "      <td>0.28</td>\n",
              "    </tr>\n",
              "    <tr>\n",
              "      <th>1999</th>\n",
              "      <td>50</td>\n",
              "      <td>0.60</td>\n",
              "      <td>0.40</td>\n",
              "      <td>0.22</td>\n",
              "      <td>0.32</td>\n",
              "      <td>0.28</td>\n",
              "      <td>0.18</td>\n",
              "      <td>0.041</td>\n",
              "      <td>0.082</td>\n",
              "      <td>0.041</td>\n",
              "      <td>...</td>\n",
              "      <td>0.366</td>\n",
              "      <td>0.262</td>\n",
              "      <td>0.209</td>\n",
              "      <td>0.273</td>\n",
              "      <td>0.222</td>\n",
              "      <td>0.283</td>\n",
              "      <td>0.191</td>\n",
              "      <td>0.292</td>\n",
              "      <td>0.224</td>\n",
              "      <td>0.32</td>\n",
              "    </tr>\n",
              "  </tbody>\n",
              "</table>\n",
              "<p>2000 rows × 285 columns</p>\n",
              "</div>"
            ],
            "text/plain": [
              "      length  gc_content  at_content  nucleic_acid_composition_A  \\\n",
              "0         50        0.60        0.40                        0.18   \n",
              "1         50        0.48        0.52                        0.12   \n",
              "2         50        0.54        0.46                        0.34   \n",
              "3         50        0.64        0.36                        0.24   \n",
              "4         50        0.54        0.46                        0.28   \n",
              "...      ...         ...         ...                         ...   \n",
              "1995      50        0.66        0.34                        0.16   \n",
              "1996      50        0.44        0.56                        0.22   \n",
              "1997      50        0.46        0.54                        0.18   \n",
              "1998      50        0.48        0.52                        0.28   \n",
              "1999      50        0.60        0.40                        0.22   \n",
              "\n",
              "      nucleic_acid_composition_C  nucleic_acid_composition_G  \\\n",
              "0                           0.26                        0.34   \n",
              "1                           0.16                        0.32   \n",
              "2                           0.26                        0.28   \n",
              "3                           0.42                        0.22   \n",
              "4                           0.26                        0.28   \n",
              "...                          ...                         ...   \n",
              "1995                        0.26                        0.40   \n",
              "1996                        0.22                        0.22   \n",
              "1997                        0.24                        0.22   \n",
              "1998                        0.24                        0.24   \n",
              "1999                        0.32                        0.28   \n",
              "\n",
              "      nucleic_acid_composition_T  dinucleotide_composition_AA  \\\n",
              "0                           0.22                        0.041   \n",
              "1                           0.40                        0.000   \n",
              "2                           0.12                        0.082   \n",
              "3                           0.12                        0.020   \n",
              "4                           0.18                        0.082   \n",
              "...                          ...                          ...   \n",
              "1995                        0.18                        0.000   \n",
              "1996                        0.34                        0.041   \n",
              "1997                        0.36                        0.020   \n",
              "1998                        0.24                        0.102   \n",
              "1999                        0.18                        0.041   \n",
              "\n",
              "      dinucleotide_composition_AC  dinucleotide_composition_AG  ...  \\\n",
              "0                           0.061                        0.061  ...   \n",
              "1                           0.020                        0.061  ...   \n",
              "2                           0.061                        0.163  ...   \n",
              "3                           0.143                        0.082  ...   \n",
              "4                           0.102                        0.041  ...   \n",
              "...                           ...                          ...  ...   \n",
              "1995                        0.020                        0.082  ...   \n",
              "1996                        0.061                        0.041  ...   \n",
              "1997                        0.061                        0.041  ...   \n",
              "1998                        0.061                        0.041  ...   \n",
              "1999                        0.082                        0.041  ...   \n",
              "\n",
              "      accumulated_nucleotide_frequency_40  \\\n",
              "0                                   0.220   \n",
              "1                                   0.439   \n",
              "2                                   0.268   \n",
              "3                                   0.439   \n",
              "4                                   0.268   \n",
              "...                                   ...   \n",
              "1995                                0.220   \n",
              "1996                                0.244   \n",
              "1997                                0.171   \n",
              "1998                                0.293   \n",
              "1999                                0.366   \n",
              "\n",
              "      accumulated_nucleotide_frequency_41  \\\n",
              "0                                   0.357   \n",
              "1                                   0.310   \n",
              "2                                   0.381   \n",
              "3                                   0.262   \n",
              "4                                   0.286   \n",
              "...                                   ...   \n",
              "1995                                0.214   \n",
              "1996                                0.238   \n",
              "1997                                0.214   \n",
              "1998                                0.238   \n",
              "1999                                0.262   \n",
              "\n",
              "      accumulated_nucleotide_frequency_42  \\\n",
              "0                                   0.233   \n",
              "1                                   0.442   \n",
              "2                                   0.279   \n",
              "3                                   0.209   \n",
              "4                                   0.279   \n",
              "...                                   ...   \n",
              "1995                                0.419   \n",
              "1996                                0.302   \n",
              "1997                                0.233   \n",
              "1998                                0.233   \n",
              "1999                                0.209   \n",
              "\n",
              "      accumulated_nucleotide_frequency_43  \\\n",
              "0                                   0.364   \n",
              "1                                   0.136   \n",
              "2                                   0.295   \n",
              "3                                   0.273   \n",
              "4                                   0.295   \n",
              "...                                   ...   \n",
              "1995                                0.227   \n",
              "1996                                0.250   \n",
              "1997                                0.364   \n",
              "1998                                0.250   \n",
              "1999                                0.273   \n",
              "\n",
              "      accumulated_nucleotide_frequency_44  \\\n",
              "0                                   0.378   \n",
              "1                                   0.311   \n",
              "2                                   0.111   \n",
              "3                                   0.222   \n",
              "4                                   0.156   \n",
              "...                                   ...   \n",
              "1995                                0.244   \n",
              "1996                                0.311   \n",
              "1997                                0.244   \n",
              "1998                                0.267   \n",
              "1999                                0.222   \n",
              "\n",
              "      accumulated_nucleotide_frequency_45  \\\n",
              "0                                   0.174   \n",
              "1                                   0.152   \n",
              "2                                   0.370   \n",
              "3                                   0.413   \n",
              "4                                   0.304   \n",
              "...                                   ...   \n",
              "1995                                0.261   \n",
              "1996                                0.326   \n",
              "1997                                0.174   \n",
              "1998                                0.239   \n",
              "1999                                0.283   \n",
              "\n",
              "      accumulated_nucleotide_frequency_46  \\\n",
              "0                                   0.234   \n",
              "1                                   0.319   \n",
              "2                                   0.298   \n",
              "3                                   0.426   \n",
              "4                                   0.170   \n",
              "...                                   ...   \n",
              "1995                                0.277   \n",
              "1996                                0.234   \n",
              "1997                                0.362   \n",
              "1998                                0.255   \n",
              "1999                                0.191   \n",
              "\n",
              "      accumulated_nucleotide_frequency_47  \\\n",
              "0                                   0.188   \n",
              "1                                   0.417   \n",
              "2                                   0.250   \n",
              "3                                   0.438   \n",
              "4                                   0.271   \n",
              "...                                   ...   \n",
              "1995                                0.396   \n",
              "1996                                0.333   \n",
              "1997                                0.188   \n",
              "1998                                0.250   \n",
              "1999                                0.292   \n",
              "\n",
              "      accumulated_nucleotide_frequency_48  accumulated_nucleotide_frequency_49  \n",
              "0                                   0.245                                 0.26  \n",
              "1                                   0.163                                 0.32  \n",
              "2                                   0.265                                 0.12  \n",
              "3                                   0.122                                 0.22  \n",
              "4                                   0.286                                 0.18  \n",
              "...                                   ...                                  ...  \n",
              "1995                                0.163                                 0.40  \n",
              "1996                                0.224                                 0.34  \n",
              "1997                                0.245                                 0.36  \n",
              "1998                                0.265                                 0.28  \n",
              "1999                                0.224                                 0.32  \n",
              "\n",
              "[2000 rows x 285 columns]"
            ]
          },
          "execution_count": 14,
          "metadata": {},
          "output_type": "execute_result"
        }
      ],
      "source": [
        "no_need_normalization = [\"length\", \"at_content\", \"gc_content\"]\n",
        "lists = [\"nucleic_acid_composition\",\"dinucleotide_composition\",\"trinucleotide_composition\",\"k_spaced_nucleic_acid_pairs\",\"kmer\",\"PseDNC\", \"PseKNC\", \"DAC\", \"DCC\", \"DACC\", \"TAC\",\"TCC\",\"TACC\", \"accumulated_nucleotide_frequency\"]\n",
        "\n",
        "small_processed = []\n",
        "for i in lists:\n",
        "    print(\"Starting:\", i)\n",
        "    new_df = process_lists(fps_x, i)\n",
        "    small_processed.append(new_df)\n",
        "\n",
        "# concat final with original\n",
        "new_fps_x = pd.concat([fps_x, *small_processed], axis=1)\n",
        "new_fps_x"
      ]
    },
    {
      "cell_type": "markdown",
      "metadata": {},
      "source": [
        "At this point, the data is ready to be used by the model. We will train the model, obtain the predictions and then calculate feature importance. We'll do this process for rf, svm and linear_svm models."
      ]
    },
    {
      "cell_type": "code",
      "execution_count": 15,
      "metadata": {},
      "outputs": [
        {
          "name": "stdout",
          "output_type": "stream",
          "text": [
            "performing gridSearch...\n",
            "GridSearchCV took 7.69 seconds for 4 candidate parameter settings.\n",
            "GridSearchCV(cv=10,\n",
            "             estimator=Pipeline(steps=[('scl', None),\n",
            "                                       ('clf',\n",
            "                                        RandomForestClassifier(random_state=1))]),\n",
            "             n_jobs=10,\n",
            "             param_grid=[{'clf__max_features': ['sqrt'],\n",
            "                          'clf__n_estimators': [100, 250, 500, 750]}],\n",
            "             scoring=make_scorer(matthews_corrcoef))\n",
            "Model with rank: 1\n",
            " Mean validation score: 0.993 (std: 0.007)\n",
            " Parameters: {'clf__max_features': 'sqrt', 'clf__n_estimators': 100}\n",
            " \n",
            "\n",
            "Model with rank: 2\n",
            " Mean validation score: 0.992 (std: 0.006)\n",
            " Parameters: {'clf__max_features': 'sqrt', 'clf__n_estimators': 250}\n",
            " \n",
            "\n",
            "Model with rank: 2\n",
            " Mean validation score: 0.992 (std: 0.006)\n",
            " Parameters: {'clf__max_features': 'sqrt', 'clf__n_estimators': 500}\n",
            " \n",
            "\n",
            "Model with rank: 2\n",
            " Mean validation score: 0.992 (std: 0.006)\n",
            " Parameters: {'clf__max_features': 'sqrt', 'clf__n_estimators': 750}\n",
            " \n",
            "\n",
            "make_scorer(matthews_corrcoef)\n",
            "10\n",
            "Best score (scorer: make_scorer(matthews_corrcoef)) and parameters from a 10-fold cross validation:\n",
            " MCC score:\t0.993\n",
            " Parameters:\t{'clf__max_features': 'sqrt', 'clf__n_estimators': 100}\n",
            "\n",
            "0.993377 (0.006623) with: {'clf__max_features': 'sqrt', 'clf__n_estimators': 100}\n",
            "0.992053 (0.006489) with: {'clf__max_features': 'sqrt', 'clf__n_estimators': 250}\n",
            "0.992053 (0.006489) with: {'clf__max_features': 'sqrt', 'clf__n_estimators': 500}\n",
            "0.992053 (0.006489) with: {'clf__max_features': 'sqrt', 'clf__n_estimators': 750}\n",
            "  clf__max_features  clf__n_estimators     means      stds\n",
            "0              sqrt                100  0.993377  0.006623\n",
            "1              sqrt                250  0.992053  0.006489\n",
            "2              sqrt                500  0.992053  0.006489\n",
            "3              sqrt                750  0.992053  0.006489\n"
          ]
        }
      ],
      "source": [
        "X_train, X_test, y_train, y_test = train_test_split(new_fps_x, fps_y, stratify=fps_y)\n",
        "\n",
        "scaler = StandardScaler().fit(X_train)\n",
        "X_train = scaler.transform(X_train)\n",
        "X_test = scaler.transform(X_test)\n",
        "\n",
        "ml = ShallowML(X_train, X_test, y_train, y_test, report_name=None, columns_names=new_fps_x.columns)\n",
        "\n",
        "param_grid = [{'clf__n_estimators': [100, 250, 500, 750], 'clf__max_features': ['sqrt']}]\n",
        "\n",
        "best_rf_model = ml.train_best_model(\n",
        "    model_name=None,\n",
        "    model='rf',\n",
        "    score=make_scorer(matthews_corrcoef),\n",
        "    param_grid=param_grid,\n",
        "    cv=10\n",
        ")"
      ]
    },
    {
      "cell_type": "code",
      "execution_count": 16,
      "metadata": {},
      "outputs": [
        {
          "name": "stdout",
          "output_type": "stream",
          "text": [
            "              precision    recall  f1-score   support\n",
            "\n",
            "           0       1.00      1.00      1.00       253\n",
            "           1       1.00      1.00      1.00       247\n",
            "\n",
            "    accuracy                           1.00       500\n",
            "   macro avg       1.00      1.00      1.00       500\n",
            "weighted avg       1.00      1.00      1.00       500\n",
            "\n",
            "[[253   0]\n",
            " [  0 247]]\n"
          ]
        },
        {
          "data": {
            "text/plain": [
              "{'Accuracy': 1.0,\n",
              " 'MCC': 1.0,\n",
              " 'log_loss': 0.04945622808659905,\n",
              " 'f1 score': 1.0,\n",
              " 'roc_auc': 1.0,\n",
              " 'Precision': array([1., 1.]),\n",
              " 'Recall': array([1., 0.]),\n",
              " 'fdr': 0.0,\n",
              " 'sn': 1.0,\n",
              " 'sp': 1.0}"
            ]
          },
          "execution_count": 16,
          "metadata": {},
          "output_type": "execute_result"
        }
      ],
      "source": [
        "scores, report, cm, cm2 = ml.score_testset(best_rf_model)\n",
        "print(report)\n",
        "print(cm)  \n",
        "scores"
      ]
    },
    {
      "cell_type": "code",
      "execution_count": 17,
      "metadata": {},
      "outputs": [
        {
          "data": {
            "image/png": "[encoded data removed]",
            "text/plain": [
              "<Figure size 432x288 with 1 Axes>"
            ]
          },
          "metadata": {},
          "output_type": "display_data"
        },
        {
          "data": {
            "image/png": "[encoded data removed]",
            "text/plain": [
              "<Figure size 648x504 with 1 Axes>"
            ]
          },
          "metadata": {},
          "output_type": "display_data"
        },
        {
          "data": {
            "text/plain": [
              "<Figure size 432x288 with 0 Axes>"
            ]
          },
          "metadata": {},
          "output_type": "display_data"
        }
      ],
      "source": [
        "ml.features_importances_plot(\n",
        "    classifier=best_rf_model, \n",
        "    top_features=30, \n",
        "    model_name='rf',\n",
        "    show=True, \n",
        "    path_save=None\n",
        ")"
      ]
    },
    {
      "cell_type": "markdown",
      "metadata": {},
      "source": [
        "Let's try now using SVM."
      ]
    },
    {
      "cell_type": "code",
      "execution_count": 18,
      "metadata": {},
      "outputs": [
        {
          "name": "stdout",
          "output_type": "stream",
          "text": [
            "performing gridSearch...\n",
            "GridSearchCV took 0.32 seconds for 1 candidate parameter settings.\n",
            "GridSearchCV(cv=10,\n",
            "             estimator=Pipeline(steps=[('scl', None),\n",
            "                                       ('clf', SVC(random_state=1))]),\n",
            "             n_jobs=10,\n",
            "             param_grid={'clf__C': [10], 'clf__gamma': [0.001],\n",
            "                         'clf__kernel': ['rbf']},\n",
            "             scoring=make_scorer(matthews_corrcoef))\n",
            "Model with rank: 1\n",
            " Mean validation score: 0.935 (std: 0.030)\n",
            " Parameters: {'clf__C': 10, 'clf__gamma': 0.001, 'clf__kernel': 'rbf'}\n",
            " \n",
            "\n",
            "make_scorer(matthews_corrcoef)\n",
            "10\n",
            "Best score (scorer: make_scorer(matthews_corrcoef)) and parameters from a 10-fold cross validation:\n",
            " MCC score:\t0.935\n",
            " Parameters:\t{'clf__C': 10, 'clf__gamma': 0.001, 'clf__kernel': 'rbf'}\n",
            "\n",
            "0.935416 (0.030322) with: {'clf__C': 10, 'clf__gamma': 0.001, 'clf__kernel': 'rbf'}\n",
            "   clf__C  clf__gamma clf__kernel     means      stds\n",
            "0      10       0.001         rbf  0.935416  0.030322\n"
          ]
        }
      ],
      "source": [
        "ml = ShallowML(X_train, X_test, y_train, y_test, report_name=None, columns_names=new_fps_x.columns)\n",
        "\n",
        "param_grid = {'clf__C':[10], 'clf__gamma':[0.001], 'clf__kernel':['rbf']}\n",
        "\n",
        "best_svm_model = ml.train_best_model(\n",
        "    model_name=None,\n",
        "    model='svm',\n",
        "    score=make_scorer(matthews_corrcoef),\n",
        "    param_grid=param_grid,\n",
        ")"
      ]
    },
    {
      "cell_type": "code",
      "execution_count": 19,
      "metadata": {},
      "outputs": [
        {
          "name": "stdout",
          "output_type": "stream",
          "text": [
            "              precision    recall  f1-score   support\n",
            "\n",
            "           0       0.97      0.94      0.96       253\n",
            "           1       0.94      0.97      0.96       247\n",
            "\n",
            "    accuracy                           0.96       500\n",
            "   macro avg       0.96      0.96      0.96       500\n",
            "weighted avg       0.96      0.96      0.96       500\n",
            "\n",
            "[[238  15]\n",
            " [  7 240]]\n"
          ]
        },
        {
          "data": {
            "text/plain": [
              "{'Accuracy': 0.956,\n",
              " 'MCC': 0.9124882042686983,\n",
              " 'f1 score': 0.9561752988047808,\n",
              " 'roc_auc': 0.9561856907394664,\n",
              " 'Precision': array([0.494     , 0.94117647, 1.        ]),\n",
              " 'Recall': array([1.        , 0.97165992, 0.        ]),\n",
              " 'fdr': 0.058823529411764705,\n",
              " 'sn': 0.97165991902834,\n",
              " 'sp': 0.9407114624505929}"
            ]
          },
          "execution_count": 19,
          "metadata": {},
          "output_type": "execute_result"
        }
      ],
      "source": [
        "scores, report, cm, cm2 = ml.score_testset(best_svm_model)\n",
        "print(report)\n",
        "print(cm)  \n",
        "scores"
      ]
    },
    {
      "cell_type": "markdown",
      "metadata": {},
      "source": [
        "The SVM feature importance can only be calculated if the best model has a linear kernel. Since the best model has the RBF kernel, we can't calculate the feature importance, so we will use the linear_svm model instead."
      ]
    },
    {
      "cell_type": "code",
      "execution_count": 20,
      "metadata": {},
      "outputs": [
        {
          "name": "stdout",
          "output_type": "stream",
          "text": [
            "performing gridSearch...\n"
          ]
        },
        {
          "name": "stderr",
          "output_type": "stream",
          "text": [
            "/home/jabreu/miniconda3/envs/dna-conda/lib/python3.8/site-packages/sklearn/svm/_base.py:1206: ConvergenceWarning: Liblinear failed to converge, increase the number of iterations.\n",
            "  warnings.warn(\n",
            "/home/jabreu/miniconda3/envs/dna-conda/lib/python3.8/site-packages/sklearn/svm/_base.py:1206: ConvergenceWarning: Liblinear failed to converge, increase the number of iterations.\n",
            "  warnings.warn(\n",
            "/home/jabreu/miniconda3/envs/dna-conda/lib/python3.8/site-packages/sklearn/svm/_base.py:1206: ConvergenceWarning: Liblinear failed to converge, increase the number of iterations.\n",
            "  warnings.warn(\n",
            "/home/jabreu/miniconda3/envs/dna-conda/lib/python3.8/site-packages/sklearn/svm/_base.py:1206: ConvergenceWarning: Liblinear failed to converge, increase the number of iterations.\n",
            "  warnings.warn(\n",
            "/home/jabreu/miniconda3/envs/dna-conda/lib/python3.8/site-packages/sklearn/svm/_base.py:1206: ConvergenceWarning: Liblinear failed to converge, increase the number of iterations.\n",
            "  warnings.warn(\n",
            "/home/jabreu/miniconda3/envs/dna-conda/lib/python3.8/site-packages/sklearn/svm/_base.py:1206: ConvergenceWarning: Liblinear failed to converge, increase the number of iterations.\n",
            "  warnings.warn(\n",
            "/home/jabreu/miniconda3/envs/dna-conda/lib/python3.8/site-packages/sklearn/svm/_base.py:1206: ConvergenceWarning: Liblinear failed to converge, increase the number of iterations.\n",
            "  warnings.warn(\n",
            "/home/jabreu/miniconda3/envs/dna-conda/lib/python3.8/site-packages/sklearn/svm/_base.py:1206: ConvergenceWarning: Liblinear failed to converge, increase the number of iterations.\n",
            "  warnings.warn(\n",
            "/home/jabreu/miniconda3/envs/dna-conda/lib/python3.8/site-packages/sklearn/svm/_base.py:1206: ConvergenceWarning: Liblinear failed to converge, increase the number of iterations.\n",
            "  warnings.warn(\n",
            "/home/jabreu/miniconda3/envs/dna-conda/lib/python3.8/site-packages/sklearn/svm/_base.py:1206: ConvergenceWarning: Liblinear failed to converge, increase the number of iterations.\n",
            "  warnings.warn(\n",
            "/home/jabreu/miniconda3/envs/dna-conda/lib/python3.8/site-packages/sklearn/svm/_base.py:1206: ConvergenceWarning: Liblinear failed to converge, increase the number of iterations.\n",
            "  warnings.warn(\n",
            "/home/jabreu/miniconda3/envs/dna-conda/lib/python3.8/site-packages/sklearn/svm/_base.py:1206: ConvergenceWarning: Liblinear failed to converge, increase the number of iterations.\n",
            "  warnings.warn(\n",
            "/home/jabreu/miniconda3/envs/dna-conda/lib/python3.8/site-packages/sklearn/svm/_base.py:1206: ConvergenceWarning: Liblinear failed to converge, increase the number of iterations.\n",
            "  warnings.warn(\n",
            "/home/jabreu/miniconda3/envs/dna-conda/lib/python3.8/site-packages/sklearn/svm/_base.py:1206: ConvergenceWarning: Liblinear failed to converge, increase the number of iterations.\n",
            "  warnings.warn(\n",
            "/home/jabreu/miniconda3/envs/dna-conda/lib/python3.8/site-packages/sklearn/svm/_base.py:1206: ConvergenceWarning: Liblinear failed to converge, increase the number of iterations.\n",
            "  warnings.warn(\n",
            "/home/jabreu/miniconda3/envs/dna-conda/lib/python3.8/site-packages/sklearn/svm/_base.py:1206: ConvergenceWarning: Liblinear failed to converge, increase the number of iterations.\n",
            "  warnings.warn(\n",
            "/home/jabreu/miniconda3/envs/dna-conda/lib/python3.8/site-packages/sklearn/svm/_base.py:1206: ConvergenceWarning: Liblinear failed to converge, increase the number of iterations.\n",
            "  warnings.warn(\n"
          ]
        },
        {
          "name": "stdout",
          "output_type": "stream",
          "text": [
            "GridSearchCV took 0.66 seconds for 4 candidate parameter settings.\n",
            "GridSearchCV(cv=10,\n",
            "             estimator=Pipeline(steps=[('scl', None),\n",
            "                                       ('clf', LinearSVC(random_state=1))]),\n",
            "             n_jobs=10, param_grid=[{'clf__C': [0.01, 0.1, 1.0, 10]}],\n",
            "             scoring=make_scorer(matthews_corrcoef))\n",
            "Model with rank: 1\n",
            " Mean validation score: 0.922 (std: 0.039)\n",
            " Parameters: {'clf__C': 0.01}\n",
            " \n",
            "\n",
            "Model with rank: 2\n",
            " Mean validation score: 0.902 (std: 0.050)\n",
            " Parameters: {'clf__C': 0.1}\n",
            " \n",
            "\n",
            "Model with rank: 3\n",
            " Mean validation score: 0.882 (std: 0.050)\n",
            " Parameters: {'clf__C': 1.0}\n",
            " \n",
            "\n",
            "make_scorer(matthews_corrcoef)\n",
            "10\n",
            "Best score (scorer: make_scorer(matthews_corrcoef)) and parameters from a 10-fold cross validation:\n",
            " MCC score:\t0.922\n",
            " Parameters:\t{'clf__C': 0.01}\n",
            "\n",
            "0.922044 (0.038913) with: {'clf__C': 0.01}\n",
            "0.902106 (0.050422) with: {'clf__C': 0.1}\n",
            "0.882358 (0.050004) with: {'clf__C': 1.0}\n",
            "0.881101 (0.051302) with: {'clf__C': 10}\n",
            "   clf__C     means      stds\n",
            "0    0.01  0.922044  0.038913\n",
            "1    0.10  0.902106  0.050422\n",
            "2    1.00  0.882358  0.050004\n",
            "3   10.00  0.881101  0.051302\n"
          ]
        },
        {
          "name": "stderr",
          "output_type": "stream",
          "text": [
            "/home/jabreu/miniconda3/envs/dna-conda/lib/python3.8/site-packages/sklearn/svm/_base.py:1206: ConvergenceWarning: Liblinear failed to converge, increase the number of iterations.\n",
            "  warnings.warn(\n",
            "/home/jabreu/miniconda3/envs/dna-conda/lib/python3.8/site-packages/sklearn/svm/_base.py:1206: ConvergenceWarning: Liblinear failed to converge, increase the number of iterations.\n",
            "  warnings.warn(\n",
            "/home/jabreu/miniconda3/envs/dna-conda/lib/python3.8/site-packages/sklearn/svm/_base.py:1206: ConvergenceWarning: Liblinear failed to converge, increase the number of iterations.\n",
            "  warnings.warn(\n"
          ]
        }
      ],
      "source": [
        "ml = ShallowML(X_train, X_test, y_train, y_test, report_name=None, columns_names=new_fps_x.columns)\n",
        "\n",
        "best_linear_svm_model = ml.train_best_model(\n",
        "    model_name=None,\n",
        "    model='linear_svm',                               \n",
        "    score=make_scorer(matthews_corrcoef),\n",
        "    param_grid=None\n",
        ")"
      ]
    },
    {
      "cell_type": "code",
      "execution_count": 21,
      "metadata": {},
      "outputs": [
        {
          "name": "stdout",
          "output_type": "stream",
          "text": [
            "              precision    recall  f1-score   support\n",
            "\n",
            "           0       0.96      0.92      0.94       253\n",
            "           1       0.93      0.96      0.94       247\n",
            "\n",
            "    accuracy                           0.94       500\n",
            "   macro avg       0.94      0.94      0.94       500\n",
            "weighted avg       0.94      0.94      0.94       500\n",
            "\n",
            "[[234  19]\n",
            " [  9 238]]\n"
          ]
        },
        {
          "data": {
            "text/plain": [
              "{'Accuracy': 0.944,\n",
              " 'MCC': 0.8887484247941486,\n",
              " 'f1 score': 0.9444444444444444,\n",
              " 'roc_auc': 0.9442319694035941,\n",
              " 'Precision': array([0.494     , 0.92607004, 1.        ]),\n",
              " 'Recall': array([1.        , 0.96356275, 0.        ]),\n",
              " 'fdr': 0.07392996108949416,\n",
              " 'sn': 0.9635627530364372,\n",
              " 'sp': 0.924901185770751}"
            ]
          },
          "execution_count": 21,
          "metadata": {},
          "output_type": "execute_result"
        }
      ],
      "source": [
        "scores, report, cm, cm2 = ml.score_testset(best_linear_svm_model)\n",
        "print(report)\n",
        "print(cm)  \n",
        "scores"
      ]
    },
    {
      "cell_type": "code",
      "execution_count": 22,
      "metadata": {},
      "outputs": [
        {
          "data": {
            "image/png": "[encoded data removed]",
            "text/plain": [
              "<Figure size 648x504 with 1 Axes>"
            ]
          },
          "metadata": {},
          "output_type": "display_data"
        },
        {
          "data": {
            "text/plain": [
              "<Figure size 432x288 with 0 Axes>"
            ]
          },
          "metadata": {},
          "output_type": "display_data"
        }
      ],
      "source": [
        "ml.features_importances_plot(\n",
        "    classifier=best_linear_svm_model, \n",
        "    model_name='linear_svm',\n",
        "    column_to_plot=0,\n",
        "    top_features=30, \n",
        "    show=True, \n",
        "    path_save=None\n",
        ")"
      ]
    }
  ],
  "metadata": {
    "interpreter": {
      "hash": "ba449ea13c29f64a91968d8f927cecceedd6e605eda30388903386e6cd94168d"
    },
    "kernelspec": {
      "display_name": "Python 3.8.13 ('dna-conda': conda)",
      "language": "python",
      "name": "python3"
    },
    "language_info": {
      "codemirror_mode": {
        "name": "ipython",
        "version": 3
      },
      "file_extension": ".py",
      "mimetype": "text/x-python",
      "name": "python",
      "nbconvert_exporter": "python",
      "pygments_lexer": "ipython3",
      "version": "3.8.13"
    }
  },
  "nbformat": 4,
  "nbformat_minor": 1
}
