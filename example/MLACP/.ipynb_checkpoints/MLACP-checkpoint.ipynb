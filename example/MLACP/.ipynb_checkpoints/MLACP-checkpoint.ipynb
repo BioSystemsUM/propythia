{
 "cells": [
  {
   "cell_type": "markdown",
   "metadata": {
    "collapsed": true
   },
   "source": [
    "# MLACP Case Study"
   ]
  },
  {
   "cell_type": "markdown",
   "metadata": {},
   "source": [
    "This section will present a comparative analysis to demonstrate the application and performance of proPythia for addressing sequence-based prediction problems. The second case study is with anticancer peptides and tries to replicate the study made by Manavalan et al., “MLACP: machine-learning-based prediction of anticancer peptides”\n",
    "\n",
    "\n",
    "\n",
    "\n",
    "\n",
    "B. Manavalan, S. Basith, T. Hwan Shin, S. Choi, M. Ok Kim, and G. Lee, “MLACP:\n",
    "machine-learning-based prediction of anticancer peptides” Oncotarget, vol. 8, no. 44,\n",
    "pp. 77121–77136, 2017."
   ]
  }
 ],
 "metadata": {
  "kernelspec": {
   "display_name": "Python 3",
   "language": "python",
   "name": "python3"
  },
  "language_info": {
   "codemirror_mode": {
    "name": "ipython",
    "version": 3
   },
   "file_extension": ".py",
   "mimetype": "text/x-python",
   "name": "python",
   "nbconvert_exporter": "python",
   "pygments_lexer": "ipython3",
   "version": "3.7.6"
  }
 },
 "nbformat": 4,
 "nbformat_minor": 1
}
