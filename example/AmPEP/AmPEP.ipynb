{
 "cells": [
  {
   "cell_type": "markdown",
   "metadata": {
    "collapsed": true
   },
   "source": [
    "# AMPEP Case Study "
   ]
  },
  {
   "cell_type": "markdown",
   "metadata": {},
   "source": [
    "This section will present a comparative analysis to demonstrate the application and performance\n",
    "of proPythia for addressing sequence-based prediction problems. The first case study is with antimicorbial peptides and tries to replicate the study made by P. Bhadra and all, “AmPEP: Sequence-based prediction of antimicrobial peptides using distribution patterns of amino acid properties and random forest” which is described to highly perform on AMP prediction methods.\n",
    "\n",
    "In the publication, Bhadra et al., used a dataset with a positive:negative ratio (AMP/non-AMP) of 1:3, based on the distribution patterns of aa properties along the sequence (CTD features), with a 10 fold cross validation RF model. The collection of data with sets of AMP and non-AMP data is freely available at https://sourceforge.net/projects/axpep/files/). Their model obtained a sensitivity of 0.95, a specificity and accuracy of 0.96, MCC of 0.9 and AUC-ROC of 0.98.\n",
    "\n",
    "\n",
    "P. Bhadra, J. Yan, J. Li, S. Fong, and S. W. Siu, “AmPEP: Sequence-based prediction\n",
    "of antimicrobial peptides using distribution patterns of amino acid properties and\n",
    "random forest,” Scientific Reports, vol. 8, no. 1, pp. 1–10, 2018."
   ]
  },
  {
   "cell_type": "code",
   "execution_count": 7,
   "metadata": {
    "pycharm": {
     "is_executing": false
    }
   },
   "outputs": [],
   "source": [
    "import csv\n",
    "import pandas as pd\n",
    "from propythia.sequence import ReadSequence\n",
    "from propythia.descriptors import Descriptor\n",
    "from propythia.preprocess import Preprocess\n",
    "from propythia.feature_selection import FeatureSelection\n",
    "from sklearn.feature_selection import mutual_info_classif\n",
    "from sklearn.linear_model import LogisticRegression\n",
    "from sklearn.svm import SVC\n",
    "from propythia.machine_learning import MachineLearning\n"
   ]
  },
  {
   "cell_type": "markdown",
   "metadata": {},
   "source": [
    "1. CONSTRUCTION OF DATASETS\n",
    "\n",
    "First, based on the available collection of data available of AMP and non AMP a dataset constituting of a 1:3 ratio was built. \n"
   ]
  },
  {
   "cell_type": "code",
   "execution_count": 11,
   "metadata": {
    "pycharm": {
     "is_executing": false
    }
   },
   "outputs": [
    {
     "name": "stdout",
     "text": [
      "13074\n"
     ],
     "output_type": "stream"
    }
   ],
   "source": [
    "def create_dataset():\n",
    "    AMP_data=r'datasets/M_model_train_AMP_sequence.fasta'\n",
    "    #AMP 3268  sequences\n",
    "    non_AMP_data=r'datasets/M_model_train_nonAMP_sequence.fasta'\n",
    "    #non-AMP 166791 sequences\n",
    "\n",
    "    with open('datasets/test_AmPEP.csv', 'w', newline='') as csvfile:\n",
    "        spamwriter = csv.writer(csvfile, delimiter=' ',\n",
    "                                quotechar='|', quoting=csv.QUOTE_MINIMAL)\n",
    "        with open(AMP_data, newline='') as csvfile_AMP:\n",
    "            spamreader = csv.reader(csvfile_AMP, delimiter=' ', quotechar='|')\n",
    "            for row in spamreader:\n",
    "                if len(row[0])>1: #just sequences. not '>' character\n",
    "                    spamwriter.writerow(row)\n",
    "\n",
    "        with open(non_AMP_data, newline='') as csvfile_nonAMP:\n",
    "            spamreader = csv.reader(csvfile_nonAMP, delimiter=' ', quotechar='|')\n",
    "            for _ in range(5001):  # skip the first 500 rows\n",
    "                next(spamreader)\n",
    "            count=0\n",
    "            non_AMP_data=9805 #number of non AMP to add\n",
    "\n",
    "            for row in spamreader:#arbitrary number to not start in the beggining\n",
    "                if count<=non_AMP_data:\n",
    "                    if len(row[0])>1:\n",
    "                        spamwriter.writerow(row)\n",
    "                        count+=1\n",
    "\n",
    "    with open(r'datasets/test_AmPEP.csv', 'r', newline='') as csvfile:\n",
    "            spamreader = csv.reader(csvfile, delimiter=' ', quotechar='|')\n",
    "            row_count = sum(1 for row in spamreader)\n",
    "            print(row_count)\n",
    "create_dataset()"
   ]
  },
  {
   "cell_type": "markdown",
   "metadata": {},
   "source": [
    "2. Calculus of features/ protein sequence descriptors\n",
    "Taking this dataset as base, two datasets were assembled.\n",
    "On the first one, CTD descriptors were calculated. A derived dataset was constructed restraining the features to the D feature. This two datasets were used to mimic the model published.\n",
    "\n",
    "To understand if adding features would alter the performance of the model a second dataset was built. \n",
    "Physicochemical (15), AAC and DPC (420), CTD (147) and CTriad (343) descriptors were calculated. To reduce the number of features and select the more important ones, the dataset was scanned for invariable columns, and a univariate feature selector was used to reduce the number of features to 250 (mutual info classif used as function, selecting the best k=250 features). This dataset was standard scaled. After, a L1 logistic regression model (C=0.01) was applied, being the final dataset 160 features selected.\n"
   ]
  },
  {
   "cell_type": "code",
   "execution_count": 12,
   "metadata": {
    "pycharm": {
     "is_executing": false
    }
   },
   "outputs": [
    {
     "name": "stdout",
     "text": [
      "(13074, 106)\n                                                    _PolarizabilityD1001  \\\nsequence                                                                   \nAACSDRAHGHICESFKSFCKDSGRNGVKLRANCKKTCGLC                           6.667   \nAAEFPDFYDSEEQMGPHQEAEDEKDRADQRVLTEEEKKELENLAAMD...                 5.882   \nAAFFAQQKGLPTQQQNQVSPKAVSMIVNLEGCVRNPYKCPADVWTNG...                 2.000   \nAAFRGCWTKNYSPKPCL                                                 20.000   \nAAGMGFFGAR                                                        16.667   \nAAGNPSETGGAVATYSTAVGSFLDGTVKVVATGGASRVPGNCGTAAV...                 2.041   \nAAKNKKEKGKKGASDCTEWTWGSCIPNSKDCGAGTREGTCKEETRKL...                 2.222   \nAAKNKKEKGKKGASDCTEWTWGSCIPNSKDCGAGTREGTCKEETRKL...                 2.222   \nAAKPMGITCDLLSLWKVGHAACAAHCLVLGDVGGYCTKEGLCVCKE                     5.882   \nAALKGCWTKSIPPKPCFGKR                                              16.667   \n\n                                                    _PolarizabilityD1025  \\\nsequence                                                                   \nAACSDRAHGHICESFKSFCKDSGRNGVKLRANCKKTCGLC                          26.667   \nAAEFPDFYDSEEQMGPHQEAEDEKDRADQRVLTEEEKKELENLAAMD...                52.941   \nAAFFAQQKGLPTQQQNQVSPKAVSMIVNLEGCVRNPYKCPADVWTNG...                90.000   \nAAFRGCWTKNYSPKPCL                                                 20.000   \nAAGMGFFGAR                                                        16.667   \nAAGNPSETGGAVATYSTAVGSFLDGTVKVVATGGASRVPGNCGTAAV...                34.694   \nAAKNKKEKGKKGASDCTEWTWGSCIPNSKDCGAGTREGTCKEETRKL...                51.111   \nAAKNKKEKGKKGASDCTEWTWGSCIPNSKDCGAGTREGTCKEETRKL...                51.111   \nAAKPMGITCDLLSLWKVGHAACAAHCLVLGDVGGYCTKEGLCVCKE                    47.059   \nAALKGCWTKSIPPKPCFGKR                                              16.667   \n\n                                                    _PolarizabilityD1050  \\\nsequence                                                                   \nAACSDRAHGHICESFKSFCKDSGRNGVKLRANCKKTCGLC                          93.333   \nAAEFPDFYDSEEQMGPHQEAEDEKDRADQRVLTEEEKKELENLAAMD...               129.412   \nAAFFAQQKGLPTQQQNQVSPKAVSMIVNLEGCVRNPYKCPADVWTNG...               172.000   \nAAFRGCWTKNYSPKPCL                                                 40.000   \nAAGMGFFGAR                                                        50.000   \nAAGNPSETGGAVATYSTAVGSFLDGTVKVVATGGASRVPGNCGTAAV...                73.469   \nAAKNKKEKGKKGASDCTEWTWGSCIPNSKDCGAGTREGTCKEETRKL...               133.333   \nAAKNKKEKGKKGASDCTEWTWGSCIPNSKDCGAGTREGTCKEETRKL...               133.333   \nAAKPMGITCDLLSLWKVGHAACAAHCLVLGDVGGYCTKEGLCVCKE                   117.647   \nAALKGCWTKSIPPKPCFGKR                                              83.333   \n\n                                                    _PolarizabilityD1075  \\\nsequence                                                                   \nAACSDRAHGHICESFKSFCKDSGRNGVKLRANCKKTCGLC                         153.333   \nAAEFPDFYDSEEQMGPHQEAEDEKDRADQRVLTEEEKKELENLAAMD...               194.118   \nAAFFAQQKGLPTQQQNQVSPKAVSMIVNLEGCVRNPYKCPADVWTNG...               244.000   \nAAFRGCWTKNYSPKPCL                                                100.000   \nAAGMGFFGAR                                                        83.333   \nAAGNPSETGGAVATYSTAVGSFLDGTVKVVATGGASRVPGNCGTAAV...               128.571   \nAAKNKKEKGKKGASDCTEWTWGSCIPNSKDCGAGTREGTCKEETRKL...               197.778   \nAAKNKKEKGKKGASDCTEWTWGSCIPNSKDCGAGTREGTCKEETRKL...               197.778   \nAAKPMGITCDLLSLWKVGHAACAAHCLVLGDVGGYCTKEGLCVCKE                   176.471   \nAALKGCWTKSIPPKPCFGKR                                             133.333   \n\n                                                    _PolarizabilityD1100  \\\nsequence                                                                   \nAACSDRAHGHICESFKSFCKDSGRNGVKLRANCKKTCGLC                         253.333   \nAAEFPDFYDSEEQMGPHQEAEDEKDRADQRVLTEEEKKELENLAAMD...               341.176   \nAAFFAQQKGLPTQQQNQVSPKAVSMIVNLEGCVRNPYKCPADVWTNG...               336.000   \nAAFRGCWTKNYSPKPCL                                                240.000   \nAAGMGFFGAR                                                       150.000   \nAAGNPSETGGAVATYSTAVGSFLDGTVKVVATGGASRVPGNCGTAAV...               173.469   \nAAKNKKEKGKKGASDCTEWTWGSCIPNSKDCGAGTREGTCKEETRKL...               266.667   \nAAKNKKEKGKKGASDCTEWTWGSCIPNSKDCGAGTREGTCKEETRKL...               266.667   \nAAKPMGITCDLLSLWKVGHAACAAHCLVLGDVGGYCTKEGLCVCKE                   235.294   \nAALKGCWTKSIPPKPCFGKR                                             300.000   \n\n                                                    _PolarizabilityD2001  \\\nsequence                                                                   \nAACSDRAHGHICESFKSFCKDSGRNGVKLRANCKKTCGLC                          23.077   \nAAEFPDFYDSEEQMGPHQEAEDEKDRADQRVLTEEEKKELENLAAMD...                10.714   \nAAFFAQQKGLPTQQQNQVSPKAVSMIVNLEGCVRNPYKCPADVWTNG...                 7.692   \nAAFRGCWTKNYSPKPCL                                                100.000   \nAAGMGFFGAR                                                         0.000   \nAAGNPSETGGAVATYSTAVGSFLDGTVKVVATGGASRVPGNCGTAAV...                13.333   \nAAKNKKEKGKKGASDCTEWTWGSCIPNSKDCGAGTREGTCKEETRKL...                10.256   \nAAKNKKEKGKKGASDCTEWTWGSCIPNSKDCGAGTREGTCKEETRKL...                10.256   \nAAKPMGITCDLLSLWKVGHAACAAHCLVLGDVGGYCTKEGLCVCKE                    20.000   \nAALKGCWTKSIPPKPCFGKR                                              42.857   \n\n                                                    _PolarizabilityD2025  \\\nsequence                                                                   \nAACSDRAHGHICESFKSFCKDSGRNGVKLRANCKKTCGLC                          92.308   \nAAEFPDFYDSEEQMGPHQEAEDEKDRADQRVLTEEEKKELENLAAMD...                64.286   \nAAFFAQQKGLPTQQQNQVSPKAVSMIVNLEGCVRNPYKCPADVWTNG...                42.308   \nAAFRGCWTKNYSPKPCL                                                100.000   \nAAGMGFFGAR                                                         0.000   \nAAGNPSETGGAVATYSTAVGSFLDGTVKVVATGGASRVPGNCGTAAV...                90.000   \nAAKNKKEKGKKGASDCTEWTWGSCIPNSKDCGAGTREGTCKEETRKL...                79.487   \nAAKNKKEKGKKGASDCTEWTWGSCIPNSKDCGAGTREGTCKEETRKL...                79.487   \nAAKPMGITCDLLSLWKVGHAACAAHCLVLGDVGGYCTKEGLCVCKE                    60.000   \nAALKGCWTKSIPPKPCFGKR                                              42.857   \n\n                                                    _PolarizabilityD2050  \\\nsequence                                                                   \nAACSDRAHGHICESFKSFCKDSGRNGVKLRANCKKTCGLC                         192.308   \nAAEFPDFYDSEEQMGPHQEAEDEKDRADQRVLTEEEKKELENLAAMD...               121.429   \nAAFFAQQKGLPTQQQNQVSPKAVSMIVNLEGCVRNPYKCPADVWTNG...                98.718   \nAAFRGCWTKNYSPKPCL                                                216.667   \nAAGMGFFGAR                                                         0.000   \nAAGNPSETGGAVATYSTAVGSFLDGTVKVVATGGASRVPGNCGTAAV...               160.000   \nAAKNKKEKGKKGASDCTEWTWGSCIPNSKDCGAGTREGTCKEETRKL...               138.462   \nAAKNKKEKGKKGASDCTEWTWGSCIPNSKDCGAGTREGTCKEETRKL...               138.462   \nAAKPMGITCDLLSLWKVGHAACAAHCLVLGDVGGYCTKEGLCVCKE                   135.000   \nAALKGCWTKSIPPKPCFGKR                                             157.143   \n\n                                                    _PolarizabilityD2075  \\\nsequence                                                                   \nAACSDRAHGHICESFKSFCKDSGRNGVKLRANCKKTCGLC                         246.154   \nAAEFPDFYDSEEQMGPHQEAEDEKDRADQRVLTEEEKKELENLAAMD...               153.571   \nAAFFAQQKGLPTQQQNQVSPKAVSMIVNLEGCVRNPYKCPADVWTNG...               160.256   \nAAFRGCWTKNYSPKPCL                                                250.000   \nAAGMGFFGAR                                                         0.000   \nAAGNPSETGGAVATYSTAVGSFLDGTVKVVATGGASRVPGNCGTAAV...               230.000   \nAAKNKKEKGKKGASDCTEWTWGSCIPNSKDCGAGTREGTCKEETRKL...               230.769   \nAAKNKKEKGKKGASDCTEWTWGSCIPNSKDCGAGTREGTCKEETRKL...               230.769   \nAAKPMGITCDLLSLWKVGHAACAAHCLVLGDVGGYCTKEGLCVCKE                   195.000   \nAALKGCWTKSIPPKPCFGKR                                             185.714   \n\n                                                    _PolarizabilityD2100  ...  \\\nsequence                                                                  ...   \nAACSDRAHGHICESFKSFCKDSGRNGVKLRANCKKTCGLC                         307.692  ...   \nAAEFPDFYDSEEQMGPHQEAEDEKDRADQRVLTEEEKKELENLAAMD...               210.714  ...   \nAAFFAQQKGLPTQQQNQVSPKAVSMIVNLEGCVRNPYKCPADVWTNG...               216.667  ...   \nAAFRGCWTKNYSPKPCL                                                283.333  ...   \nAAGMGFFGAR                                                         0.000  ...   \nAAGNPSETGGAVATYSTAVGSFLDGTVKVVATGGASRVPGNCGTAAV...               290.000  ...   \nAAKNKKEKGKKGASDCTEWTWGSCIPNSKDCGAGTREGTCKEETRKL...               312.821  ...   \nAAKNKKEKGKKGASDCTEWTWGSCIPNSKDCGAGTREGTCKEETRKL...               312.821  ...   \nAAKPMGITCDLLSLWKVGHAACAAHCLVLGDVGGYCTKEGLCVCKE                   230.000  ...   \nAALKGCWTKSIPPKPCFGKR                                             228.571  ...   \n\n                                                    _HydrophobicityD2025  \\\nsequence                                                                   \nAACSDRAHGHICESFKSFCKDSGRNGVKLRANCKKTCGLC                          26.667   \nAAEFPDFYDSEEQMGPHQEAEDEKDRADQRVLTEEEKKELENLAAMD...                33.333   \nAAFFAQQKGLPTQQQNQVSPKAVSMIVNLEGCVRNPYKCPADVWTNG...                67.273   \nAAFRGCWTKNYSPKPCL                                                 25.000   \nAAGMGFFGAR                                                        16.667   \nAAGNPSETGGAVATYSTAVGSFLDGTVKVVATGGASRVPGNCGTAAV...                30.612   \nAAKNKKEKGKKGASDCTEWTWGSCIPNSKDCGAGTREGTCKEETRKL...                56.522   \nAAKNKKEKGKKGASDCTEWTWGSCIPNSKDCGAGTREGTCKEETRKL...                57.778   \nAAKPMGITCDLLSLWKVGHAACAAHCLVLGDVGGYCTKEGLCVCKE                    31.579   \nAALKGCWTKSIPPKPCFGKR                                              22.222   \n\n                                                    _HydrophobicityD2050  \\\nsequence                                                                   \nAACSDRAHGHICESFKSFCKDSGRNGVKLRANCKKTCGLC                          66.667   \nAAEFPDFYDSEEQMGPHQEAEDEKDRADQRVLTEEEKKELENLAAMD...               106.667   \nAAFFAQQKGLPTQQQNQVSPKAVSMIVNLEGCVRNPYKCPADVWTNG...               150.909   \nAAFRGCWTKNYSPKPCL                                                100.000   \nAAGMGFFGAR                                                        50.000   \nAAGNPSETGGAVATYSTAVGSFLDGTVKVVATGGASRVPGNCGTAAV...                71.429   \nAAKNKKEKGKKGASDCTEWTWGSCIPNSKDCGAGTREGTCKEETRKL...               132.609   \nAAKNKKEKGKKGASDCTEWTWGSCIPNSKDCGAGTREGTCKEETRKL...               135.556   \nAAKPMGITCDLLSLWKVGHAACAAHCLVLGDVGGYCTKEGLCVCKE                   105.263   \nAALKGCWTKSIPPKPCFGKR                                              88.889   \n\n                                                    _HydrophobicityD2075  \\\nsequence                                                                   \nAACSDRAHGHICESFKSFCKDSGRNGVKLRANCKKTCGLC                         153.333   \nAAEFPDFYDSEEQMGPHQEAEDEKDRADQRVLTEEEKKELENLAAMD...               220.000   \nAAFFAQQKGLPTQQQNQVSPKAVSMIVNLEGCVRNPYKCPADVWTNG...               214.545   \nAAFRGCWTKNYSPKPCL                                                150.000   \nAAGMGFFGAR                                                        83.333   \nAAGNPSETGGAVATYSTAVGSFLDGTVKVVATGGASRVPGNCGTAAV...               124.490   \nAAKNKKEKGKKGASDCTEWTWGSCIPNSKDCGAGTREGTCKEETRKL...               197.826   \nAAKNKKEKGKKGASDCTEWTWGSCIPNSKDCGAGTREGTCKEETRKL...               202.222   \nAAKPMGITCDLLSLWKVGHAACAAHCLVLGDVGGYCTKEGLCVCKE                   157.895   \nAALKGCWTKSIPPKPCFGKR                                             133.333   \n\n                                                    _HydrophobicityD2100  \\\nsequence                                                                   \nAACSDRAHGHICESFKSFCKDSGRNGVKLRANCKKTCGLC                         253.333   \nAAEFPDFYDSEEQMGPHQEAEDEKDRADQRVLTEEEKKELENLAAMD...               386.667   \nAAFFAQQKGLPTQQQNQVSPKAVSMIVNLEGCVRNPYKCPADVWTNG...               305.455   \nAAFRGCWTKNYSPKPCL                                                187.500   \nAAGMGFFGAR                                                       150.000   \nAAGNPSETGGAVATYSTAVGSFLDGTVKVVATGGASRVPGNCGTAAV...               173.469   \nAAKNKKEKGKKGASDCTEWTWGSCIPNSKDCGAGTREGTCKEETRKL...               260.870   \nAAKNKKEKGKKGASDCTEWTWGSCIPNSKDCGAGTREGTCKEETRKL...               266.667   \nAAKPMGITCDLLSLWKVGHAACAAHCLVLGDVGGYCTKEGLCVCKE                   210.526   \nAALKGCWTKSIPPKPCFGKR                                             200.000   \n\n                                                    _HydrophobicityD3001  \\\nsequence                                                                   \nAACSDRAHGHICESFKSFCKDSGRNGVKLRANCKKTCGLC                          25.000   \nAAEFPDFYDSEEQMGPHQEAEDEKDRADQRVLTEEEKKELENLAAMD...                33.333   \nAAFFAQQKGLPTQQQNQVSPKAVSMIVNLEGCVRNPYKCPADVWTNG...                 6.250   \nAAFRGCWTKNYSPKPCL                                                 60.000   \nAAGMGFFGAR                                                       133.333   \nAAGNPSETGGAVATYSTAVGSFLDGTVKVVATGGASRVPGNCGTAAV...                63.158   \nAAKNKKEKGKKGASDCTEWTWGSCIPNSKDCGAGTREGTCKEETRKL...                66.667   \nAAKNKKEKGKKGASDCTEWTWGSCIPNSKDCGAGTREGTCKEETRKL...                66.667   \nAAKPMGITCDLLSLWKVGHAACAAHCLVLGDVGGYCTKEGLCVCKE                    26.316   \nAALKGCWTKSIPPKPCFGKR                                              50.000   \n\n                                                    _HydrophobicityD3025  \\\nsequence                                                                   \nAACSDRAHGHICESFKSFCKDSGRNGVKLRANCKKTCGLC                         100.000   \nAAEFPDFYDSEEQMGPHQEAEDEKDRADQRVLTEEEKKELENLAAMD...               116.667   \nAAFFAQQKGLPTQQQNQVSPKAVSMIVNLEGCVRNPYKCPADVWTNG...                81.250   \nAAFRGCWTKNYSPKPCL                                                 60.000   \nAAGMGFFGAR                                                       233.333   \nAAGNPSETGGAVATYSTAVGSFLDGTVKVVATGGASRVPGNCGTAAV...               121.053   \nAAKNKKEKGKKGASDCTEWTWGSCIPNSKDCGAGTREGTCKEETRKL...               129.167   \nAAKNKKEKGKKGASDCTEWTWGSCIPNSKDCGAGTREGTCKEETRKL...               129.167   \nAAKPMGITCDLLSLWKVGHAACAAHCLVLGDVGGYCTKEGLCVCKE                    57.895   \nAALKGCWTKSIPPKPCFGKR                                              50.000   \n\n                                                    _HydrophobicityD3050  \\\nsequence                                                                   \nAACSDRAHGHICESFKSFCKDSGRNGVKLRANCKKTCGLC                         158.333   \nAAEFPDFYDSEEQMGPHQEAEDEKDRADQRVLTEEEKKELENLAAMD...               333.333   \nAAFFAQQKGLPTQQQNQVSPKAVSMIVNLEGCVRNPYKCPADVWTNG...               166.667   \nAAFRGCWTKNYSPKPCL                                                120.000   \nAAGMGFFGAR                                                       133.333   \nAAGNPSETGGAVATYSTAVGSFLDGTVKVVATGGASRVPGNCGTAAV...               221.053   \nAAKNKKEKGKKGASDCTEWTWGSCIPNSKDCGAGTREGTCKEETRKL...               229.167   \nAAKNKKEKGKKGASDCTEWTWGSCIPNSKDCGAGTREGTCKEETRKL...               229.167   \nAAKPMGITCDLLSLWKVGHAACAAHCLVLGDVGGYCTKEGLCVCKE                   115.789   \nAALKGCWTKSIPPKPCFGKR                                             116.667   \n\n                                                    _HydrophobicityD3075  \\\nsequence                                                                   \nAACSDRAHGHICESFKSFCKDSGRNGVKLRANCKKTCGLC                         275.000   \nAAEFPDFYDSEEQMGPHQEAEDEKDRADQRVLTEEEKKELENLAAMD...               400.000   \nAAFFAQQKGLPTQQQNQVSPKAVSMIVNLEGCVRNPYKCPADVWTNG...               279.167   \nAAFRGCWTKNYSPKPCL                                                140.000   \nAAGMGFFGAR                                                       200.000   \nAAGNPSETGGAVATYSTAVGSFLDGTVKVVATGGASRVPGNCGTAAV...               326.316   \nAAKNKKEKGKKGASDCTEWTWGSCIPNSKDCGAGTREGTCKEETRKL...               337.500   \nAAKNKKEKGKKGASDCTEWTWGSCIPNSKDCGAGTREGTCKEETRKL...               337.500   \nAAKPMGITCDLLSLWKVGHAACAAHCLVLGDVGGYCTKEGLCVCKE                   168.421   \nAALKGCWTKSIPPKPCFGKR                                             183.333   \n\n                                                    _HydrophobicityD3100  \\\nsequence                                                                   \nAACSDRAHGHICESFKSFCKDSGRNGVKLRANCKKTCGLC                         333.333   \nAAEFPDFYDSEEQMGPHQEAEDEKDRADQRVLTEEEKKELENLAAMD...               475.000   \nAAFFAQQKGLPTQQQNQVSPKAVSMIVNLEGCVRNPYKCPADVWTNG...               347.917   \nAAFRGCWTKNYSPKPCL                                                340.000   \nAAGMGFFGAR                                                       233.333   \nAAGNPSETGGAVATYSTAVGSFLDGTVKVVATGGASRVPGNCGTAAV...               452.632   \nAAKNKKEKGKKGASDCTEWTWGSCIPNSKDCGAGTREGTCKEETRKL...               445.833   \nAAKNKKEKGKKGASDCTEWTWGSCIPNSKDCGAGTREGTCKEETRKL...               445.833   \nAAKPMGITCDLLSLWKVGHAACAAHCLVLGDVGGYCTKEGLCVCKE                   231.579   \nAALKGCWTKSIPPKPCFGKR                                             283.333   \n\n                                                    labels  \nsequence                                                    \nAACSDRAHGHICESFKSFCKDSGRNGVKLRANCKKTCGLC               AMP  \nAAEFPDFYDSEEQMGPHQEAEDEKDRADQRVLTEEEKKELENLAAMD...     AMP  \nAAFFAQQKGLPTQQQNQVSPKAVSMIVNLEGCVRNPYKCPADVWTNG...     AMP  \nAAFRGCWTKNYSPKPCL                                      AMP  \nAAGMGFFGAR                                             AMP  \nAAGNPSETGGAVATYSTAVGSFLDGTVKVVATGGASRVPGNCGTAAV...     AMP  \nAAKNKKEKGKKGASDCTEWTWGSCIPNSKDCGAGTREGTCKEETRKL...     AMP  \nAAKNKKEKGKKGASDCTEWTWGSCIPNSKDCGAGTREGTCKEETRKL...     AMP  \nAAKPMGITCDLLSLWKVGHAACAAHCLVLGDVGGYCTKEGLCVCKE         AMP  \nAALKGCWTKSIPPKPCFGKR                                   AMP  \n\n[10 rows x 106 columns]\n"
     ],
     "output_type": "stream"
    }
   ],
   "source": [
    "def add_features_CTD():\n",
    "    dataset_in=r'datasets/test_AmPEP.csv'\n",
    "    rows_list = [] #creating an empty list of dataset rows\n",
    "\n",
    "    #opening dataset\n",
    "    with open(dataset_in) as csvfile:\n",
    "        spamreader = csv.reader(csvfile, delimiter=',', quotechar='|')\n",
    "        for row in spamreader:\n",
    "            res={'sequence':row[0]}\n",
    "            sequence=ReadSequence() #creating sequence object\n",
    "            ps=sequence.read_protein_sequence(row[0])\n",
    "            protein = Descriptor(ps) # creating object to calculate descriptors)\n",
    "            feature=protein.adaptable([32]) #CTD feature\n",
    "            res.update(feature)\n",
    "            rows_list.append(res)\n",
    "\n",
    "    df = pd.DataFrame(rows_list)\n",
    "    df.set_index(['sequence'],inplace=True)\n",
    "    labels=['AMP']*3268 + ['non_AMP']*9806 #adding labels to dataset\n",
    "\n",
    "\n",
    "    #select only D feature\n",
    "    d_cols = [col for col in df.columns if 'D' in col]\n",
    "    ignore=['_NormalizedVDWVC1','_NormalizedVDWVC2','_NormalizedVDWVC3','_NormalizedVDWVT12','_NormalizedVDWVT13','_NormalizedVDWVT23']\n",
    "\n",
    "    df=df[df.columns.intersection(d_cols)]\n",
    "    df=df.drop(columns=['_NormalizedVDWVC1','_NormalizedVDWVC2','_NormalizedVDWVC3','_NormalizedVDWVT12','_NormalizedVDWVT13','_NormalizedVDWVT23'])\n",
    "    df['labels'] = labels\n",
    "    dataset_out=r'test_AmPEP_CTD_D.csv'\n",
    "    df.to_csv(dataset_out,index=False)\n",
    "    print(df.shape)\n",
    "    print(df.head(10))\n",
    "\n",
    "add_features_CTD()"
   ]
  },
  {
   "cell_type": "code",
   "execution_count": 4,
   "metadata": {
    "pycharm": {
     "is_executing": false
    }
   },
   "outputs": [],
   "source": [
    "def add_features_all():\n",
    "    dataset_in=r'datasets/test_AmPEP.csv'\n",
    "    rows_list = [] #creating an empty list of dataset rows\n",
    "\n",
    "    #opening dataset\n",
    "    with open(dataset_in) as csvfile:\n",
    "        spamreader = csv.reader(csvfile, delimiter=',', quotechar='|')\n",
    "        for row in spamreader:\n",
    "            res={'sequence':row[0]}\n",
    "            sequence=ReadSequence() #creating sequence object\n",
    "            ps=sequence.read_protein_sequence(row[0])\n",
    "            protein = Descriptor(ps) # creating object to calculate descriptors)\n",
    "            feature=protein.adaptable([19,20,21,32,33]) #calculate dot know each features!!!!!!!\n",
    "            res.update(feature)\n",
    "            rows_list.append(res)\n",
    "\n",
    "    df = pd.DataFrame(rows_list)\n",
    "    df.to_csv(r'datasets/test_AmPEP_all__BACKUP.csv',index=False)\n",
    "\n",
    "    df.set_index(['sequence'],inplace=True)\n",
    "    labels=['AMP']*3268 + ['non_AMP']*9806 #adding labels to dataset\n",
    "    df['labels'] = labels\n",
    "\n",
    "    dataset_out=r'datasets/test_AmPEP_all.csv'\n",
    "    df.to_csv(dataset_out,index=False)\n",
    "    print(df.shape)\n",
    "add_features_all()"
   ]
  },
  {
   "cell_type": "code",
   "execution_count": 13,
   "metadata": {
    "pycharm": {
     "is_executing": false
    }
   },
   "outputs": [
    {
     "name": "stdout",
     "text": [
      "dataset original (13074, 1104)\ndataset after preprocess (13074, 581)\n"
     ],
     "output_type": "stream"
    }
   ],
   "source": [
    "def select_features():\n",
    "    dataset_in=r'datasets/test_AmPEP_all.csv'\n",
    "    dataset=pd.read_csv(dataset_in, delimiter=',')\n",
    "    #separate labels\n",
    "    labels=dataset['labels']\n",
    "    dataset=dataset.loc[:, dataset.columns != 'labels']\n",
    "\n",
    "    prepro=Preprocess() #Create Preprocess object\n",
    "\n",
    "    #do the preprocessing\n",
    "    dataset_clean,columns_deleted=prepro.preprocess(dataset, columns_names=True, threshold=0, standard=True)\n",
    "\n",
    "    dataset_clean['labels']=labels #put labels back\n",
    "\n",
    "    print('dataset original',dataset.shape)\n",
    "    print('dataset after preprocess',dataset_clean.shape)\n",
    "\n",
    "    pd.DataFrame(dataset_clean).to_csv(r'datasets/test_AmPEP_all_clean.csv',index=False)\n",
    "    \n",
    "    x_original=dataset_clean.loc[:, dataset_clean.columns != 'labels']\n",
    "    fselect=FeatureSelection(dataset_clean, x_original, labels)\n",
    "\n",
    "    # # #KBest com *mutual info classif*\n",
    "    X_fit_univariate, X_transf_univariate,column_selected,scores,dataset_features= \\\n",
    "        fselect.univariate(score_func=mutual_info_classif, mode='k_best', param=250)\n",
    "\n",
    "    # # Select from model L1\n",
    "    # model_svc=SVC(C=0.1, penalty=\"l1\", dual=False)\n",
    "    model_lr=LogisticRegression(C=0.1, penalty=\"l2\", dual=False)\n",
    "    #model= logistic regression\n",
    "    X_fit_model, X_transf_model,column_selected,feature_importances,feature_importances_DF,dataset_features= \\\n",
    "        fselect.select_from_model_feature_elimination( model=model_lr)\n",
    "\n",
    "    pd.DataFrame(dataset_features).to_csv(r'datasets/test_AmPEP_all_selected.csv',index=False)\n",
    "    #print(df.head(10))\n",
    "select_features()"
   ]
  },
  {
   "cell_type": "markdown",
   "metadata": {},
   "source": [
    "RF models were built using:\n",
    "            the parameters of the article\n",
    "            RF models performing grid search\n",
    "            The same features as in article (D from CTD)\n",
    "            CTD features\n",
    "            Adding a considerable number of features\n",
    "            \n",
    "            \n",
    "To mimic the model published, a RF model using the D from CTD descriptors with 105 estimators and sqrt as maximum number of features and a CV of 10 was built. \n",
    "This model obtained a sensitivity of 0.91, a specificity of 0.93, accuracy of 0.96, MCC of 0.90 and AUC-ROC of 0.95 against the test set. \n",
    "\n",
    "\n",
    "With the same descriptors but using a grid search approach, the model yielded the same results.\n",
    "\n",
    "\n",
    "Using all the CTD features with grid approach, a sensitivity of 0.98, a specificity of 0.93, accuracy of 0.96, MCC of 0.90 and AUC-ROC of 0.95 yielding as described in the article slightly better results. \n",
    "\n",
    "\n",
    "Using the dataset with more features, the resultant model achieved the same results.\n",
    "            \n",
    " "
   ]
  },
  {
   "cell_type": "code",
   "execution_count": 14,
   "metadata": {
    "pycharm": {
     "is_executing": false
    }
   },
   "outputs": [
    {
     "name": "stdout",
     "text": [
      "performing grid search...\n",
      "Best score rf (scorer: roc_auc) and parameters from a 10-fold cross validation:\nMCC score:\t0.989\nParameters:\t{'clf__max_features': 'sqrt', 'clf__n_estimators': 100}\n",
      "              Scores\nMCC             0.89\naccuracy        0.96\nprecision       0.97\nrecall          0.97\nf1              0.97\nroc_auc         0.95\nTN            916.00\nFP             81.00\nFN             80.00\nTP           2846.00\nFDR             0.03\nsensitivity     0.97\nspecificity     0.92\nperforming grid search...\n",
      "Best score rf (scorer: roc_auc) and parameters from a 10-fold cross validation:\nMCC score:\t0.989\nParameters:\t{'clf__bootstrap': True, 'clf__criterion': 'gini', 'clf__max_features': 'sqrt', 'clf__n_estimators': 500}\n",
      "              Scores\nMCC             0.90\naccuracy        0.96\nprecision       0.97\nrecall          0.97\nf1              0.97\nroc_auc         0.95\nTN            921.00\nFP             76.00\nFN             75.00\nTP           2851.00\nFDR             0.03\nsensitivity     0.97\nspecificity     0.92\nperforming grid search...\n",
      "Best score rf (scorer: roc_auc) and parameters from a 10-fold cross validation:\nMCC score:\t0.991\nParameters:\t{'clf__bootstrap': True, 'clf__criterion': 'gini', 'clf__max_features': 'log2', 'clf__n_estimators': 500}\n",
      "              Scores\nMCC             0.90\naccuracy        0.96\nprecision       0.97\nrecall          0.98\nf1              0.98\nroc_auc         0.95\nTN            920.00\nFP             77.00\nFN             65.00\nTP           2861.00\nFDR             0.03\nsensitivity     0.98\nspecificity     0.92\nperforming grid search...\n",
      "Best score rf (scorer: roc_auc) and parameters from a 10-fold cross validation:\nMCC score:\t0.991\nParameters:\t{'clf__bootstrap': True, 'clf__criterion': 'gini', 'clf__max_features': 'log2', 'clf__n_estimators': 500}\n",
      "              Scores\nMCC             0.90\naccuracy        0.96\nprecision       0.97\nrecall          0.98\nf1              0.98\nroc_auc         0.95\nTN            920.00\nFP             77.00\nFN             65.00\nTP           2861.00\nFDR             0.03\nsensitivity     0.98\nspecificity     0.92\n"
     ],
     "output_type": "stream"
    }
   ],
   "source": [
    "def machine_learning_rf(dataset_in, grid=None):\n",
    "    dataset = pd.read_csv(dataset_in, delimiter=',')\n",
    "    x_original=dataset.loc[:, dataset.columns != 'labels']\n",
    "\n",
    "    labels=dataset['labels']\n",
    "\n",
    "    ml=MachineLearning(x_original, labels,classes=['AMP','non_AMP'])\n",
    "\n",
    "    if grid == 'AmPEP':\n",
    "        #with parameters defined by article\n",
    "        param_grid = [{'clf__n_estimators': [100],\n",
    "                   'clf__max_features': ['sqrt']}]\n",
    "\n",
    "        #optimize MCC\n",
    "        #best_rf_model_AMPEPparameters=ml.train_best_model('rf',score=make_scorer(matthews_corrcoef),param_grid=param_grid)\n",
    "\n",
    "        #optimize ROC_AUC\n",
    "        best_rf_model_AMPEPparameters=ml.train_best_model('rf',param_grid=param_grid)\n",
    "        print(ml.score_testset(best_rf_model_AMPEPparameters))\n",
    "\n",
    "    else: \n",
    "        #with grid search\n",
    "        #optimize MCC\n",
    "        #best_rf_model = ml.train_best_model('rf')\n",
    "\n",
    "        #optimize ROC-AUC\n",
    "        best_rf_model = ml.train_best_model('rf')\n",
    "        print(ml.score_testset(best_rf_model))\n",
    "\n",
    "    \n",
    "# RF with only D features (AMPEP PARAMETERSS)\n",
    "machine_learning_rf('datasets/test_AmPEP_CTD_D.csv', grid = 'AmPEP' )\n",
    "# RF with only D features (GRID SEARCH)\n",
    "machine_learning_rf('datasets/test_AmPEP_CTD_D.csv')\n",
    "\n",
    "# RF with more features(PARAMETERS AMPEP)\n",
    "machine_learning_rf(r'datasets/test_AmPEP_all_selected.csv')\n",
    "# RF with more features(GRID SEARCH)\n",
    "machine_learning_rf(r'datasets/test_AmPEP_all_selected.csv')"
   ]
  },
  {
   "cell_type": "markdown",
   "metadata": {},
   "source": [
    "To test if a SVM model would outperformed a RF based one, SVM models using grid search were\n",
    "also simulated.\n",
    "\n",
    "This models used a grid search. With the models built using:\n",
    "            only the CTD features, the model obtained a sensitivity of 0.96, a specificity of 0.89, accuracy of 0.94, MCC of 0.86 and AUC-ROC of 0.93 against the test\n",
    "\n",
    "            the dataset with more features the model obtained a sensitivity of 0.96, a specificity of 0.91, accuracy of 0.95, MCC of 0.87 and AUC-ROC of 0.94 against the test set."
   ]
  },
  {
   "cell_type": "code",
   "execution_count": null,
   "outputs": [
    {
     "name": "stdout",
     "text": [
      "performing grid search...\n"
     ],
     "output_type": "stream"
    }
   ],
   "source": [
    "def machine_learning_svm(dataset_in):\n",
    "    dataset = pd.read_csv(dataset_in, delimiter=',')\n",
    "    x_original=dataset.loc[:, dataset.columns != 'labels']\n",
    "\n",
    "    labels=dataset['labels']\n",
    "\n",
    "    ml=MachineLearning(x_original, labels,classes=['AMP','non_AMP'])\n",
    "\n",
    "    #with grid search\n",
    "    param_range = [0.001, 0.01, 0.1, 1.0]\n",
    "\n",
    "    param_grid = [{'clf__C': param_range,\n",
    "                       'clf__kernel': ['linear'],\n",
    "                       'clf__gamma': param_range\n",
    "                       }]\n",
    "\n",
    "    best_svm_model = ml.train_best_model('svm',param_grid=param_grid, scaler=None)\n",
    "    print(ml.score_testset(best_svm_model))\n",
    "\n",
    "# SVM with only CTD features\n",
    "machine_learning_svm(r'datasets/test_AmPEP_CTD_D.csv')\n",
    "# SVM with all features\n",
    "machine_learning_svm(r'datasets/test_AmPEP_all_selected.csv')"
   ],
   "metadata": {
    "collapsed": false,
    "pycharm": {
     "name": "#%%\n",
     "is_executing": true
    }
   }
  },
  {
   "cell_type": "markdown",
   "source": [
    "The model mimicking the AmPEP predictive model yielded slightly different results,\n",
    "achieving more sensitivity but less specificity and having the same accuracy and MCC scores.\n",
    "\n",
    "This result shows that ProPythia can be used to build models as it performs with similar\n",
    "performance to the best ones described in literature. Taking the results into account, it is\n",
    "also notorious that adding more sequence descriptors in RF models did not lead to better\n",
    "models whereas in SVM models more features led to better performance results. Both SVM\n",
    "models performed worse than any RF model, which was also in concordance with article\n",
    "that reports RF models performing better than SVM ones. The small differences observed\n",
    "when using the same model may be due to the methods used to perform RF or the scoring\n",
    "functions used to choose the best performance models. In the article, the authors did not\n",
    "specify which measure they took into account to select the best models. Here, to perform\n",
    "grid search, MCC score was used.\n",
    "\n"
   ],
   "metadata": {
    "collapsed": false,
    "pycharm": {
     "name": "#%% md\n"
    }
   }
  }
 ],
 "metadata": {
  "kernelspec": {
   "display_name": "Python 3",
   "language": "python",
   "name": "python3"
  },
  "language_info": {
   "codemirror_mode": {
    "name": "ipython",
    "version": 3
   },
   "file_extension": ".py",
   "mimetype": "text/x-python",
   "name": "python",
   "nbconvert_exporter": "python",
   "pygments_lexer": "ipython3",
   "version": "3.7.6"
  },
  "pycharm": {
   "stem_cell": {
    "cell_type": "raw",
    "source": [],
    "metadata": {
     "collapsed": false
    }
   }
  }
 },
 "nbformat": 4,
 "nbformat_minor": 1
}