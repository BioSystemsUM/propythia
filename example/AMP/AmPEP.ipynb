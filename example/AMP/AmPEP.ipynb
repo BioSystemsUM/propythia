{
 "cells": [
  {
   "cell_type": "raw",
   "metadata": {},
   "source": [
    "\n",
    "File that describes the Antimicrobial peptides case study.\n",
    "This section will present a comparative analysis to demonstrate the application and performance of proPythia\n",
    "for addressing sequence-based prediction problems.\n",
    "\n",
    "\n",
    "The first case study is with antimicrobial peptides and tries to replicate the study made by P. Bhadra and all,\n",
    "“AMP: Sequence-based prediction of antimicrobial peptides using distribution patterns of amino acid properties\n",
    "and random forest” which is described to highly perform on AMP prediction methods.\n",
    "In the publication, Bhadra et al., used a dataset with a positive:negative ratio (AMP/non-AMP) of 1:3\n",
    ", based on the distribution patterns of aa properties along the sequence (CTD features),\n",
    "with a 10 fold cross validation RF model. The collection of data with sets of AMP and non-AMP data is freely\n",
    "available at https://sourceforge.net/projects/axpep/files/).\n",
    "Their model obtained a sensitivity of 0.95, a specificity and accuracy of 0.96, MCC of 0.9 and AUC-ROC of 0.98.\n",
    "\n",
    "\n",
    "P. Bhadra, J. Yan, J. Li, S. Fong, and S. W. Siu, “AMP: Sequence-based prediction\n",
    "of antimicrobial peptides using distribution patterns of amino acid properties and\n",
    "random forest,” Scientific Reports, vol. 8, no. 1, pp. 1–10, 2018."
   ]
  },
  {
   "cell_type": "code",
   "execution_count": 4,
   "metadata": {
    "pycharm": {
     "name": "#%%\n"
    }
   },
   "outputs": [
    {
     "ename": "ModuleNotFoundError",
     "evalue": "No module named 'propythia'",
     "output_type": "error",
     "traceback": [
      "\u001B[1;31m---------------------------------------------------------------------------\u001B[0m",
      "\u001B[1;31mModuleNotFoundError\u001B[0m                       Traceback (most recent call last)",
      "\u001B[1;32m<ipython-input-4-a504c2c0d698>\u001B[0m in \u001B[0;36m<module>\u001B[1;34m\u001B[0m\n\u001B[0;32m     15\u001B[0m \u001B[1;33m\u001B[0m\u001B[0m\n\u001B[0;32m     16\u001B[0m \u001B[0msys\u001B[0m\u001B[1;33m.\u001B[0m\u001B[0mpath\u001B[0m\u001B[1;33m.\u001B[0m\u001B[0mappend\u001B[0m\u001B[1;33m(\u001B[0m\u001B[1;34m'../propythia/src/propythia'\u001B[0m\u001B[1;33m)\u001B[0m\u001B[1;33m\u001B[0m\u001B[1;33m\u001B[0m\u001B[0m\n\u001B[1;32m---> 17\u001B[1;33m \u001B[1;32mfrom\u001B[0m \u001B[0mpropythia\u001B[0m\u001B[1;33m.\u001B[0m\u001B[0msequence\u001B[0m \u001B[1;32mimport\u001B[0m \u001B[0mReadSequence\u001B[0m\u001B[1;33m\u001B[0m\u001B[1;33m\u001B[0m\u001B[0m\n\u001B[0m\u001B[0;32m     18\u001B[0m \u001B[1;32mfrom\u001B[0m \u001B[0mpropythia\u001B[0m\u001B[1;33m.\u001B[0m\u001B[0mdescriptors\u001B[0m \u001B[1;32mimport\u001B[0m \u001B[0mDescriptor\u001B[0m\u001B[1;33m\u001B[0m\u001B[1;33m\u001B[0m\u001B[0m\n\u001B[0;32m     19\u001B[0m \u001B[1;32mfrom\u001B[0m \u001B[0mpropythia\u001B[0m\u001B[1;33m.\u001B[0m\u001B[0mpreprocess\u001B[0m \u001B[1;32mimport\u001B[0m \u001B[0mPreprocess\u001B[0m\u001B[1;33m\u001B[0m\u001B[1;33m\u001B[0m\u001B[0m\n",
      "\u001B[1;31mModuleNotFoundError\u001B[0m: No module named 'propythia'"
     ]
    }
   ],
   "source": [
    "import sys\n",
    "import os\n",
    "\n",
    "import csv\n",
    "import numpy as np\n",
    "import pandas as pd\n",
    "\n",
    "from sklearn.feature_selection import mutual_info_classif\n",
    "from sklearn.metrics import roc_curve, confusion_matrix\n",
    "from sklearn.model_selection import train_test_split\n",
    "from sklearn.metrics import make_scorer, matthews_corrcoef\n",
    "from sklearn.preprocessing import StandardScaler\n",
    "from sklearn.svm import LinearSVC\n",
    "from sklearn.ensemble import ExtraTreesClassifier\n",
    "\n",
    "from propythia.sequence import ReadSequence\n",
    "from propythia.descriptors import Descriptor\n",
    "from propythia.preprocess import Preprocess\n",
    "from propythia.feature_selection import FeatureSelection\n",
    "from propythia.shallow_ml import ShallowML\n",
    "from propythia.deep_ml import DeepML"
   ]
  },
  {
   "cell_type": "code",
   "execution_count": null,
   "metadata": {},
   "outputs": [],
   "source": []
  }
 ],
 "metadata": {
  "kernelspec": {
   "display_name": "Python 3",
   "language": "python",
   "name": "python3"
  },
  "language_info": {
   "codemirror_mode": {
    "name": "ipython",
    "version": 3
   },
   "file_extension": ".py",
   "mimetype": "text/x-python",
   "name": "python",
   "nbconvert_exporter": "python",
   "pygments_lexer": "ipython3",
   "version": "3.7.1"
  }
 },
 "nbformat": 4,
 "nbformat_minor": 1
}