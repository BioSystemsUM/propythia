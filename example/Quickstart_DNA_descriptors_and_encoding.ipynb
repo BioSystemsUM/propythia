{
 "cells": [
  {
   "cell_type": "code",
   "execution_count": 1,
   "metadata": {},
   "outputs": [],
   "source": [
    "import sys\n",
    "sys.path.append(r'/home/martinha/propythia/propythia/src/propythia/')\n",
    "sys.path.append(r'/home/martinha/propythia/propythia/src/')"
   ]
  },
  {
   "cell_type": "markdown",
   "metadata": {
    "pycharm": {
     "name": "#%% md\n"
    }
   },
   "source": [
    "# DNA physicochemical descriptors and encodings \n",
    "This jupyter notebook will demonstrate how to obtain dna sequence-based features and protein encoding with Propythia.\n",
    "\n",
    "All the DNA notebooks will use the dataset from the tutorial linked to the manuscript, A Primer on Deep Learning in Genomics (Nature Genetics, 2018) by James Zou, Mikael Huss, Abubakar Abid, Pejman Mohammadi, Ali Torkamani & Amalio Telentil.\n",
    "\n",
    "tutorial: https://colab.research.google.com/drive/17E4h5aAOioh5DiTo7MZg4hpL6Z_0FyWr#scrollTo=eiiwjw4yhX0P\n",
    "\n",
    "paper: https://www.nature.com/articles/s41588-018-0295-5\n",
    "\n",
    "This is a notebook that explains how to read a DNA sequence and calculate DNA descriptors or DNA encoders. These steps are necessary to use either ML or DL strategies afterwards.  The notebook includes:\n",
    "\n",
    "    Data reading and validation \n",
    "    DNA Descriptors\n",
    "    Encoders \n"
   ]
  },
  {
   "cell_type": "code",
   "execution_count": 3,
   "metadata": {
    "pycharm": {
     "name": "#%%\n"
    }
   },
   "outputs": [
    {
     "name": "stdout",
     "output_type": "stream",
     "text": [
      "The autoreload extension is already loaded. To reload it, use:\n",
      "  %reload_ext autoreload\n"
     ]
    }
   ],
   "source": [
    "%load_ext autoreload\n",
    "%autoreload 2\n",
    "\n",
    "import pandas as pd\n",
    "import numpy as np\n",
    "import json\n",
    "\n",
    "# from propythia.dna.descriptors import ProteinDescritors\n",
    "# from propythia.dna.encoding import Encoding"
   ]
  },
  {
   "cell_type": "markdown",
   "metadata": {},
   "source": [
    "## 1. Data reading and validation"
   ]
  },
  {
   "cell_type": "markdown",
   "metadata": {
    "pycharm": {
     "name": "#%% md\n"
    }
   },
   "source": [
    "The first step is to get the data.\n",
    "\n",
    "This module comprehends functions to read and to validate DNA sequences. \n",
    "\n",
    "First is necessary to create the object ReadDNA.\n"
   ]
  },
  {
   "cell_type": "code",
   "execution_count": 5,
   "metadata": {},
   "outputs": [],
   "source": [
    "from propythia.dna.sequence import ReadDNA\n",
    "reader = ReadDNA()"
   ]
  },
  {
   "cell_type": "markdown",
   "metadata": {},
   "source": [
    "It is possible to create sequence objects using a single DNA sequence, a *CSV* and a *FASTA* file. The single sequence is going to be validated (check if all letters belong to the DNA alphabet) and the output will be the sequence in upper case."
   ]
  },
  {
   "cell_type": "code",
   "execution_count": 6,
   "metadata": {},
   "outputs": [
    {
     "name": "stdout",
     "output_type": "stream",
     "text": [
      "ACGTACGAGCATGCAT\n"
     ]
    }
   ],
   "source": [
    "data = reader.read_sequence(\"ACGTACGAGCATGCAT\")\n",
    "print(data)"
   ]
  },
  {
   "cell_type": "markdown",
   "metadata": {},
   "source": [
    "With *CSV* there must be at least a column named 'sequence' in the file. The labels may also be retrieved and validated if the user wants them, but he must specify the `with_label` parameter as **True** and the column with the labels must be named 'label'."
   ]
  },
  {
   "cell_type": "code",
   "execution_count": 7,
   "metadata": {},
   "outputs": [
    {
     "name": "stdout",
     "output_type": "stream",
     "text": [
      "                                            sequence\n",
      "0  CCGAGGGCTATGGTTTGGAAGTTAGAACCCTGGGGCTTCTCGCGGA...\n",
      "1  GAGTTTATATGGCGCGAGCCTAGTGGTTTTTGTACTTGTTTGTCGC...\n",
      "2  GATCAGTAGGGAAACAAACAGAGGGCCCAGCCACATCTAGCAGGTA...\n",
      "3  GTCCACGACCGAACTCCCACCTTGACCGCAGAGGTACCACCAGAGC...\n",
      "4  GGCGACCGAACTCCAACTAGAACCTGCATAACTGGCCTGGGAGATA...\n",
      "(2000, 1)\n",
      "----------------------------------------------------------------------------------------------------\n",
      "                                            sequence  label\n",
      "0  CCGAGGGCTATGGTTTGGAAGTTAGAACCCTGGGGCTTCTCGCGGA...      0\n",
      "1  GAGTTTATATGGCGCGAGCCTAGTGGTTTTTGTACTTGTTTGTCGC...      0\n",
      "2  GATCAGTAGGGAAACAAACAGAGGGCCCAGCCACATCTAGCAGGTA...      0\n",
      "3  GTCCACGACCGAACTCCCACCTTGACCGCAGAGGTACCACCAGAGC...      1\n",
      "4  GGCGACCGAACTCCAACTAGAACCTGCATAACTGGCCTGGGAGATA...      1\n",
      "(2000, 2)\n"
     ]
    }
   ],
   "source": [
    "filename = \"primer/dataset.csv\"\n",
    "\n",
    "data = reader.read_csv(filename, with_labels=False)\n",
    "print(data.head())\n",
    "print(data.shape)\n",
    "\n",
    "print(\"-\" * 100)\n",
    "\n",
    "data = reader.read_csv(filename, with_labels=True)\n",
    "print(data.head())\n",
    "print(data.shape)"
   ]
  },
  {
   "cell_type": "markdown",
   "metadata": {},
   "source": [
    "The *FASTA* format is similar to the *CSV* format. It always reads the sequence, and the labels only if the user wants them. The *FASTA* format must be one of the following examples:\n",
    "\n",
    "```\n",
    ">sequence_id1\n",
    "ACTGACTGACTGACTGACTGACTGACTGACTGACTGACTG...\n",
    ">sequence_id2\n",
    "ACTGACTGACTGACTGACTGACTGACTGACTGACTGACTG...\n",
    "``` \n",
    "\n",
    "```\n",
    ">sequence_id1,label1\n",
    "ACTGACTGACTGACTGACTGACTGACTGACTGACTGACTG...\n",
    ">sequence_id2,label2\n",
    "ACTGACTGACTGACTGACTGACTGACTGACTGACTGACTG...\n",
    "``` "
   ]
  },
  {
   "cell_type": "code",
   "execution_count": 8,
   "metadata": {},
   "outputs": [
    {
     "name": "stdout",
     "output_type": "stream",
     "text": [
      "                                            sequence\n",
      "0  CCGAGGGCTATGGTTTGGAAGTTAGAACCCTGGGGCTTCTCGCGGA...\n",
      "1  GAGTTTATATGGCGCGAGCCTAGTGGTTTTTGTACTTGTTTGTCGC...\n",
      "2  GATCAGTAGGGAAACAAACAGAGGGCCCAGCCACATCTAGCAGGTA...\n",
      "3  GTCCACGACCGAACTCCCACCTTGACCGCAGAGGTACCACCAGAGC...\n",
      "4  GGCGACCGAACTCCAACTAGAACCTGCATAACTGGCCTGGGAGATA...\n",
      "(19, 1)\n",
      "----------------------------------------------------------------------------------------------------\n",
      "                                            sequence  label\n",
      "0  CCGAGGGCTATGGTTTGGAAGTTAGAACCCTGGGGCTTCTCGCGGA...      0\n",
      "1  GAGTTTATATGGCGCGAGCCTAGTGGTTTTTGTACTTGTTTGTCGC...      0\n",
      "2  GATCAGTAGGGAAACAAACAGAGGGCCCAGCCACATCTAGCAGGTA...      0\n",
      "3  GTCCACGACCGAACTCCCACCTTGACCGCAGAGGTACCACCAGAGC...      1\n",
      "4  GGCGACCGAACTCCAACTAGAACCTGCATAACTGGCCTGGGAGATA...      1\n",
      "(19, 2)\n"
     ]
    }
   ],
   "source": [
    "filename = \"primer/example.fasta\"\n",
    "data = reader.read_fasta(filename, with_labels=False)\n",
    "print(data.head())\n",
    "print(data.shape)\n",
    "\n",
    "print(\"-\" * 100)\n",
    "\n",
    "data = reader.read_fasta(filename, with_labels=True)\n",
    "print(data.head())\n",
    "print(data.shape)"
   ]
  },
  {
   "cell_type": "markdown",
   "metadata": {},
   "source": [
    "## 2. DNA Descriptors"
   ]
  },
  {
   "cell_type": "markdown",
   "metadata": {},
   "source": [
    "Descriptors are manually calculated and are an attempt to serve as features for the classification model. \n",
    "This module comprehends functions to computing different types of DNA descriptors. It receives a sequence object (from previous module) and retrieves a dictionary with name of feature and value. The user can calculate individual descriptors and also calculate all descriptors. It also lets the users to use define the physicochemical indices for the autocorrelation descriptors if the user doesn't want to use the default values or if he wants to add new ones. \n",
    "\n",
    "\n"
   ]
  },
  {
   "cell_type": "markdown",
   "metadata": {},
   "source": [
    "There are a total of 17 DNA implemented descriptors. They can be found below:\n",
    "\n",
    "<table>\n",
    "<thead>\n",
    "  <tr>\n",
    "    <th>Group</th>\n",
    "    <th>Name</th>\n",
    "    <th>Output type</th>\n",
    "  </tr>\n",
    "</thead>\n",
    "<tbody>\n",
    "  <tr>\n",
    "    <td rowspan=\"3\">Psycho Chemical</td>\n",
    "    <td>length</td>\n",
    "    <td>int</td>\n",
    "  </tr>\n",
    "  <tr>\n",
    "    <td>gc_content</td>\n",
    "    <td>float</td>\n",
    "  </tr>\n",
    "  <tr>\n",
    "    <td>at_content</td>\n",
    "    <td>float</td>\n",
    "  </tr>\n",
    "  <tr>\n",
    "    <td rowspan=\"6\">Nucleic Acid Composition</td>\n",
    "    <td>nucleic_acid_composition</td>\n",
    "    <td>dict</td>\n",
    "  </tr>\n",
    "  <tr>\n",
    "    <td>dinucleotide_composition</td>\n",
    "    <td>dict</td>\n",
    "  </tr>\n",
    "  <tr>\n",
    "    <td>trinucleotide_composition</td>\n",
    "    <td>dict</td>\n",
    "  </tr>\n",
    "  <tr>\n",
    "    <td>k_spaced_nucleic_acid_pairs</td>\n",
    "    <td>dict</td>\n",
    "  </tr>\n",
    "  <tr>\n",
    "    <td>kmer</td>\n",
    "    <td>dict</td>\n",
    "  </tr>\n",
    "  <tr>\n",
    "    <td>accumulated_nucleotide_frequency</td>\n",
    "    <td>list of dict</td>\n",
    "  </tr>\n",
    "  <tr>\n",
    "    <td rowspan=\"6\">Autocorrelation and Cross Covariance</td>\n",
    "    <td>DAC</td>\n",
    "    <td>list</td>\n",
    "  </tr>\n",
    "  <tr>\n",
    "    <td>DCC</td>\n",
    "    <td>list</td>\n",
    "  </tr>\n",
    "  <tr>\n",
    "    <td>DACC</td>\n",
    "    <td>list</td>\n",
    "  </tr>\n",
    "  <tr>\n",
    "    <td>TAC</td>\n",
    "    <td>list</td>\n",
    "  </tr>\n",
    "  <tr>\n",
    "    <td>TCC</td>\n",
    "    <td>list</td>\n",
    "  </tr>\n",
    "  <tr>\n",
    "    <td>TACC</td>\n",
    "    <td>list</td>\n",
    "  </tr>\n",
    "  <tr>\n",
    "    <td rowspan=\"2\">Pseudo Nucleic Acid Composition</td>\n",
    "    <td>PseDNC</td>\n",
    "    <td>dict</td>\n",
    "  </tr>\n",
    "  <tr>\n",
    "    <td>PseKNC</td>\n",
    "    <td>dict</td>\n",
    "  </tr>\n",
    "</tbody>\n",
    "</table>"
   ]
  },
  {
   "cell_type": "markdown",
   "metadata": {},
   "source": [
    "As mentioned above, the user can calculate all descriptors or individual descriptors. To calculate individual descriptors, the user must specify the name/names of the descriptor/descriptors in the `descriptor_list` parameter. If this parameter is not specified, the user will calculate all descriptors."
   ]
  },
  {
   "cell_type": "markdown",
   "metadata": {},
   "source": [
    "To calculate a single descriptor, called 'nucleic_acid_composition', for a single sequence, the user must do:"
   ]
  },
  {
   "cell_type": "code",
   "execution_count": 9,
   "metadata": {},
   "outputs": [
    {
     "name": "stdout",
     "output_type": "stream",
     "text": [
      "{\n",
      "    \"nucleic_acid_composition\": {\n",
      "        \"A\": 0.312,\n",
      "        \"C\": 0.25,\n",
      "        \"G\": 0.25,\n",
      "        \"T\": 0.188\n",
      "    }\n",
      "}\n"
     ]
    }
   ],
   "source": [
    "reader = ReadDNA()\n",
    "data = reader.read_sequence(\"ACGTACGAGCATGCAT\")\n",
    "\n",
    "from propythia.dna.descriptors import DNADescriptor\n",
    "calculator = DNADescriptor(data)\n",
    "\n",
    "descriptor_list = ['nucleic_acid_composition']\n",
    "result = calculator.get_descriptors(descriptor_list)\n",
    "print(json.dumps(result, indent=4))"
   ]
  },
  {
   "cell_type": "markdown",
   "metadata": {},
   "source": [
    "To calculate all of them, the user must leave the `descriptor_list` parameter empty."
   ]
  },
  {
   "cell_type": "code",
   "execution_count": 10,
   "metadata": {},
   "outputs": [
    {
     "name": "stdout",
     "output_type": "stream",
     "text": [
      "length 16\n",
      "----------------------------------------------------------------------------------------------------\n",
      "gc_content 0.5\n",
      "----------------------------------------------------------------------------------------------------\n",
      "at_content 0.5\n",
      "----------------------------------------------------------------------------------------------------\n",
      "nucleic_acid_composition {'A': 0.312, 'C': 0.25, 'G': 0.25, 'T': 0.188}\n",
      "----------------------------------------------------------------------------------------------------\n",
      "dinucleotide_composition {'AA': 0.0, 'AC': 0.133, 'AG': 0.067, 'AT': 0.133, 'CA': 0.133, 'CC': 0.0, 'CG': 0.133, 'CT': 0.0, 'GA': 0.067, 'GC': 0.133, 'GG': 0.0, 'GT': 0.067, 'TA': 0.067, 'TC': 0.0, 'TG': 0.067, 'TT': 0.0}\n",
      "----------------------------------------------------------------------------------------------------\n",
      "trinucleotide_composition {'AAA': 0.0, 'AAC': 0.0, 'AAG': 0.0, 'AAT': 0.0, 'ACA': 0.0, 'ACC': 0.0, 'ACG': 0.143, 'ACT': 0.0, 'AGA': 0.0, 'AGC': 0.071, 'AGG': 0.0, 'AGT': 0.0, 'ATA': 0.0, 'ATC': 0.0, 'ATG': 0.071, 'ATT': 0.0, 'CAA': 0.0, 'CAC': 0.0, 'CAG': 0.0, 'CAT': 0.143, 'CCA': 0.0, 'CCC': 0.0, 'CCG': 0.0, 'CCT': 0.0, 'CGA': 0.071, 'CGC': 0.0, 'CGG': 0.0, 'CGT': 0.071, 'CTA': 0.0, 'CTC': 0.0, 'CTG': 0.0, 'CTT': 0.0, 'GAA': 0.0, 'GAC': 0.0, 'GAG': 0.071, 'GAT': 0.0, 'GCA': 0.143, 'GCC': 0.0, 'GCG': 0.0, 'GCT': 0.0, 'GGA': 0.0, 'GGC': 0.0, 'GGG': 0.0, 'GGT': 0.0, 'GTA': 0.071, 'GTC': 0.0, 'GTG': 0.0, 'GTT': 0.0, 'TAA': 0.0, 'TAC': 0.071, 'TAG': 0.0, 'TAT': 0.0, 'TCA': 0.0, 'TCC': 0.0, 'TCG': 0.0, 'TCT': 0.0, 'TGA': 0.0, 'TGC': 0.071, 'TGG': 0.0, 'TGT': 0.0, 'TTA': 0.0, 'TTC': 0.0, 'TTG': 0.0, 'TTT': 0.0}\n",
      "----------------------------------------------------------------------------------------------------\n",
      "k_spaced_nucleic_acid_pairs {'AA': 0.0, 'AC': 0.133, 'AG': 0.067, 'AT': 0.133, 'CA': 0.133, 'CC': 0.0, 'CG': 0.133, 'CT': 0.0, 'GA': 0.067, 'GC': 0.133, 'GG': 0.0, 'GT': 0.067, 'TA': 0.067, 'TC': 0.0, 'TG': 0.067, 'TT': 0.0}\n",
      "----------------------------------------------------------------------------------------------------\n",
      "kmer {'AA': 0.0, 'AC': 0.133, 'AG': 0.067, 'AT': 0.133, 'CA': 0.133, 'CC': 0.0, 'CG': 0.133, 'CT': 0.0, 'GA': 0.067, 'GC': 0.133, 'GG': 0.0, 'GT': 0.067, 'TA': 0.067, 'TC': 0.0, 'TG': 0.067, 'TT': 0.0}\n",
      "----------------------------------------------------------------------------------------------------\n",
      "accumulated_nucleotide_frequency [{'A': 0.25, 'C': 0.25, 'G': 0.25, 'T': 0.25}, {'A': 0.375, 'C': 0.25, 'G': 0.25, 'T': 0.125}, {'A': 0.333, 'C': 0.25, 'G': 0.25, 'T': 0.167}]\n",
      "----------------------------------------------------------------------------------------------------\n",
      "DAC [-1.126, -0.614, 0.734, 0.629]\n",
      "----------------------------------------------------------------------------------------------------\n",
      "DCC [-0.901, -0.867, 0.734, 0.706]\n",
      "----------------------------------------------------------------------------------------------------\n",
      "DACC [-1.126, -0.614, 0.734, 0.629, -0.901, -0.867, 0.734, 0.706]\n",
      "----------------------------------------------------------------------------------------------------\n",
      "TAC [0.172, 0.142, 0.182, 0.14]\n",
      "----------------------------------------------------------------------------------------------------\n",
      "TCC [-0.091, -0.132, -0.115, -0.144]\n",
      "----------------------------------------------------------------------------------------------------\n",
      "TACC [0.172, 0.142, 0.182, 0.14, -0.091, -0.132, -0.115, -0.144]\n",
      "----------------------------------------------------------------------------------------------------\n",
      "PseDNC {'AA': 0.0, 'AC': 0.097, 'AG': 0.048, 'AT': 0.097, 'CA': 0.097, 'CC': 0.0, 'CG': 0.097, 'CT': 0.0, 'GA': 0.048, 'GC': 0.097, 'GG': 0.0, 'GT': 0.048, 'TA': 0.048, 'TC': 0.0, 'TG': 0.048, 'TT': 0.0, 'lambda.1': 0.127, 'lambda.2': 0.027, 'lambda.3': 0.12}\n",
      "----------------------------------------------------------------------------------------------------\n",
      "PseKNC {'AAA': 0.0, 'AAC': 0.0, 'AAG': 0.0, 'AAT': 0.0, 'ACA': 0.0, 'ACC': 0.0, 'ACG': 0.052, 'ACT': 0.0, 'AGA': 0.0, 'AGC': 0.026, 'AGG': 0.0, 'AGT': 0.0, 'ATA': 0.0, 'ATC': 0.0, 'ATG': 0.026, 'ATT': 0.0, 'CAA': 0.0, 'CAC': 0.0, 'CAG': 0.0, 'CAT': 0.052, 'CCA': 0.0, 'CCC': 0.0, 'CCG': 0.0, 'CCT': 0.0, 'CGA': 0.026, 'CGC': 0.0, 'CGG': 0.0, 'CGT': 0.026, 'CTA': 0.0, 'CTC': 0.0, 'CTG': 0.0, 'CTT': 0.0, 'GAA': 0.0, 'GAC': 0.0, 'GAG': 0.026, 'GAT': 0.0, 'GCA': 0.052, 'GCC': 0.0, 'GCG': 0.0, 'GCT': 0.0, 'GGA': 0.0, 'GGC': 0.0, 'GGG': 0.0, 'GGT': 0.0, 'GTA': 0.026, 'GTC': 0.0, 'GTG': 0.0, 'GTT': 0.0, 'TAA': 0.0, 'TAC': 0.026, 'TAG': 0.0, 'TAT': 0.0, 'TCA': 0.0, 'TCC': 0.0, 'TCG': 0.0, 'TCT': 0.0, 'TGA': 0.0, 'TGC': 0.026, 'TGG': 0.0, 'TGT': 0.0, 'TTA': 0.0, 'TTC': 0.0, 'TTG': 0.0, 'TTT': 0.0, 'lambda.1': 0.635}\n",
      "----------------------------------------------------------------------------------------------------\n"
     ]
    }
   ],
   "source": [
    "descriptor_list = []\n",
    "result = calculator.get_descriptors(descriptor_list)\n",
    "for key, val in result.items():\n",
    "    print(key, val)\n",
    "    print(\"-\" * 100)"
   ]
  },
  {
   "cell_type": "markdown",
   "metadata": {},
   "source": [
    "It is also possible to calculate the descriptors for the *CSV* and the *FASTA* files, which contains a list of sequences."
   ]
  },
  {
   "cell_type": "code",
   "execution_count": 11,
   "metadata": {},
   "outputs": [
    {
     "name": "stdout",
     "output_type": "stream",
     "text": [
      "CCGAGGGCTATGGTTTGGAAGTTAGAACCCTGGGGCTTCTCGCGGACACC\n",
      "{'nucleic_acid_composition': {'A': 0.18, 'C': 0.26, 'G': 0.34, 'T': 0.22}}\n",
      "----------------------------------------------------------------------------------------------------\n",
      "GAGTTTATATGGCGCGAGCCTAGTGGTTTTTGTACTTGTTTGTCGCGTCG\n",
      "{'nucleic_acid_composition': {'A': 0.12, 'C': 0.16, 'G': 0.32, 'T': 0.4}}\n",
      "----------------------------------------------------------------------------------------------------\n",
      "GATCAGTAGGGAAACAAACAGAGGGCCCAGCCACATCTAGCAGGTAGCCT\n",
      "{'nucleic_acid_composition': {'A': 0.34, 'C': 0.26, 'G': 0.28, 'T': 0.12}}\n",
      "----------------------------------------------------------------------------------------------------\n",
      "GTCCACGACCGAACTCCCACCTTGACCGCAGAGGTACCACCAGAGCCCTG\n",
      "{'nucleic_acid_composition': {'A': 0.24, 'C': 0.42, 'G': 0.22, 'T': 0.12}}\n",
      "----------------------------------------------------------------------------------------------------\n",
      "GGCGACCGAACTCCAACTAGAACCTGCATAACTGGCCTGGGAGATATGGT\n",
      "{'nucleic_acid_composition': {'A': 0.28, 'C': 0.26, 'G': 0.28, 'T': 0.18}}\n",
      "----------------------------------------------------------------------------------------------------\n",
      "AGACATTGTCAGAACTTAGTGTGCGCCGCACTGAGCGACCGAACTCCGAC\n",
      "{'nucleic_acid_composition': {'A': 0.26, 'C': 0.3, 'G': 0.26, 'T': 0.18}}\n",
      "----------------------------------------------------------------------------------------------------\n",
      "CCCGGCGAAGGCTGACGAATCCTCGACCGAACTCCAGTGAAGCCAACCGG\n",
      "{'nucleic_acid_composition': {'A': 0.26, 'C': 0.36, 'G': 0.28, 'T': 0.1}}\n",
      "----------------------------------------------------------------------------------------------------\n",
      "AGGCAGGTGGTCGTACAATGTTTTCGAAGAGATAGGGGGCCAGAGGCCTC\n",
      "{'nucleic_acid_composition': {'A': 0.24, 'C': 0.18, 'G': 0.38, 'T': 0.2}}\n",
      "----------------------------------------------------------------------------------------------------\n",
      "TACTGCCTATAGCGAAGAGCGCGAGAGGTATATCGAAGAATACCGAGCAA\n",
      "{'nucleic_acid_composition': {'A': 0.36, 'C': 0.2, 'G': 0.28, 'T': 0.16}}\n",
      "----------------------------------------------------------------------------------------------------\n",
      "CGTATCTTCGTGTGCTCTCCTTTAGAACTGCATCTCTAGAGTCAGAGAGG\n",
      "{'nucleic_acid_composition': {'A': 0.2, 'C': 0.24, 'G': 0.24, 'T': 0.32}}\n",
      "----------------------------------------------------------------------------------------------------\n"
     ]
    }
   ],
   "source": [
    "reader = ReadDNA()\n",
    "filename = 'primer/dataset.csv'\n",
    "data = reader.read_csv(filename=filename, with_labels=True)\n",
    "\n",
    "# get the sequences from the dataframe\n",
    "sequences = data['sequence'].to_list()\n",
    "\n",
    "# specify the descriptor list\n",
    "descriptor_list = ['nucleic_acid_composition']\n",
    "\n",
    "# only for the first 10 sequences\n",
    "for i in range(10):\n",
    "    sequence = sequences[i]\n",
    "    calculator = DNADescriptor(sequence)\n",
    "    \n",
    "    print(sequence)\n",
    "    print(calculator.get_descriptors(descriptor_list))\n",
    "    print(\"-\" * 100)"
   ]
  },
  {
   "cell_type": "markdown",
   "metadata": {},
   "source": [
    "## 3. Descriptors processing\n"
   ]
  },
  {
   "cell_type": "markdown",
   "metadata": {},
   "source": [
    "So far we have seen how to read and validate DNA sequences. We've also seen how to calculate descriptors from a single sequence or multiple sequences. Now, we can use the descriptors to train a model."
   ]
  },
  {
   "cell_type": "markdown",
   "metadata": {},
   "source": [
    "However, as seen above, when calculating the descriptors for multiple sequences, the result is a list of dictionaries and each dictionary holds the calculated descriptors for a single sequence. So, the next step is to convert this data structure to a dataframe.\n",
    "\n",
    "We can directly convert the list of dictionaries to a dataframe using the `pd.DataFrame()` function. The result of this step would be similar to the following:\n",
    "\n",
    "(considering only the first few columns)\n",
    "\n",
    "| sequence | length | gc_content | at_content | nucleic_acid_composition                         | ...\n",
    "|----------|--------|------------|------------|--------------------------------------------------|---\n",
    "| ACTGCGAT | 8      | 0.5        | 0.5        | {'A': 0.25, 'C': 0.25, 'T': 0.25, 'G': 0.25}     | ...\n",
    "| TTGTTACT | 8      | 0.25       | 0.75       | {'A': 0.125, 'C': 0.125, 'T': 0.125, 'G': 0.625} | ...\n",
    "| ...      | ...    | ...        | ...        | ...                                              | ..."
   ]
  },
  {
   "cell_type": "markdown",
   "metadata": {},
   "source": [
    "As we can see, some of the descriptors are not numerical values (e.g. 'nucleic_acid_composition'). Descriptors that produce dictionaries or lists still need be normalized because the model cannot process data in those forms."
   ]
  },
  {
   "cell_type": "markdown",
   "metadata": {},
   "source": [
    "To normalize the data, dicts and lists need to \"explode\" into more columns. \n",
    "​\n",
    "E.g. dicts:\n",
    "​\n",
    "| descriptor_hello |\n",
    "| ---------------- |\n",
    "| {'a': 1, 'b': 2} |\n",
    "​\n",
    "will be transformed into:\n",
    "​\n",
    "| descriptor_hello_a | descriptor_hello_b |\n",
    "| ------------------ | ------------------ |\n",
    "| 1                  | 2                  |\n",
    "​\n",
    "E.g. lists:\n",
    "​\n",
    "| descriptor_hello |\n",
    "| ---------------- |\n",
    "| [1, 2, 3]        |\n",
    "​\n",
    "will be transformed into:\n",
    "​\n",
    "| descriptor_hello_0 | descriptor_hello_1 | descriptor_hello_2 |\n",
    "| ------------------ | ------------------ | ------------------ |\n",
    "| 1                  | 2                  | 3                  |"
   ]
  },
  {
   "cell_type": "markdown",
   "metadata": {},
   "source": [
    "The `calculate_and_normalize` function will be used to calculate the descriptors and normalize them. It can be found in the `calculate_features.py` file."
   ]
  },
  {
   "cell_type": "code",
   "execution_count": 12,
   "metadata": {},
   "outputs": [
    {
     "name": "stdout",
     "output_type": "stream",
     "text": [
      "0 / 2000\n",
      "100 / 2000\n",
      "200 / 2000\n",
      "300 / 2000\n",
      "400 / 2000\n",
      "500 / 2000\n",
      "600 / 2000\n",
      "700 / 2000\n",
      "800 / 2000\n",
      "900 / 2000\n",
      "1000 / 2000\n",
      "1100 / 2000\n",
      "1200 / 2000\n",
      "1300 / 2000\n",
      "1400 / 2000\n",
      "1500 / 2000\n",
      "1600 / 2000\n",
      "1700 / 2000\n",
      "1800 / 2000\n",
      "1900 / 2000\n",
      "Done!\n"
     ]
    },
    {
     "data": {
      "text/html": [
       "<div>\n",
       "<style scoped>\n",
       "    .dataframe tbody tr th:only-of-type {\n",
       "        vertical-align: middle;\n",
       "    }\n",
       "\n",
       "    .dataframe tbody tr th {\n",
       "        vertical-align: top;\n",
       "    }\n",
       "\n",
       "    .dataframe thead th {\n",
       "        text-align: right;\n",
       "    }\n",
       "</style>\n",
       "<table border=\"1\" class=\"dataframe\">\n",
       "  <thead>\n",
       "    <tr style=\"text-align: right;\">\n",
       "      <th></th>\n",
       "      <th>length</th>\n",
       "      <th>gc_content</th>\n",
       "      <th>at_content</th>\n",
       "      <th>nucleic_acid_composition_A</th>\n",
       "      <th>nucleic_acid_composition_C</th>\n",
       "      <th>nucleic_acid_composition_G</th>\n",
       "      <th>nucleic_acid_composition_T</th>\n",
       "      <th>dinucleotide_composition_AA</th>\n",
       "      <th>dinucleotide_composition_AC</th>\n",
       "      <th>dinucleotide_composition_AG</th>\n",
       "      <th>...</th>\n",
       "      <th>accumulated_nucleotide_frequency_0_G</th>\n",
       "      <th>accumulated_nucleotide_frequency_0_T</th>\n",
       "      <th>accumulated_nucleotide_frequency_1_A</th>\n",
       "      <th>accumulated_nucleotide_frequency_1_C</th>\n",
       "      <th>accumulated_nucleotide_frequency_1_G</th>\n",
       "      <th>accumulated_nucleotide_frequency_1_T</th>\n",
       "      <th>accumulated_nucleotide_frequency_2_A</th>\n",
       "      <th>accumulated_nucleotide_frequency_2_C</th>\n",
       "      <th>accumulated_nucleotide_frequency_2_G</th>\n",
       "      <th>accumulated_nucleotide_frequency_2_T</th>\n",
       "    </tr>\n",
       "  </thead>\n",
       "  <tbody>\n",
       "    <tr>\n",
       "      <th>0</th>\n",
       "      <td>50</td>\n",
       "      <td>0.60</td>\n",
       "      <td>0.40</td>\n",
       "      <td>0.18</td>\n",
       "      <td>0.26</td>\n",
       "      <td>0.34</td>\n",
       "      <td>0.22</td>\n",
       "      <td>0.041</td>\n",
       "      <td>0.061</td>\n",
       "      <td>0.061</td>\n",
       "      <td>...</td>\n",
       "      <td>0.462</td>\n",
       "      <td>0.154</td>\n",
       "      <td>0.20</td>\n",
       "      <td>0.12</td>\n",
       "      <td>0.40</td>\n",
       "      <td>0.28</td>\n",
       "      <td>0.184</td>\n",
       "      <td>0.184</td>\n",
       "      <td>0.368</td>\n",
       "      <td>0.263</td>\n",
       "    </tr>\n",
       "    <tr>\n",
       "      <th>1</th>\n",
       "      <td>50</td>\n",
       "      <td>0.48</td>\n",
       "      <td>0.52</td>\n",
       "      <td>0.12</td>\n",
       "      <td>0.16</td>\n",
       "      <td>0.32</td>\n",
       "      <td>0.40</td>\n",
       "      <td>0.000</td>\n",
       "      <td>0.020</td>\n",
       "      <td>0.061</td>\n",
       "      <td>...</td>\n",
       "      <td>0.308</td>\n",
       "      <td>0.385</td>\n",
       "      <td>0.20</td>\n",
       "      <td>0.16</td>\n",
       "      <td>0.36</td>\n",
       "      <td>0.28</td>\n",
       "      <td>0.158</td>\n",
       "      <td>0.132</td>\n",
       "      <td>0.316</td>\n",
       "      <td>0.395</td>\n",
       "    </tr>\n",
       "    <tr>\n",
       "      <th>2</th>\n",
       "      <td>50</td>\n",
       "      <td>0.54</td>\n",
       "      <td>0.46</td>\n",
       "      <td>0.34</td>\n",
       "      <td>0.26</td>\n",
       "      <td>0.28</td>\n",
       "      <td>0.12</td>\n",
       "      <td>0.082</td>\n",
       "      <td>0.061</td>\n",
       "      <td>0.163</td>\n",
       "      <td>...</td>\n",
       "      <td>0.385</td>\n",
       "      <td>0.154</td>\n",
       "      <td>0.44</td>\n",
       "      <td>0.12</td>\n",
       "      <td>0.36</td>\n",
       "      <td>0.08</td>\n",
       "      <td>0.368</td>\n",
       "      <td>0.263</td>\n",
       "      <td>0.263</td>\n",
       "      <td>0.105</td>\n",
       "    </tr>\n",
       "    <tr>\n",
       "      <th>3</th>\n",
       "      <td>50</td>\n",
       "      <td>0.64</td>\n",
       "      <td>0.36</td>\n",
       "      <td>0.24</td>\n",
       "      <td>0.42</td>\n",
       "      <td>0.22</td>\n",
       "      <td>0.12</td>\n",
       "      <td>0.020</td>\n",
       "      <td>0.143</td>\n",
       "      <td>0.082</td>\n",
       "      <td>...</td>\n",
       "      <td>0.231</td>\n",
       "      <td>0.077</td>\n",
       "      <td>0.24</td>\n",
       "      <td>0.44</td>\n",
       "      <td>0.16</td>\n",
       "      <td>0.16</td>\n",
       "      <td>0.237</td>\n",
       "      <td>0.421</td>\n",
       "      <td>0.211</td>\n",
       "      <td>0.132</td>\n",
       "    </tr>\n",
       "    <tr>\n",
       "      <th>4</th>\n",
       "      <td>50</td>\n",
       "      <td>0.54</td>\n",
       "      <td>0.46</td>\n",
       "      <td>0.28</td>\n",
       "      <td>0.26</td>\n",
       "      <td>0.28</td>\n",
       "      <td>0.18</td>\n",
       "      <td>0.082</td>\n",
       "      <td>0.102</td>\n",
       "      <td>0.041</td>\n",
       "      <td>...</td>\n",
       "      <td>0.308</td>\n",
       "      <td>0.077</td>\n",
       "      <td>0.32</td>\n",
       "      <td>0.36</td>\n",
       "      <td>0.20</td>\n",
       "      <td>0.12</td>\n",
       "      <td>0.289</td>\n",
       "      <td>0.342</td>\n",
       "      <td>0.211</td>\n",
       "      <td>0.158</td>\n",
       "    </tr>\n",
       "    <tr>\n",
       "      <th>...</th>\n",
       "      <td>...</td>\n",
       "      <td>...</td>\n",
       "      <td>...</td>\n",
       "      <td>...</td>\n",
       "      <td>...</td>\n",
       "      <td>...</td>\n",
       "      <td>...</td>\n",
       "      <td>...</td>\n",
       "      <td>...</td>\n",
       "      <td>...</td>\n",
       "      <td>...</td>\n",
       "      <td>...</td>\n",
       "      <td>...</td>\n",
       "      <td>...</td>\n",
       "      <td>...</td>\n",
       "      <td>...</td>\n",
       "      <td>...</td>\n",
       "      <td>...</td>\n",
       "      <td>...</td>\n",
       "      <td>...</td>\n",
       "      <td>...</td>\n",
       "    </tr>\n",
       "    <tr>\n",
       "      <th>1995</th>\n",
       "      <td>50</td>\n",
       "      <td>0.66</td>\n",
       "      <td>0.34</td>\n",
       "      <td>0.16</td>\n",
       "      <td>0.26</td>\n",
       "      <td>0.40</td>\n",
       "      <td>0.18</td>\n",
       "      <td>0.000</td>\n",
       "      <td>0.020</td>\n",
       "      <td>0.082</td>\n",
       "      <td>...</td>\n",
       "      <td>0.538</td>\n",
       "      <td>0.154</td>\n",
       "      <td>0.12</td>\n",
       "      <td>0.20</td>\n",
       "      <td>0.52</td>\n",
       "      <td>0.16</td>\n",
       "      <td>0.184</td>\n",
       "      <td>0.211</td>\n",
       "      <td>0.421</td>\n",
       "      <td>0.184</td>\n",
       "    </tr>\n",
       "    <tr>\n",
       "      <th>1996</th>\n",
       "      <td>50</td>\n",
       "      <td>0.44</td>\n",
       "      <td>0.56</td>\n",
       "      <td>0.22</td>\n",
       "      <td>0.22</td>\n",
       "      <td>0.22</td>\n",
       "      <td>0.34</td>\n",
       "      <td>0.041</td>\n",
       "      <td>0.061</td>\n",
       "      <td>0.041</td>\n",
       "      <td>...</td>\n",
       "      <td>0.308</td>\n",
       "      <td>0.308</td>\n",
       "      <td>0.20</td>\n",
       "      <td>0.12</td>\n",
       "      <td>0.28</td>\n",
       "      <td>0.40</td>\n",
       "      <td>0.237</td>\n",
       "      <td>0.211</td>\n",
       "      <td>0.263</td>\n",
       "      <td>0.289</td>\n",
       "    </tr>\n",
       "    <tr>\n",
       "      <th>1997</th>\n",
       "      <td>50</td>\n",
       "      <td>0.46</td>\n",
       "      <td>0.54</td>\n",
       "      <td>0.18</td>\n",
       "      <td>0.24</td>\n",
       "      <td>0.22</td>\n",
       "      <td>0.36</td>\n",
       "      <td>0.020</td>\n",
       "      <td>0.061</td>\n",
       "      <td>0.041</td>\n",
       "      <td>...</td>\n",
       "      <td>0.154</td>\n",
       "      <td>0.231</td>\n",
       "      <td>0.16</td>\n",
       "      <td>0.36</td>\n",
       "      <td>0.16</td>\n",
       "      <td>0.32</td>\n",
       "      <td>0.132</td>\n",
       "      <td>0.263</td>\n",
       "      <td>0.211</td>\n",
       "      <td>0.395</td>\n",
       "    </tr>\n",
       "    <tr>\n",
       "      <th>1998</th>\n",
       "      <td>50</td>\n",
       "      <td>0.48</td>\n",
       "      <td>0.52</td>\n",
       "      <td>0.28</td>\n",
       "      <td>0.24</td>\n",
       "      <td>0.24</td>\n",
       "      <td>0.24</td>\n",
       "      <td>0.102</td>\n",
       "      <td>0.061</td>\n",
       "      <td>0.041</td>\n",
       "      <td>...</td>\n",
       "      <td>0.462</td>\n",
       "      <td>0.077</td>\n",
       "      <td>0.24</td>\n",
       "      <td>0.32</td>\n",
       "      <td>0.28</td>\n",
       "      <td>0.16</td>\n",
       "      <td>0.237</td>\n",
       "      <td>0.289</td>\n",
       "      <td>0.289</td>\n",
       "      <td>0.184</td>\n",
       "    </tr>\n",
       "    <tr>\n",
       "      <th>1999</th>\n",
       "      <td>50</td>\n",
       "      <td>0.60</td>\n",
       "      <td>0.40</td>\n",
       "      <td>0.22</td>\n",
       "      <td>0.32</td>\n",
       "      <td>0.28</td>\n",
       "      <td>0.18</td>\n",
       "      <td>0.041</td>\n",
       "      <td>0.082</td>\n",
       "      <td>0.041</td>\n",
       "      <td>...</td>\n",
       "      <td>0.231</td>\n",
       "      <td>0.154</td>\n",
       "      <td>0.24</td>\n",
       "      <td>0.36</td>\n",
       "      <td>0.20</td>\n",
       "      <td>0.20</td>\n",
       "      <td>0.184</td>\n",
       "      <td>0.368</td>\n",
       "      <td>0.263</td>\n",
       "      <td>0.184</td>\n",
       "    </tr>\n",
       "  </tbody>\n",
       "</table>\n",
       "<p>2000 rows × 247 columns</p>\n",
       "</div>"
      ],
      "text/plain": [
       "      length  gc_content  at_content  nucleic_acid_composition_A  \\\n",
       "0         50        0.60        0.40                        0.18   \n",
       "1         50        0.48        0.52                        0.12   \n",
       "2         50        0.54        0.46                        0.34   \n",
       "3         50        0.64        0.36                        0.24   \n",
       "4         50        0.54        0.46                        0.28   \n",
       "...      ...         ...         ...                         ...   \n",
       "1995      50        0.66        0.34                        0.16   \n",
       "1996      50        0.44        0.56                        0.22   \n",
       "1997      50        0.46        0.54                        0.18   \n",
       "1998      50        0.48        0.52                        0.28   \n",
       "1999      50        0.60        0.40                        0.22   \n",
       "\n",
       "      nucleic_acid_composition_C  nucleic_acid_composition_G  \\\n",
       "0                           0.26                        0.34   \n",
       "1                           0.16                        0.32   \n",
       "2                           0.26                        0.28   \n",
       "3                           0.42                        0.22   \n",
       "4                           0.26                        0.28   \n",
       "...                          ...                         ...   \n",
       "1995                        0.26                        0.40   \n",
       "1996                        0.22                        0.22   \n",
       "1997                        0.24                        0.22   \n",
       "1998                        0.24                        0.24   \n",
       "1999                        0.32                        0.28   \n",
       "\n",
       "      nucleic_acid_composition_T  dinucleotide_composition_AA  \\\n",
       "0                           0.22                        0.041   \n",
       "1                           0.40                        0.000   \n",
       "2                           0.12                        0.082   \n",
       "3                           0.12                        0.020   \n",
       "4                           0.18                        0.082   \n",
       "...                          ...                          ...   \n",
       "1995                        0.18                        0.000   \n",
       "1996                        0.34                        0.041   \n",
       "1997                        0.36                        0.020   \n",
       "1998                        0.24                        0.102   \n",
       "1999                        0.18                        0.041   \n",
       "\n",
       "      dinucleotide_composition_AC  dinucleotide_composition_AG  ...  \\\n",
       "0                           0.061                        0.061  ...   \n",
       "1                           0.020                        0.061  ...   \n",
       "2                           0.061                        0.163  ...   \n",
       "3                           0.143                        0.082  ...   \n",
       "4                           0.102                        0.041  ...   \n",
       "...                           ...                          ...  ...   \n",
       "1995                        0.020                        0.082  ...   \n",
       "1996                        0.061                        0.041  ...   \n",
       "1997                        0.061                        0.041  ...   \n",
       "1998                        0.061                        0.041  ...   \n",
       "1999                        0.082                        0.041  ...   \n",
       "\n",
       "      accumulated_nucleotide_frequency_0_G  \\\n",
       "0                                    0.462   \n",
       "1                                    0.308   \n",
       "2                                    0.385   \n",
       "3                                    0.231   \n",
       "4                                    0.308   \n",
       "...                                    ...   \n",
       "1995                                 0.538   \n",
       "1996                                 0.308   \n",
       "1997                                 0.154   \n",
       "1998                                 0.462   \n",
       "1999                                 0.231   \n",
       "\n",
       "      accumulated_nucleotide_frequency_0_T  \\\n",
       "0                                    0.154   \n",
       "1                                    0.385   \n",
       "2                                    0.154   \n",
       "3                                    0.077   \n",
       "4                                    0.077   \n",
       "...                                    ...   \n",
       "1995                                 0.154   \n",
       "1996                                 0.308   \n",
       "1997                                 0.231   \n",
       "1998                                 0.077   \n",
       "1999                                 0.154   \n",
       "\n",
       "      accumulated_nucleotide_frequency_1_A  \\\n",
       "0                                     0.20   \n",
       "1                                     0.20   \n",
       "2                                     0.44   \n",
       "3                                     0.24   \n",
       "4                                     0.32   \n",
       "...                                    ...   \n",
       "1995                                  0.12   \n",
       "1996                                  0.20   \n",
       "1997                                  0.16   \n",
       "1998                                  0.24   \n",
       "1999                                  0.24   \n",
       "\n",
       "      accumulated_nucleotide_frequency_1_C  \\\n",
       "0                                     0.12   \n",
       "1                                     0.16   \n",
       "2                                     0.12   \n",
       "3                                     0.44   \n",
       "4                                     0.36   \n",
       "...                                    ...   \n",
       "1995                                  0.20   \n",
       "1996                                  0.12   \n",
       "1997                                  0.36   \n",
       "1998                                  0.32   \n",
       "1999                                  0.36   \n",
       "\n",
       "      accumulated_nucleotide_frequency_1_G  \\\n",
       "0                                     0.40   \n",
       "1                                     0.36   \n",
       "2                                     0.36   \n",
       "3                                     0.16   \n",
       "4                                     0.20   \n",
       "...                                    ...   \n",
       "1995                                  0.52   \n",
       "1996                                  0.28   \n",
       "1997                                  0.16   \n",
       "1998                                  0.28   \n",
       "1999                                  0.20   \n",
       "\n",
       "      accumulated_nucleotide_frequency_1_T  \\\n",
       "0                                     0.28   \n",
       "1                                     0.28   \n",
       "2                                     0.08   \n",
       "3                                     0.16   \n",
       "4                                     0.12   \n",
       "...                                    ...   \n",
       "1995                                  0.16   \n",
       "1996                                  0.40   \n",
       "1997                                  0.32   \n",
       "1998                                  0.16   \n",
       "1999                                  0.20   \n",
       "\n",
       "      accumulated_nucleotide_frequency_2_A  \\\n",
       "0                                    0.184   \n",
       "1                                    0.158   \n",
       "2                                    0.368   \n",
       "3                                    0.237   \n",
       "4                                    0.289   \n",
       "...                                    ...   \n",
       "1995                                 0.184   \n",
       "1996                                 0.237   \n",
       "1997                                 0.132   \n",
       "1998                                 0.237   \n",
       "1999                                 0.184   \n",
       "\n",
       "      accumulated_nucleotide_frequency_2_C  \\\n",
       "0                                    0.184   \n",
       "1                                    0.132   \n",
       "2                                    0.263   \n",
       "3                                    0.421   \n",
       "4                                    0.342   \n",
       "...                                    ...   \n",
       "1995                                 0.211   \n",
       "1996                                 0.211   \n",
       "1997                                 0.263   \n",
       "1998                                 0.289   \n",
       "1999                                 0.368   \n",
       "\n",
       "      accumulated_nucleotide_frequency_2_G  \\\n",
       "0                                    0.368   \n",
       "1                                    0.316   \n",
       "2                                    0.263   \n",
       "3                                    0.211   \n",
       "4                                    0.211   \n",
       "...                                    ...   \n",
       "1995                                 0.421   \n",
       "1996                                 0.263   \n",
       "1997                                 0.211   \n",
       "1998                                 0.289   \n",
       "1999                                 0.263   \n",
       "\n",
       "      accumulated_nucleotide_frequency_2_T  \n",
       "0                                    0.263  \n",
       "1                                    0.395  \n",
       "2                                    0.105  \n",
       "3                                    0.132  \n",
       "4                                    0.158  \n",
       "...                                    ...  \n",
       "1995                                 0.184  \n",
       "1996                                 0.289  \n",
       "1997                                 0.395  \n",
       "1998                                 0.184  \n",
       "1999                                 0.184  \n",
       "\n",
       "[2000 rows x 247 columns]"
      ]
     },
     "execution_count": 12,
     "metadata": {},
     "output_type": "execute_result"
    }
   ],
   "source": [
    "reader = ReadDNA()\n",
    "filename = 'primer/dataset.csv'\n",
    "data = reader.read_csv(filename=filename, with_labels=True)\n",
    "\n",
    "# specify the descriptor list\n",
    "descriptor_list = []\n",
    "\n",
    "from propythia.dna.calculate_features import calculate_and_normalize\n",
    "fps_x, fps_y = calculate_and_normalize(data)\n",
    "\n",
    "fps_x"
   ]
  },
  {
   "cell_type": "markdown",
   "metadata": {},
   "source": [
    "The obtained dataframe contains all calculated descriptors for the input dataset. As we can see by the dataframe shape, it now contains 247 columns instead of just 17. This is because the descriptors are now normalized and the data is finally ready to be used by the model. It is also important to note that, regardless of the size of the sequences, the final dataframe will always have the same number of columns since the implemented descriptors produce always the same number of values.\n",
    "\n",
    "\n",
    "One needs also to take into account that scaling might be necessary! \n"
   ]
  },
  {
   "cell_type": "markdown",
   "metadata": {},
   "source": [
    "## 3. Encoders"
   ]
  },
  {
   "cell_type": "markdown",
   "metadata": {},
   "source": [
    "Deep learning models automatically extract features from the sequences, but it is necessary to build a representation of the sequences first due to the fact that models can't handle anything other than numerical values. Encoders are easily calculated and can serve as numerical representations of sequences, which can subsequently be used as model input."
   ]
  },
  {
   "cell_type": "markdown",
   "metadata": {},
   "source": [
    "This module comprehends functions to encode the DNA sequences. The encoding step is important because sequences need to be converted into a numerical value in order to create an input matrix for the model. The encoders that have been implemented are:\n",
    "\n",
    "- One-hot encoding\n",
    "- Chemical encoding\n",
    "- K-mer One-hot encoding\n",
    "\n",
    "Below there's an example for each of them.\n",
    "\n",
    "| Encoder             | Sequence | Encoded sequence                             |\n",
    "| ------------------- | -------- | -------------------------------------------- |\n",
    "| One-Hot             | ACGT     | [[1,0,0,0], [0,1,0,0], [0,0,1,0], [0,0,0,1]] |\n",
    "| Chemical            | ACGT     | [[1,1,1], [0,1,0], [1,0,0], [0,0,1]]         |\n",
    "| K-mer One-Hot (k=2) | ACGT     | [[0,1,0,0,0,0,0,0,0,0,0,0,0,0,0,0], [0,0,0,0,0,0,1,0,0,0,0,0,0,0,0,0], [0,0,0,0,0,0,0,0,0,0,0,1,0,0,0,0]] |"
   ]
  },
  {
   "cell_type": "markdown",
   "metadata": {},
   "source": [
    "### 3.1. One-hot encoding"
   ]
  },
  {
   "cell_type": "markdown",
   "metadata": {},
   "source": [
    "One-hot encoding is extensively used in deep learning models and is well suited for most models. It is a simple encoding that converts the DNA alphabet into a binary vector.\n",
    "\n",
    "A -> [1,0,0,0]\n",
    "C -> [0,1,0,0]\n",
    "G -> [0,0,1,0]\n",
    "T -> [0,0,0,1]"
   ]
  },
  {
   "cell_type": "markdown",
   "metadata": {},
   "source": [
    "To encode a sequence, we need first to create the object DNAEncoder."
   ]
  },
  {
   "cell_type": "code",
   "execution_count": 13,
   "metadata": {},
   "outputs": [],
   "source": [
    "from propythia.dna.encoding import DNAEncoder\n",
    "encoder = DNAEncoder('ACGTACGAGCATGCAT')"
   ]
  },
  {
   "cell_type": "markdown",
   "metadata": {},
   "source": [
    "Now, we only need to specify the encoder method (one-hot, chemical, k-mer one-hot)."
   ]
  },
  {
   "cell_type": "code",
   "execution_count": 14,
   "metadata": {},
   "outputs": [
    {
     "name": "stdout",
     "output_type": "stream",
     "text": [
      "[[1 0 0 0]\n",
      " [0 1 0 0]\n",
      " [0 0 1 0]\n",
      " [0 0 0 1]\n",
      " [1 0 0 0]\n",
      " [0 1 0 0]\n",
      " [0 0 1 0]\n",
      " [1 0 0 0]\n",
      " [0 0 1 0]\n",
      " [0 1 0 0]\n",
      " [1 0 0 0]\n",
      " [0 0 0 1]\n",
      " [0 0 1 0]\n",
      " [0 1 0 0]\n",
      " [1 0 0 0]\n",
      " [0 0 0 1]]\n"
     ]
    }
   ],
   "source": [
    "encoded_sequence = encoder.one_hot_encode()\n",
    "print(encoded_sequence)"
   ]
  },
  {
   "cell_type": "markdown",
   "metadata": {},
   "source": [
    "### 3.2. Chemical encoding"
   ]
  },
  {
   "cell_type": "markdown",
   "metadata": {},
   "source": [
    "The chemical encoding is a more complex encoding that uses the chemical properties of the DNA alphabet. Each letter is assigned a chemical property and the chemical properties are combined to create a vector. In a nutshell, the chemical properties are:\n",
    "\n",
    "<table>\n",
    "  <thead>\n",
    "    <tr>\n",
    "      <th>Chemical property</th>\n",
    "      <th>Class</th>\n",
    "      <th>Nucleotides</th>\n",
    "    </tr>\n",
    "  </thead>\n",
    "  <tbody>\n",
    "    <tr>\n",
    "      <td rowspan=\"2\">Ring structure</td>\n",
    "      <td>Purine</td>\n",
    "      <td>A, G</td>\n",
    "    </tr>\n",
    "    <tr>\n",
    "      <td>Pyrimidine</td>\n",
    "      <td>C, T</td>\n",
    "    </tr>\n",
    "    <tr>\n",
    "      <td rowspan=\"2\">Hydrogen bond</td>\n",
    "      <td>Weak</td>\n",
    "      <td>A, T</td>\n",
    "    </tr>\n",
    "    <tr>\n",
    "      <td>Strong</td>\n",
    "      <td>C, G</td>\n",
    "    </tr>\n",
    "    <tr>\n",
    "      <td rowspan=\"2\">Functional group</td>\n",
    "      <td>Amino</td>\n",
    "      <td>A, C</td>\n",
    "    </tr>\n",
    "    <tr>\n",
    "      <td>Keto</td>\n",
    "      <td>G, T</td>\n",
    "    </tr>\n",
    "  </tbody>\n",
    "</table>\n",
    "\n",
    "If the letter is in the list of the first nucleotides, it is assigned the value 1 and if it is in the list of the second nucleotides, it is assigned the value 0. \n",
    "\n",
    "- A -> [1, 1, 1]\n",
    "- C -> [0, 0, 1]\n",
    "- G -> [1, 0, 0]\n",
    "- T -> [0, 1, 0]"
   ]
  },
  {
   "cell_type": "markdown",
   "metadata": {},
   "source": [
    "The encoder object is already created so we just need to specify the encoder method."
   ]
  },
  {
   "cell_type": "code",
   "execution_count": 15,
   "metadata": {},
   "outputs": [
    {
     "name": "stdout",
     "output_type": "stream",
     "text": [
      "[[1 1 1]\n",
      " [0 0 1]\n",
      " [1 0 0]\n",
      " [0 1 0]\n",
      " [1 1 1]\n",
      " [0 0 1]\n",
      " [1 0 0]\n",
      " [1 1 1]\n",
      " [1 0 0]\n",
      " [0 0 1]\n",
      " [1 1 1]\n",
      " [0 1 0]\n",
      " [1 0 0]\n",
      " [0 0 1]\n",
      " [1 1 1]\n",
      " [0 1 0]]\n"
     ]
    }
   ],
   "source": [
    "encoded_sequence = encoder.chemical_encode()\n",
    "print(encoded_sequence)"
   ]
  },
  {
   "cell_type": "markdown",
   "metadata": {},
   "source": [
    "### 3.3. K-mer One-hot encoding"
   ]
  },
  {
   "cell_type": "markdown",
   "metadata": {},
   "source": [
    "Using one-hot encoding on DNA sequences solely preserves the positional information of each nucleotide. Recent investigations, however, have shown that including high-order dependencies among nucleotides may enhance the efficacy of DNA models. The K-mer One-hot encoding is a method that aims to overcome this problem.\n",
    "\n",
    "If k = 1,the encoder will create the same vector as the one-hot encoding.\n",
    "\n",
    "If k = 2, 16 dinucleotides will be created, and the encoder will create a vector with the following values:\n",
    "\n",
    "- AA = [1,0,0,0,0,0,0,0,0,0,0,0,0,0,0,0]\n",
    "- AC = [0,1,0,0,0,0,0,0,0,0,0,0,0,0,0,0]\n",
    "- AG = [0,0,1,0,0,0,0,0,0,0,0,0,0,0,0,0]\n",
    "- ...\n",
    "- TT = [0,0,0,0,0,0,0,0,0,0,0,0,0,0,0,1]\n",
    "\n",
    "If k = 3, 64 trinucleotides will be created, and the encoder will create a vector with the following values:\n",
    "\n",
    "- AAA = [1,0,0,0,...,0,0,0,0]\n",
    "- AAC = [0,1,0,0,...,0,0,0,0]\n",
    "- ...\n",
    "- TTT = [0,0,0,0,...,0,0,0,1]\n",
    "\n",
    "The value of K can be any integer greater than 1 and less than or equal to the length of the sequence."
   ]
  },
  {
   "cell_type": "code",
   "execution_count": 16,
   "metadata": {},
   "outputs": [
    {
     "data": {
      "text/plain": [
       "array([[0., 1., 0., 0., 0., 0., 0., 0., 0., 0., 0., 0., 0., 0., 0., 0.,\n",
       "        0., 0., 0., 0., 0., 0., 0., 0., 0.],\n",
       "       [0., 0., 0., 0., 0., 0., 0., 1., 0., 0., 0., 0., 0., 0., 0., 0.,\n",
       "        0., 0., 0., 0., 0., 0., 0., 0., 0.],\n",
       "       [0., 0., 0., 0., 0., 0., 0., 0., 0., 0., 0., 0., 0., 1., 0., 0.,\n",
       "        0., 0., 0., 0., 0., 0., 0., 0., 0.],\n",
       "       [0., 0., 0., 0., 0., 0., 0., 0., 0., 0., 0., 0., 0., 0., 0., 1.,\n",
       "        0., 0., 0., 0., 0., 0., 0., 0., 0.],\n",
       "       [0., 1., 0., 0., 0., 0., 0., 0., 0., 0., 0., 0., 0., 0., 0., 0.,\n",
       "        0., 0., 0., 0., 0., 0., 0., 0., 0.],\n",
       "       [0., 0., 0., 0., 0., 0., 0., 1., 0., 0., 0., 0., 0., 0., 0., 0.,\n",
       "        0., 0., 0., 0., 0., 0., 0., 0., 0.],\n",
       "       [0., 0., 0., 0., 0., 0., 0., 0., 0., 0., 1., 0., 0., 0., 0., 0.,\n",
       "        0., 0., 0., 0., 0., 0., 0., 0., 0.],\n",
       "       [0., 0., 1., 0., 0., 0., 0., 0., 0., 0., 0., 0., 0., 0., 0., 0.,\n",
       "        0., 0., 0., 0., 0., 0., 0., 0., 0.],\n",
       "       [0., 0., 0., 0., 0., 0., 0., 0., 0., 0., 0., 1., 0., 0., 0., 0.,\n",
       "        0., 0., 0., 0., 0., 0., 0., 0., 0.],\n",
       "       [0., 0., 0., 0., 0., 1., 0., 0., 0., 0., 0., 0., 0., 0., 0., 0.,\n",
       "        0., 0., 0., 0., 0., 0., 0., 0., 0.],\n",
       "       [0., 0., 0., 1., 0., 0., 0., 0., 0., 0., 0., 0., 0., 0., 0., 0.,\n",
       "        0., 0., 0., 0., 0., 0., 0., 0., 0.],\n",
       "       [0., 0., 0., 0., 0., 0., 0., 0., 0., 0., 0., 0., 0., 0., 0., 0.,\n",
       "        0., 1., 0., 0., 0., 0., 0., 0., 0.],\n",
       "       [0., 0., 0., 0., 0., 0., 0., 0., 0., 0., 0., 1., 0., 0., 0., 0.,\n",
       "        0., 0., 0., 0., 0., 0., 0., 0., 0.],\n",
       "       [0., 0., 0., 0., 0., 1., 0., 0., 0., 0., 0., 0., 0., 0., 0., 0.,\n",
       "        0., 0., 0., 0., 0., 0., 0., 0., 0.],\n",
       "       [0., 0., 0., 1., 0., 0., 0., 0., 0., 0., 0., 0., 0., 0., 0., 0.,\n",
       "        0., 0., 0., 0., 0., 0., 0., 0., 0.]])"
      ]
     },
     "execution_count": 16,
     "metadata": {},
     "output_type": "execute_result"
    }
   ],
   "source": [
    "encoded_sequence = encoder.kmer_one_hot_encode(k=2)\n",
    "encoded_sequence"
   ]
  },
  {
   "cell_type": "markdown",
   "metadata": {},
   "source": [
    "This module also allows the user to encode multiple sequences at once. The encoder can receive a column of a dataframe full of sequences and return an array of all encoded sequences."
   ]
  },
  {
   "cell_type": "code",
   "execution_count": 17,
   "metadata": {},
   "outputs": [
    {
     "name": "stdout",
     "output_type": "stream",
     "text": [
      "[[[0 1 0 0]\n",
      "  [0 0 1 0]\n",
      "  [1 0 0 0]\n",
      "  [0 1 0 0]\n",
      "  [0 0 1 0]\n",
      "  [1 0 0 0]\n",
      "  [0 0 0 1]\n",
      "  [0 0 1 0]\n",
      "  [0 1 0 0]\n",
      "  [1 0 0 0]\n",
      "  [0 0 0 1]]\n",
      "\n",
      " [[0 1 0 0]\n",
      "  [0 0 1 0]\n",
      "  [1 0 0 0]\n",
      "  [1 0 0 0]\n",
      "  [0 0 1 0]\n",
      "  [0 0 1 0]\n",
      "  [0 0 0 1]\n",
      "  [0 0 1 0]\n",
      "  [0 0 0 1]\n",
      "  [1 0 0 0]\n",
      "  [0 1 0 0]]\n",
      "\n",
      " [[1 0 0 0]\n",
      "  [0 0 1 0]\n",
      "  [0 0 0 1]\n",
      "  [1 0 0 0]\n",
      "  [0 0 1 0]\n",
      "  [0 0 1 0]\n",
      "  [0 0 1 0]\n",
      "  [0 0 1 0]\n",
      "  [0 0 0 1]\n",
      "  [1 0 0 0]\n",
      "  [1 0 0 0]]]\n"
     ]
    }
   ],
   "source": [
    "df = pd.DataFrame(\n",
    "    [\n",
    "        ['CGACGATGCAT', 1], \n",
    "        ['CGAAGGTGTAC', 0], \n",
    "        ['AGTAGGGGTAA', 1]\n",
    "    ], \n",
    "    columns=['sequence', 'labels']\n",
    ")\n",
    "\n",
    "column = df['sequence'].values\n",
    "encoder = DNAEncoder(column)\n",
    "encoded_sequences = encoder.one_hot_encode()\n",
    "print(encoded_sequences)"
   ]
  },
  {
   "cell_type": "markdown",
   "metadata": {},
   "source": [
    "\n",
    "\n",
    "So, at this point, the user can either choose to use encoders or descriptors to proceed to the next step. Using descriptors it would be something like:"
   ]
  },
  {
   "cell_type": "markdown",
   "metadata": {},
   "source": [
    "Using descriptors it would be something like:"
   ]
  },
  {
   "cell_type": "code",
   "execution_count": 18,
   "metadata": {},
   "outputs": [
    {
     "name": "stdout",
     "output_type": "stream",
     "text": [
      "0 / 2000\n",
      "100 / 2000\n",
      "200 / 2000\n",
      "300 / 2000\n",
      "400 / 2000\n",
      "500 / 2000\n",
      "600 / 2000\n",
      "700 / 2000\n",
      "800 / 2000\n",
      "900 / 2000\n",
      "1000 / 2000\n",
      "1100 / 2000\n",
      "1200 / 2000\n",
      "1300 / 2000\n",
      "1400 / 2000\n",
      "1500 / 2000\n",
      "1600 / 2000\n",
      "1700 / 2000\n",
      "1800 / 2000\n",
      "1900 / 2000\n",
      "Done!\n",
      "(2000, 247)\n"
     ]
    }
   ],
   "source": [
    "reader = ReadDNA()\n",
    "data = reader.read_csv(filename='primer/dataset.csv', with_labels=True)\n",
    "\n",
    "from propythia.dna.calculate_features import calculate_and_normalize\n",
    "from sklearn.preprocessing import StandardScaler\n",
    "\n",
    "fps_x, fps_y = calculate_and_normalize(data)\n",
    "\n",
    "scaler = StandardScaler().fit(fps_x)\n",
    "fps_x = scaler.transform(fps_x)\n",
    "fps_y = fps_y.to_numpy()\n",
    "print(fps_x.shape)"
   ]
  },
  {
   "cell_type": "markdown",
   "metadata": {},
   "source": [
    "Using encodings it would be something like:"
   ]
  },
  {
   "cell_type": "code",
   "execution_count": 19,
   "metadata": {},
   "outputs": [
    {
     "name": "stdout",
     "output_type": "stream",
     "text": [
      "(2000, 50, 4)\n"
     ]
    }
   ],
   "source": [
    "reader = ReadDNA()\n",
    "data = reader.read_csv(filename='primer/dataset.csv', with_labels=True)\n",
    "\n",
    "fps_x = data['sequence'].values\n",
    "fps_y = data['label'].values\n",
    "\n",
    "# choosing one hot encoding\n",
    "encoder = DNAEncoder(fps_x)\n",
    "fps_x = encoder.one_hot_encode()\n",
    "print(fps_x.shape)"
   ]
  },
  {
   "cell_type": "markdown",
   "metadata": {},
   "source": [
    "Now, with either physico chemical descriptors or encodings one can move on to ML and DL models. \n",
    "With physicochemical encodings one may need feature selection or dimensionality reduction.\n",
    "Please check the correspondent notebooks. "
   ]
  }
 ],
 "metadata": {
  "kernelspec": {
   "display_name": "propythia2",
   "language": "python",
   "name": "propythia2"
  },
  "language_info": {
   "codemirror_mode": {
    "name": "ipython",
    "version": 3
   },
   "file_extension": ".py",
   "mimetype": "text/x-python",
   "name": "python",
   "nbconvert_exporter": "python",
   "pygments_lexer": "ipython3",
   "version": "3.9.17"
  }
 },
 "nbformat": 4,
 "nbformat_minor": 1
}
