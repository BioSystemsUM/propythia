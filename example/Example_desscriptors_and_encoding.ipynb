{
 "cells": [
  {
   "cell_type": "markdown",
   "source": [
    "This jupyter notebook will demonstrate how to obtain protein sequence-based features and protein encoding by the application of Propythia."
   ],
   "metadata": {
    "collapsed": false,
    "pycharm": {
     "name": "#%% md\n"
    }
   }
  },
  {
   "cell_type": "code",
   "execution_count": 22,
   "outputs": [],
   "source": [
    "from propythia.sequence import ReadSequence\n",
    "from propythia.protein_descriptores import ProteinDescritors\n",
    "from propythia.protein_encoding import Encoding\n",
    "import pandas as pd\n",
    "import numpy as np"
   ],
   "metadata": {
    "collapsed": false,
    "pycharm": {
     "name": "#%%\n"
    }
   }
  },
  {
   "cell_type": "markdown",
   "source": [
    "First, it is needed the sequence data to calculate the features. Along this example will be used a pandas dataframe composed by 2 columns (one which contains protein sequences), a list of protein sequences and a single sequence."
   ],
   "metadata": {
    "collapsed": false,
    "pycharm": {
     "name": "#%% md\n"
    }
   }
  },
  {
   "cell_type": "code",
   "execution_count": 2,
   "outputs": [],
   "source": [
    "data = {'sequence': {0: 'MSYKPIAPAPSSTPGSSTPGPGTPVPTGSVPSPSGSVPGAGAPFRPLFNDFGPPSMGYVQAMKPPGAQGSQSTYTDLLSVIEEMGKEIRPTYAGSKSAMERLKRGIIHARALVRECLAETERNART',                           1:'MSDDLPIDIHSSKLLDWLVSRRHCNKDWQKSVVAIREKIKHAILDMPESPKIVELLQGAYINYFHCCQIIEILRDTEKDTKNFLGFYSSQRMKDWQEIEGMYKKDNVYLAEAAQILQRLAQYEIPALRKQISKMDQSVTDAIRKHSEYGKQAEDGRKQFEKEISRMQLKGVHLRKELLELAADLPAFYEKITAEIRKISAARDYFQAFRDYMSLGAAPKDAAPILPIIGLIGERGLDVTTYEWKYNQKPDKVEKPNFEMLLTAAEDSDEIDFGGGDEIDFGIAAEDDAVIDFSAVVDLVADDTGAVGEAIASGQDALHLLENSEAQKAVKHELIELLAFLSMRLDDETRETTADVLIRGAEKRPDGVAAVTEKRLKTWITEVEGILKELENPQKVHLFKIRGSPQYVEQVVEELEKKRDMEHRYKRLQTLMTENQETARQSVTKSNVELKTIVESTRVLQKQIEAEISKKYNGRRVNLMGGINQALGGN',                                2:'MPFDPAASPLSPSQARVLATLMEKARTVPDSYPMSLNGLLTGCNQKTSRDPVMALSEAQVQEALAALERLALVFENSGYRSPRWEHNFQRGAGVPEQSAVLLGLLMLRGPQTAAELRTNAERWYRFADISSVEAFLDELQQRSADKGGPLAVPLPRSPGTREQRWAHLLCGPVDAGRSNAGVEPVPAGVETLQERIGTLESELASLRATVQWLCQELGITPAPASMPQPGLPAGNGSPGS',                               3:'MIHFTKMHGLGNDFMVVDGVTQNVFFSPEQIRRLADRNFGIGFDQLLLVEPPYDPDLDFHYRIFNADGSEVEQCGNGARCFARFVRNKGLTQKNKIRVSTNSGKITLRIERDGNVTVNMGVPVIEPSQIPFKAKKSEKTYLLQTPMQTYLCGAISMGNPHCVIQVEDVQTVNVDEIGSSLTRHERFPKGVNVGFMQVINPGHIKLRVYERGAAETLACGTGACAAAAVGQLQDKLDKQVRVDLPGGSLIINWEGEGKPLWMTGPAEHVYDGQIQL',                             4:'MGSSTTEPDVGTTSNIETTTTLQNKNVNEVDQNKKSEQSNPSFKEVVLKDIGLGEATDLENVSDDVFNNYLAIRLERERKEIELLKESNLEKLSVIIKNCIECNSFTDETMKRLINLVDNNYNNSVHFSPKSKRRKLESTSPPMSSSSVPNKETNNIQQSNSYQLRNNYDEEQENQKSQTQGSKSLLSRPNIYSFPPKQTQPASQQHVQLAAIVQRQSTLTTPLSSTYGSNSNNSMNTQLPLSDKSLRSNVQEKIVQQGSMSQRDIINGSNMSSQYSSQVYPPGYYQTRYGQQMVVVYPDSDSPQINQTSTIQHQQQLPHTYPPHYHQQQQLHQNQLVPQQHQQLQQQSISKHQLFGQKNPMSPQSHYLPNNESQNLGVINHRRSFSSGTYPVVNSRSKSPDRSMPLTVQKQMNFLIHTPKHPPPT',                               5:'MSTNPIQPLLDVLYQGKSLNREQTAELFGALIRGEMSEAAMAGMLVALKMRGETIDEISGAADAMRAAAKPFPCPERNNNPLHNGIVDIVGTGGDGFNTINISTTAAFVAAAAGAKVAKHGNRSVSSKSGSSDLLAQFGIDLTMSPETASRCLDALNLCFLFAPHYHGGVKHAVPVRQALKTRTLFNVLGPLINPARPEFMLLGVYSPELVLPIAKVLKALGTKRAMVVHGSGLDEVALHGNTQVAELKDGDIVEYQLTPADLGVPLAQITDLEGGEPAQNALITEAILKGRGTEAHANAVAINAGCALYVCGIADSVKAGTLLALATIQSGKAFELLSQLAKVSGEALVNGQEKGR',                                6:'MPQRFIVVTGGVLSGIGKGIFSASLARILKDSGVNVNILKIDPYLNVDAGTMNPNQHGEVFVTDDGYEADLDLGHYERFLGINVSRKNNITAGQIYYSVIKREREGKYLGSTVQIVPHVTSEIKDRIKTMDGDLLVIEIGGTVGDIEGEVFLEAVRELAFEIGREKFHFVHVTYVPYLRTTNEFKTKPTQQSVQLLRRIGIHPDTIIVRTEMPIDANSLFKVSLFSGVPRNRVINLPDASNVYEVPDVLHSLNLHKLIAKELDIDINDRFNWSYPKSFELLKIGIVGKYLGTDDAYKSIIESIYLSGAQKPIVIDAQELEDMTDEQIKNYLDDFDALIIPGGFGRRGIEGKIKAIKYARENKKPILGICLGMQLMAIEFARNVGKLEGANSTEFDENTPYPVVNMMESQKEVLNLGGTMRLGAQKTQIMKGTLLSRIYDGQEVVYERHRHRYEVDAEAFPQLFKNPGEEGYKLTISARSDFVEAVELDDHPFFVGIQYHPEYKSKVGKPHPIFKWLVKAAGGKIND',                              7:'MTSLADLPVDVSPRHEGERIRSGDMYVELAGPKSFGAELFKVVDPDEIEPDKVEVIGPDIDEMEEGGRYPFAIYVKAAGEELEEDVEGVLERRIHEFCNYVEGFMHLNQRDQIWCRVSKNVTEKGFRLEHLGIALRELYKEEFGNVIDSVEVTIMTDEEKVEEFLEYARRVYKKRDERAKGLSEEDVNEFYVCLMCQSFAPTHVCVITPDRPSLCGSITWHDAKAAYKIDPEGPIFPIEKGECLDPEAGEYEGVNEAVKEHSQGTVERVYLHSCLEYPHTSCGCFQAVVFYIPEVDGFGIVDREYPGETPIGLPFSTMAGEASGGEQQPGFVGVSYGYMESDKFLQYDGGWERVVWMPKALKERMKHAIPDELYDKIATEEDATTVEELREFLEKVEHPVVERWAEEEEEEEEKAPEEEAPAEEPTMEVKELPIAPGGGLNVKIVLKNAKIYAEKVIIKRADREDKS',        8:'MGSADDRRFEVLRAIVADFVATKEPIGSKTLVERHNLGVSSATVRNDMAVLEAEGYITQPHTSSGRVPTEKGYREFVDRIDNVKPLSSSERRAILNFLESGVDLDDVLRRAVRLLAQLTRQVAIVQYPTLSTSSVRHLEVVALTPARLLLVVITDTGRVDQRIVELGDAIDEHELSKLRDMLGQAMEGKPLAQASIAVSDLASHLNGSDRLGDAVGRAATVLVETLVEHTEERLLLGGTANLTRNTADFGGSLRSVLEALEEQVVVLRLLAAQQEAGKVTVRIGHETEAEQMAGASVVSTAYGSSGKVYGGMGVVGPTRMDYPGTIANVAAVALYIGEVLGSR',\n",
    "9:'MDNIRNFSIIAHIDHGKSTLADRIIQLCGGLSDREMEAQVLDSMDIEKERGITIKAQTAALSYKARDGKVYNLNLIDTPGHVDFSYEVSRSLSACEGALLVVDASQGVEAQTVANCYTAIELGVEVVPVLNKIDLPAADPDNAIQEIEDVIGIDAADATRCSAKTGEGVADVLEALIAKVPAPKGDPAAPLQALIIDSWFDNYVGVVMLVRVVNGTLRAKDKVLLMATGAQHLVEQVGVFSPKSVPRESLSAGQVGFVIAGIKELKAAKVGDTITHVAPRKAEAPLPGFKEVKPQVFAGLYPVEANQYEALRESLEKLKLNDASLQYEPEVSQALGFGFRCGFLGLLHMEIVQERLEREFDMDLITTAPTVVYQVQLRDGTMVQVENPAKMPADPSKIEAILEPIVTVNLYMPQEYVGAVITLCEQKRGSQINMSYHGRQVQLTYEIPMGEIVLDFFDRLKSVSRGYASMDYEFKEYRVSDVVKVDILINGDKVDALSIIVHRSNSTYRGREVAAKMREIIPRQMYDVAIQAAIGANVIARENVKALRKNVLAKCYGGDISRKKKLLEKQKEGKKRMKQVGTVEIPQEAFLAILRVEEK'},'Is_transporter': {0: '0', 1: '0', 2: '0', 3: '0', 4: '0', 5: '0', 6: '0', 7: '0', 8: '0', 9: '0'}}\n",
    "\n",
    "dataframe_data = pd.DataFrame(data)\n",
    "\n",
    "list_data= ['MSDDLPIDIHSSKLLDWLVSRRHCNKDWQKSVVAIREKIKHAILDMPESPKIVELLQGAYINYFHCCQIIEILRDTEKDTKNFLGFYSSQRMKDWQEIEGMYKKDNVYLAEAAQILQRLAQYEIPALRKQISKMDQSVTDAIRKHSEYGKQAEDGRKQFEKEISRMQLKGVHLRKELLELAADLPAFYEKITAEIRKISAARDYFQAFRDYMSLGAAPKDAAPILPIIGLIGERGLDVTTYEWKYNQKPDKVEKPNFEMLLTAAEDSDEIDFGGGDEIDFGIAAEDDAVIDFSAVVDLVADDTGAVGEAIASGQDALHLLENSEAQKAVKHELIELLAFLSMRLDDETRETTADVLIRGAEKRPDGVAAVTEKRLKTWITEVEGILKELENPQKVHLFKIRGSPQYVEQVVEELEKKRDMEHRYKRLQTLMTENQETARQSVTKSNVELKTIVESTRVLQKQIEAEISKKYNGRRVNLMGGINQALGGN','MPFDPAASPLSPSQARVLATLMEKARTVPDSYPMSLNGLLTGCNQKTSRDPVMALSEAQVQEALAALERLALVFENSGYRSPRWEHNFQRGAGVPEQSAVLLGLLMLRGPQTAAELRTNAERWYRFADISSVEAFLDELQQRSADKGGPLAVPLPRSPGTREQRWAHLLCGPVDAGRSNAGVEPVPAGVETLQERIGTLESELASLRATVQWLCQELGITPAPASMPQPGLPAGNGSPGS','MSTNPIQPLLDVLYQGKSLNREQTAELFGALIRGEMSEAAMAGMLVALKMRGETIDEISGAADAMRAAAKPFPCPERNNNPLHNGIVDIVGTGGDGFNTINISTTAAFVAAAAGAKVAKHGNRSVSSKSGSSDLLAQFGIDLTMSPETASRCLDALNLCFLFAPHYHGGVKHAVPVRQALKTRTLFNVLGPLINPARPEFMLLGVYSPELVLPIAKVLKALGTKRAMVVHGSGLDEVALHGNTQVAELKDGDIVEYQLTPADLGVPLAQITDLEGGEPAQNALITEAILKGRGTEAHANAVAINAGCALYVCGIADSVKAGTLLALATIQSGKAFELLSQLAKVSGEALVNGQEKGR']\n",
    "\n",
    "sequence_data = 'MSTNPIQPLLDVLYQGKSLNREQTAELFGALIRGEMSEAAMAGMLVALKMRGETIDEISGAADAMRAAAKPFPCPERNNNPLHNGIVDIVGTGGDGFNTINISTTAAFVAAAAGAKVAKHGNRSVSSKSGSSDLLAQFGIDLTMSPETASRCLDALNLCFLFAPHYHGGVKHAVPVRQALKTRTLFNVLGPLINPARPEFMLLGVYSPELVLPIAKVLKALGTKRAMVVHGSGLDEVALHGNTQVAELKDGDIVEYQLTPADLGVPLAQITDLEGGEPAQNALITEAILKGRGTEAHANAVAINAGCALYVCGIADSVKAGTLLALATIQSGKAFELLSQLAKVSGEALVNGQEKGRBZUQJX'"
   ],
   "metadata": {
    "collapsed": false,
    "pycharm": {
     "name": "#%%\n"
    }
   }
  },
  {
   "cell_type": "markdown",
   "source": [
    "The module ReadSequence contains functions built to preprocess the protein sequences, by replacing or remove certain amino acids. The function \"par_preprocessing\" was designed to deal with pandas dataframes (it is required to specify the atribute dataset and the column of protein sequences) while the function \"get_preprocessing\" was designed to process only one sequence.\n",
    "\n",
    "The preprocessing phase may be required to calculate certain descriptors features or encodings."
   ],
   "metadata": {
    "collapsed": false,
    "pycharm": {
     "name": "#%% md\n"
    }
   }
  },
  {
   "cell_type": "code",
   "execution_count": 3,
   "outputs": [
    {
     "data": {
      "text/plain": "                                            sequence Is_transporter\n0  MSYKPIAPAPSSTPGSSTPGPGTPVPTGSVPSPSGSVPGAGAPFRP...              0\n1  MSDDLPIDIHSSKLLDWLVSRRHCNKDWQKSVVAIREKIKHAILDM...              0\n2  MPFDPAASPLSPSQARVLATLMEKARTVPDSYPMSLNGLLTGCNQK...              0\n3  MIHFTKMHGLGNDFMVVDGVTQNVFFSPEQIRRLADRNFGIGFDQL...              0\n4  MGSSTTEPDVGTTSNIETTTTLQNKNVNEVDQNKKSEQSNPSFKEV...              0\n5  MSTNPIQPLLDVLYQGKSLNREQTAELFGALIRGEMSEAAMAGMLV...              0\n6  MPQRFIVVTGGVLSGIGKGIFSASLARILKDSGVNVNILKIDPYLN...              0\n7  MTSLADLPVDVSPRHEGERIRSGDMYVELAGPKSFGAELFKVVDPD...              0\n8  MGSADDRRFEVLRAIVADFVATKEPIGSKTLVERHNLGVSSATVRN...              0\n9  MDNIRNFSIIAHIDHGKSTLADRIIQLCGGLSDREMEAQVLDSMDI...              0",
      "text/html": "<div>\n<style scoped>\n    .dataframe tbody tr th:only-of-type {\n        vertical-align: middle;\n    }\n\n    .dataframe tbody tr th {\n        vertical-align: top;\n    }\n\n    .dataframe thead th {\n        text-align: right;\n    }\n</style>\n<table border=\"1\" class=\"dataframe\">\n  <thead>\n    <tr style=\"text-align: right;\">\n      <th></th>\n      <th>sequence</th>\n      <th>Is_transporter</th>\n    </tr>\n  </thead>\n  <tbody>\n    <tr>\n      <th>0</th>\n      <td>MSYKPIAPAPSSTPGSSTPGPGTPVPTGSVPSPSGSVPGAGAPFRP...</td>\n      <td>0</td>\n    </tr>\n    <tr>\n      <th>1</th>\n      <td>MSDDLPIDIHSSKLLDWLVSRRHCNKDWQKSVVAIREKIKHAILDM...</td>\n      <td>0</td>\n    </tr>\n    <tr>\n      <th>2</th>\n      <td>MPFDPAASPLSPSQARVLATLMEKARTVPDSYPMSLNGLLTGCNQK...</td>\n      <td>0</td>\n    </tr>\n    <tr>\n      <th>3</th>\n      <td>MIHFTKMHGLGNDFMVVDGVTQNVFFSPEQIRRLADRNFGIGFDQL...</td>\n      <td>0</td>\n    </tr>\n    <tr>\n      <th>4</th>\n      <td>MGSSTTEPDVGTTSNIETTTTLQNKNVNEVDQNKKSEQSNPSFKEV...</td>\n      <td>0</td>\n    </tr>\n    <tr>\n      <th>5</th>\n      <td>MSTNPIQPLLDVLYQGKSLNREQTAELFGALIRGEMSEAAMAGMLV...</td>\n      <td>0</td>\n    </tr>\n    <tr>\n      <th>6</th>\n      <td>MPQRFIVVTGGVLSGIGKGIFSASLARILKDSGVNVNILKIDPYLN...</td>\n      <td>0</td>\n    </tr>\n    <tr>\n      <th>7</th>\n      <td>MTSLADLPVDVSPRHEGERIRSGDMYVELAGPKSFGAELFKVVDPD...</td>\n      <td>0</td>\n    </tr>\n    <tr>\n      <th>8</th>\n      <td>MGSADDRRFEVLRAIVADFVATKEPIGSKTLVERHNLGVSSATVRN...</td>\n      <td>0</td>\n    </tr>\n    <tr>\n      <th>9</th>\n      <td>MDNIRNFSIIAHIDHGKSTLADRIIQLCGGLSDREMEAQVLDSMDI...</td>\n      <td>0</td>\n    </tr>\n  </tbody>\n</table>\n</div>"
     },
     "execution_count": 3,
     "metadata": {},
     "output_type": "execute_result"
    }
   ],
   "source": [
    "read_seqs = ReadSequence()\n",
    "res = read_seqs.par_preprocessing(dataset= dataframe_data, col = 'sequence', B ='N', Z = 'Q', U = 'C', O = 'K', J = 'I', X = '')\n",
    "res"
   ],
   "metadata": {
    "collapsed": false,
    "pycharm": {
     "name": "#%%\n"
    }
   }
  },
  {
   "cell_type": "code",
   "execution_count": 4,
   "outputs": [
    {
     "data": {
      "text/plain": "'MSTNPIQPLLDVLYQGKSLNREQTAELFGALIRGEMSEAAMAGMLVALKMRGETIDEISGAADAMRAAAKPFPCPERNNNPLHNGIVDIVGTGGDGFNTINISTTAAFVAAAAGAKVAKHGNRSVSSKSGSSDLLAQFGIDLTMSPETASRCLDALNLCFLFAPHYHGGVKHAVPVRQALKTRTLFNVLGPLINPARPEFMLLGVYSPELVLPIAKVLKALGTKRAMVVHGSGLDEVALHGNTQVAELKDGDIVEYQLTPADLGVPLAQITDLEGGEPAQNALITEAILKGRGTEAHANAVAINAGCALYVCGIADSVKAGTLLALATIQSGKAFELLSQLAKVSGEALVNGQEKGRNQCQI'"
     },
     "execution_count": 4,
     "metadata": {},
     "output_type": "execute_result"
    }
   ],
   "source": [
    "res = read_seqs.get_preprocessing(ProteinSequence= sequence_data, B ='N', Z = 'Q', U = 'C', O = 'K', J = 'I', X = '')\n",
    "res"
   ],
   "metadata": {
    "collapsed": false,
    "pycharm": {
     "name": "#%%\n"
    }
   }
  },
  {
   "cell_type": "markdown",
   "source": [
    "The module ProteinDescriptors is responsible to perform the calculation of various sequence-based descriptors.\n",
    "\n",
    "The module accepts as dataset a pandas dataframe, list of sequences and a sequence (string) as dataset. The parameter col is the name of the column to store the sequences, or the column where the sequences are present (pandas dataframe)."
   ],
   "metadata": {
    "collapsed": false,
    "pycharm": {
     "name": "#%% md\n"
    }
   }
  },
  {
   "cell_type": "code",
   "execution_count": 5,
   "outputs": [
    {
     "data": {
      "text/plain": "                                            sequence Is_transporter\n0  MSYKPIAPAPSSTPGSSTPGPGTPVPTGSVPSPSGSVPGAGAPFRP...              0\n1  MSDDLPIDIHSSKLLDWLVSRRHCNKDWQKSVVAIREKIKHAILDM...              0\n2  MPFDPAASPLSPSQARVLATLMEKARTVPDSYPMSLNGLLTGCNQK...              0\n3  MIHFTKMHGLGNDFMVVDGVTQNVFFSPEQIRRLADRNFGIGFDQL...              0\n4  MGSSTTEPDVGTTSNIETTTTLQNKNVNEVDQNKKSEQSNPSFKEV...              0\n5  MSTNPIQPLLDVLYQGKSLNREQTAELFGALIRGEMSEAAMAGMLV...              0\n6  MPQRFIVVTGGVLSGIGKGIFSASLARILKDSGVNVNILKIDPYLN...              0\n7  MTSLADLPVDVSPRHEGERIRSGDMYVELAGPKSFGAELFKVVDPD...              0\n8  MGSADDRRFEVLRAIVADFVATKEPIGSKTLVERHNLGVSSATVRN...              0\n9  MDNIRNFSIIAHIDHGKSTLADRIIQLCGGLSDREMEAQVLDSMDI...              0",
      "text/html": "<div>\n<style scoped>\n    .dataframe tbody tr th:only-of-type {\n        vertical-align: middle;\n    }\n\n    .dataframe tbody tr th {\n        vertical-align: top;\n    }\n\n    .dataframe thead th {\n        text-align: right;\n    }\n</style>\n<table border=\"1\" class=\"dataframe\">\n  <thead>\n    <tr style=\"text-align: right;\">\n      <th></th>\n      <th>sequence</th>\n      <th>Is_transporter</th>\n    </tr>\n  </thead>\n  <tbody>\n    <tr>\n      <th>0</th>\n      <td>MSYKPIAPAPSSTPGSSTPGPGTPVPTGSVPSPSGSVPGAGAPFRP...</td>\n      <td>0</td>\n    </tr>\n    <tr>\n      <th>1</th>\n      <td>MSDDLPIDIHSSKLLDWLVSRRHCNKDWQKSVVAIREKIKHAILDM...</td>\n      <td>0</td>\n    </tr>\n    <tr>\n      <th>2</th>\n      <td>MPFDPAASPLSPSQARVLATLMEKARTVPDSYPMSLNGLLTGCNQK...</td>\n      <td>0</td>\n    </tr>\n    <tr>\n      <th>3</th>\n      <td>MIHFTKMHGLGNDFMVVDGVTQNVFFSPEQIRRLADRNFGIGFDQL...</td>\n      <td>0</td>\n    </tr>\n    <tr>\n      <th>4</th>\n      <td>MGSSTTEPDVGTTSNIETTTTLQNKNVNEVDQNKKSEQSNPSFKEV...</td>\n      <td>0</td>\n    </tr>\n    <tr>\n      <th>5</th>\n      <td>MSTNPIQPLLDVLYQGKSLNREQTAELFGALIRGEMSEAAMAGMLV...</td>\n      <td>0</td>\n    </tr>\n    <tr>\n      <th>6</th>\n      <td>MPQRFIVVTGGVLSGIGKGIFSASLARILKDSGVNVNILKIDPYLN...</td>\n      <td>0</td>\n    </tr>\n    <tr>\n      <th>7</th>\n      <td>MTSLADLPVDVSPRHEGERIRSGDMYVELAGPKSFGAELFKVVDPD...</td>\n      <td>0</td>\n    </tr>\n    <tr>\n      <th>8</th>\n      <td>MGSADDRRFEVLRAIVADFVATKEPIGSKTLVERHNLGVSSATVRN...</td>\n      <td>0</td>\n    </tr>\n    <tr>\n      <th>9</th>\n      <td>MDNIRNFSIIAHIDHGKSTLADRIIQLCGGLSDREMEAQVLDSMDI...</td>\n      <td>0</td>\n    </tr>\n  </tbody>\n</table>\n</div>"
     },
     "execution_count": 5,
     "metadata": {},
     "output_type": "execute_result"
    }
   ],
   "source": [
    "descriptors_df = ProteinDescritors(dataset= dataframe_data ,  col= 'sequence')\n",
    "descriptors_df.dataset"
   ],
   "metadata": {
    "collapsed": false,
    "pycharm": {
     "name": "#%%\n"
    }
   }
  },
  {
   "cell_type": "code",
   "execution_count": 6,
   "outputs": [
    {
     "data": {
      "text/plain": "                                                seqs\n0  MSDDLPIDIHSSKLLDWLVSRRHCNKDWQKSVVAIREKIKHAILDM...\n1  MPFDPAASPLSPSQARVLATLMEKARTVPDSYPMSLNGLLTGCNQK...\n2  MSTNPIQPLLDVLYQGKSLNREQTAELFGALIRGEMSEAAMAGMLV...",
      "text/html": "<div>\n<style scoped>\n    .dataframe tbody tr th:only-of-type {\n        vertical-align: middle;\n    }\n\n    .dataframe tbody tr th {\n        vertical-align: top;\n    }\n\n    .dataframe thead th {\n        text-align: right;\n    }\n</style>\n<table border=\"1\" class=\"dataframe\">\n  <thead>\n    <tr style=\"text-align: right;\">\n      <th></th>\n      <th>seqs</th>\n    </tr>\n  </thead>\n  <tbody>\n    <tr>\n      <th>0</th>\n      <td>MSDDLPIDIHSSKLLDWLVSRRHCNKDWQKSVVAIREKIKHAILDM...</td>\n    </tr>\n    <tr>\n      <th>1</th>\n      <td>MPFDPAASPLSPSQARVLATLMEKARTVPDSYPMSLNGLLTGCNQK...</td>\n    </tr>\n    <tr>\n      <th>2</th>\n      <td>MSTNPIQPLLDVLYQGKSLNREQTAELFGALIRGEMSEAAMAGMLV...</td>\n    </tr>\n  </tbody>\n</table>\n</div>"
     },
     "execution_count": 6,
     "metadata": {},
     "output_type": "execute_result"
    }
   ],
   "source": [
    "descriptors_list = ProteinDescritors(dataset= list_data ,  col= 'seqs')\n",
    "descriptors_list.dataset"
   ],
   "metadata": {
    "collapsed": false,
    "pycharm": {
     "name": "#%%\n"
    }
   }
  },
  {
   "cell_type": "code",
   "execution_count": 7,
   "outputs": [
    {
     "data": {
      "text/plain": "                                                 seq\n0  MSTNPIQPLLDVLYQGKSLNREQTAELFGALIRGEMSEAAMAGMLV...",
      "text/html": "<div>\n<style scoped>\n    .dataframe tbody tr th:only-of-type {\n        vertical-align: middle;\n    }\n\n    .dataframe tbody tr th {\n        vertical-align: top;\n    }\n\n    .dataframe thead th {\n        text-align: right;\n    }\n</style>\n<table border=\"1\" class=\"dataframe\">\n  <thead>\n    <tr style=\"text-align: right;\">\n      <th></th>\n      <th>seq</th>\n    </tr>\n  </thead>\n  <tbody>\n    <tr>\n      <th>0</th>\n      <td>MSTNPIQPLLDVLYQGKSLNREQTAELFGALIRGEMSEAAMAGMLV...</td>\n    </tr>\n  </tbody>\n</table>\n</div>"
     },
     "execution_count": 7,
     "metadata": {},
     "output_type": "execute_result"
    }
   ],
   "source": [
    "descriptors_str = ProteinDescritors(dataset= sequence_data ,  col= 'seq')\n",
    "descriptors_str.dataset"
   ],
   "metadata": {
    "collapsed": false,
    "pycharm": {
     "name": "#%%\n"
    }
   }
  },
  {
   "cell_type": "markdown",
   "source": [
    "To calculate a descriptor, it can be called a specific function as get_length, get_aa_comp, or others."
   ],
   "metadata": {
    "collapsed": false,
    "pycharm": {
     "name": "#%% md\n"
    }
   }
  },
  {
   "cell_type": "code",
   "execution_count": 8,
   "outputs": [
    {
     "data": {
      "text/plain": "                                            sequence  length\n0  MSYKPIAPAPSSTPGSSTPGPGTPVPTGSVPSPSGSVPGAGAPFRP...   126.0\n1  MSDDLPIDIHSSKLLDWLVSRRHCNKDWQKSVVAIREKIKHAILDM...   489.0\n2  MPFDPAASPLSPSQARVLATLMEKARTVPDSYPMSLNGLLTGCNQK...   240.0\n3  MIHFTKMHGLGNDFMVVDGVTQNVFFSPEQIRRLADRNFGIGFDQL...   275.0\n4  MGSSTTEPDVGTTSNIETTTTLQNKNVNEVDQNKKSEQSNPSFKEV...   426.0\n5  MSTNPIQPLLDVLYQGKSLNREQTAELFGALIRGEMSEAAMAGMLV...   357.0\n6  MPQRFIVVTGGVLSGIGKGIFSASLARILKDSGVNVNILKIDPYLN...   526.0\n7  MTSLADLPVDVSPRHEGERIRSGDMYVELAGPKSFGAELFKVVDPD...   467.0\n8  MGSADDRRFEVLRAIVADFVATKEPIGSKTLVERHNLGVSSATVRN...   343.0\n9  MDNIRNFSIIAHIDHGKSTLADRIIQLCGGLSDREMEAQVLDSMDI...   599.0",
      "text/html": "<div>\n<style scoped>\n    .dataframe tbody tr th:only-of-type {\n        vertical-align: middle;\n    }\n\n    .dataframe tbody tr th {\n        vertical-align: top;\n    }\n\n    .dataframe thead th {\n        text-align: right;\n    }\n</style>\n<table border=\"1\" class=\"dataframe\">\n  <thead>\n    <tr style=\"text-align: right;\">\n      <th></th>\n      <th>sequence</th>\n      <th>length</th>\n    </tr>\n  </thead>\n  <tbody>\n    <tr>\n      <th>0</th>\n      <td>MSYKPIAPAPSSTPGSSTPGPGTPVPTGSVPSPSGSVPGAGAPFRP...</td>\n      <td>126.0</td>\n    </tr>\n    <tr>\n      <th>1</th>\n      <td>MSDDLPIDIHSSKLLDWLVSRRHCNKDWQKSVVAIREKIKHAILDM...</td>\n      <td>489.0</td>\n    </tr>\n    <tr>\n      <th>2</th>\n      <td>MPFDPAASPLSPSQARVLATLMEKARTVPDSYPMSLNGLLTGCNQK...</td>\n      <td>240.0</td>\n    </tr>\n    <tr>\n      <th>3</th>\n      <td>MIHFTKMHGLGNDFMVVDGVTQNVFFSPEQIRRLADRNFGIGFDQL...</td>\n      <td>275.0</td>\n    </tr>\n    <tr>\n      <th>4</th>\n      <td>MGSSTTEPDVGTTSNIETTTTLQNKNVNEVDQNKKSEQSNPSFKEV...</td>\n      <td>426.0</td>\n    </tr>\n    <tr>\n      <th>5</th>\n      <td>MSTNPIQPLLDVLYQGKSLNREQTAELFGALIRGEMSEAAMAGMLV...</td>\n      <td>357.0</td>\n    </tr>\n    <tr>\n      <th>6</th>\n      <td>MPQRFIVVTGGVLSGIGKGIFSASLARILKDSGVNVNILKIDPYLN...</td>\n      <td>526.0</td>\n    </tr>\n    <tr>\n      <th>7</th>\n      <td>MTSLADLPVDVSPRHEGERIRSGDMYVELAGPKSFGAELFKVVDPD...</td>\n      <td>467.0</td>\n    </tr>\n    <tr>\n      <th>8</th>\n      <td>MGSADDRRFEVLRAIVADFVATKEPIGSKTLVERHNLGVSSATVRN...</td>\n      <td>343.0</td>\n    </tr>\n    <tr>\n      <th>9</th>\n      <td>MDNIRNFSIIAHIDHGKSTLADRIIQLCGGLSDREMEAQVLDSMDI...</td>\n      <td>599.0</td>\n    </tr>\n  </tbody>\n</table>\n</div>"
     },
     "execution_count": 8,
     "metadata": {},
     "output_type": "execute_result"
    }
   ],
   "source": [
    "descriptors_df.get_lenght(n_jobs=4)"
   ],
   "metadata": {
    "collapsed": false,
    "pycharm": {
     "name": "#%%\n"
    }
   }
  },
  {
   "cell_type": "code",
   "execution_count": 9,
   "outputs": [
    {
     "data": {
      "text/plain": "                                            sequence       A      R      N  \\\n0  MSYKPIAPAPSSTPGSSTPGPGTPVPTGSVPSPSGSVPGAGAPFRP...   9.524  6.349  1.587   \n1  MSDDLPIDIHSSKLLDWLVSRRHCNKDWQKSVVAIREKIKHAILDM...   8.589  5.726  2.863   \n2  MPFDPAASPLSPSQARVLATLMEKARTVPDSYPMSLNGLLTGCNQK...  12.083  7.500  2.917   \n3  MIHFTKMHGLGNDFMVVDGVTQNVFFSPEQIRRLADRNFGIGFDQL...   5.455  5.455  5.455   \n4  MGSSTTEPDVGTTSNIETTTTLQNKNVNEVDQNKKSEQSNPSFKEV...   1.174  3.756  9.624   \n5  MSTNPIQPLLDVLYQGKSLNREQTAELFGALIRGEMSEAAMAGMLV...  14.006  3.641  4.762   \n6  MPQRFIVVTGGVLSGIGKGIFSASLARILKDSGVNVNILKIDPYLN...   4.943  4.943  4.753   \n7  MTSLADLPVDVSPRHEGERIRSGDMYVELAGPKSFGAELFKVVDPD...   6.424  4.925  1.713   \n8  MGSADDRRFEVLRAIVADFVATKEPIGSKTLVERHNLGVSSATVRN...  10.496  8.163  2.332   \n9  MDNIRNFSIIAHIDHGKSTLADRIIQLCGGLSDREMEAQVLDSMDI...  10.017  5.175  3.172   \n\n       D      C       E       Q       G      H  ...       L      K      M  \\\n0  1.587  0.794   5.556   2.381  11.111  0.794  ...   4.762  3.968  3.968   \n1  7.362  0.613  10.020   5.317   5.317  2.045  ...   9.407  8.589  2.454   \n2  2.917  1.250   7.500   5.833   8.333  0.833  ...  12.500  1.250  2.500   \n3  5.455  2.182   5.455   5.818  10.182  2.545  ...   7.273  5.091  2.909   \n4  3.286  0.469   5.164  12.207   3.052  3.052  ...   7.277  5.634  2.347   \n5  3.922  1.401   5.602   3.361  10.084  2.241  ...  12.045  4.762  2.521   \n6  6.274  0.190   7.414   3.232   8.745  2.471  ...   8.365  7.034  2.091   \n7  5.782  2.141  16.488   1.713   7.709  2.355  ...   5.782  6.210  2.355   \n8  5.539  0.000   7.580   3.207   8.746  2.041  ...  11.662  2.332  2.041   \n9  6.010  1.169   7.679   4.674   6.678  1.336  ...   8.681  6.678  2.671   \n\n       F       P       S      T      W      Y       V  \n0  2.381  14.286  11.905  7.143  0.000  3.175   4.762  \n1  2.658   2.658   4.908  4.090  1.022  3.067   5.726  \n2  2.083   9.583   8.333  4.583  1.667  1.250   5.833  \n3  4.727   5.091   3.636  5.091  0.727  2.182   9.091  \n4  1.878   7.042  13.615  6.573  0.000  3.756   5.634  \n5  2.801   4.762   5.322  5.322  0.000  1.401   7.003  \n6  4.373   4.373   4.753  4.373  0.380  4.183   7.985  \n7  3.854   5.996   3.854  3.212  1.071  4.069   8.994  \n8  1.458   2.624   7.289  6.706  0.000  2.041  11.953  \n9  2.504   4.174   5.008  3.506  0.167  3.172  10.351  \n\n[10 rows x 21 columns]",
      "text/html": "<div>\n<style scoped>\n    .dataframe tbody tr th:only-of-type {\n        vertical-align: middle;\n    }\n\n    .dataframe tbody tr th {\n        vertical-align: top;\n    }\n\n    .dataframe thead th {\n        text-align: right;\n    }\n</style>\n<table border=\"1\" class=\"dataframe\">\n  <thead>\n    <tr style=\"text-align: right;\">\n      <th></th>\n      <th>sequence</th>\n      <th>A</th>\n      <th>R</th>\n      <th>N</th>\n      <th>D</th>\n      <th>C</th>\n      <th>E</th>\n      <th>Q</th>\n      <th>G</th>\n      <th>H</th>\n      <th>...</th>\n      <th>L</th>\n      <th>K</th>\n      <th>M</th>\n      <th>F</th>\n      <th>P</th>\n      <th>S</th>\n      <th>T</th>\n      <th>W</th>\n      <th>Y</th>\n      <th>V</th>\n    </tr>\n  </thead>\n  <tbody>\n    <tr>\n      <th>0</th>\n      <td>MSYKPIAPAPSSTPGSSTPGPGTPVPTGSVPSPSGSVPGAGAPFRP...</td>\n      <td>9.524</td>\n      <td>6.349</td>\n      <td>1.587</td>\n      <td>1.587</td>\n      <td>0.794</td>\n      <td>5.556</td>\n      <td>2.381</td>\n      <td>11.111</td>\n      <td>0.794</td>\n      <td>...</td>\n      <td>4.762</td>\n      <td>3.968</td>\n      <td>3.968</td>\n      <td>2.381</td>\n      <td>14.286</td>\n      <td>11.905</td>\n      <td>7.143</td>\n      <td>0.000</td>\n      <td>3.175</td>\n      <td>4.762</td>\n    </tr>\n    <tr>\n      <th>1</th>\n      <td>MSDDLPIDIHSSKLLDWLVSRRHCNKDWQKSVVAIREKIKHAILDM...</td>\n      <td>8.589</td>\n      <td>5.726</td>\n      <td>2.863</td>\n      <td>7.362</td>\n      <td>0.613</td>\n      <td>10.020</td>\n      <td>5.317</td>\n      <td>5.317</td>\n      <td>2.045</td>\n      <td>...</td>\n      <td>9.407</td>\n      <td>8.589</td>\n      <td>2.454</td>\n      <td>2.658</td>\n      <td>2.658</td>\n      <td>4.908</td>\n      <td>4.090</td>\n      <td>1.022</td>\n      <td>3.067</td>\n      <td>5.726</td>\n    </tr>\n    <tr>\n      <th>2</th>\n      <td>MPFDPAASPLSPSQARVLATLMEKARTVPDSYPMSLNGLLTGCNQK...</td>\n      <td>12.083</td>\n      <td>7.500</td>\n      <td>2.917</td>\n      <td>2.917</td>\n      <td>1.250</td>\n      <td>7.500</td>\n      <td>5.833</td>\n      <td>8.333</td>\n      <td>0.833</td>\n      <td>...</td>\n      <td>12.500</td>\n      <td>1.250</td>\n      <td>2.500</td>\n      <td>2.083</td>\n      <td>9.583</td>\n      <td>8.333</td>\n      <td>4.583</td>\n      <td>1.667</td>\n      <td>1.250</td>\n      <td>5.833</td>\n    </tr>\n    <tr>\n      <th>3</th>\n      <td>MIHFTKMHGLGNDFMVVDGVTQNVFFSPEQIRRLADRNFGIGFDQL...</td>\n      <td>5.455</td>\n      <td>5.455</td>\n      <td>5.455</td>\n      <td>5.455</td>\n      <td>2.182</td>\n      <td>5.455</td>\n      <td>5.818</td>\n      <td>10.182</td>\n      <td>2.545</td>\n      <td>...</td>\n      <td>7.273</td>\n      <td>5.091</td>\n      <td>2.909</td>\n      <td>4.727</td>\n      <td>5.091</td>\n      <td>3.636</td>\n      <td>5.091</td>\n      <td>0.727</td>\n      <td>2.182</td>\n      <td>9.091</td>\n    </tr>\n    <tr>\n      <th>4</th>\n      <td>MGSSTTEPDVGTTSNIETTTTLQNKNVNEVDQNKKSEQSNPSFKEV...</td>\n      <td>1.174</td>\n      <td>3.756</td>\n      <td>9.624</td>\n      <td>3.286</td>\n      <td>0.469</td>\n      <td>5.164</td>\n      <td>12.207</td>\n      <td>3.052</td>\n      <td>3.052</td>\n      <td>...</td>\n      <td>7.277</td>\n      <td>5.634</td>\n      <td>2.347</td>\n      <td>1.878</td>\n      <td>7.042</td>\n      <td>13.615</td>\n      <td>6.573</td>\n      <td>0.000</td>\n      <td>3.756</td>\n      <td>5.634</td>\n    </tr>\n    <tr>\n      <th>5</th>\n      <td>MSTNPIQPLLDVLYQGKSLNREQTAELFGALIRGEMSEAAMAGMLV...</td>\n      <td>14.006</td>\n      <td>3.641</td>\n      <td>4.762</td>\n      <td>3.922</td>\n      <td>1.401</td>\n      <td>5.602</td>\n      <td>3.361</td>\n      <td>10.084</td>\n      <td>2.241</td>\n      <td>...</td>\n      <td>12.045</td>\n      <td>4.762</td>\n      <td>2.521</td>\n      <td>2.801</td>\n      <td>4.762</td>\n      <td>5.322</td>\n      <td>5.322</td>\n      <td>0.000</td>\n      <td>1.401</td>\n      <td>7.003</td>\n    </tr>\n    <tr>\n      <th>6</th>\n      <td>MPQRFIVVTGGVLSGIGKGIFSASLARILKDSGVNVNILKIDPYLN...</td>\n      <td>4.943</td>\n      <td>4.943</td>\n      <td>4.753</td>\n      <td>6.274</td>\n      <td>0.190</td>\n      <td>7.414</td>\n      <td>3.232</td>\n      <td>8.745</td>\n      <td>2.471</td>\n      <td>...</td>\n      <td>8.365</td>\n      <td>7.034</td>\n      <td>2.091</td>\n      <td>4.373</td>\n      <td>4.373</td>\n      <td>4.753</td>\n      <td>4.373</td>\n      <td>0.380</td>\n      <td>4.183</td>\n      <td>7.985</td>\n    </tr>\n    <tr>\n      <th>7</th>\n      <td>MTSLADLPVDVSPRHEGERIRSGDMYVELAGPKSFGAELFKVVDPD...</td>\n      <td>6.424</td>\n      <td>4.925</td>\n      <td>1.713</td>\n      <td>5.782</td>\n      <td>2.141</td>\n      <td>16.488</td>\n      <td>1.713</td>\n      <td>7.709</td>\n      <td>2.355</td>\n      <td>...</td>\n      <td>5.782</td>\n      <td>6.210</td>\n      <td>2.355</td>\n      <td>3.854</td>\n      <td>5.996</td>\n      <td>3.854</td>\n      <td>3.212</td>\n      <td>1.071</td>\n      <td>4.069</td>\n      <td>8.994</td>\n    </tr>\n    <tr>\n      <th>8</th>\n      <td>MGSADDRRFEVLRAIVADFVATKEPIGSKTLVERHNLGVSSATVRN...</td>\n      <td>10.496</td>\n      <td>8.163</td>\n      <td>2.332</td>\n      <td>5.539</td>\n      <td>0.000</td>\n      <td>7.580</td>\n      <td>3.207</td>\n      <td>8.746</td>\n      <td>2.041</td>\n      <td>...</td>\n      <td>11.662</td>\n      <td>2.332</td>\n      <td>2.041</td>\n      <td>1.458</td>\n      <td>2.624</td>\n      <td>7.289</td>\n      <td>6.706</td>\n      <td>0.000</td>\n      <td>2.041</td>\n      <td>11.953</td>\n    </tr>\n    <tr>\n      <th>9</th>\n      <td>MDNIRNFSIIAHIDHGKSTLADRIIQLCGGLSDREMEAQVLDSMDI...</td>\n      <td>10.017</td>\n      <td>5.175</td>\n      <td>3.172</td>\n      <td>6.010</td>\n      <td>1.169</td>\n      <td>7.679</td>\n      <td>4.674</td>\n      <td>6.678</td>\n      <td>1.336</td>\n      <td>...</td>\n      <td>8.681</td>\n      <td>6.678</td>\n      <td>2.671</td>\n      <td>2.504</td>\n      <td>4.174</td>\n      <td>5.008</td>\n      <td>3.506</td>\n      <td>0.167</td>\n      <td>3.172</td>\n      <td>10.351</td>\n    </tr>\n  </tbody>\n</table>\n<p>10 rows × 21 columns</p>\n</div>"
     },
     "execution_count": 9,
     "metadata": {},
     "output_type": "execute_result"
    }
   ],
   "source": [
    "descriptors_df.get_aa_comp(n_jobs=4)"
   ],
   "metadata": {
    "collapsed": false,
    "pycharm": {
     "name": "#%%\n"
    }
   }
  },
  {
   "cell_type": "markdown",
   "source": [
    "It also can be called function to get all descriptors of a set of descriptors (for example, get all physico chemical descriptors) or the function get_all which calculates all descriptors available in the ProPythia package."
   ],
   "metadata": {
    "collapsed": false,
    "pycharm": {
     "name": "#%% md\n"
    }
   }
  },
  {
   "cell_type": "code",
   "execution_count": 10,
   "outputs": [
    {
     "data": {
      "text/plain": "                                            sequence Is_transporter  length  \\\n0  MSYKPIAPAPSSTPGSSTPGPGTPVPTGSVPSPSGSVPGAGAPFRP...              0   126.0   \n1  MSDDLPIDIHSSKLLDWLVSRRHCNKDWQKSVVAIREKIKHAILDM...              0   489.0   \n2  MPFDPAASPLSPSQARVLATLMEKARTVPDSYPMSLNGLLTGCNQK...              0   240.0   \n3  MIHFTKMHGLGNDFMVVDGVTQNVFFSPEQIRRLADRNFGIGFDQL...              0   275.0   \n4  MGSSTTEPDVGTTSNIETTTTLQNKNVNEVDQNKKSEQSNPSFKEV...              0   426.0   \n5  MSTNPIQPLLDVLYQGKSLNREQTAELFGALIRGEMSEAAMAGMLV...              0   357.0   \n6  MPQRFIVVTGGVLSGIGKGIFSASLARILKDSGVNVNILKIDPYLN...              0   526.0   \n7  MTSLADLPVDVSPRHEGERIRSGDMYVELAGPKSFGAELFKVVDPD...              0   467.0   \n8  MGSADDRRFEVLRAIVADFVATKEPIGSKTLVERHNLGVSSATVRN...              0   343.0   \n9  MDNIRNFSIIAHIDHGKSTLADRIIQLCGGLSDREMEAQVLDSMDI...              0   599.0   \n\n   charge  chargedensity  formulaC  formulaH  formulaN  formulaO  formulaS  \\\n0   4.034       0.000308       569       905       159       181         6   \n1 -14.152      -0.000254      2438      3878       654       785        15   \n2  -3.983      -0.000155      1109      1754       312       360         9   \n3  -0.697      -0.000023      1330      2079       365       413        14   \n4   5.166       0.000107      2025      3145       565       746        12   \n5  -3.524      -0.000095      1626      2632       446       510        14   \n6  -7.741      -0.000131      2650      4156       694       800        12   \n7 -51.492      -0.000971      2346      3596       600       752        21   \n8  -8.274      -0.000225      1586      2605       457       519         7   \n9 -10.627      -0.000161      2893      4656       768       909        23   \n\n   ...  IsoelectricPoint  Instability_index  SecStruct_helix  SecStruct_turn  \\\n0  ...          9.513100          62.319841         0.190476        0.388889   \n1  ...          5.365737          41.241145         0.294479        0.157464   \n2  ...          5.342945          64.977500         0.245833        0.291667   \n3  ...          6.656551          32.444000         0.301818        0.243636   \n4  ...          8.780546          71.051408         0.230047        0.333333   \n5  ...          6.082648          27.845378         0.282913        0.249300   \n6  ...          5.887803          24.372624         0.344106        0.226236   \n7  ...          4.536968          50.438158         0.291221        0.192719   \n8  ...          5.396658          25.243732         0.309038        0.209913   \n9  ...          5.498911          30.279299         0.320534        0.190317   \n\n   SecStruct_sheet  Molar_extinction_coefficient_reduced  \\\n0         0.238095                                  5960   \n1         0.304703                                 49850   \n2         0.345833                                 26470   \n3         0.210909                                 19940   \n4         0.159624                                 23840   \n5         0.341737                                  7450   \n6         0.228137                                 43780   \n7         0.310493                                 55810   \n8         0.317784                                 10430   \n9         0.290484                                 33810   \n\n   Molar_extinction_coefficient_oxidized  aliphatic_index  bomanindex  \\\n0                                   5960        57.380952    1.478254   \n1                                  49975        91.390593    2.071166   \n2                                  26595        82.625000    1.527125   \n3                                  20315        84.290909    1.526327   \n4                                  23965        63.286385    2.633779   \n5                                   7700       100.952381    0.825070   \n6                                  43780        96.311787    1.523992   \n7                                  56435        75.931478    1.921692   \n8                                  10430       105.422741    1.590554   \n9                                  34185       101.886477    1.387679   \n\n   hydrophobic_ratio  \n0           0.301587  \n1           0.370143  \n2           0.375000  \n3           0.378182  \n4           0.232394  \n5           0.448179  \n6           0.370722  \n7           0.349036  \n8           0.413994  \n9           0.425710  \n\n[10 rows x 27 columns]",
      "text/html": "<div>\n<style scoped>\n    .dataframe tbody tr th:only-of-type {\n        vertical-align: middle;\n    }\n\n    .dataframe tbody tr th {\n        vertical-align: top;\n    }\n\n    .dataframe thead th {\n        text-align: right;\n    }\n</style>\n<table border=\"1\" class=\"dataframe\">\n  <thead>\n    <tr style=\"text-align: right;\">\n      <th></th>\n      <th>sequence</th>\n      <th>Is_transporter</th>\n      <th>length</th>\n      <th>charge</th>\n      <th>chargedensity</th>\n      <th>formulaC</th>\n      <th>formulaH</th>\n      <th>formulaN</th>\n      <th>formulaO</th>\n      <th>formulaS</th>\n      <th>...</th>\n      <th>IsoelectricPoint</th>\n      <th>Instability_index</th>\n      <th>SecStruct_helix</th>\n      <th>SecStruct_turn</th>\n      <th>SecStruct_sheet</th>\n      <th>Molar_extinction_coefficient_reduced</th>\n      <th>Molar_extinction_coefficient_oxidized</th>\n      <th>aliphatic_index</th>\n      <th>bomanindex</th>\n      <th>hydrophobic_ratio</th>\n    </tr>\n  </thead>\n  <tbody>\n    <tr>\n      <th>0</th>\n      <td>MSYKPIAPAPSSTPGSSTPGPGTPVPTGSVPSPSGSVPGAGAPFRP...</td>\n      <td>0</td>\n      <td>126.0</td>\n      <td>4.034</td>\n      <td>0.000308</td>\n      <td>569</td>\n      <td>905</td>\n      <td>159</td>\n      <td>181</td>\n      <td>6</td>\n      <td>...</td>\n      <td>9.513100</td>\n      <td>62.319841</td>\n      <td>0.190476</td>\n      <td>0.388889</td>\n      <td>0.238095</td>\n      <td>5960</td>\n      <td>5960</td>\n      <td>57.380952</td>\n      <td>1.478254</td>\n      <td>0.301587</td>\n    </tr>\n    <tr>\n      <th>1</th>\n      <td>MSDDLPIDIHSSKLLDWLVSRRHCNKDWQKSVVAIREKIKHAILDM...</td>\n      <td>0</td>\n      <td>489.0</td>\n      <td>-14.152</td>\n      <td>-0.000254</td>\n      <td>2438</td>\n      <td>3878</td>\n      <td>654</td>\n      <td>785</td>\n      <td>15</td>\n      <td>...</td>\n      <td>5.365737</td>\n      <td>41.241145</td>\n      <td>0.294479</td>\n      <td>0.157464</td>\n      <td>0.304703</td>\n      <td>49850</td>\n      <td>49975</td>\n      <td>91.390593</td>\n      <td>2.071166</td>\n      <td>0.370143</td>\n    </tr>\n    <tr>\n      <th>2</th>\n      <td>MPFDPAASPLSPSQARVLATLMEKARTVPDSYPMSLNGLLTGCNQK...</td>\n      <td>0</td>\n      <td>240.0</td>\n      <td>-3.983</td>\n      <td>-0.000155</td>\n      <td>1109</td>\n      <td>1754</td>\n      <td>312</td>\n      <td>360</td>\n      <td>9</td>\n      <td>...</td>\n      <td>5.342945</td>\n      <td>64.977500</td>\n      <td>0.245833</td>\n      <td>0.291667</td>\n      <td>0.345833</td>\n      <td>26470</td>\n      <td>26595</td>\n      <td>82.625000</td>\n      <td>1.527125</td>\n      <td>0.375000</td>\n    </tr>\n    <tr>\n      <th>3</th>\n      <td>MIHFTKMHGLGNDFMVVDGVTQNVFFSPEQIRRLADRNFGIGFDQL...</td>\n      <td>0</td>\n      <td>275.0</td>\n      <td>-0.697</td>\n      <td>-0.000023</td>\n      <td>1330</td>\n      <td>2079</td>\n      <td>365</td>\n      <td>413</td>\n      <td>14</td>\n      <td>...</td>\n      <td>6.656551</td>\n      <td>32.444000</td>\n      <td>0.301818</td>\n      <td>0.243636</td>\n      <td>0.210909</td>\n      <td>19940</td>\n      <td>20315</td>\n      <td>84.290909</td>\n      <td>1.526327</td>\n      <td>0.378182</td>\n    </tr>\n    <tr>\n      <th>4</th>\n      <td>MGSSTTEPDVGTTSNIETTTTLQNKNVNEVDQNKKSEQSNPSFKEV...</td>\n      <td>0</td>\n      <td>426.0</td>\n      <td>5.166</td>\n      <td>0.000107</td>\n      <td>2025</td>\n      <td>3145</td>\n      <td>565</td>\n      <td>746</td>\n      <td>12</td>\n      <td>...</td>\n      <td>8.780546</td>\n      <td>71.051408</td>\n      <td>0.230047</td>\n      <td>0.333333</td>\n      <td>0.159624</td>\n      <td>23840</td>\n      <td>23965</td>\n      <td>63.286385</td>\n      <td>2.633779</td>\n      <td>0.232394</td>\n    </tr>\n    <tr>\n      <th>5</th>\n      <td>MSTNPIQPLLDVLYQGKSLNREQTAELFGALIRGEMSEAAMAGMLV...</td>\n      <td>0</td>\n      <td>357.0</td>\n      <td>-3.524</td>\n      <td>-0.000095</td>\n      <td>1626</td>\n      <td>2632</td>\n      <td>446</td>\n      <td>510</td>\n      <td>14</td>\n      <td>...</td>\n      <td>6.082648</td>\n      <td>27.845378</td>\n      <td>0.282913</td>\n      <td>0.249300</td>\n      <td>0.341737</td>\n      <td>7450</td>\n      <td>7700</td>\n      <td>100.952381</td>\n      <td>0.825070</td>\n      <td>0.448179</td>\n    </tr>\n    <tr>\n      <th>6</th>\n      <td>MPQRFIVVTGGVLSGIGKGIFSASLARILKDSGVNVNILKIDPYLN...</td>\n      <td>0</td>\n      <td>526.0</td>\n      <td>-7.741</td>\n      <td>-0.000131</td>\n      <td>2650</td>\n      <td>4156</td>\n      <td>694</td>\n      <td>800</td>\n      <td>12</td>\n      <td>...</td>\n      <td>5.887803</td>\n      <td>24.372624</td>\n      <td>0.344106</td>\n      <td>0.226236</td>\n      <td>0.228137</td>\n      <td>43780</td>\n      <td>43780</td>\n      <td>96.311787</td>\n      <td>1.523992</td>\n      <td>0.370722</td>\n    </tr>\n    <tr>\n      <th>7</th>\n      <td>MTSLADLPVDVSPRHEGERIRSGDMYVELAGPKSFGAELFKVVDPD...</td>\n      <td>0</td>\n      <td>467.0</td>\n      <td>-51.492</td>\n      <td>-0.000971</td>\n      <td>2346</td>\n      <td>3596</td>\n      <td>600</td>\n      <td>752</td>\n      <td>21</td>\n      <td>...</td>\n      <td>4.536968</td>\n      <td>50.438158</td>\n      <td>0.291221</td>\n      <td>0.192719</td>\n      <td>0.310493</td>\n      <td>55810</td>\n      <td>56435</td>\n      <td>75.931478</td>\n      <td>1.921692</td>\n      <td>0.349036</td>\n    </tr>\n    <tr>\n      <th>8</th>\n      <td>MGSADDRRFEVLRAIVADFVATKEPIGSKTLVERHNLGVSSATVRN...</td>\n      <td>0</td>\n      <td>343.0</td>\n      <td>-8.274</td>\n      <td>-0.000225</td>\n      <td>1586</td>\n      <td>2605</td>\n      <td>457</td>\n      <td>519</td>\n      <td>7</td>\n      <td>...</td>\n      <td>5.396658</td>\n      <td>25.243732</td>\n      <td>0.309038</td>\n      <td>0.209913</td>\n      <td>0.317784</td>\n      <td>10430</td>\n      <td>10430</td>\n      <td>105.422741</td>\n      <td>1.590554</td>\n      <td>0.413994</td>\n    </tr>\n    <tr>\n      <th>9</th>\n      <td>MDNIRNFSIIAHIDHGKSTLADRIIQLCGGLSDREMEAQVLDSMDI...</td>\n      <td>0</td>\n      <td>599.0</td>\n      <td>-10.627</td>\n      <td>-0.000161</td>\n      <td>2893</td>\n      <td>4656</td>\n      <td>768</td>\n      <td>909</td>\n      <td>23</td>\n      <td>...</td>\n      <td>5.498911</td>\n      <td>30.279299</td>\n      <td>0.320534</td>\n      <td>0.190317</td>\n      <td>0.290484</td>\n      <td>33810</td>\n      <td>34185</td>\n      <td>101.886477</td>\n      <td>1.387679</td>\n      <td>0.425710</td>\n    </tr>\n  </tbody>\n</table>\n<p>10 rows × 27 columns</p>\n</div>"
     },
     "execution_count": 10,
     "metadata": {},
     "output_type": "execute_result"
    }
   ],
   "source": [
    "descriptors_df.get_all_physicochemical(ph=7, amide=False, n_jobs=4)"
   ],
   "metadata": {
    "collapsed": false,
    "pycharm": {
     "name": "#%%\n"
    }
   }
  },
  {
   "cell_type": "code",
   "execution_count": 11,
   "outputs": [
    {
     "data": {
      "text/plain": "                                            sequence Is_transporter  length  \\\n0  MSYKPIAPAPSSTPGSSTPGPGTPVPTGSVPSPSGSVPGAGAPFRP...              0   126.0   \n1  MSDDLPIDIHSSKLLDWLVSRRHCNKDWQKSVVAIREKIKHAILDM...              0   489.0   \n2  MPFDPAASPLSPSQARVLATLMEKARTVPDSYPMSLNGLLTGCNQK...              0   240.0   \n3  MIHFTKMHGLGNDFMVVDGVTQNVFFSPEQIRRLADRNFGIGFDQL...              0   275.0   \n4  MGSSTTEPDVGTTSNIETTTTLQNKNVNEVDQNKKSEQSNPSFKEV...              0   426.0   \n5  MSTNPIQPLLDVLYQGKSLNREQTAELFGALIRGEMSEAAMAGMLV...              0   357.0   \n6  MPQRFIVVTGGVLSGIGKGIFSASLARILKDSGVNVNILKIDPYLN...              0   526.0   \n7  MTSLADLPVDVSPRHEGERIRSGDMYVELAGPKSFGAELFKVVDPD...              0   467.0   \n8  MGSADDRRFEVLRAIVADFVATKEPIGSKTLVERHNLGVSSATVRN...              0   343.0   \n9  MDNIRNFSIIAHIDHGKSTLADRIIQLCGGLSDREMEAQVLDSMDI...              0   599.0   \n\n   charge  chargedensity  formulaC  formulaH  formulaN  formulaO  formulaS  \\\n0   4.034       0.000308       569       905       159       181         6   \n1 -14.152      -0.000254      2438      3878       654       785        15   \n2  -3.983      -0.000155      1109      1754       312       360         9   \n3  -0.697      -0.000023      1330      2079       365       413        14   \n4   5.166       0.000107      2025      3145       565       746        12   \n5  -3.524      -0.000095      1626      2632       446       510        14   \n6  -7.741      -0.000131      2650      4156       694       800        12   \n7 -51.492      -0.000971      2346      3596       600       752        21   \n8  -8.274      -0.000225      1586      2605       457       519         7   \n9 -10.627      -0.000161      2893      4656       768       909        23   \n\n   ...  crosscorr_6    moment    global  profile_0  profile_1  arc_0  arc_1  \\\n0  ...    -0.023589  0.927272  0.520000   0.003859   0.096950    120    180   \n1  ...    -0.051833  0.865172  1.000000  -0.000069   0.415926    140    260   \n2  ...    -0.100935  0.850756  0.945714  -0.000378   0.405118    140    160   \n3  ...     0.017756  1.027452  0.724286  -0.000369   0.409831    100    160   \n4  ...     0.032734  0.839183  0.727143  -0.000248   0.353142    100    300   \n5  ...     0.050793  0.799997  0.841429  -0.000279   0.385699    160    120   \n6  ...     0.009954  0.968823  0.892857   0.000032   0.352503    120    160   \n7  ...    -0.024954  1.014423  0.828571  -0.000166   0.389549    160    220   \n8  ...    -0.081282  1.131478  0.978571  -0.000272   0.439268    140    140   \n9  ...     0.015365  0.922217  0.954286   0.000091   0.333468    200    220   \n\n   arc_2  arc_3  arc_4  \n0     60     60     60  \n1     60     80     20  \n2     40     60     40  \n3     80     40     20  \n4     60     60     40  \n5     60     40     40  \n6     80     80     40  \n7     60    120     40  \n8     60     40     20  \n9     80     80     40  \n\n[10 rows x 2109 columns]",
      "text/html": "<div>\n<style scoped>\n    .dataframe tbody tr th:only-of-type {\n        vertical-align: middle;\n    }\n\n    .dataframe tbody tr th {\n        vertical-align: top;\n    }\n\n    .dataframe thead th {\n        text-align: right;\n    }\n</style>\n<table border=\"1\" class=\"dataframe\">\n  <thead>\n    <tr style=\"text-align: right;\">\n      <th></th>\n      <th>sequence</th>\n      <th>Is_transporter</th>\n      <th>length</th>\n      <th>charge</th>\n      <th>chargedensity</th>\n      <th>formulaC</th>\n      <th>formulaH</th>\n      <th>formulaN</th>\n      <th>formulaO</th>\n      <th>formulaS</th>\n      <th>...</th>\n      <th>crosscorr_6</th>\n      <th>moment</th>\n      <th>global</th>\n      <th>profile_0</th>\n      <th>profile_1</th>\n      <th>arc_0</th>\n      <th>arc_1</th>\n      <th>arc_2</th>\n      <th>arc_3</th>\n      <th>arc_4</th>\n    </tr>\n  </thead>\n  <tbody>\n    <tr>\n      <th>0</th>\n      <td>MSYKPIAPAPSSTPGSSTPGPGTPVPTGSVPSPSGSVPGAGAPFRP...</td>\n      <td>0</td>\n      <td>126.0</td>\n      <td>4.034</td>\n      <td>0.000308</td>\n      <td>569</td>\n      <td>905</td>\n      <td>159</td>\n      <td>181</td>\n      <td>6</td>\n      <td>...</td>\n      <td>-0.023589</td>\n      <td>0.927272</td>\n      <td>0.520000</td>\n      <td>0.003859</td>\n      <td>0.096950</td>\n      <td>120</td>\n      <td>180</td>\n      <td>60</td>\n      <td>60</td>\n      <td>60</td>\n    </tr>\n    <tr>\n      <th>1</th>\n      <td>MSDDLPIDIHSSKLLDWLVSRRHCNKDWQKSVVAIREKIKHAILDM...</td>\n      <td>0</td>\n      <td>489.0</td>\n      <td>-14.152</td>\n      <td>-0.000254</td>\n      <td>2438</td>\n      <td>3878</td>\n      <td>654</td>\n      <td>785</td>\n      <td>15</td>\n      <td>...</td>\n      <td>-0.051833</td>\n      <td>0.865172</td>\n      <td>1.000000</td>\n      <td>-0.000069</td>\n      <td>0.415926</td>\n      <td>140</td>\n      <td>260</td>\n      <td>60</td>\n      <td>80</td>\n      <td>20</td>\n    </tr>\n    <tr>\n      <th>2</th>\n      <td>MPFDPAASPLSPSQARVLATLMEKARTVPDSYPMSLNGLLTGCNQK...</td>\n      <td>0</td>\n      <td>240.0</td>\n      <td>-3.983</td>\n      <td>-0.000155</td>\n      <td>1109</td>\n      <td>1754</td>\n      <td>312</td>\n      <td>360</td>\n      <td>9</td>\n      <td>...</td>\n      <td>-0.100935</td>\n      <td>0.850756</td>\n      <td>0.945714</td>\n      <td>-0.000378</td>\n      <td>0.405118</td>\n      <td>140</td>\n      <td>160</td>\n      <td>40</td>\n      <td>60</td>\n      <td>40</td>\n    </tr>\n    <tr>\n      <th>3</th>\n      <td>MIHFTKMHGLGNDFMVVDGVTQNVFFSPEQIRRLADRNFGIGFDQL...</td>\n      <td>0</td>\n      <td>275.0</td>\n      <td>-0.697</td>\n      <td>-0.000023</td>\n      <td>1330</td>\n      <td>2079</td>\n      <td>365</td>\n      <td>413</td>\n      <td>14</td>\n      <td>...</td>\n      <td>0.017756</td>\n      <td>1.027452</td>\n      <td>0.724286</td>\n      <td>-0.000369</td>\n      <td>0.409831</td>\n      <td>100</td>\n      <td>160</td>\n      <td>80</td>\n      <td>40</td>\n      <td>20</td>\n    </tr>\n    <tr>\n      <th>4</th>\n      <td>MGSSTTEPDVGTTSNIETTTTLQNKNVNEVDQNKKSEQSNPSFKEV...</td>\n      <td>0</td>\n      <td>426.0</td>\n      <td>5.166</td>\n      <td>0.000107</td>\n      <td>2025</td>\n      <td>3145</td>\n      <td>565</td>\n      <td>746</td>\n      <td>12</td>\n      <td>...</td>\n      <td>0.032734</td>\n      <td>0.839183</td>\n      <td>0.727143</td>\n      <td>-0.000248</td>\n      <td>0.353142</td>\n      <td>100</td>\n      <td>300</td>\n      <td>60</td>\n      <td>60</td>\n      <td>40</td>\n    </tr>\n    <tr>\n      <th>5</th>\n      <td>MSTNPIQPLLDVLYQGKSLNREQTAELFGALIRGEMSEAAMAGMLV...</td>\n      <td>0</td>\n      <td>357.0</td>\n      <td>-3.524</td>\n      <td>-0.000095</td>\n      <td>1626</td>\n      <td>2632</td>\n      <td>446</td>\n      <td>510</td>\n      <td>14</td>\n      <td>...</td>\n      <td>0.050793</td>\n      <td>0.799997</td>\n      <td>0.841429</td>\n      <td>-0.000279</td>\n      <td>0.385699</td>\n      <td>160</td>\n      <td>120</td>\n      <td>60</td>\n      <td>40</td>\n      <td>40</td>\n    </tr>\n    <tr>\n      <th>6</th>\n      <td>MPQRFIVVTGGVLSGIGKGIFSASLARILKDSGVNVNILKIDPYLN...</td>\n      <td>0</td>\n      <td>526.0</td>\n      <td>-7.741</td>\n      <td>-0.000131</td>\n      <td>2650</td>\n      <td>4156</td>\n      <td>694</td>\n      <td>800</td>\n      <td>12</td>\n      <td>...</td>\n      <td>0.009954</td>\n      <td>0.968823</td>\n      <td>0.892857</td>\n      <td>0.000032</td>\n      <td>0.352503</td>\n      <td>120</td>\n      <td>160</td>\n      <td>80</td>\n      <td>80</td>\n      <td>40</td>\n    </tr>\n    <tr>\n      <th>7</th>\n      <td>MTSLADLPVDVSPRHEGERIRSGDMYVELAGPKSFGAELFKVVDPD...</td>\n      <td>0</td>\n      <td>467.0</td>\n      <td>-51.492</td>\n      <td>-0.000971</td>\n      <td>2346</td>\n      <td>3596</td>\n      <td>600</td>\n      <td>752</td>\n      <td>21</td>\n      <td>...</td>\n      <td>-0.024954</td>\n      <td>1.014423</td>\n      <td>0.828571</td>\n      <td>-0.000166</td>\n      <td>0.389549</td>\n      <td>160</td>\n      <td>220</td>\n      <td>60</td>\n      <td>120</td>\n      <td>40</td>\n    </tr>\n    <tr>\n      <th>8</th>\n      <td>MGSADDRRFEVLRAIVADFVATKEPIGSKTLVERHNLGVSSATVRN...</td>\n      <td>0</td>\n      <td>343.0</td>\n      <td>-8.274</td>\n      <td>-0.000225</td>\n      <td>1586</td>\n      <td>2605</td>\n      <td>457</td>\n      <td>519</td>\n      <td>7</td>\n      <td>...</td>\n      <td>-0.081282</td>\n      <td>1.131478</td>\n      <td>0.978571</td>\n      <td>-0.000272</td>\n      <td>0.439268</td>\n      <td>140</td>\n      <td>140</td>\n      <td>60</td>\n      <td>40</td>\n      <td>20</td>\n    </tr>\n    <tr>\n      <th>9</th>\n      <td>MDNIRNFSIIAHIDHGKSTLADRIIQLCGGLSDREMEAQVLDSMDI...</td>\n      <td>0</td>\n      <td>599.0</td>\n      <td>-10.627</td>\n      <td>-0.000161</td>\n      <td>2893</td>\n      <td>4656</td>\n      <td>768</td>\n      <td>909</td>\n      <td>23</td>\n      <td>...</td>\n      <td>0.015365</td>\n      <td>0.922217</td>\n      <td>0.954286</td>\n      <td>0.000091</td>\n      <td>0.333468</td>\n      <td>200</td>\n      <td>220</td>\n      <td>80</td>\n      <td>80</td>\n      <td>40</td>\n    </tr>\n  </tbody>\n</table>\n<p>10 rows × 2109 columns</p>\n</div>"
     },
     "execution_count": 11,
     "metadata": {},
     "output_type": "execute_result"
    }
   ],
   "source": [
    "descriptors_df.get_all()"
   ],
   "metadata": {
    "collapsed": false,
    "pycharm": {
     "name": "#%%\n"
    }
   }
  },
  {
   "cell_type": "markdown",
   "source": [
    "To obtain a certain set of descriptors it can be used the function get_adaptable which calculates the descriptors present in the list_of_functions. The list in the example calculates all psycho chemical descriptors, AAC, DPC, PAAC, APAAC, CTD with the default parameters. All functions have assigned default parameters."
   ],
   "metadata": {
    "collapsed": false,
    "pycharm": {
     "name": "#%% md\n"
    }
   }
  },
  {
   "cell_type": "code",
   "execution_count": 12,
   "outputs": [
    {
     "data": {
      "text/plain": "                                            sequence Is_transporter  length  \\\n0  MSYKPIAPAPSSTPGSSTPGPGTPVPTGSVPSPSGSVPGAGAPFRP...              0   126.0   \n1  MSDDLPIDIHSSKLLDWLVSRRHCNKDWQKSVVAIREKIKHAILDM...              0   489.0   \n2  MPFDPAASPLSPSQARVLATLMEKARTVPDSYPMSLNGLLTGCNQK...              0   240.0   \n3  MIHFTKMHGLGNDFMVVDGVTQNVFFSPEQIRRLADRNFGIGFDQL...              0   275.0   \n4  MGSSTTEPDVGTTSNIETTTTLQNKNVNEVDQNKKSEQSNPSFKEV...              0   426.0   \n5  MSTNPIQPLLDVLYQGKSLNREQTAELFGALIRGEMSEAAMAGMLV...              0   357.0   \n6  MPQRFIVVTGGVLSGIGKGIFSASLARILKDSGVNVNILKIDPYLN...              0   526.0   \n7  MTSLADLPVDVSPRHEGERIRSGDMYVELAGPKSFGAELFKVVDPD...              0   467.0   \n8  MGSADDRRFEVLRAIVADFVATKEPIGSKTLVERHNLGVSSATVRN...              0   343.0   \n9  MDNIRNFSIIAHIDHGKSTLADRIIQLCGGLSDREMEAQVLDSMDI...              0   599.0   \n\n   charge  chargedensity  formulaC  formulaH  formulaN  formulaO  formulaS  \\\n0   4.034       0.000308       569       905       159       181         6   \n1 -14.152      -0.000254      2438      3878       654       785        15   \n2  -3.983      -0.000155      1109      1754       312       360         9   \n3  -0.697      -0.000023      1330      2079       365       413        14   \n4   5.166       0.000107      2025      3145       565       746        12   \n5  -3.524      -0.000095      1626      2632       446       510        14   \n6  -7.741      -0.000131      2650      4156       694       800        12   \n7 -51.492      -0.000971      2346      3596       600       752        21   \n8  -8.274      -0.000225      1586      2605       457       519         7   \n9 -10.627      -0.000161      2893      4656       768       909        23   \n\n   ...  _HydrophobicityD2001  _HydrophobicityD2025  _HydrophobicityD2050  \\\n0  ...                 2.740                28.767                57.534   \n1  ...                 1.333                91.333               160.000   \n2  ...                 1.852                51.852               117.593   \n3  ...                 3.191                81.915               158.511   \n4  ...                 1.227                87.117               142.331   \n5  ...                 1.299                61.039               109.740   \n6  ...                 1.124                66.292               145.506   \n7  ...                 1.274                82.803               158.599   \n8  ...                 1.460                63.504               141.606   \n9  ...                 3.941                67.980               134.483   \n\n   _HydrophobicityD2075  _HydrophobicityD2100  _HydrophobicityD3001  \\\n0               101.370               172.603                 3.846   \n1               234.667               325.333                 0.694   \n2               173.148               222.222                 1.538   \n3               228.723               288.298                 1.099   \n4               199.387               261.350                 1.064   \n5               174.026               231.169                 0.909   \n6               224.719               293.258                 0.585   \n7               212.102               297.452                 0.725   \n8               204.380               249.635                 0.943   \n9               206.404               291.626                 0.510   \n\n   _HydrophobicityD3025  _HydrophobicityD3050  _HydrophobicityD3075  \\\n0               169.231               296.154               380.769   \n1                68.056               160.417               247.222   \n2                84.615               163.077               261.538   \n3                53.846               141.758               216.484   \n4                95.745               207.447               325.532   \n5                80.909               169.091               234.545   \n6                76.023               145.029               218.713   \n7                77.536               150.000               240.580   \n8                89.623               153.774               238.679   \n9                77.041               153.061               228.061   \n\n   _HydrophobicityD3100  \n0               450.000  \n1               337.500  \n2               355.385  \n3               302.198  \n4               443.617  \n5               318.182  \n6               306.433  \n7               331.884  \n8               320.755  \n9               304.082  \n\n[10 rows x 664 columns]",
      "text/html": "<div>\n<style scoped>\n    .dataframe tbody tr th:only-of-type {\n        vertical-align: middle;\n    }\n\n    .dataframe tbody tr th {\n        vertical-align: top;\n    }\n\n    .dataframe thead th {\n        text-align: right;\n    }\n</style>\n<table border=\"1\" class=\"dataframe\">\n  <thead>\n    <tr style=\"text-align: right;\">\n      <th></th>\n      <th>sequence</th>\n      <th>Is_transporter</th>\n      <th>length</th>\n      <th>charge</th>\n      <th>chargedensity</th>\n      <th>formulaC</th>\n      <th>formulaH</th>\n      <th>formulaN</th>\n      <th>formulaO</th>\n      <th>formulaS</th>\n      <th>...</th>\n      <th>_HydrophobicityD2001</th>\n      <th>_HydrophobicityD2025</th>\n      <th>_HydrophobicityD2050</th>\n      <th>_HydrophobicityD2075</th>\n      <th>_HydrophobicityD2100</th>\n      <th>_HydrophobicityD3001</th>\n      <th>_HydrophobicityD3025</th>\n      <th>_HydrophobicityD3050</th>\n      <th>_HydrophobicityD3075</th>\n      <th>_HydrophobicityD3100</th>\n    </tr>\n  </thead>\n  <tbody>\n    <tr>\n      <th>0</th>\n      <td>MSYKPIAPAPSSTPGSSTPGPGTPVPTGSVPSPSGSVPGAGAPFRP...</td>\n      <td>0</td>\n      <td>126.0</td>\n      <td>4.034</td>\n      <td>0.000308</td>\n      <td>569</td>\n      <td>905</td>\n      <td>159</td>\n      <td>181</td>\n      <td>6</td>\n      <td>...</td>\n      <td>2.740</td>\n      <td>28.767</td>\n      <td>57.534</td>\n      <td>101.370</td>\n      <td>172.603</td>\n      <td>3.846</td>\n      <td>169.231</td>\n      <td>296.154</td>\n      <td>380.769</td>\n      <td>450.000</td>\n    </tr>\n    <tr>\n      <th>1</th>\n      <td>MSDDLPIDIHSSKLLDWLVSRRHCNKDWQKSVVAIREKIKHAILDM...</td>\n      <td>0</td>\n      <td>489.0</td>\n      <td>-14.152</td>\n      <td>-0.000254</td>\n      <td>2438</td>\n      <td>3878</td>\n      <td>654</td>\n      <td>785</td>\n      <td>15</td>\n      <td>...</td>\n      <td>1.333</td>\n      <td>91.333</td>\n      <td>160.000</td>\n      <td>234.667</td>\n      <td>325.333</td>\n      <td>0.694</td>\n      <td>68.056</td>\n      <td>160.417</td>\n      <td>247.222</td>\n      <td>337.500</td>\n    </tr>\n    <tr>\n      <th>2</th>\n      <td>MPFDPAASPLSPSQARVLATLMEKARTVPDSYPMSLNGLLTGCNQK...</td>\n      <td>0</td>\n      <td>240.0</td>\n      <td>-3.983</td>\n      <td>-0.000155</td>\n      <td>1109</td>\n      <td>1754</td>\n      <td>312</td>\n      <td>360</td>\n      <td>9</td>\n      <td>...</td>\n      <td>1.852</td>\n      <td>51.852</td>\n      <td>117.593</td>\n      <td>173.148</td>\n      <td>222.222</td>\n      <td>1.538</td>\n      <td>84.615</td>\n      <td>163.077</td>\n      <td>261.538</td>\n      <td>355.385</td>\n    </tr>\n    <tr>\n      <th>3</th>\n      <td>MIHFTKMHGLGNDFMVVDGVTQNVFFSPEQIRRLADRNFGIGFDQL...</td>\n      <td>0</td>\n      <td>275.0</td>\n      <td>-0.697</td>\n      <td>-0.000023</td>\n      <td>1330</td>\n      <td>2079</td>\n      <td>365</td>\n      <td>413</td>\n      <td>14</td>\n      <td>...</td>\n      <td>3.191</td>\n      <td>81.915</td>\n      <td>158.511</td>\n      <td>228.723</td>\n      <td>288.298</td>\n      <td>1.099</td>\n      <td>53.846</td>\n      <td>141.758</td>\n      <td>216.484</td>\n      <td>302.198</td>\n    </tr>\n    <tr>\n      <th>4</th>\n      <td>MGSSTTEPDVGTTSNIETTTTLQNKNVNEVDQNKKSEQSNPSFKEV...</td>\n      <td>0</td>\n      <td>426.0</td>\n      <td>5.166</td>\n      <td>0.000107</td>\n      <td>2025</td>\n      <td>3145</td>\n      <td>565</td>\n      <td>746</td>\n      <td>12</td>\n      <td>...</td>\n      <td>1.227</td>\n      <td>87.117</td>\n      <td>142.331</td>\n      <td>199.387</td>\n      <td>261.350</td>\n      <td>1.064</td>\n      <td>95.745</td>\n      <td>207.447</td>\n      <td>325.532</td>\n      <td>443.617</td>\n    </tr>\n    <tr>\n      <th>5</th>\n      <td>MSTNPIQPLLDVLYQGKSLNREQTAELFGALIRGEMSEAAMAGMLV...</td>\n      <td>0</td>\n      <td>357.0</td>\n      <td>-3.524</td>\n      <td>-0.000095</td>\n      <td>1626</td>\n      <td>2632</td>\n      <td>446</td>\n      <td>510</td>\n      <td>14</td>\n      <td>...</td>\n      <td>1.299</td>\n      <td>61.039</td>\n      <td>109.740</td>\n      <td>174.026</td>\n      <td>231.169</td>\n      <td>0.909</td>\n      <td>80.909</td>\n      <td>169.091</td>\n      <td>234.545</td>\n      <td>318.182</td>\n    </tr>\n    <tr>\n      <th>6</th>\n      <td>MPQRFIVVTGGVLSGIGKGIFSASLARILKDSGVNVNILKIDPYLN...</td>\n      <td>0</td>\n      <td>526.0</td>\n      <td>-7.741</td>\n      <td>-0.000131</td>\n      <td>2650</td>\n      <td>4156</td>\n      <td>694</td>\n      <td>800</td>\n      <td>12</td>\n      <td>...</td>\n      <td>1.124</td>\n      <td>66.292</td>\n      <td>145.506</td>\n      <td>224.719</td>\n      <td>293.258</td>\n      <td>0.585</td>\n      <td>76.023</td>\n      <td>145.029</td>\n      <td>218.713</td>\n      <td>306.433</td>\n    </tr>\n    <tr>\n      <th>7</th>\n      <td>MTSLADLPVDVSPRHEGERIRSGDMYVELAGPKSFGAELFKVVDPD...</td>\n      <td>0</td>\n      <td>467.0</td>\n      <td>-51.492</td>\n      <td>-0.000971</td>\n      <td>2346</td>\n      <td>3596</td>\n      <td>600</td>\n      <td>752</td>\n      <td>21</td>\n      <td>...</td>\n      <td>1.274</td>\n      <td>82.803</td>\n      <td>158.599</td>\n      <td>212.102</td>\n      <td>297.452</td>\n      <td>0.725</td>\n      <td>77.536</td>\n      <td>150.000</td>\n      <td>240.580</td>\n      <td>331.884</td>\n    </tr>\n    <tr>\n      <th>8</th>\n      <td>MGSADDRRFEVLRAIVADFVATKEPIGSKTLVERHNLGVSSATVRN...</td>\n      <td>0</td>\n      <td>343.0</td>\n      <td>-8.274</td>\n      <td>-0.000225</td>\n      <td>1586</td>\n      <td>2605</td>\n      <td>457</td>\n      <td>519</td>\n      <td>7</td>\n      <td>...</td>\n      <td>1.460</td>\n      <td>63.504</td>\n      <td>141.606</td>\n      <td>204.380</td>\n      <td>249.635</td>\n      <td>0.943</td>\n      <td>89.623</td>\n      <td>153.774</td>\n      <td>238.679</td>\n      <td>320.755</td>\n    </tr>\n    <tr>\n      <th>9</th>\n      <td>MDNIRNFSIIAHIDHGKSTLADRIIQLCGGLSDREMEAQVLDSMDI...</td>\n      <td>0</td>\n      <td>599.0</td>\n      <td>-10.627</td>\n      <td>-0.000161</td>\n      <td>2893</td>\n      <td>4656</td>\n      <td>768</td>\n      <td>909</td>\n      <td>23</td>\n      <td>...</td>\n      <td>3.941</td>\n      <td>67.980</td>\n      <td>134.483</td>\n      <td>206.404</td>\n      <td>291.626</td>\n      <td>0.510</td>\n      <td>77.041</td>\n      <td>153.061</td>\n      <td>228.061</td>\n      <td>304.082</td>\n    </tr>\n  </tbody>\n</table>\n<p>10 rows × 664 columns</p>\n</div>"
     },
     "execution_count": 12,
     "metadata": {},
     "output_type": "execute_result"
    }
   ],
   "source": [
    "descriptors_df.get_adaptable([17, 18, 19, 22, 24, 30])"
   ],
   "metadata": {
    "collapsed": false,
    "pycharm": {
     "name": "#%%\n"
    }
   }
  },
  {
   "cell_type": "code",
   "execution_count": 13,
   "outputs": [
    {
     "data": {
      "text/plain": "                                                seqs  length  charge  \\\n0  MSDDLPIDIHSSKLLDWLVSRRHCNKDWQKSVVAIREKIKHAILDM...   489.0 -14.152   \n1  MPFDPAASPLSPSQARVLATLMEKARTVPDSYPMSLNGLLTGCNQK...   240.0  -3.983   \n2  MSTNPIQPLLDVLYQGKSLNREQTAELFGALIRGEMSEAAMAGMLV...   357.0  -3.524   \n\n   chargedensity  formulaC  formulaH  formulaN  formulaO  formulaS   tot  ...  \\\n0      -0.000254      2438      3878       654       785        15  8946  ...   \n1      -0.000155      1109      1754       312       360         9  4154  ...   \n2      -0.000095      1626      2632       446       510        14  6087  ...   \n\n   _HydrophobicityD2001  _HydrophobicityD2025  _HydrophobicityD2050  \\\n0                 1.333                91.333               160.000   \n1                 1.852                51.852               117.593   \n2                 1.299                61.039               109.740   \n\n   _HydrophobicityD2075  _HydrophobicityD2100  _HydrophobicityD3001  \\\n0               234.667               325.333                 0.694   \n1               173.148               222.222                 1.538   \n2               174.026               231.169                 0.909   \n\n   _HydrophobicityD3025  _HydrophobicityD3050  _HydrophobicityD3075  \\\n0                68.056               160.417               247.222   \n1                84.615               163.077               261.538   \n2                80.909               169.091               234.545   \n\n   _HydrophobicityD3100  \n0               337.500  \n1               355.385  \n2               318.182  \n\n[3 rows x 643 columns]",
      "text/html": "<div>\n<style scoped>\n    .dataframe tbody tr th:only-of-type {\n        vertical-align: middle;\n    }\n\n    .dataframe tbody tr th {\n        vertical-align: top;\n    }\n\n    .dataframe thead th {\n        text-align: right;\n    }\n</style>\n<table border=\"1\" class=\"dataframe\">\n  <thead>\n    <tr style=\"text-align: right;\">\n      <th></th>\n      <th>seqs</th>\n      <th>length</th>\n      <th>charge</th>\n      <th>chargedensity</th>\n      <th>formulaC</th>\n      <th>formulaH</th>\n      <th>formulaN</th>\n      <th>formulaO</th>\n      <th>formulaS</th>\n      <th>tot</th>\n      <th>...</th>\n      <th>_HydrophobicityD2001</th>\n      <th>_HydrophobicityD2025</th>\n      <th>_HydrophobicityD2050</th>\n      <th>_HydrophobicityD2075</th>\n      <th>_HydrophobicityD2100</th>\n      <th>_HydrophobicityD3001</th>\n      <th>_HydrophobicityD3025</th>\n      <th>_HydrophobicityD3050</th>\n      <th>_HydrophobicityD3075</th>\n      <th>_HydrophobicityD3100</th>\n    </tr>\n  </thead>\n  <tbody>\n    <tr>\n      <th>0</th>\n      <td>MSDDLPIDIHSSKLLDWLVSRRHCNKDWQKSVVAIREKIKHAILDM...</td>\n      <td>489.0</td>\n      <td>-14.152</td>\n      <td>-0.000254</td>\n      <td>2438</td>\n      <td>3878</td>\n      <td>654</td>\n      <td>785</td>\n      <td>15</td>\n      <td>8946</td>\n      <td>...</td>\n      <td>1.333</td>\n      <td>91.333</td>\n      <td>160.000</td>\n      <td>234.667</td>\n      <td>325.333</td>\n      <td>0.694</td>\n      <td>68.056</td>\n      <td>160.417</td>\n      <td>247.222</td>\n      <td>337.500</td>\n    </tr>\n    <tr>\n      <th>1</th>\n      <td>MPFDPAASPLSPSQARVLATLMEKARTVPDSYPMSLNGLLTGCNQK...</td>\n      <td>240.0</td>\n      <td>-3.983</td>\n      <td>-0.000155</td>\n      <td>1109</td>\n      <td>1754</td>\n      <td>312</td>\n      <td>360</td>\n      <td>9</td>\n      <td>4154</td>\n      <td>...</td>\n      <td>1.852</td>\n      <td>51.852</td>\n      <td>117.593</td>\n      <td>173.148</td>\n      <td>222.222</td>\n      <td>1.538</td>\n      <td>84.615</td>\n      <td>163.077</td>\n      <td>261.538</td>\n      <td>355.385</td>\n    </tr>\n    <tr>\n      <th>2</th>\n      <td>MSTNPIQPLLDVLYQGKSLNREQTAELFGALIRGEMSEAAMAGMLV...</td>\n      <td>357.0</td>\n      <td>-3.524</td>\n      <td>-0.000095</td>\n      <td>1626</td>\n      <td>2632</td>\n      <td>446</td>\n      <td>510</td>\n      <td>14</td>\n      <td>6087</td>\n      <td>...</td>\n      <td>1.299</td>\n      <td>61.039</td>\n      <td>109.740</td>\n      <td>174.026</td>\n      <td>231.169</td>\n      <td>0.909</td>\n      <td>80.909</td>\n      <td>169.091</td>\n      <td>234.545</td>\n      <td>318.182</td>\n    </tr>\n  </tbody>\n</table>\n<p>3 rows × 643 columns</p>\n</div>"
     },
     "execution_count": 13,
     "metadata": {},
     "output_type": "execute_result"
    }
   ],
   "source": [
    "descriptors_list.get_adaptable([17, 19, 22, 24, 30])"
   ],
   "metadata": {
    "collapsed": false,
    "pycharm": {
     "name": "#%%\n"
    }
   }
  },
  {
   "cell_type": "markdown",
   "source": [
    "The module Encoding performs the encoding of the protein sequences.\n",
    "\n",
    "As the ProteinDescriptors it accepts as dataset a pandas dataframe, list of sequences and a sequence (string) as dataset. The parameter col is the name of the column to store the sequences, or the column where the sequences are present (pandas dataframe)."
   ],
   "metadata": {
    "collapsed": false,
    "pycharm": {
     "name": "#%% md\n"
    }
   }
  },
  {
   "cell_type": "code",
   "execution_count": 14,
   "outputs": [
    {
     "data": {
      "text/plain": "                                            sequence Is_transporter\n0  MSYKPIAPAPSSTPGSSTPGPGTPVPTGSVPSPSGSVPGAGAPFRP...              0\n1  MSDDLPIDIHSSKLLDWLVSRRHCNKDWQKSVVAIREKIKHAILDM...              0\n2  MPFDPAASPLSPSQARVLATLMEKARTVPDSYPMSLNGLLTGCNQK...              0\n3  MIHFTKMHGLGNDFMVVDGVTQNVFFSPEQIRRLADRNFGIGFDQL...              0\n4  MGSSTTEPDVGTTSNIETTTTLQNKNVNEVDQNKKSEQSNPSFKEV...              0\n5  MSTNPIQPLLDVLYQGKSLNREQTAELFGALIRGEMSEAAMAGMLV...              0\n6  MPQRFIVVTGGVLSGIGKGIFSASLARILKDSGVNVNILKIDPYLN...              0\n7  MTSLADLPVDVSPRHEGERIRSGDMYVELAGPKSFGAELFKVVDPD...              0\n8  MGSADDRRFEVLRAIVADFVATKEPIGSKTLVERHNLGVSSATVRN...              0\n9  MDNIRNFSIIAHIDHGKSTLADRIIQLCGGLSDREMEAQVLDSMDI...              0",
      "text/html": "<div>\n<style scoped>\n    .dataframe tbody tr th:only-of-type {\n        vertical-align: middle;\n    }\n\n    .dataframe tbody tr th {\n        vertical-align: top;\n    }\n\n    .dataframe thead th {\n        text-align: right;\n    }\n</style>\n<table border=\"1\" class=\"dataframe\">\n  <thead>\n    <tr style=\"text-align: right;\">\n      <th></th>\n      <th>sequence</th>\n      <th>Is_transporter</th>\n    </tr>\n  </thead>\n  <tbody>\n    <tr>\n      <th>0</th>\n      <td>MSYKPIAPAPSSTPGSSTPGPGTPVPTGSVPSPSGSVPGAGAPFRP...</td>\n      <td>0</td>\n    </tr>\n    <tr>\n      <th>1</th>\n      <td>MSDDLPIDIHSSKLLDWLVSRRHCNKDWQKSVVAIREKIKHAILDM...</td>\n      <td>0</td>\n    </tr>\n    <tr>\n      <th>2</th>\n      <td>MPFDPAASPLSPSQARVLATLMEKARTVPDSYPMSLNGLLTGCNQK...</td>\n      <td>0</td>\n    </tr>\n    <tr>\n      <th>3</th>\n      <td>MIHFTKMHGLGNDFMVVDGVTQNVFFSPEQIRRLADRNFGIGFDQL...</td>\n      <td>0</td>\n    </tr>\n    <tr>\n      <th>4</th>\n      <td>MGSSTTEPDVGTTSNIETTTTLQNKNVNEVDQNKKSEQSNPSFKEV...</td>\n      <td>0</td>\n    </tr>\n    <tr>\n      <th>5</th>\n      <td>MSTNPIQPLLDVLYQGKSLNREQTAELFGALIRGEMSEAAMAGMLV...</td>\n      <td>0</td>\n    </tr>\n    <tr>\n      <th>6</th>\n      <td>MPQRFIVVTGGVLSGIGKGIFSASLARILKDSGVNVNILKIDPYLN...</td>\n      <td>0</td>\n    </tr>\n    <tr>\n      <th>7</th>\n      <td>MTSLADLPVDVSPRHEGERIRSGDMYVELAGPKSFGAELFKVVDPD...</td>\n      <td>0</td>\n    </tr>\n    <tr>\n      <th>8</th>\n      <td>MGSADDRRFEVLRAIVADFVATKEPIGSKTLVERHNLGVSSATVRN...</td>\n      <td>0</td>\n    </tr>\n    <tr>\n      <th>9</th>\n      <td>MDNIRNFSIIAHIDHGKSTLADRIIQLCGGLSDREMEAQVLDSMDI...</td>\n      <td>0</td>\n    </tr>\n  </tbody>\n</table>\n</div>"
     },
     "execution_count": 14,
     "metadata": {},
     "output_type": "execute_result"
    }
   ],
   "source": [
    "enconde_df= Encoding(dataset= dataframe_data ,  col= 'sequence')\n",
    "enconde_df.result"
   ],
   "metadata": {
    "collapsed": false,
    "pycharm": {
     "name": "#%%\n"
    }
   }
  },
  {
   "cell_type": "code",
   "execution_count": 15,
   "outputs": [
    {
     "data": {
      "text/plain": "                                                seqs\n0  MSDDLPIDIHSSKLLDWLVSRRHCNKDWQKSVVAIREKIKHAILDM...\n1  MPFDPAASPLSPSQARVLATLMEKARTVPDSYPMSLNGLLTGCNQK...\n2  MSTNPIQPLLDVLYQGKSLNREQTAELFGALIRGEMSEAAMAGMLV...",
      "text/html": "<div>\n<style scoped>\n    .dataframe tbody tr th:only-of-type {\n        vertical-align: middle;\n    }\n\n    .dataframe tbody tr th {\n        vertical-align: top;\n    }\n\n    .dataframe thead th {\n        text-align: right;\n    }\n</style>\n<table border=\"1\" class=\"dataframe\">\n  <thead>\n    <tr style=\"text-align: right;\">\n      <th></th>\n      <th>seqs</th>\n    </tr>\n  </thead>\n  <tbody>\n    <tr>\n      <th>0</th>\n      <td>MSDDLPIDIHSSKLLDWLVSRRHCNKDWQKSVVAIREKIKHAILDM...</td>\n    </tr>\n    <tr>\n      <th>1</th>\n      <td>MPFDPAASPLSPSQARVLATLMEKARTVPDSYPMSLNGLLTGCNQK...</td>\n    </tr>\n    <tr>\n      <th>2</th>\n      <td>MSTNPIQPLLDVLYQGKSLNREQTAELFGALIRGEMSEAAMAGMLV...</td>\n    </tr>\n  </tbody>\n</table>\n</div>"
     },
     "execution_count": 15,
     "metadata": {},
     "output_type": "execute_result"
    }
   ],
   "source": [
    "enconde_list= Encoding(dataset= list_data ,  col= 'seqs')\n",
    "enconde_list.result"
   ],
   "metadata": {
    "collapsed": false,
    "pycharm": {
     "name": "#%%\n"
    }
   }
  },
  {
   "cell_type": "code",
   "execution_count": 16,
   "outputs": [
    {
     "data": {
      "text/plain": "                                                 seq\n0  MSTNPIQPLLDVLYQGKSLNREQTAELFGALIRGEMSEAAMAGMLV...",
      "text/html": "<div>\n<style scoped>\n    .dataframe tbody tr th:only-of-type {\n        vertical-align: middle;\n    }\n\n    .dataframe tbody tr th {\n        vertical-align: top;\n    }\n\n    .dataframe thead th {\n        text-align: right;\n    }\n</style>\n<table border=\"1\" class=\"dataframe\">\n  <thead>\n    <tr style=\"text-align: right;\">\n      <th></th>\n      <th>seq</th>\n    </tr>\n  </thead>\n  <tbody>\n    <tr>\n      <th>0</th>\n      <td>MSTNPIQPLLDVLYQGKSLNREQTAELFGALIRGEMSEAAMAGMLV...</td>\n    </tr>\n  </tbody>\n</table>\n</div>"
     },
     "execution_count": 16,
     "metadata": {},
     "output_type": "execute_result"
    }
   ],
   "source": [
    "enconde_str =Encoding(dataset= sequence_data ,  col= 'seq')\n",
    "enconde_str.result"
   ],
   "metadata": {
    "collapsed": false,
    "pycharm": {
     "name": "#%%\n"
    }
   }
  },
  {
   "cell_type": "markdown",
   "source": [
    "To perform the encoding operations the intended function must be called. It can be one-hot-encoded, NLF, Blosum, z_scale. It also can be performed a padding to all sequences in the dataframe."
   ],
   "metadata": {
    "collapsed": false,
    "pycharm": {
     "name": "#%% md\n"
    }
   }
  },
  {
   "cell_type": "code",
   "execution_count": 17,
   "outputs": [
    {
     "data": {
      "text/plain": "                                            sequence  \\\n0  MSYKPIAPAPSSTPGSSTPGPGTPVPTGSVPSPSGSVPGAGAPFRP...   \n1  MSDDLPIDIHSSKLLDWLVSRRHCNKDWQKSVVAIREKIKHAILDM...   \n2  MPFDPAASPLSPSQARVLATLMEKARTVPDSYPMSLNGLLTGCNQK...   \n3  MIHFTKMHGLGNDFMVVDGVTQNVFFSPEQIRRLADRNFGIGFDQL...   \n4  MGSSTTEPDVGTTSNIETTTTLQNKNVNEVDQNKKSEQSNPSFKEV...   \n5  MSTNPIQPLLDVLYQGKSLNREQTAELFGALIRGEMSEAAMAGMLV...   \n6  MPQRFIVVTGGVLSGIGKGIFSASLARILKDSGVNVNILKIDPYLN...   \n7  MTSLADLPVDVSPRHEGERIRSGDMYVELAGPKSFGAELFKVVDPD...   \n8  MGSADDRRFEVLRAIVADFVATKEPIGSKTLVERHNLGVSSATVRN...   \n9  MDNIRNFSIIAHIDHGKSTLADRIIQLCGGLSDREMEAQVLDSMDI...   \n\n                                    One_hot_encoding  \n0  [[0.0, 0.0, 0.0, 0.0, 0.0, 0.0, 0.0, 0.0, 0.0,...  \n1  [[0.0, 0.0, 0.0, 0.0, 0.0, 0.0, 0.0, 0.0, 0.0,...  \n2  [[0.0, 0.0, 0.0, 0.0, 0.0, 0.0, 0.0, 0.0, 0.0,...  \n3  [[0.0, 0.0, 0.0, 0.0, 0.0, 0.0, 0.0, 0.0, 0.0,...  \n4  [[0.0, 0.0, 0.0, 0.0, 0.0, 0.0, 0.0, 0.0, 0.0,...  \n5  [[0.0, 0.0, 0.0, 0.0, 0.0, 0.0, 0.0, 0.0, 0.0,...  \n6  [[0.0, 0.0, 0.0, 0.0, 0.0, 0.0, 0.0, 0.0, 0.0,...  \n7  [[0.0, 0.0, 0.0, 0.0, 0.0, 0.0, 0.0, 0.0, 0.0,...  \n8  [[0.0, 0.0, 0.0, 0.0, 0.0, 0.0, 0.0, 0.0, 0.0,...  \n9  [[0.0, 0.0, 0.0, 0.0, 0.0, 0.0, 0.0, 0.0, 0.0,...  ",
      "text/html": "<div>\n<style scoped>\n    .dataframe tbody tr th:only-of-type {\n        vertical-align: middle;\n    }\n\n    .dataframe tbody tr th {\n        vertical-align: top;\n    }\n\n    .dataframe thead th {\n        text-align: right;\n    }\n</style>\n<table border=\"1\" class=\"dataframe\">\n  <thead>\n    <tr style=\"text-align: right;\">\n      <th></th>\n      <th>sequence</th>\n      <th>One_hot_encoding</th>\n    </tr>\n  </thead>\n  <tbody>\n    <tr>\n      <th>0</th>\n      <td>MSYKPIAPAPSSTPGSSTPGPGTPVPTGSVPSPSGSVPGAGAPFRP...</td>\n      <td>[[0.0, 0.0, 0.0, 0.0, 0.0, 0.0, 0.0, 0.0, 0.0,...</td>\n    </tr>\n    <tr>\n      <th>1</th>\n      <td>MSDDLPIDIHSSKLLDWLVSRRHCNKDWQKSVVAIREKIKHAILDM...</td>\n      <td>[[0.0, 0.0, 0.0, 0.0, 0.0, 0.0, 0.0, 0.0, 0.0,...</td>\n    </tr>\n    <tr>\n      <th>2</th>\n      <td>MPFDPAASPLSPSQARVLATLMEKARTVPDSYPMSLNGLLTGCNQK...</td>\n      <td>[[0.0, 0.0, 0.0, 0.0, 0.0, 0.0, 0.0, 0.0, 0.0,...</td>\n    </tr>\n    <tr>\n      <th>3</th>\n      <td>MIHFTKMHGLGNDFMVVDGVTQNVFFSPEQIRRLADRNFGIGFDQL...</td>\n      <td>[[0.0, 0.0, 0.0, 0.0, 0.0, 0.0, 0.0, 0.0, 0.0,...</td>\n    </tr>\n    <tr>\n      <th>4</th>\n      <td>MGSSTTEPDVGTTSNIETTTTLQNKNVNEVDQNKKSEQSNPSFKEV...</td>\n      <td>[[0.0, 0.0, 0.0, 0.0, 0.0, 0.0, 0.0, 0.0, 0.0,...</td>\n    </tr>\n    <tr>\n      <th>5</th>\n      <td>MSTNPIQPLLDVLYQGKSLNREQTAELFGALIRGEMSEAAMAGMLV...</td>\n      <td>[[0.0, 0.0, 0.0, 0.0, 0.0, 0.0, 0.0, 0.0, 0.0,...</td>\n    </tr>\n    <tr>\n      <th>6</th>\n      <td>MPQRFIVVTGGVLSGIGKGIFSASLARILKDSGVNVNILKIDPYLN...</td>\n      <td>[[0.0, 0.0, 0.0, 0.0, 0.0, 0.0, 0.0, 0.0, 0.0,...</td>\n    </tr>\n    <tr>\n      <th>7</th>\n      <td>MTSLADLPVDVSPRHEGERIRSGDMYVELAGPKSFGAELFKVVDPD...</td>\n      <td>[[0.0, 0.0, 0.0, 0.0, 0.0, 0.0, 0.0, 0.0, 0.0,...</td>\n    </tr>\n    <tr>\n      <th>8</th>\n      <td>MGSADDRRFEVLRAIVADFVATKEPIGSKTLVERHNLGVSSATVRN...</td>\n      <td>[[0.0, 0.0, 0.0, 0.0, 0.0, 0.0, 0.0, 0.0, 0.0,...</td>\n    </tr>\n    <tr>\n      <th>9</th>\n      <td>MDNIRNFSIIAHIDHGKSTLADRIIQLCGGLSDREMEAQVLDSMDI...</td>\n      <td>[[0.0, 0.0, 0.0, 0.0, 0.0, 0.0, 0.0, 0.0, 0.0,...</td>\n    </tr>\n  </tbody>\n</table>\n</div>"
     },
     "execution_count": 17,
     "metadata": {},
     "output_type": "execute_result"
    }
   ],
   "source": [
    "enconde_df.get_hot_encoded()"
   ],
   "metadata": {
    "collapsed": false,
    "pycharm": {
     "name": "#%%\n"
    }
   }
  },
  {
   "cell_type": "code",
   "execution_count": 18,
   "outputs": [
    {
     "data": {
      "text/plain": "                                            sequence  \\\n0  MSYKPIAPAPSSTPGSSTPGPGTPVPTGSVPSPSGSVPGAGAPFRP...   \n1  MSDDLPIDIHSSKLLDWLVSRRHCNKDWQKSVVAIREKIKHAILDM...   \n2  MPFDPAASPLSPSQARVLATLMEKARTVPDSYPMSLNGLLTGCNQK...   \n3  MIHFTKMHGLGNDFMVVDGVTQNVFFSPEQIRRLADRNFGIGFDQL...   \n4  MGSSTTEPDVGTTSNIETTTTLQNKNVNEVDQNKKSEQSNPSFKEV...   \n5  MSTNPIQPLLDVLYQGKSLNREQTAELFGALIRGEMSEAAMAGMLV...   \n6  MPQRFIVVTGGVLSGIGKGIFSASLARILKDSGVNVNILKIDPYLN...   \n7  MTSLADLPVDVSPRHEGERIRSGDMYVELAGPKSFGAELFKVVDPD...   \n8  MGSADDRRFEVLRAIVADFVATKEPIGSKTLVERHNLGVSSATVRN...   \n9  MDNIRNFSIIAHIDHGKSTLADRIIQLCGGLSDREMEAQVLDSMDI...   \n\n                                                 nlf  \n0  [[1.72, 0.85, 0.34, 0.44, 0.01, 0.8, 0.16, 0.0...  \n1  [[1.72, 0.85, 0.34, 0.44, 0.01, 0.8, 0.16, 0.0...  \n2  [[1.72, 0.85, 0.34, 0.44, 0.01, 0.8, 0.16, 0.0...  \n3  [[1.72, 0.85, 0.34, 0.44, 0.01, 0.8, 0.16, 0.0...  \n4  [[1.72, 0.85, 0.34, 0.44, 0.01, 0.8, 0.16, 0.0...  \n5  [[1.72, 0.85, 0.34, 0.44, 0.01, 0.8, 0.16, 0.0...  \n6  [[1.72, 0.85, 0.34, 0.44, 0.01, 0.8, 0.16, 0.0...  \n7  [[1.72, 0.85, 0.34, 0.44, 0.01, 0.8, 0.16, 0.0...  \n8  [[1.72, 0.85, 0.34, 0.44, 0.01, 0.8, 0.16, 0.0...  \n9  [[1.72, 0.85, 0.34, 0.44, 0.01, 0.8, 0.16, 0.0...  ",
      "text/html": "<div>\n<style scoped>\n    .dataframe tbody tr th:only-of-type {\n        vertical-align: middle;\n    }\n\n    .dataframe tbody tr th {\n        vertical-align: top;\n    }\n\n    .dataframe thead th {\n        text-align: right;\n    }\n</style>\n<table border=\"1\" class=\"dataframe\">\n  <thead>\n    <tr style=\"text-align: right;\">\n      <th></th>\n      <th>sequence</th>\n      <th>nlf</th>\n    </tr>\n  </thead>\n  <tbody>\n    <tr>\n      <th>0</th>\n      <td>MSYKPIAPAPSSTPGSSTPGPGTPVPTGSVPSPSGSVPGAGAPFRP...</td>\n      <td>[[1.72, 0.85, 0.34, 0.44, 0.01, 0.8, 0.16, 0.0...</td>\n    </tr>\n    <tr>\n      <th>1</th>\n      <td>MSDDLPIDIHSSKLLDWLVSRRHCNKDWQKSVVAIREKIKHAILDM...</td>\n      <td>[[1.72, 0.85, 0.34, 0.44, 0.01, 0.8, 0.16, 0.0...</td>\n    </tr>\n    <tr>\n      <th>2</th>\n      <td>MPFDPAASPLSPSQARVLATLMEKARTVPDSYPMSLNGLLTGCNQK...</td>\n      <td>[[1.72, 0.85, 0.34, 0.44, 0.01, 0.8, 0.16, 0.0...</td>\n    </tr>\n    <tr>\n      <th>3</th>\n      <td>MIHFTKMHGLGNDFMVVDGVTQNVFFSPEQIRRLADRNFGIGFDQL...</td>\n      <td>[[1.72, 0.85, 0.34, 0.44, 0.01, 0.8, 0.16, 0.0...</td>\n    </tr>\n    <tr>\n      <th>4</th>\n      <td>MGSSTTEPDVGTTSNIETTTTLQNKNVNEVDQNKKSEQSNPSFKEV...</td>\n      <td>[[1.72, 0.85, 0.34, 0.44, 0.01, 0.8, 0.16, 0.0...</td>\n    </tr>\n    <tr>\n      <th>5</th>\n      <td>MSTNPIQPLLDVLYQGKSLNREQTAELFGALIRGEMSEAAMAGMLV...</td>\n      <td>[[1.72, 0.85, 0.34, 0.44, 0.01, 0.8, 0.16, 0.0...</td>\n    </tr>\n    <tr>\n      <th>6</th>\n      <td>MPQRFIVVTGGVLSGIGKGIFSASLARILKDSGVNVNILKIDPYLN...</td>\n      <td>[[1.72, 0.85, 0.34, 0.44, 0.01, 0.8, 0.16, 0.0...</td>\n    </tr>\n    <tr>\n      <th>7</th>\n      <td>MTSLADLPVDVSPRHEGERIRSGDMYVELAGPKSFGAELFKVVDPD...</td>\n      <td>[[1.72, 0.85, 0.34, 0.44, 0.01, 0.8, 0.16, 0.0...</td>\n    </tr>\n    <tr>\n      <th>8</th>\n      <td>MGSADDRRFEVLRAIVADFVATKEPIGSKTLVERHNLGVSSATVRN...</td>\n      <td>[[1.72, 0.85, 0.34, 0.44, 0.01, 0.8, 0.16, 0.0...</td>\n    </tr>\n    <tr>\n      <th>9</th>\n      <td>MDNIRNFSIIAHIDHGKSTLADRIIQLCGGLSDREMEAQVLDSMDI...</td>\n      <td>[[1.72, 0.85, 0.34, 0.44, 0.01, 0.8, 0.16, 0.0...</td>\n    </tr>\n  </tbody>\n</table>\n</div>"
     },
     "execution_count": 18,
     "metadata": {},
     "output_type": "execute_result"
    }
   ],
   "source": [
    "enconde_df.get_nlf()"
   ],
   "metadata": {
    "collapsed": false,
    "pycharm": {
     "name": "#%%\n"
    }
   }
  },
  {
   "cell_type": "code",
   "execution_count": 19,
   "outputs": [
    {
     "data": {
      "text/plain": "                                            sequence  \\\n0  MSYKPIAPAPSSTPGSSTPGPGTPVPTGSVPSPSGSVPGAGAPFRP...   \n1  MSDDLPIDIHSSKLLDWLVSRRHCNKDWQKSVVAIREKIKHAILDM...   \n2  MPFDPAASPLSPSQARVLATLMEKARTVPDSYPMSLNGLLTGCNQK...   \n3  MIHFTKMHGLGNDFMVVDGVTQNVFFSPEQIRRLADRNFGIGFDQL...   \n4  MGSSTTEPDVGTTSNIETTTTLQNKNVNEVDQNKKSEQSNPSFKEV...   \n5  MSTNPIQPLLDVLYQGKSLNREQTAELFGALIRGEMSEAAMAGMLV...   \n6  MPQRFIVVTGGVLSGIGKGIFSASLARILKDSGVNVNILKIDPYLN...   \n7  MTSLADLPVDVSPRHEGERIRSGDMYVELAGPKSFGAELFKVVDPD...   \n8  MGSADDRRFEVLRAIVADFVATKEPIGSKTLVERHNLGVSSATVRN...   \n9  MDNIRNFSIIAHIDHGKSTLADRIIQLCGGLSDREMEAQVLDSMDI...   \n\n                                              blosum  \n0  [[-1, -1, -2, -3, -1, 0, -2, -3, -2, 1, 2, -1,...  \n1  [[-1, -1, -2, -3, -1, 0, -2, -3, -2, 1, 2, -1,...  \n2  [[-1, -1, -2, -3, -1, 0, -2, -3, -2, 1, 2, -1,...  \n3  [[-1, -1, -2, -3, -1, 0, -2, -3, -2, 1, 2, -1,...  \n4  [[-1, -1, -2, -3, -1, 0, -2, -3, -2, 1, 2, -1,...  \n5  [[-1, -1, -2, -3, -1, 0, -2, -3, -2, 1, 2, -1,...  \n6  [[-1, -1, -2, -3, -1, 0, -2, -3, -2, 1, 2, -1,...  \n7  [[-1, -1, -2, -3, -1, 0, -2, -3, -2, 1, 2, -1,...  \n8  [[-1, -1, -2, -3, -1, 0, -2, -3, -2, 1, 2, -1,...  \n9  [[-1, -1, -2, -3, -1, 0, -2, -3, -2, 1, 2, -1,...  ",
      "text/html": "<div>\n<style scoped>\n    .dataframe tbody tr th:only-of-type {\n        vertical-align: middle;\n    }\n\n    .dataframe tbody tr th {\n        vertical-align: top;\n    }\n\n    .dataframe thead th {\n        text-align: right;\n    }\n</style>\n<table border=\"1\" class=\"dataframe\">\n  <thead>\n    <tr style=\"text-align: right;\">\n      <th></th>\n      <th>sequence</th>\n      <th>blosum</th>\n    </tr>\n  </thead>\n  <tbody>\n    <tr>\n      <th>0</th>\n      <td>MSYKPIAPAPSSTPGSSTPGPGTPVPTGSVPSPSGSVPGAGAPFRP...</td>\n      <td>[[-1, -1, -2, -3, -1, 0, -2, -3, -2, 1, 2, -1,...</td>\n    </tr>\n    <tr>\n      <th>1</th>\n      <td>MSDDLPIDIHSSKLLDWLVSRRHCNKDWQKSVVAIREKIKHAILDM...</td>\n      <td>[[-1, -1, -2, -3, -1, 0, -2, -3, -2, 1, 2, -1,...</td>\n    </tr>\n    <tr>\n      <th>2</th>\n      <td>MPFDPAASPLSPSQARVLATLMEKARTVPDSYPMSLNGLLTGCNQK...</td>\n      <td>[[-1, -1, -2, -3, -1, 0, -2, -3, -2, 1, 2, -1,...</td>\n    </tr>\n    <tr>\n      <th>3</th>\n      <td>MIHFTKMHGLGNDFMVVDGVTQNVFFSPEQIRRLADRNFGIGFDQL...</td>\n      <td>[[-1, -1, -2, -3, -1, 0, -2, -3, -2, 1, 2, -1,...</td>\n    </tr>\n    <tr>\n      <th>4</th>\n      <td>MGSSTTEPDVGTTSNIETTTTLQNKNVNEVDQNKKSEQSNPSFKEV...</td>\n      <td>[[-1, -1, -2, -3, -1, 0, -2, -3, -2, 1, 2, -1,...</td>\n    </tr>\n    <tr>\n      <th>5</th>\n      <td>MSTNPIQPLLDVLYQGKSLNREQTAELFGALIRGEMSEAAMAGMLV...</td>\n      <td>[[-1, -1, -2, -3, -1, 0, -2, -3, -2, 1, 2, -1,...</td>\n    </tr>\n    <tr>\n      <th>6</th>\n      <td>MPQRFIVVTGGVLSGIGKGIFSASLARILKDSGVNVNILKIDPYLN...</td>\n      <td>[[-1, -1, -2, -3, -1, 0, -2, -3, -2, 1, 2, -1,...</td>\n    </tr>\n    <tr>\n      <th>7</th>\n      <td>MTSLADLPVDVSPRHEGERIRSGDMYVELAGPKSFGAELFKVVDPD...</td>\n      <td>[[-1, -1, -2, -3, -1, 0, -2, -3, -2, 1, 2, -1,...</td>\n    </tr>\n    <tr>\n      <th>8</th>\n      <td>MGSADDRRFEVLRAIVADFVATKEPIGSKTLVERHNLGVSSATVRN...</td>\n      <td>[[-1, -1, -2, -3, -1, 0, -2, -3, -2, 1, 2, -1,...</td>\n    </tr>\n    <tr>\n      <th>9</th>\n      <td>MDNIRNFSIIAHIDHGKSTLADRIIQLCGGLSDREMEAQVLDSMDI...</td>\n      <td>[[-1, -1, -2, -3, -1, 0, -2, -3, -2, 1, 2, -1,...</td>\n    </tr>\n  </tbody>\n</table>\n</div>"
     },
     "execution_count": 19,
     "metadata": {},
     "output_type": "execute_result"
    }
   ],
   "source": [
    "enconde_df.get_blosum()"
   ],
   "metadata": {
    "collapsed": false,
    "pycharm": {
     "name": "#%%\n"
    }
   }
  },
  {
   "cell_type": "markdown",
   "source": [
    "The function get_pad_and_hot_encoding allows to perform the padding and the one hot encoding of the sequence at the same time. The one-hot-encoded sequence will have the shape of (length of the sequences, number of amino acids in the alphabet)."
   ],
   "metadata": {
    "collapsed": false,
    "pycharm": {
     "name": "#%% md\n"
    }
   }
  },
  {
   "cell_type": "code",
   "execution_count": 23,
   "outputs": [
    {
     "name": "stdout",
     "output_type": "stream",
     "text": [
      "300\n",
      "(300, 21)\n"
     ]
    },
    {
     "data": {
      "text/plain": "                                            sequence  \\\n0  MSYKPIAPAPSSTPGSSTPGPGTPVPTGSVPSPSGSVPGAGAPFRP...   \n1  MSDDLPIDIHSSKLLDWLVSRRHCNKDWQKSVVAIREKIKHAILDM...   \n2  MPFDPAASPLSPSQARVLATLMEKARTVPDSYPMSLNGLLTGCNQK...   \n3  MIHFTKMHGLGNDFMVVDGVTQNVFFSPEQIRRLADRNFGIGFDQL...   \n4  MGSSTTEPDVGTTSNIETTTTLQNKNVNEVDQNKKSEQSNPSFKEV...   \n5  MSTNPIQPLLDVLYQGKSLNREQTAELFGALIRGEMSEAAMAGMLV...   \n6  MPQRFIVVTGGVLSGIGKGIFSASLARILKDSGVNVNILKIDPYLN...   \n7  MTSLADLPVDVSPRHEGERIRSGDMYVELAGPKSFGAELFKVVDPD...   \n8  MGSADDRRFEVLRAIVADFVATKEPIGSKTLVERHNLGVSSATVRN...   \n9  MDNIRNFSIIAHIDHGKSTLADRIIQLCGGLSDREMEAQVLDSMDI...   \n\n                                     padded_sequence  \\\n0  MSYKPIAPAPSSTPGSSTPGPGTPVPTGSVPSPSGSVPGAGAPFRP...   \n1  MSDDLPIDIHSSKLLDWLVSRRHCNKDWQKSVVAIREKIKHAILDM...   \n2  MPFDPAASPLSPSQARVLATLMEKARTVPDSYPMSLNGLLTGCNQK...   \n3  MIHFTKMHGLGNDFMVVDGVTQNVFFSPEQIRRLADRNFGIGFDQL...   \n4  MGSSTTEPDVGTTSNIETTTTLQNKNVNEVDQNKKSEQSNPSFKEV...   \n5  MSTNPIQPLLDVLYQGKSLNREQTAELFGALIRGEMSEAAMAGMLV...   \n6  MPQRFIVVTGGVLSGIGKGIFSASLARILKDSGVNVNILKIDPYLN...   \n7  MTSLADLPVDVSPRHEGERIRSGDMYVELAGPKSFGAELFKVVDPD...   \n8  MGSADDRRFEVLRAIVADFVATKEPIGSKTLVERHNLGVSSATVRN...   \n9  MDNIRNFSIIAHIDHGKSTLADRIIQLCGGLSDREMEAQVLDSMDI...   \n\n                                    One_hot_encoding  \n0  [[0.0, 0.0, 0.0, 0.0, 0.0, 0.0, 0.0, 0.0, 0.0,...  \n1  [[0.0, 0.0, 0.0, 0.0, 0.0, 0.0, 0.0, 0.0, 0.0,...  \n2  [[0.0, 0.0, 0.0, 0.0, 0.0, 0.0, 0.0, 0.0, 0.0,...  \n3  [[0.0, 0.0, 0.0, 0.0, 0.0, 0.0, 0.0, 0.0, 0.0,...  \n4  [[0.0, 0.0, 0.0, 0.0, 0.0, 0.0, 0.0, 0.0, 0.0,...  \n5  [[0.0, 0.0, 0.0, 0.0, 0.0, 0.0, 0.0, 0.0, 0.0,...  \n6  [[0.0, 0.0, 0.0, 0.0, 0.0, 0.0, 0.0, 0.0, 0.0,...  \n7  [[0.0, 0.0, 0.0, 0.0, 0.0, 0.0, 0.0, 0.0, 0.0,...  \n8  [[0.0, 0.0, 0.0, 0.0, 0.0, 0.0, 0.0, 0.0, 0.0,...  \n9  [[0.0, 0.0, 0.0, 0.0, 0.0, 0.0, 0.0, 0.0, 0.0,...  ",
      "text/html": "<div>\n<style scoped>\n    .dataframe tbody tr th:only-of-type {\n        vertical-align: middle;\n    }\n\n    .dataframe tbody tr th {\n        vertical-align: top;\n    }\n\n    .dataframe thead th {\n        text-align: right;\n    }\n</style>\n<table border=\"1\" class=\"dataframe\">\n  <thead>\n    <tr style=\"text-align: right;\">\n      <th></th>\n      <th>sequence</th>\n      <th>padded_sequence</th>\n      <th>One_hot_encoding</th>\n    </tr>\n  </thead>\n  <tbody>\n    <tr>\n      <th>0</th>\n      <td>MSYKPIAPAPSSTPGSSTPGPGTPVPTGSVPSPSGSVPGAGAPFRP...</td>\n      <td>MSYKPIAPAPSSTPGSSTPGPGTPVPTGSVPSPSGSVPGAGAPFRP...</td>\n      <td>[[0.0, 0.0, 0.0, 0.0, 0.0, 0.0, 0.0, 0.0, 0.0,...</td>\n    </tr>\n    <tr>\n      <th>1</th>\n      <td>MSDDLPIDIHSSKLLDWLVSRRHCNKDWQKSVVAIREKIKHAILDM...</td>\n      <td>MSDDLPIDIHSSKLLDWLVSRRHCNKDWQKSVVAIREKIKHAILDM...</td>\n      <td>[[0.0, 0.0, 0.0, 0.0, 0.0, 0.0, 0.0, 0.0, 0.0,...</td>\n    </tr>\n    <tr>\n      <th>2</th>\n      <td>MPFDPAASPLSPSQARVLATLMEKARTVPDSYPMSLNGLLTGCNQK...</td>\n      <td>MPFDPAASPLSPSQARVLATLMEKARTVPDSYPMSLNGLLTGCNQK...</td>\n      <td>[[0.0, 0.0, 0.0, 0.0, 0.0, 0.0, 0.0, 0.0, 0.0,...</td>\n    </tr>\n    <tr>\n      <th>3</th>\n      <td>MIHFTKMHGLGNDFMVVDGVTQNVFFSPEQIRRLADRNFGIGFDQL...</td>\n      <td>MIHFTKMHGLGNDFMVVDGVTQNVFFSPEQIRRLADRNFGIGFDQL...</td>\n      <td>[[0.0, 0.0, 0.0, 0.0, 0.0, 0.0, 0.0, 0.0, 0.0,...</td>\n    </tr>\n    <tr>\n      <th>4</th>\n      <td>MGSSTTEPDVGTTSNIETTTTLQNKNVNEVDQNKKSEQSNPSFKEV...</td>\n      <td>MGSSTTEPDVGTTSNIETTTTLQNKNVNEVDQNKKSEQSNPSFKEV...</td>\n      <td>[[0.0, 0.0, 0.0, 0.0, 0.0, 0.0, 0.0, 0.0, 0.0,...</td>\n    </tr>\n    <tr>\n      <th>5</th>\n      <td>MSTNPIQPLLDVLYQGKSLNREQTAELFGALIRGEMSEAAMAGMLV...</td>\n      <td>MSTNPIQPLLDVLYQGKSLNREQTAELFGALIRGEMSEAAMAGMLV...</td>\n      <td>[[0.0, 0.0, 0.0, 0.0, 0.0, 0.0, 0.0, 0.0, 0.0,...</td>\n    </tr>\n    <tr>\n      <th>6</th>\n      <td>MPQRFIVVTGGVLSGIGKGIFSASLARILKDSGVNVNILKIDPYLN...</td>\n      <td>MPQRFIVVTGGVLSGIGKGIFSASLARILKDSGVNVNILKIDPYLN...</td>\n      <td>[[0.0, 0.0, 0.0, 0.0, 0.0, 0.0, 0.0, 0.0, 0.0,...</td>\n    </tr>\n    <tr>\n      <th>7</th>\n      <td>MTSLADLPVDVSPRHEGERIRSGDMYVELAGPKSFGAELFKVVDPD...</td>\n      <td>MTSLADLPVDVSPRHEGERIRSGDMYVELAGPKSFGAELFKVVDPD...</td>\n      <td>[[0.0, 0.0, 0.0, 0.0, 0.0, 0.0, 0.0, 0.0, 0.0,...</td>\n    </tr>\n    <tr>\n      <th>8</th>\n      <td>MGSADDRRFEVLRAIVADFVATKEPIGSKTLVERHNLGVSSATVRN...</td>\n      <td>MGSADDRRFEVLRAIVADFVATKEPIGSKTLVERHNLGVSSATVRN...</td>\n      <td>[[0.0, 0.0, 0.0, 0.0, 0.0, 0.0, 0.0, 0.0, 0.0,...</td>\n    </tr>\n    <tr>\n      <th>9</th>\n      <td>MDNIRNFSIIAHIDHGKSTLADRIIQLCGGLSDREMEAQVLDSMDI...</td>\n      <td>MDNIRNFSIIAHIDHGKSTLADRIIQLCGGLSDREMEAQVLDSMDI...</td>\n      <td>[[0.0, 0.0, 0.0, 0.0, 0.0, 0.0, 0.0, 0.0, 0.0,...</td>\n    </tr>\n  </tbody>\n</table>\n</div>"
     },
     "execution_count": 23,
     "metadata": {},
     "output_type": "execute_result"
    }
   ],
   "source": [
    "res = enconde_df.get_pad_and_hot_encoding(seq_len=300)\n",
    "print(len(res.iloc[0,1])) #padded sequence\n",
    "print(np.array(res.iloc[0,2]).shape) #one hot encoded sequence\n",
    "res"
   ],
   "metadata": {
    "collapsed": false,
    "pycharm": {
     "name": "#%%\n"
    }
   }
  }
 ],
 "metadata": {
  "kernelspec": {
   "display_name": "Python 3",
   "language": "python",
   "name": "python3"
  },
  "language_info": {
   "codemirror_mode": {
    "name": "ipython",
    "version": 2
   },
   "file_extension": ".py",
   "mimetype": "text/x-python",
   "name": "python",
   "nbconvert_exporter": "python",
   "pygments_lexer": "ipython2",
   "version": "2.7.6"
  }
 },
 "nbformat": 4,
 "nbformat_minor": 0
}